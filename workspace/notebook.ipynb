{
 "cells": [
  {
   "cell_type": "markdown",
   "id": "fc61438f-c939-4adb-9feb-f32b41be70e8",
   "metadata": {},
   "source": [
    "![bookstore](bookstore.jpg)\n"
   ]
  },
  {
   "cell_type": "markdown",
   "id": "405dc77e-dfb4-44c5-a686-33ed3e845da1",
   "metadata": {},
   "source": [
    "Identifying popular products is incredibly important for e-commerce companies! Popular products generate more revenue and, therefore, play a key role in stock control.\n",
    "\n",
    "You've been asked to support an online bookstore by building a model to predict whether a book will be popular or not. They've supplied you with an extensive dataset containing information about all books they've sold, including:\n",
    "\n",
    "* `price`\n",
    "* `popularity` (target variable)\n",
    "* `review/summary`\n",
    "* `review/text`\n",
    "* `review/helpfulness`\n",
    "* `authors`\n",
    "* `categories`\n",
    "\n",
    "You'll need to build a model that predicts whether a book will be rated as popular or not.\n",
    "\n",
    "They have high expectations of you, so have set a target of at least 70% accuracy! You are free to use as many features as you like, and will need to engineer new features to achieve this level of performance."
   ]
  },
  {
   "cell_type": "code",
   "execution_count": 3,
   "id": "fc983376",
   "metadata": {},
   "outputs": [
    {
     "name": "stdout",
     "output_type": "stream",
     "text": [
      "Requirement already satisfied: pandas in /Users/sol/Code/datascience/good-books/books/lib/python3.13/site-packages (2.3.2)\n",
      "Requirement already satisfied: numpy>=1.26.0 in /Users/sol/Code/datascience/good-books/books/lib/python3.13/site-packages (from pandas) (2.1.2)\n",
      "Requirement already satisfied: python-dateutil>=2.8.2 in /Users/sol/Code/datascience/good-books/books/lib/python3.13/site-packages (from pandas) (2.9.0.post0)\n",
      "Requirement already satisfied: pytz>=2020.1 in /Users/sol/Code/datascience/good-books/books/lib/python3.13/site-packages (from pandas) (2025.2)\n",
      "Requirement already satisfied: tzdata>=2022.7 in /Users/sol/Code/datascience/good-books/books/lib/python3.13/site-packages (from pandas) (2025.2)\n",
      "Requirement already satisfied: six>=1.5 in /Users/sol/Code/datascience/good-books/books/lib/python3.13/site-packages (from python-dateutil>=2.8.2->pandas) (1.17.0)\n"
     ]
    }
   ],
   "source": [
    "!pip install pandas"
   ]
  },
  {
   "cell_type": "code",
   "execution_count": 1,
   "id": "a8010c2d-a710-4900-931d-96cc39499b25",
   "metadata": {
    "executionCancelledAt": null,
    "executionTime": 239,
    "lastExecutedAt": 1756377683634,
    "lastExecutedByKernel": "bb76a167-75e5-4e46-8fd6-1f855644177d",
    "lastScheduledRunId": null,
    "lastSuccessfullyExecutedCode": "# Import some required packages\nimport pandas as pd\n\n# Read in the dataset\nbooks = pd.read_csv(\"data/books.csv\")\n\n# Preview the first five rows\nbooks.head(20)\n\n#books.value_counts('re')\n\n",
    "outputsMetadata": {
     "0": {
      "height": 50,
      "tableState": {
       "customFilter": {
        "const": {
         "type": "boolean",
         "valid": true,
         "value": true
        },
        "id": "ce699f9d-7fd0-464e-b7a5-2e56e00c007b",
        "nodeType": "const"
       }
      },
      "type": "dataFrame"
     }
    }
   },
   "outputs": [
    {
     "ename": "NameError",
     "evalue": "name 'datetime' is not defined",
     "output_type": "error",
     "traceback": [
      "\u001b[0;31m---------------------------------------------------------------------------\u001b[0m",
      "\u001b[0;31mNameError\u001b[0m                                 Traceback (most recent call last)",
      "Cell \u001b[0;32mIn[1], line 10\u001b[0m\n\u001b[1;32m      7\u001b[0m \u001b[38;5;66;03m# Preview the first five rows\u001b[39;00m\n\u001b[1;32m      8\u001b[0m books\u001b[38;5;241m.\u001b[39mhead()\n\u001b[0;32m---> 10\u001b[0m \u001b[38;5;28mprint\u001b[39m(\u001b[38;5;124m'\u001b[39m\u001b[38;5;124mtoday is\u001b[39m\u001b[38;5;124m'\u001b[39m, \u001b[43mdatetime\u001b[49m\u001b[38;5;241m.\u001b[39mnow())\n",
      "\u001b[0;31mNameError\u001b[0m: name 'datetime' is not defined"
     ]
    }
   ],
   "source": [
    "# Import some required packages\n",
    "import pandas as pd\n",
    "\n",
    "# Read in the dataset\n",
    "books = pd.read_csv(\"data/books.csv\")\n",
    "\n",
    "# Preview the first five rows\n",
    "books.head()\n",
    "\n",
    "print('today is', datetime.now())\n"
   ]
  },
  {
   "cell_type": "code",
   "execution_count": 5,
   "id": "c585f8d3",
   "metadata": {},
   "outputs": [
    {
     "name": "stdout",
     "output_type": "stream",
     "text": [
      "<class 'pandas.core.frame.DataFrame'>\n",
      "RangeIndex: 15719 entries, 0 to 15718\n",
      "Data columns (total 9 columns):\n",
      " #   Column              Non-Null Count  Dtype  \n",
      "---  ------              --------------  -----  \n",
      " 0   title               15719 non-null  object \n",
      " 1   price               15719 non-null  float64\n",
      " 2   review/helpfulness  15719 non-null  object \n",
      " 3   review/summary      15718 non-null  object \n",
      " 4   review/text         15719 non-null  object \n",
      " 5   description         15719 non-null  object \n",
      " 6   authors             15719 non-null  object \n",
      " 7   categories          15719 non-null  object \n",
      " 8   popularity          15719 non-null  object \n",
      "dtypes: float64(1), object(8)\n",
      "memory usage: 1.1+ MB\n"
     ]
    }
   ],
   "source": [
    "books.info()\n"
   ]
  },
  {
   "cell_type": "code",
   "execution_count": 6,
   "id": "413bc5c1",
   "metadata": {},
   "outputs": [
    {
     "data": {
      "text/html": [
       "<div>\n",
       "<style scoped>\n",
       "    .dataframe tbody tr th:only-of-type {\n",
       "        vertical-align: middle;\n",
       "    }\n",
       "\n",
       "    .dataframe tbody tr th {\n",
       "        vertical-align: top;\n",
       "    }\n",
       "\n",
       "    .dataframe thead th {\n",
       "        text-align: right;\n",
       "    }\n",
       "</style>\n",
       "<table border=\"1\" class=\"dataframe\">\n",
       "  <thead>\n",
       "    <tr style=\"text-align: right;\">\n",
       "      <th></th>\n",
       "      <th>price</th>\n",
       "    </tr>\n",
       "  </thead>\n",
       "  <tbody>\n",
       "    <tr>\n",
       "      <th>count</th>\n",
       "      <td>15719.000000</td>\n",
       "    </tr>\n",
       "    <tr>\n",
       "      <th>mean</th>\n",
       "      <td>15.862783</td>\n",
       "    </tr>\n",
       "    <tr>\n",
       "      <th>std</th>\n",
       "      <td>8.464523</td>\n",
       "    </tr>\n",
       "    <tr>\n",
       "      <th>min</th>\n",
       "      <td>1.000000</td>\n",
       "    </tr>\n",
       "    <tr>\n",
       "      <th>25%</th>\n",
       "      <td>10.190000</td>\n",
       "    </tr>\n",
       "    <tr>\n",
       "      <th>50%</th>\n",
       "      <td>13.570000</td>\n",
       "    </tr>\n",
       "    <tr>\n",
       "      <th>75%</th>\n",
       "      <td>19.950000</td>\n",
       "    </tr>\n",
       "    <tr>\n",
       "      <th>max</th>\n",
       "      <td>41.770000</td>\n",
       "    </tr>\n",
       "  </tbody>\n",
       "</table>\n",
       "</div>"
      ],
      "text/plain": [
       "              price\n",
       "count  15719.000000\n",
       "mean      15.862783\n",
       "std        8.464523\n",
       "min        1.000000\n",
       "25%       10.190000\n",
       "50%       13.570000\n",
       "75%       19.950000\n",
       "max       41.770000"
      ]
     },
     "execution_count": 6,
     "metadata": {},
     "output_type": "execute_result"
    }
   ],
   "source": [
    "books.describe()\n"
   ]
  },
  {
   "cell_type": "code",
   "execution_count": 7,
   "id": "09443dca",
   "metadata": {},
   "outputs": [
    {
     "data": {
      "text/plain": [
       "title                 0\n",
       "price                 0\n",
       "review/helpfulness    0\n",
       "review/summary        1\n",
       "review/text           0\n",
       "description           0\n",
       "authors               0\n",
       "categories            0\n",
       "popularity            0\n",
       "dtype: int64"
      ]
     },
     "execution_count": 7,
     "metadata": {},
     "output_type": "execute_result"
    }
   ],
   "source": [
    "books.isnull().sum()\n"
   ]
  },
  {
   "cell_type": "code",
   "execution_count": 8,
   "id": "6e8b1f0c",
   "metadata": {},
   "outputs": [
    {
     "data": {
      "text/html": [
       "<div>\n",
       "<style scoped>\n",
       "    .dataframe tbody tr th:only-of-type {\n",
       "        vertical-align: middle;\n",
       "    }\n",
       "\n",
       "    .dataframe tbody tr th {\n",
       "        vertical-align: top;\n",
       "    }\n",
       "\n",
       "    .dataframe thead th {\n",
       "        text-align: right;\n",
       "    }\n",
       "</style>\n",
       "<table border=\"1\" class=\"dataframe\">\n",
       "  <thead>\n",
       "    <tr style=\"text-align: right;\">\n",
       "      <th></th>\n",
       "      <th>title</th>\n",
       "      <th>price</th>\n",
       "      <th>review/helpfulness</th>\n",
       "      <th>review/summary</th>\n",
       "      <th>review/text</th>\n",
       "      <th>description</th>\n",
       "      <th>authors</th>\n",
       "      <th>categories</th>\n",
       "      <th>popularity</th>\n",
       "    </tr>\n",
       "  </thead>\n",
       "  <tbody>\n",
       "    <tr>\n",
       "      <th>12118</th>\n",
       "      <td>Eldest (Inheritance, Book 2)</td>\n",
       "      <td>33.97</td>\n",
       "      <td>0/0</td>\n",
       "      <td>NaN</td>\n",
       "      <td>This book was outstanding! The best part was t...</td>\n",
       "      <td>After successfully evading an Urgals ambush, E...</td>\n",
       "      <td>'Christopher Paolini'</td>\n",
       "      <td>'Juvenile Fiction'</td>\n",
       "      <td>Popular</td>\n",
       "    </tr>\n",
       "  </tbody>\n",
       "</table>\n",
       "</div>"
      ],
      "text/plain": [
       "                              title  price review/helpfulness review/summary  \\\n",
       "12118  Eldest (Inheritance, Book 2)  33.97                0/0            NaN   \n",
       "\n",
       "                                             review/text  \\\n",
       "12118  This book was outstanding! The best part was t...   \n",
       "\n",
       "                                             description  \\\n",
       "12118  After successfully evading an Urgals ambush, E...   \n",
       "\n",
       "                     authors          categories popularity  \n",
       "12118  'Christopher Paolini'  'Juvenile Fiction'    Popular  "
      ]
     },
     "execution_count": 8,
     "metadata": {},
     "output_type": "execute_result"
    }
   ],
   "source": [
    "books[books['review/summary'].isnull()]\n"
   ]
  },
  {
   "cell_type": "code",
   "execution_count": 9,
   "id": "ad34d1ed",
   "metadata": {},
   "outputs": [
    {
     "data": {
      "text/plain": [
       "np.int64(3294)"
      ]
     },
     "execution_count": 9,
     "metadata": {},
     "output_type": "execute_result"
    }
   ],
   "source": [
    "books.duplicated().sum()\n"
   ]
  },
  {
   "cell_type": "code",
   "execution_count": 10,
   "id": "7e3eb46a",
   "metadata": {},
   "outputs": [
    {
     "data": {
      "text/plain": [
       "review/helpfulness\n",
       "0/0        3973\n",
       "1/1        1492\n",
       "2/2         784\n",
       "0/1         556\n",
       "3/3         518\n",
       "           ... \n",
       "11/38         1\n",
       "14/56         1\n",
       "57/61         1\n",
       "10/181        1\n",
       "206/206       1\n",
       "Name: count, Length: 1018, dtype: int64"
      ]
     },
     "execution_count": 10,
     "metadata": {},
     "output_type": "execute_result"
    }
   ],
   "source": [
    "#check the value counts of the target variable\n",
    "books['review/helpfulness'].value_counts()\n"
   ]
  },
  {
   "cell_type": "code",
   "execution_count": 11,
   "id": "8ca2d0f6",
   "metadata": {},
   "outputs": [
    {
     "data": {
      "text/html": [
       "<div>\n",
       "<style scoped>\n",
       "    .dataframe tbody tr th:only-of-type {\n",
       "        vertical-align: middle;\n",
       "    }\n",
       "\n",
       "    .dataframe tbody tr th {\n",
       "        vertical-align: top;\n",
       "    }\n",
       "\n",
       "    .dataframe thead th {\n",
       "        text-align: right;\n",
       "    }\n",
       "</style>\n",
       "<table border=\"1\" class=\"dataframe\">\n",
       "  <thead>\n",
       "    <tr style=\"text-align: right;\">\n",
       "      <th></th>\n",
       "      <th>title</th>\n",
       "      <th>price</th>\n",
       "      <th>review/helpfulness</th>\n",
       "      <th>review/summary</th>\n",
       "      <th>review/text</th>\n",
       "      <th>description</th>\n",
       "      <th>authors</th>\n",
       "      <th>categories</th>\n",
       "      <th>popularity</th>\n",
       "    </tr>\n",
       "  </thead>\n",
       "  <tbody>\n",
       "    <tr>\n",
       "      <th>0</th>\n",
       "      <td>We Band of Angels: The Untold Story of America...</td>\n",
       "      <td>10.88</td>\n",
       "      <td>2/3</td>\n",
       "      <td>A Great Book about women in WWII</td>\n",
       "      <td>I have alway been a fan of fiction books set i...</td>\n",
       "      <td>In the fall of 1941, the Philippines was a gar...</td>\n",
       "      <td>'Elizabeth Norman'</td>\n",
       "      <td>'History'</td>\n",
       "      <td>Unpopular</td>\n",
       "    </tr>\n",
       "    <tr>\n",
       "      <th>1</th>\n",
       "      <td>Prayer That Brings Revival: Interceding for Go...</td>\n",
       "      <td>9.35</td>\n",
       "      <td>0/0</td>\n",
       "      <td>Very helpful book for church prayer groups and...</td>\n",
       "      <td>Very helpful book to give you a better prayer ...</td>\n",
       "      <td>In Prayer That Brings Revival, best-selling au...</td>\n",
       "      <td>'Yong-gi Cho'</td>\n",
       "      <td>'Religion'</td>\n",
       "      <td>Unpopular</td>\n",
       "    </tr>\n",
       "    <tr>\n",
       "      <th>2</th>\n",
       "      <td>The Mystical Journey from Jesus to Christ</td>\n",
       "      <td>24.95</td>\n",
       "      <td>17/19</td>\n",
       "      <td>Universal Spiritual Awakening Guide With Some ...</td>\n",
       "      <td>The message of this book is to find yourself a...</td>\n",
       "      <td>THE MYSTICAL JOURNEY FROM JESUS TO CHRIST Disc...</td>\n",
       "      <td>'Muata Ashby'</td>\n",
       "      <td>'Body, Mind &amp; Spirit'</td>\n",
       "      <td>Unpopular</td>\n",
       "    </tr>\n",
       "    <tr>\n",
       "      <th>3</th>\n",
       "      <td>Death Row</td>\n",
       "      <td>7.99</td>\n",
       "      <td>0/1</td>\n",
       "      <td>Ben Kincaid tries to stop an execution.</td>\n",
       "      <td>The hero of William Bernhardt's Ben Kincaid no...</td>\n",
       "      <td>Upon receiving his execution date, one of the ...</td>\n",
       "      <td>'Lynden Harris'</td>\n",
       "      <td>'Social Science'</td>\n",
       "      <td>Unpopular</td>\n",
       "    </tr>\n",
       "    <tr>\n",
       "      <th>4</th>\n",
       "      <td>Sound and Form in Modern Poetry: Second Editio...</td>\n",
       "      <td>32.50</td>\n",
       "      <td>18/20</td>\n",
       "      <td>good introduction to modern prosody</td>\n",
       "      <td>There's a lot in this book which the reader wi...</td>\n",
       "      <td>An updated and expanded version of a classic a...</td>\n",
       "      <td>'Harvey Seymour Gross', 'Robert McDowell'</td>\n",
       "      <td>'Poetry'</td>\n",
       "      <td>Unpopular</td>\n",
       "    </tr>\n",
       "    <tr>\n",
       "      <th>...</th>\n",
       "      <td>...</td>\n",
       "      <td>...</td>\n",
       "      <td>...</td>\n",
       "      <td>...</td>\n",
       "      <td>...</td>\n",
       "      <td>...</td>\n",
       "      <td>...</td>\n",
       "      <td>...</td>\n",
       "      <td>...</td>\n",
       "    </tr>\n",
       "    <tr>\n",
       "      <th>15714</th>\n",
       "      <td>Attack of the Deranged Mutant Killer Monster S...</td>\n",
       "      <td>7.64</td>\n",
       "      <td>0/0</td>\n",
       "      <td>Great for Calvin lovers</td>\n",
       "      <td>Bought as a Christmas gift, great book for kin...</td>\n",
       "      <td>Online: gocomics.com/calvinandhobbes/</td>\n",
       "      <td>'Bill Watterson'</td>\n",
       "      <td>'Comics &amp; Graphic Novels'</td>\n",
       "      <td>Unpopular</td>\n",
       "    </tr>\n",
       "    <tr>\n",
       "      <th>15715</th>\n",
       "      <td>Book Savvy</td>\n",
       "      <td>33.99</td>\n",
       "      <td>2/2</td>\n",
       "      <td>literary pleasure</td>\n",
       "      <td>I thoroughly enjoyed Ms. Katona's Book Savvy. ...</td>\n",
       "      <td>Recounts the adventures of Mibs Beaumont, whos...</td>\n",
       "      <td>'Ingrid Law'</td>\n",
       "      <td>'Juvenile Fiction'</td>\n",
       "      <td>Popular</td>\n",
       "    </tr>\n",
       "    <tr>\n",
       "      <th>15716</th>\n",
       "      <td>Organizing to Win: New Research on Union Strat...</td>\n",
       "      <td>24.95</td>\n",
       "      <td>3/4</td>\n",
       "      <td>Great Book for Union Organizers!</td>\n",
       "      <td>This is a good reference tool for Union Organi...</td>\n",
       "      <td>As the American labour movement mobilizes for ...</td>\n",
       "      <td>'Kate Bronfenbrenner', 'Sheldon Friedman', 'Ri...</td>\n",
       "      <td>'Business &amp; Economics'</td>\n",
       "      <td>Popular</td>\n",
       "    </tr>\n",
       "    <tr>\n",
       "      <th>15717</th>\n",
       "      <td>The Dharma Bums</td>\n",
       "      <td>39.95</td>\n",
       "      <td>3/3</td>\n",
       "      <td>The Sad, Beautiful, Joyful World of Jack Kerouac</td>\n",
       "      <td>Jack Kerouac was intensely alive and his fiery...</td>\n",
       "      <td>THE DHARMA BUMS appeared just one year after t...</td>\n",
       "      <td>'Jack Kerouac'</td>\n",
       "      <td>'Fiction'</td>\n",
       "      <td>Popular</td>\n",
       "    </tr>\n",
       "    <tr>\n",
       "      <th>15718</th>\n",
       "      <td>Palomino</td>\n",
       "      <td>7.99</td>\n",
       "      <td>0/0</td>\n",
       "      <td>\"Palomino\"</td>\n",
       "      <td>This is an older novel of Danielle Steele's, a...</td>\n",
       "      <td>Samantha Taylor is shattered when her husband ...</td>\n",
       "      <td>'Danielle Steel'</td>\n",
       "      <td>'Fiction'</td>\n",
       "      <td>Popular</td>\n",
       "    </tr>\n",
       "  </tbody>\n",
       "</table>\n",
       "<p>15719 rows × 9 columns</p>\n",
       "</div>"
      ],
      "text/plain": [
       "                                                   title  price  \\\n",
       "0      We Band of Angels: The Untold Story of America...  10.88   \n",
       "1      Prayer That Brings Revival: Interceding for Go...   9.35   \n",
       "2              The Mystical Journey from Jesus to Christ  24.95   \n",
       "3                                              Death Row   7.99   \n",
       "4      Sound and Form in Modern Poetry: Second Editio...  32.50   \n",
       "...                                                  ...    ...   \n",
       "15714  Attack of the Deranged Mutant Killer Monster S...   7.64   \n",
       "15715                                         Book Savvy  33.99   \n",
       "15716  Organizing to Win: New Research on Union Strat...  24.95   \n",
       "15717                                    The Dharma Bums  39.95   \n",
       "15718                                           Palomino   7.99   \n",
       "\n",
       "      review/helpfulness                                     review/summary  \\\n",
       "0                    2/3                   A Great Book about women in WWII   \n",
       "1                    0/0  Very helpful book for church prayer groups and...   \n",
       "2                  17/19  Universal Spiritual Awakening Guide With Some ...   \n",
       "3                    0/1            Ben Kincaid tries to stop an execution.   \n",
       "4                  18/20                good introduction to modern prosody   \n",
       "...                  ...                                                ...   \n",
       "15714                0/0                            Great for Calvin lovers   \n",
       "15715                2/2                                  literary pleasure   \n",
       "15716                3/4                   Great Book for Union Organizers!   \n",
       "15717                3/3   The Sad, Beautiful, Joyful World of Jack Kerouac   \n",
       "15718                0/0                                         \"Palomino\"   \n",
       "\n",
       "                                             review/text  \\\n",
       "0      I have alway been a fan of fiction books set i...   \n",
       "1      Very helpful book to give you a better prayer ...   \n",
       "2      The message of this book is to find yourself a...   \n",
       "3      The hero of William Bernhardt's Ben Kincaid no...   \n",
       "4      There's a lot in this book which the reader wi...   \n",
       "...                                                  ...   \n",
       "15714  Bought as a Christmas gift, great book for kin...   \n",
       "15715  I thoroughly enjoyed Ms. Katona's Book Savvy. ...   \n",
       "15716  This is a good reference tool for Union Organi...   \n",
       "15717  Jack Kerouac was intensely alive and his fiery...   \n",
       "15718  This is an older novel of Danielle Steele's, a...   \n",
       "\n",
       "                                             description  \\\n",
       "0      In the fall of 1941, the Philippines was a gar...   \n",
       "1      In Prayer That Brings Revival, best-selling au...   \n",
       "2      THE MYSTICAL JOURNEY FROM JESUS TO CHRIST Disc...   \n",
       "3      Upon receiving his execution date, one of the ...   \n",
       "4      An updated and expanded version of a classic a...   \n",
       "...                                                  ...   \n",
       "15714              Online: gocomics.com/calvinandhobbes/   \n",
       "15715  Recounts the adventures of Mibs Beaumont, whos...   \n",
       "15716  As the American labour movement mobilizes for ...   \n",
       "15717  THE DHARMA BUMS appeared just one year after t...   \n",
       "15718  Samantha Taylor is shattered when her husband ...   \n",
       "\n",
       "                                                 authors  \\\n",
       "0                                     'Elizabeth Norman'   \n",
       "1                                          'Yong-gi Cho'   \n",
       "2                                          'Muata Ashby'   \n",
       "3                                        'Lynden Harris'   \n",
       "4              'Harvey Seymour Gross', 'Robert McDowell'   \n",
       "...                                                  ...   \n",
       "15714                                   'Bill Watterson'   \n",
       "15715                                       'Ingrid Law'   \n",
       "15716  'Kate Bronfenbrenner', 'Sheldon Friedman', 'Ri...   \n",
       "15717                                     'Jack Kerouac'   \n",
       "15718                                   'Danielle Steel'   \n",
       "\n",
       "                      categories popularity  \n",
       "0                      'History'  Unpopular  \n",
       "1                     'Religion'  Unpopular  \n",
       "2          'Body, Mind & Spirit'  Unpopular  \n",
       "3               'Social Science'  Unpopular  \n",
       "4                       'Poetry'  Unpopular  \n",
       "...                          ...        ...  \n",
       "15714  'Comics & Graphic Novels'  Unpopular  \n",
       "15715         'Juvenile Fiction'    Popular  \n",
       "15716     'Business & Economics'    Popular  \n",
       "15717                  'Fiction'    Popular  \n",
       "15718                  'Fiction'    Popular  \n",
       "\n",
       "[15719 rows x 9 columns]"
      ]
     },
     "execution_count": 11,
     "metadata": {},
     "output_type": "execute_result"
    }
   ],
   "source": [
    "#check all the values in the review/helpfulness column are \"number/number\"\n",
    "\n",
    "books[books['review/helpfulness'].str.contains('/')]"
   ]
  },
  {
   "cell_type": "code",
   "execution_count": 12,
   "id": "c27a5920",
   "metadata": {},
   "outputs": [
    {
     "data": {
      "text/html": [
       "<div>\n",
       "<style scoped>\n",
       "    .dataframe tbody tr th:only-of-type {\n",
       "        vertical-align: middle;\n",
       "    }\n",
       "\n",
       "    .dataframe tbody tr th {\n",
       "        vertical-align: top;\n",
       "    }\n",
       "\n",
       "    .dataframe thead th {\n",
       "        text-align: right;\n",
       "    }\n",
       "</style>\n",
       "<table border=\"1\" class=\"dataframe\">\n",
       "  <thead>\n",
       "    <tr style=\"text-align: right;\">\n",
       "      <th></th>\n",
       "      <th>title</th>\n",
       "      <th>price</th>\n",
       "      <th>review/helpfulness</th>\n",
       "      <th>review/summary</th>\n",
       "      <th>review/text</th>\n",
       "      <th>description</th>\n",
       "      <th>authors</th>\n",
       "      <th>categories</th>\n",
       "      <th>popularity</th>\n",
       "      <th>total_reviews</th>\n",
       "      <th>helpful_reviews</th>\n",
       "    </tr>\n",
       "  </thead>\n",
       "  <tbody>\n",
       "    <tr>\n",
       "      <th>0</th>\n",
       "      <td>We Band of Angels: The Untold Story of America...</td>\n",
       "      <td>10.88</td>\n",
       "      <td>2/3</td>\n",
       "      <td>A Great Book about women in WWII</td>\n",
       "      <td>I have alway been a fan of fiction books set i...</td>\n",
       "      <td>In the fall of 1941, the Philippines was a gar...</td>\n",
       "      <td>'Elizabeth Norman'</td>\n",
       "      <td>'History'</td>\n",
       "      <td>Unpopular</td>\n",
       "      <td>3</td>\n",
       "      <td>2</td>\n",
       "    </tr>\n",
       "    <tr>\n",
       "      <th>1</th>\n",
       "      <td>Prayer That Brings Revival: Interceding for Go...</td>\n",
       "      <td>9.35</td>\n",
       "      <td>0/0</td>\n",
       "      <td>Very helpful book for church prayer groups and...</td>\n",
       "      <td>Very helpful book to give you a better prayer ...</td>\n",
       "      <td>In Prayer That Brings Revival, best-selling au...</td>\n",
       "      <td>'Yong-gi Cho'</td>\n",
       "      <td>'Religion'</td>\n",
       "      <td>Unpopular</td>\n",
       "      <td>0</td>\n",
       "      <td>0</td>\n",
       "    </tr>\n",
       "    <tr>\n",
       "      <th>2</th>\n",
       "      <td>The Mystical Journey from Jesus to Christ</td>\n",
       "      <td>24.95</td>\n",
       "      <td>17/19</td>\n",
       "      <td>Universal Spiritual Awakening Guide With Some ...</td>\n",
       "      <td>The message of this book is to find yourself a...</td>\n",
       "      <td>THE MYSTICAL JOURNEY FROM JESUS TO CHRIST Disc...</td>\n",
       "      <td>'Muata Ashby'</td>\n",
       "      <td>'Body, Mind &amp; Spirit'</td>\n",
       "      <td>Unpopular</td>\n",
       "      <td>19</td>\n",
       "      <td>17</td>\n",
       "    </tr>\n",
       "    <tr>\n",
       "      <th>3</th>\n",
       "      <td>Death Row</td>\n",
       "      <td>7.99</td>\n",
       "      <td>0/1</td>\n",
       "      <td>Ben Kincaid tries to stop an execution.</td>\n",
       "      <td>The hero of William Bernhardt's Ben Kincaid no...</td>\n",
       "      <td>Upon receiving his execution date, one of the ...</td>\n",
       "      <td>'Lynden Harris'</td>\n",
       "      <td>'Social Science'</td>\n",
       "      <td>Unpopular</td>\n",
       "      <td>1</td>\n",
       "      <td>0</td>\n",
       "    </tr>\n",
       "    <tr>\n",
       "      <th>4</th>\n",
       "      <td>Sound and Form in Modern Poetry: Second Editio...</td>\n",
       "      <td>32.50</td>\n",
       "      <td>18/20</td>\n",
       "      <td>good introduction to modern prosody</td>\n",
       "      <td>There's a lot in this book which the reader wi...</td>\n",
       "      <td>An updated and expanded version of a classic a...</td>\n",
       "      <td>'Harvey Seymour Gross', 'Robert McDowell'</td>\n",
       "      <td>'Poetry'</td>\n",
       "      <td>Unpopular</td>\n",
       "      <td>20</td>\n",
       "      <td>18</td>\n",
       "    </tr>\n",
       "  </tbody>\n",
       "</table>\n",
       "</div>"
      ],
      "text/plain": [
       "                                               title  price  \\\n",
       "0  We Band of Angels: The Untold Story of America...  10.88   \n",
       "1  Prayer That Brings Revival: Interceding for Go...   9.35   \n",
       "2          The Mystical Journey from Jesus to Christ  24.95   \n",
       "3                                          Death Row   7.99   \n",
       "4  Sound and Form in Modern Poetry: Second Editio...  32.50   \n",
       "\n",
       "  review/helpfulness                                     review/summary  \\\n",
       "0                2/3                   A Great Book about women in WWII   \n",
       "1                0/0  Very helpful book for church prayer groups and...   \n",
       "2              17/19  Universal Spiritual Awakening Guide With Some ...   \n",
       "3                0/1            Ben Kincaid tries to stop an execution.   \n",
       "4              18/20                good introduction to modern prosody   \n",
       "\n",
       "                                         review/text  \\\n",
       "0  I have alway been a fan of fiction books set i...   \n",
       "1  Very helpful book to give you a better prayer ...   \n",
       "2  The message of this book is to find yourself a...   \n",
       "3  The hero of William Bernhardt's Ben Kincaid no...   \n",
       "4  There's a lot in this book which the reader wi...   \n",
       "\n",
       "                                         description  \\\n",
       "0  In the fall of 1941, the Philippines was a gar...   \n",
       "1  In Prayer That Brings Revival, best-selling au...   \n",
       "2  THE MYSTICAL JOURNEY FROM JESUS TO CHRIST Disc...   \n",
       "3  Upon receiving his execution date, one of the ...   \n",
       "4  An updated and expanded version of a classic a...   \n",
       "\n",
       "                                     authors             categories  \\\n",
       "0                         'Elizabeth Norman'              'History'   \n",
       "1                              'Yong-gi Cho'             'Religion'   \n",
       "2                              'Muata Ashby'  'Body, Mind & Spirit'   \n",
       "3                            'Lynden Harris'       'Social Science'   \n",
       "4  'Harvey Seymour Gross', 'Robert McDowell'               'Poetry'   \n",
       "\n",
       "  popularity  total_reviews  helpful_reviews  \n",
       "0  Unpopular              3                2  \n",
       "1  Unpopular              0                0  \n",
       "2  Unpopular             19               17  \n",
       "3  Unpopular              1                0  \n",
       "4  Unpopular             20               18  "
      ]
     },
     "execution_count": 12,
     "metadata": {},
     "output_type": "execute_result"
    }
   ],
   "source": [
    "books['total_reviews'] = books['review/helpfulness'].str.split('/').str[1].astype(int)\n",
    "books['helpful_reviews'] = books['review/helpfulness'].str.split('/').str[0].astype(int)\n",
    "books.head()"
   ]
  },
  {
   "cell_type": "code",
   "execution_count": 13,
   "id": "aa0bf172",
   "metadata": {},
   "outputs": [
    {
     "data": {
      "text/plain": [
       "percentage_helpful\n",
       "1.000000    4338\n",
       "0.000000     993\n",
       "0.500000     748\n",
       "0.666667     536\n",
       "0.750000     367\n",
       "            ... \n",
       "0.754386       1\n",
       "0.904000       1\n",
       "0.267606       1\n",
       "0.296296       1\n",
       "0.956113       1\n",
       "Name: count, Length: 639, dtype: int64"
      ]
     },
     "execution_count": 13,
     "metadata": {},
     "output_type": "execute_result"
    }
   ],
   "source": [
    "books['percentage_helpful'] = books['helpful_reviews'] / books['total_reviews']\n",
    "books.head()\n",
    "books['percentage_helpful'].value_counts()\n",
    "\n"
   ]
  },
  {
   "cell_type": "code",
   "execution_count": 14,
   "id": "fdd7c289",
   "metadata": {},
   "outputs": [
    {
     "data": {
      "text/plain": [
       "title                 3973\n",
       "price                 3973\n",
       "review/helpfulness    3973\n",
       "review/summary        3972\n",
       "review/text           3973\n",
       "description           3973\n",
       "authors               3973\n",
       "categories            3973\n",
       "popularity            3973\n",
       "total_reviews         3973\n",
       "helpful_reviews       3973\n",
       "percentage_helpful       0\n",
       "dtype: int64"
      ]
     },
     "execution_count": 14,
     "metadata": {},
     "output_type": "execute_result"
    }
   ],
   "source": [
    "books[books['percentage_helpful'].isna()] #3973\n",
    "\n",
    "books[(books['percentage_helpful'].isna()) & (books['total_reviews'] == 0)].count() #3973\n",
    "\n",
    "books[(books['percentage_helpful'].isna()) & (books['total_reviews'] == 0) & (books['helpful_reviews'] == 0)].count() #3973"
   ]
  },
  {
   "cell_type": "code",
   "execution_count": 15,
   "id": "2311ce79",
   "metadata": {},
   "outputs": [
    {
     "name": "stderr",
     "output_type": "stream",
     "text": [
      "/var/folders/1j/zxqksxbs0bg17c_9cj2hm8bh0000gn/T/ipykernel_80105/1006356880.py:2: FutureWarning: A value is trying to be set on a copy of a DataFrame or Series through chained assignment using an inplace method.\n",
      "The behavior will change in pandas 3.0. This inplace method will never work because the intermediate object on which we are setting values always behaves as a copy.\n",
      "\n",
      "For example, when doing 'df[col].method(value, inplace=True)', try using 'df.method({col: value}, inplace=True)' or df[col] = df[col].method(value) instead, to perform the operation inplace on the original object.\n",
      "\n",
      "\n",
      "  books['percentage_helpful'].fillna(0, inplace=True)\n"
     ]
    },
    {
     "data": {
      "text/plain": [
       "np.int64(0)"
      ]
     },
     "execution_count": 15,
     "metadata": {},
     "output_type": "execute_result"
    }
   ],
   "source": [
    "#replace nan with 0 \n",
    "books['percentage_helpful'].fillna(0, inplace=True)\n",
    "\n",
    "books['percentage_helpful'].isna().sum() #0"
   ]
  },
  {
   "cell_type": "code",
   "execution_count": 16,
   "id": "292ce0e5",
   "metadata": {},
   "outputs": [
    {
     "name": "stdout",
     "output_type": "stream",
     "text": [
      "categories\n",
      "'Fiction'                      3520\n",
      "'Religion'                     1053\n",
      "'Biography & Autobiography'     852\n",
      "'Juvenile Fiction'              815\n",
      "'History'                       754\n",
      "                               ... \n",
      "'Sunflowers'                      1\n",
      "'Self-confidence'                 1\n",
      "'United States'                   1\n",
      "'Note-taking'                     1\n",
      "'Asthma'                          1\n",
      "Name: count, Length: 313, dtype: int64\n"
     ]
    }
   ],
   "source": [
    "print(books['categories'].value_counts())"
   ]
  },
  {
   "cell_type": "code",
   "execution_count": 17,
   "id": "024058ad",
   "metadata": {},
   "outputs": [
    {
     "name": "stdout",
     "output_type": "stream",
     "text": [
      "Number of books with unique categories: 118\n"
     ]
    },
    {
     "data": {
      "text/html": [
       "<div>\n",
       "<style scoped>\n",
       "    .dataframe tbody tr th:only-of-type {\n",
       "        vertical-align: middle;\n",
       "    }\n",
       "\n",
       "    .dataframe tbody tr th {\n",
       "        vertical-align: top;\n",
       "    }\n",
       "\n",
       "    .dataframe thead th {\n",
       "        text-align: right;\n",
       "    }\n",
       "</style>\n",
       "<table border=\"1\" class=\"dataframe\">\n",
       "  <thead>\n",
       "    <tr style=\"text-align: right;\">\n",
       "      <th></th>\n",
       "      <th>title</th>\n",
       "      <th>price</th>\n",
       "      <th>review/helpfulness</th>\n",
       "      <th>review/summary</th>\n",
       "      <th>review/text</th>\n",
       "      <th>description</th>\n",
       "      <th>authors</th>\n",
       "      <th>categories</th>\n",
       "      <th>popularity</th>\n",
       "      <th>total_reviews</th>\n",
       "      <th>helpful_reviews</th>\n",
       "      <th>percentage_helpful</th>\n",
       "    </tr>\n",
       "  </thead>\n",
       "  <tbody>\n",
       "    <tr>\n",
       "      <th>7256</th>\n",
       "      <td>The Everyman Anthology of Poetry for Children ...</td>\n",
       "      <td>15.95</td>\n",
       "      <td>5/5</td>\n",
       "      <td>fantastic</td>\n",
       "      <td>For anyone who loves poems. For children and a...</td>\n",
       "      <td>Gillian Avery, historian of children's books a...</td>\n",
       "      <td>'Gillian Avery'</td>\n",
       "      <td>\"Children's poetry\"</td>\n",
       "      <td>Popular</td>\n",
       "      <td>5</td>\n",
       "      <td>5</td>\n",
       "      <td>1.000000</td>\n",
       "    </tr>\n",
       "    <tr>\n",
       "      <th>7413</th>\n",
       "      <td>The Tails Tales of Mr. Murphy</td>\n",
       "      <td>17.50</td>\n",
       "      <td>1/1</td>\n",
       "      <td>\"Go Ask Mom\" takes me back</td>\n",
       "      <td>I've been a long-time fan of Justin Matott's b...</td>\n",
       "      <td>The life and times of Mr. Murphy and Jerry the...</td>\n",
       "      <td>'Justin Matott (Jr)'</td>\n",
       "      <td>'Dogs'</td>\n",
       "      <td>Popular</td>\n",
       "      <td>1</td>\n",
       "      <td>1</td>\n",
       "      <td>1.000000</td>\n",
       "    </tr>\n",
       "    <tr>\n",
       "      <th>7562</th>\n",
       "      <td>The Rune of Zachary Zimbalist (Connedim) (Conn...</td>\n",
       "      <td>14.99</td>\n",
       "      <td>3/3</td>\n",
       "      <td>Awesome book</td>\n",
       "      <td>The Rune of Zachary Zimbalist was awesome. I l...</td>\n",
       "      <td>Twelve-year-old Zachary is whisked off to the ...</td>\n",
       "      <td>'Pamela Keyes'</td>\n",
       "      <td>'Bullies'</td>\n",
       "      <td>Popular</td>\n",
       "      <td>3</td>\n",
       "      <td>3</td>\n",
       "      <td>1.000000</td>\n",
       "    </tr>\n",
       "    <tr>\n",
       "      <th>7603</th>\n",
       "      <td>Becoming a Chef</td>\n",
       "      <td>19.77</td>\n",
       "      <td>1/5</td>\n",
       "      <td>Becoming a Chef</td>\n",
       "      <td>This was gifted to a high school student who w...</td>\n",
       "      <td>\"What an extraordinary book! Pain, gain, joy, ...</td>\n",
       "      <td>'Andrew Dornenburg', 'Karen Page'</td>\n",
       "      <td>'Cookery'</td>\n",
       "      <td>Popular</td>\n",
       "      <td>5</td>\n",
       "      <td>1</td>\n",
       "      <td>0.200000</td>\n",
       "    </tr>\n",
       "    <tr>\n",
       "      <th>7724</th>\n",
       "      <td>When Smart People Fail: Rebuilding Yourself fo...</td>\n",
       "      <td>17.00</td>\n",
       "      <td>0/0</td>\n",
       "      <td>An Excellent Book for People Struggling With A...</td>\n",
       "      <td>Dear Friends:This is an excellent, well-writte...</td>\n",
       "      <td>Offering sound advice on everything from grapp...</td>\n",
       "      <td>'Carole Hyatt', 'Linda Gottlieb'</td>\n",
       "      <td>'Attitude (Psychology)'</td>\n",
       "      <td>Popular</td>\n",
       "      <td>0</td>\n",
       "      <td>0</td>\n",
       "      <td>0.000000</td>\n",
       "    </tr>\n",
       "    <tr>\n",
       "      <th>...</th>\n",
       "      <td>...</td>\n",
       "      <td>...</td>\n",
       "      <td>...</td>\n",
       "      <td>...</td>\n",
       "      <td>...</td>\n",
       "      <td>...</td>\n",
       "      <td>...</td>\n",
       "      <td>...</td>\n",
       "      <td>...</td>\n",
       "      <td>...</td>\n",
       "      <td>...</td>\n",
       "      <td>...</td>\n",
       "    </tr>\n",
       "    <tr>\n",
       "      <th>15147</th>\n",
       "      <td>Diabetes: An Emotional Journey</td>\n",
       "      <td>9.95</td>\n",
       "      <td>2/2</td>\n",
       "      <td>Wonderful!</td>\n",
       "      <td>This beautiful handmade book is a captivating ...</td>\n",
       "      <td>The book cover is made with hand made paper. T...</td>\n",
       "      <td>'Renea Jo Zosel'</td>\n",
       "      <td>'Diabetes'</td>\n",
       "      <td>Popular</td>\n",
       "      <td>2</td>\n",
       "      <td>2</td>\n",
       "      <td>1.000000</td>\n",
       "    </tr>\n",
       "    <tr>\n",
       "      <th>15150</th>\n",
       "      <td>DK First Encyclopedia</td>\n",
       "      <td>11.55</td>\n",
       "      <td>0/0</td>\n",
       "      <td>Excellent</td>\n",
       "      <td>A very good book. Extremely satisfied with the...</td>\n",
       "      <td>A first encyclopedia for children aged five an...</td>\n",
       "      <td>'Anita Ganeri', 'Chris Oxlade'</td>\n",
       "      <td>\"Children's encyclopedias and dictionaries\"</td>\n",
       "      <td>Popular</td>\n",
       "      <td>0</td>\n",
       "      <td>0</td>\n",
       "      <td>0.000000</td>\n",
       "    </tr>\n",
       "    <tr>\n",
       "      <th>15300</th>\n",
       "      <td>Henri Cartier-Bresson: Propos de Paris</td>\n",
       "      <td>25.64</td>\n",
       "      <td>6/9</td>\n",
       "      <td>Great!</td>\n",
       "      <td>this book should get five stars for the photo ...</td>\n",
       "      <td>'À Propos de Paris' presents the photographer'...</td>\n",
       "      <td>'Henri Cartier-Bresson', 'Vera Feyder', 'André...</td>\n",
       "      <td>'Paris'</td>\n",
       "      <td>Popular</td>\n",
       "      <td>9</td>\n",
       "      <td>6</td>\n",
       "      <td>0.666667</td>\n",
       "    </tr>\n",
       "    <tr>\n",
       "      <th>15423</th>\n",
       "      <td>Audie Murphy: Now Showing</td>\n",
       "      <td>30.00</td>\n",
       "      <td>0/0</td>\n",
       "      <td>Review of Audie Murphy: Now Showing</td>\n",
       "      <td>It was a birthday gift for a friend of mine. H...</td>\n",
       "      <td>To celebrate the career of Audie Murphy, this ...</td>\n",
       "      <td>'Sue Gossett'</td>\n",
       "      <td>'Film posters, American'</td>\n",
       "      <td>Popular</td>\n",
       "      <td>0</td>\n",
       "      <td>0</td>\n",
       "      <td>0.000000</td>\n",
       "    </tr>\n",
       "    <tr>\n",
       "      <th>15459</th>\n",
       "      <td>Close Your Mouth: Buteyko Clinic Handbook for ...</td>\n",
       "      <td>14.65</td>\n",
       "      <td>0/0</td>\n",
       "      <td>Buteyko Breathing Method</td>\n",
       "      <td>Very informative. Book teaches very well the c...</td>\n",
       "      <td>\"Since 2002, bestselling author and former chr...</td>\n",
       "      <td>'Patrick McKeown'</td>\n",
       "      <td>'Asthma'</td>\n",
       "      <td>Popular</td>\n",
       "      <td>0</td>\n",
       "      <td>0</td>\n",
       "      <td>0.000000</td>\n",
       "    </tr>\n",
       "  </tbody>\n",
       "</table>\n",
       "<p>67 rows × 12 columns</p>\n",
       "</div>"
      ],
      "text/plain": [
       "                                                   title  price  \\\n",
       "7256   The Everyman Anthology of Poetry for Children ...  15.95   \n",
       "7413                       The Tails Tales of Mr. Murphy  17.50   \n",
       "7562   The Rune of Zachary Zimbalist (Connedim) (Conn...  14.99   \n",
       "7603                                     Becoming a Chef  19.77   \n",
       "7724   When Smart People Fail: Rebuilding Yourself fo...  17.00   \n",
       "...                                                  ...    ...   \n",
       "15147                     Diabetes: An Emotional Journey   9.95   \n",
       "15150                              DK First Encyclopedia  11.55   \n",
       "15300             Henri Cartier-Bresson: Propos de Paris  25.64   \n",
       "15423                          Audie Murphy: Now Showing  30.00   \n",
       "15459  Close Your Mouth: Buteyko Clinic Handbook for ...  14.65   \n",
       "\n",
       "      review/helpfulness                                     review/summary  \\\n",
       "7256                 5/5                                          fantastic   \n",
       "7413                 1/1                         \"Go Ask Mom\" takes me back   \n",
       "7562                 3/3                                       Awesome book   \n",
       "7603                 1/5                                    Becoming a Chef   \n",
       "7724                 0/0  An Excellent Book for People Struggling With A...   \n",
       "...                  ...                                                ...   \n",
       "15147                2/2                                         Wonderful!   \n",
       "15150                0/0                                          Excellent   \n",
       "15300                6/9                                             Great!   \n",
       "15423                0/0                Review of Audie Murphy: Now Showing   \n",
       "15459                0/0                           Buteyko Breathing Method   \n",
       "\n",
       "                                             review/text  \\\n",
       "7256   For anyone who loves poems. For children and a...   \n",
       "7413   I've been a long-time fan of Justin Matott's b...   \n",
       "7562   The Rune of Zachary Zimbalist was awesome. I l...   \n",
       "7603   This was gifted to a high school student who w...   \n",
       "7724   Dear Friends:This is an excellent, well-writte...   \n",
       "...                                                  ...   \n",
       "15147  This beautiful handmade book is a captivating ...   \n",
       "15150  A very good book. Extremely satisfied with the...   \n",
       "15300  this book should get five stars for the photo ...   \n",
       "15423  It was a birthday gift for a friend of mine. H...   \n",
       "15459  Very informative. Book teaches very well the c...   \n",
       "\n",
       "                                             description  \\\n",
       "7256   Gillian Avery, historian of children's books a...   \n",
       "7413   The life and times of Mr. Murphy and Jerry the...   \n",
       "7562   Twelve-year-old Zachary is whisked off to the ...   \n",
       "7603   \"What an extraordinary book! Pain, gain, joy, ...   \n",
       "7724   Offering sound advice on everything from grapp...   \n",
       "...                                                  ...   \n",
       "15147  The book cover is made with hand made paper. T...   \n",
       "15150  A first encyclopedia for children aged five an...   \n",
       "15300  'À Propos de Paris' presents the photographer'...   \n",
       "15423  To celebrate the career of Audie Murphy, this ...   \n",
       "15459  \"Since 2002, bestselling author and former chr...   \n",
       "\n",
       "                                                 authors  \\\n",
       "7256                                     'Gillian Avery'   \n",
       "7413                                'Justin Matott (Jr)'   \n",
       "7562                                      'Pamela Keyes'   \n",
       "7603                   'Andrew Dornenburg', 'Karen Page'   \n",
       "7724                    'Carole Hyatt', 'Linda Gottlieb'   \n",
       "...                                                  ...   \n",
       "15147                                   'Renea Jo Zosel'   \n",
       "15150                     'Anita Ganeri', 'Chris Oxlade'   \n",
       "15300  'Henri Cartier-Bresson', 'Vera Feyder', 'André...   \n",
       "15423                                      'Sue Gossett'   \n",
       "15459                                  'Patrick McKeown'   \n",
       "\n",
       "                                        categories popularity  total_reviews  \\\n",
       "7256                           \"Children's poetry\"    Popular              5   \n",
       "7413                                        'Dogs'    Popular              1   \n",
       "7562                                     'Bullies'    Popular              3   \n",
       "7603                                     'Cookery'    Popular              5   \n",
       "7724                       'Attitude (Psychology)'    Popular              0   \n",
       "...                                            ...        ...            ...   \n",
       "15147                                   'Diabetes'    Popular              2   \n",
       "15150  \"Children's encyclopedias and dictionaries\"    Popular              0   \n",
       "15300                                      'Paris'    Popular              9   \n",
       "15423                     'Film posters, American'    Popular              0   \n",
       "15459                                     'Asthma'    Popular              0   \n",
       "\n",
       "       helpful_reviews  percentage_helpful  \n",
       "7256                 5            1.000000  \n",
       "7413                 1            1.000000  \n",
       "7562                 3            1.000000  \n",
       "7603                 1            0.200000  \n",
       "7724                 0            0.000000  \n",
       "...                ...                 ...  \n",
       "15147                2            1.000000  \n",
       "15150                0            0.000000  \n",
       "15300                6            0.666667  \n",
       "15423                0            0.000000  \n",
       "15459                0            0.000000  \n",
       "\n",
       "[67 rows x 12 columns]"
      ]
     },
     "execution_count": 17,
     "metadata": {},
     "output_type": "execute_result"
    }
   ],
   "source": [
    "# Get categories that appear only once\n",
    "categories_with_count_1 = books['categories'].value_counts()[books['categories'].value_counts() == 1].index\n",
    "\n",
    "# Select books that have categories with count 1\n",
    "books_with_unique_categories = books[books['categories'].isin(categories_with_count_1)]\n",
    "\n",
    "print(f\"Number of books with unique categories: {len(books_with_unique_categories)}\")\n",
    "books_with_unique_categories[books_with_unique_categories['popularity'] == 'Popular']\n"
   ]
  },
  {
   "cell_type": "code",
   "execution_count": 18,
   "id": "a4255b15",
   "metadata": {},
   "outputs": [
    {
     "data": {
      "text/plain": [
       "authors\n",
       "'Charles Dickens'                                                                                        109\n",
       "'Christopher Paolini'                                                                                     90\n",
       "'Thomas Harris'                                                                                           85\n",
       "'Charlotte Brontë', 'Marc Cactus'                                                                         70\n",
       "'Charlotte Brontë'                                                                                        51\n",
       "                                                                                                        ... \n",
       "'Gilbert Morris'                                                                                           1\n",
       "'John Hick'                                                                                                1\n",
       "'Ira Flatow'                                                                                               1\n",
       "'Sam Deep', 'Lyle Sussman'                                                                                 1\n",
       "'Kate Bronfenbrenner', 'Sheldon Friedman', 'Richard W. Hurd', 'Rudolph A. Oswald', 'Ronald L. Seeber'      1\n",
       "Name: count, Length: 6447, dtype: int64"
      ]
     },
     "execution_count": 18,
     "metadata": {},
     "output_type": "execute_result"
    }
   ],
   "source": [
    "books['authors'].value_counts()"
   ]
  },
  {
   "cell_type": "code",
   "execution_count": 19,
   "id": "66f57b10",
   "metadata": {},
   "outputs": [
    {
     "data": {
      "text/plain": [
       "author_count\n",
       "1     13087\n",
       "2      2091\n",
       "3       405\n",
       "4        89\n",
       "5        30\n",
       "6        10\n",
       "11        3\n",
       "7         2\n",
       "12        1\n",
       "8         1\n",
       "Name: count, dtype: int64"
      ]
     },
     "execution_count": 19,
     "metadata": {},
     "output_type": "execute_result"
    }
   ],
   "source": [
    "books[books['authors'].str.contains(',')]\n",
    "#create new column author_1, author_2, author_3, author_4, author_5, author_count\n",
    "books['author_count'] = books['authors'].str.split(\"', '\").str.len()\n",
    "books.head()\n",
    "books['author_count'].value_counts()\n",
    "\n",
    "# author_count\n",
    "# 1     12960\n",
    "# 2      2168\n",
    "# 3       443\n",
    "# 4        93\n",
    "# 5        35\n",
    "# 6         9\n",
    "# 11        4\n",
    "# 8         4\n",
    "# 7         2\n",
    "# 12        1\n",
    "# Name: count, dtype: int64\n",
    "\n",
    "\n"
   ]
  },
  {
   "cell_type": "code",
   "execution_count": 20,
   "id": "db92d704",
   "metadata": {},
   "outputs": [
    {
     "data": {
      "text/html": [
       "<div>\n",
       "<style scoped>\n",
       "    .dataframe tbody tr th:only-of-type {\n",
       "        vertical-align: middle;\n",
       "    }\n",
       "\n",
       "    .dataframe tbody tr th {\n",
       "        vertical-align: top;\n",
       "    }\n",
       "\n",
       "    .dataframe thead th {\n",
       "        text-align: right;\n",
       "    }\n",
       "</style>\n",
       "<table border=\"1\" class=\"dataframe\">\n",
       "  <thead>\n",
       "    <tr style=\"text-align: right;\">\n",
       "      <th></th>\n",
       "      <th>title</th>\n",
       "      <th>price</th>\n",
       "      <th>review/helpfulness</th>\n",
       "      <th>review/summary</th>\n",
       "      <th>review/text</th>\n",
       "      <th>description</th>\n",
       "      <th>authors</th>\n",
       "      <th>categories</th>\n",
       "      <th>popularity</th>\n",
       "      <th>total_reviews</th>\n",
       "      <th>helpful_reviews</th>\n",
       "      <th>percentage_helpful</th>\n",
       "      <th>author_count</th>\n",
       "    </tr>\n",
       "  </thead>\n",
       "  <tbody>\n",
       "    <tr>\n",
       "      <th>469</th>\n",
       "      <td>Dinosaurs</td>\n",
       "      <td>9.95</td>\n",
       "      <td>0/0</td>\n",
       "      <td>Dinosaurs!</td>\n",
       "      <td>Really bright and fun book design contrasts wi...</td>\n",
       "      <td>A comprehensive encyclopedia of dinosaur scien...</td>\n",
       "      <td>'Thomas R. Holtz, Jr.'</td>\n",
       "      <td>'Juvenile Nonfiction'</td>\n",
       "      <td>Unpopular</td>\n",
       "      <td>0</td>\n",
       "      <td>0</td>\n",
       "      <td>0.0</td>\n",
       "      <td>1</td>\n",
       "    </tr>\n",
       "  </tbody>\n",
       "</table>\n",
       "</div>"
      ],
      "text/plain": [
       "         title  price review/helpfulness review/summary  \\\n",
       "469  Dinosaurs   9.95                0/0     Dinosaurs!   \n",
       "\n",
       "                                           review/text  \\\n",
       "469  Really bright and fun book design contrasts wi...   \n",
       "\n",
       "                                           description  \\\n",
       "469  A comprehensive encyclopedia of dinosaur scien...   \n",
       "\n",
       "                    authors             categories popularity  total_reviews  \\\n",
       "469  'Thomas R. Holtz, Jr.'  'Juvenile Nonfiction'  Unpopular              0   \n",
       "\n",
       "     helpful_reviews  percentage_helpful  author_count  \n",
       "469                0                 0.0             1  "
      ]
     },
     "execution_count": 20,
     "metadata": {},
     "output_type": "execute_result"
    }
   ],
   "source": [
    "books[books['title'] == \"Dinosaurs\"]"
   ]
  },
  {
   "cell_type": "code",
   "execution_count": 21,
   "id": "8aff12e4",
   "metadata": {},
   "outputs": [
    {
     "data": {
      "text/plain": [
       "popularity\n",
       "Unpopular     85\n",
       "Popular       51\n",
       "Name: count, dtype: int64"
      ]
     },
     "execution_count": 21,
     "metadata": {},
     "output_type": "execute_result"
    }
   ],
   "source": [
    "books[books['author_count'] > 3][['popularity']].value_counts()"
   ]
  },
  {
   "cell_type": "code",
   "execution_count": 22,
   "id": "b4033f2c",
   "metadata": {},
   "outputs": [
    {
     "data": {
      "text/plain": [
       "authors\n",
       "'Charles Dickens'                                         109\n",
       "'Christopher Paolini'                                      90\n",
       "'Thomas Harris'                                            85\n",
       "'Charlotte Brontë', 'Marc Cactus'                          70\n",
       "'Charlotte Brontë'                                         51\n",
       "                                                         ... \n",
       "'Gilbert Morris'                                            1\n",
       "'John Hick'                                                 1\n",
       "'Ira Flatow'                                                1\n",
       "'Sam Deep', 'Lyle Sussman'                                  1\n",
       "'Wayne Barber', 'Eddie Rasnake', 'Richard L. Shepherd'      1\n",
       "Name: count, Length: 6369, dtype: int64"
      ]
     },
     "execution_count": 22,
     "metadata": {},
     "output_type": "execute_result"
    }
   ],
   "source": [
    "#remove books with author_count > 3\n",
    "books = books[books['author_count'] <= 3]\n",
    "books['author_count'].value_counts()\n",
    "\n",
    "books['authors'].value_counts()\n",
    "\n"
   ]
  },
  {
   "cell_type": "code",
   "execution_count": 23,
   "id": "ae5527ea",
   "metadata": {},
   "outputs": [
    {
     "data": {
      "text/html": [
       "<div>\n",
       "<style scoped>\n",
       "    .dataframe tbody tr th:only-of-type {\n",
       "        vertical-align: middle;\n",
       "    }\n",
       "\n",
       "    .dataframe tbody tr th {\n",
       "        vertical-align: top;\n",
       "    }\n",
       "\n",
       "    .dataframe thead th {\n",
       "        text-align: right;\n",
       "    }\n",
       "</style>\n",
       "<table border=\"1\" class=\"dataframe\">\n",
       "  <thead>\n",
       "    <tr style=\"text-align: right;\">\n",
       "      <th></th>\n",
       "      <th>title</th>\n",
       "      <th>price</th>\n",
       "      <th>review/helpfulness</th>\n",
       "      <th>review/summary</th>\n",
       "      <th>review/text</th>\n",
       "      <th>description</th>\n",
       "      <th>authors</th>\n",
       "      <th>categories</th>\n",
       "      <th>popularity</th>\n",
       "      <th>total_reviews</th>\n",
       "      <th>helpful_reviews</th>\n",
       "      <th>percentage_helpful</th>\n",
       "      <th>author_count</th>\n",
       "      <th>author_1</th>\n",
       "      <th>author_2</th>\n",
       "      <th>author_3</th>\n",
       "    </tr>\n",
       "  </thead>\n",
       "  <tbody>\n",
       "    <tr>\n",
       "      <th>0</th>\n",
       "      <td>We Band of Angels: The Untold Story of America...</td>\n",
       "      <td>10.88</td>\n",
       "      <td>2/3</td>\n",
       "      <td>A Great Book about women in WWII</td>\n",
       "      <td>I have alway been a fan of fiction books set i...</td>\n",
       "      <td>In the fall of 1941, the Philippines was a gar...</td>\n",
       "      <td>'Elizabeth Norman'</td>\n",
       "      <td>'History'</td>\n",
       "      <td>Unpopular</td>\n",
       "      <td>3</td>\n",
       "      <td>2</td>\n",
       "      <td>0.666667</td>\n",
       "      <td>1</td>\n",
       "      <td>'Elizabeth Norman'</td>\n",
       "      <td>NaN</td>\n",
       "      <td>NaN</td>\n",
       "    </tr>\n",
       "    <tr>\n",
       "      <th>1</th>\n",
       "      <td>Prayer That Brings Revival: Interceding for Go...</td>\n",
       "      <td>9.35</td>\n",
       "      <td>0/0</td>\n",
       "      <td>Very helpful book for church prayer groups and...</td>\n",
       "      <td>Very helpful book to give you a better prayer ...</td>\n",
       "      <td>In Prayer That Brings Revival, best-selling au...</td>\n",
       "      <td>'Yong-gi Cho'</td>\n",
       "      <td>'Religion'</td>\n",
       "      <td>Unpopular</td>\n",
       "      <td>0</td>\n",
       "      <td>0</td>\n",
       "      <td>0.000000</td>\n",
       "      <td>1</td>\n",
       "      <td>'Yong-gi Cho'</td>\n",
       "      <td>NaN</td>\n",
       "      <td>NaN</td>\n",
       "    </tr>\n",
       "    <tr>\n",
       "      <th>2</th>\n",
       "      <td>The Mystical Journey from Jesus to Christ</td>\n",
       "      <td>24.95</td>\n",
       "      <td>17/19</td>\n",
       "      <td>Universal Spiritual Awakening Guide With Some ...</td>\n",
       "      <td>The message of this book is to find yourself a...</td>\n",
       "      <td>THE MYSTICAL JOURNEY FROM JESUS TO CHRIST Disc...</td>\n",
       "      <td>'Muata Ashby'</td>\n",
       "      <td>'Body, Mind &amp; Spirit'</td>\n",
       "      <td>Unpopular</td>\n",
       "      <td>19</td>\n",
       "      <td>17</td>\n",
       "      <td>0.894737</td>\n",
       "      <td>1</td>\n",
       "      <td>'Muata Ashby'</td>\n",
       "      <td>NaN</td>\n",
       "      <td>NaN</td>\n",
       "    </tr>\n",
       "    <tr>\n",
       "      <th>3</th>\n",
       "      <td>Death Row</td>\n",
       "      <td>7.99</td>\n",
       "      <td>0/1</td>\n",
       "      <td>Ben Kincaid tries to stop an execution.</td>\n",
       "      <td>The hero of William Bernhardt's Ben Kincaid no...</td>\n",
       "      <td>Upon receiving his execution date, one of the ...</td>\n",
       "      <td>'Lynden Harris'</td>\n",
       "      <td>'Social Science'</td>\n",
       "      <td>Unpopular</td>\n",
       "      <td>1</td>\n",
       "      <td>0</td>\n",
       "      <td>0.000000</td>\n",
       "      <td>1</td>\n",
       "      <td>'Lynden Harris'</td>\n",
       "      <td>NaN</td>\n",
       "      <td>NaN</td>\n",
       "    </tr>\n",
       "    <tr>\n",
       "      <th>4</th>\n",
       "      <td>Sound and Form in Modern Poetry: Second Editio...</td>\n",
       "      <td>32.50</td>\n",
       "      <td>18/20</td>\n",
       "      <td>good introduction to modern prosody</td>\n",
       "      <td>There's a lot in this book which the reader wi...</td>\n",
       "      <td>An updated and expanded version of a classic a...</td>\n",
       "      <td>'Harvey Seymour Gross', 'Robert McDowell'</td>\n",
       "      <td>'Poetry'</td>\n",
       "      <td>Unpopular</td>\n",
       "      <td>20</td>\n",
       "      <td>18</td>\n",
       "      <td>0.900000</td>\n",
       "      <td>2</td>\n",
       "      <td>'Harvey Seymour Gross</td>\n",
       "      <td>Robert McDowell'</td>\n",
       "      <td>NaN</td>\n",
       "    </tr>\n",
       "  </tbody>\n",
       "</table>\n",
       "</div>"
      ],
      "text/plain": [
       "                                               title  price  \\\n",
       "0  We Band of Angels: The Untold Story of America...  10.88   \n",
       "1  Prayer That Brings Revival: Interceding for Go...   9.35   \n",
       "2          The Mystical Journey from Jesus to Christ  24.95   \n",
       "3                                          Death Row   7.99   \n",
       "4  Sound and Form in Modern Poetry: Second Editio...  32.50   \n",
       "\n",
       "  review/helpfulness                                     review/summary  \\\n",
       "0                2/3                   A Great Book about women in WWII   \n",
       "1                0/0  Very helpful book for church prayer groups and...   \n",
       "2              17/19  Universal Spiritual Awakening Guide With Some ...   \n",
       "3                0/1            Ben Kincaid tries to stop an execution.   \n",
       "4              18/20                good introduction to modern prosody   \n",
       "\n",
       "                                         review/text  \\\n",
       "0  I have alway been a fan of fiction books set i...   \n",
       "1  Very helpful book to give you a better prayer ...   \n",
       "2  The message of this book is to find yourself a...   \n",
       "3  The hero of William Bernhardt's Ben Kincaid no...   \n",
       "4  There's a lot in this book which the reader wi...   \n",
       "\n",
       "                                         description  \\\n",
       "0  In the fall of 1941, the Philippines was a gar...   \n",
       "1  In Prayer That Brings Revival, best-selling au...   \n",
       "2  THE MYSTICAL JOURNEY FROM JESUS TO CHRIST Disc...   \n",
       "3  Upon receiving his execution date, one of the ...   \n",
       "4  An updated and expanded version of a classic a...   \n",
       "\n",
       "                                     authors             categories  \\\n",
       "0                         'Elizabeth Norman'              'History'   \n",
       "1                              'Yong-gi Cho'             'Religion'   \n",
       "2                              'Muata Ashby'  'Body, Mind & Spirit'   \n",
       "3                            'Lynden Harris'       'Social Science'   \n",
       "4  'Harvey Seymour Gross', 'Robert McDowell'               'Poetry'   \n",
       "\n",
       "  popularity  total_reviews  helpful_reviews  percentage_helpful  \\\n",
       "0  Unpopular              3                2            0.666667   \n",
       "1  Unpopular              0                0            0.000000   \n",
       "2  Unpopular             19               17            0.894737   \n",
       "3  Unpopular              1                0            0.000000   \n",
       "4  Unpopular             20               18            0.900000   \n",
       "\n",
       "   author_count               author_1          author_2 author_3  \n",
       "0             1     'Elizabeth Norman'               NaN      NaN  \n",
       "1             1          'Yong-gi Cho'               NaN      NaN  \n",
       "2             1          'Muata Ashby'               NaN      NaN  \n",
       "3             1        'Lynden Harris'               NaN      NaN  \n",
       "4             2  'Harvey Seymour Gross  Robert McDowell'      NaN  "
      ]
     },
     "execution_count": 23,
     "metadata": {},
     "output_type": "execute_result"
    }
   ],
   "source": [
    "# author_1 author_2 author_3\n",
    "books['author_1'] = books['authors'].str.split(\"', '\").str[0]\n",
    "books['author_2'] = books['authors'].str.split(\"', '\").str[1]\n",
    "books['author_3'] = books['authors'].str.split(\"', '\").str[2]\n",
    "books.head()\n",
    "\n",
    "\n",
    "\n",
    "\n",
    "\n"
   ]
  },
  {
   "cell_type": "code",
   "execution_count": 24,
   "id": "835b5c51",
   "metadata": {},
   "outputs": [
    {
     "data": {
      "text/plain": [
       "author_1\n",
       "'Charles Dickens'        109\n",
       "'Christopher Paolini'     90\n",
       "'Thomas Harris'           85\n",
       "'Charlotte Brontë         75\n",
       "'Charlotte Brontë'        51\n",
       "                        ... \n",
       "'Chuck D. Pierce           1\n",
       "'Rohit Chandra'            1\n",
       "'Gilbert Morris'           1\n",
       "'John Hick'                1\n",
       "'Wayne Barber              1\n",
       "Name: count, Length: 6354, dtype: int64"
      ]
     },
     "execution_count": 24,
     "metadata": {},
     "output_type": "execute_result"
    }
   ],
   "source": [
    "books['author_1'].value_counts()"
   ]
  },
  {
   "cell_type": "code",
   "execution_count": 25,
   "id": "f124ad4a",
   "metadata": {},
   "outputs": [
    {
     "data": {
      "text/plain": [
       "author_2\n",
       "Marc Cactus'                  70\n",
       "Larry Sloman'                 18\n",
       "William E. Butterworth IV'    18\n",
       "Jeannie Hayden'               16\n",
       "Donald Brownlee'              15\n",
       "                              ..\n",
       "Steven D. Farmer, Ph.D.'       1\n",
       "Jean Kerr Stenmark'            1\n",
       "Paul Sarknas'                  1\n",
       "Rebecca Wagner Sytsema'        1\n",
       "Eddie Rasnake                  1\n",
       "Name: count, Length: 1243, dtype: int64"
      ]
     },
     "execution_count": 25,
     "metadata": {},
     "output_type": "execute_result"
    }
   ],
   "source": [
    "books['author_2'].value_counts()"
   ]
  },
  {
   "cell_type": "code",
   "execution_count": 26,
   "id": "94517c81",
   "metadata": {},
   "outputs": [
    {
     "data": {
      "text/html": [
       "<div>\n",
       "<style scoped>\n",
       "    .dataframe tbody tr th:only-of-type {\n",
       "        vertical-align: middle;\n",
       "    }\n",
       "\n",
       "    .dataframe tbody tr th {\n",
       "        vertical-align: top;\n",
       "    }\n",
       "\n",
       "    .dataframe thead th {\n",
       "        text-align: right;\n",
       "    }\n",
       "</style>\n",
       "<table border=\"1\" class=\"dataframe\">\n",
       "  <thead>\n",
       "    <tr style=\"text-align: right;\">\n",
       "      <th></th>\n",
       "      <th>title</th>\n",
       "      <th>price</th>\n",
       "      <th>review/helpfulness</th>\n",
       "      <th>review/summary</th>\n",
       "      <th>review/text</th>\n",
       "      <th>description</th>\n",
       "      <th>authors</th>\n",
       "      <th>categories</th>\n",
       "      <th>popularity</th>\n",
       "      <th>total_reviews</th>\n",
       "      <th>helpful_reviews</th>\n",
       "      <th>percentage_helpful</th>\n",
       "      <th>author_count</th>\n",
       "      <th>author_1</th>\n",
       "      <th>author_2</th>\n",
       "      <th>author_3</th>\n",
       "    </tr>\n",
       "  </thead>\n",
       "  <tbody>\n",
       "    <tr>\n",
       "      <th>3172</th>\n",
       "      <td>Flash 8: Projects for Learning Animation and I...</td>\n",
       "      <td>23.2</td>\n",
       "      <td>11/28</td>\n",
       "      <td>Good Content, Poor Layout</td>\n",
       "      <td>'Flash 8: Projects for Learning Animation and ...</td>\n",
       "      <td>Macromedia Flash is fast becoming the Web's mo...</td>\n",
       "      <td>'Rich Shupe', 'Robert Hoekman, Jr.'</td>\n",
       "      <td>'Computers'</td>\n",
       "      <td>Unpopular</td>\n",
       "      <td>28</td>\n",
       "      <td>11</td>\n",
       "      <td>0.392857</td>\n",
       "      <td>2</td>\n",
       "      <td>'Rich Shupe</td>\n",
       "      <td>Robert Hoekman, Jr.'</td>\n",
       "      <td>NaN</td>\n",
       "    </tr>\n",
       "    <tr>\n",
       "      <th>3754</th>\n",
       "      <td>The American Holistic Medical Association Guid...</td>\n",
       "      <td>7.0</td>\n",
       "      <td>0/0</td>\n",
       "      <td>Good overview of Holistic Health</td>\n",
       "      <td>This book has a good overview of Holistic Heal...</td>\n",
       "      <td>Offers information on such holistic medical pr...</td>\n",
       "      <td>'Lawrence Trivieri', 'Larry Trivieri, Jr.', 'T...</td>\n",
       "      <td>'Health &amp; Fitness'</td>\n",
       "      <td>Unpopular</td>\n",
       "      <td>0</td>\n",
       "      <td>0</td>\n",
       "      <td>0.000000</td>\n",
       "      <td>3</td>\n",
       "      <td>'Lawrence Trivieri</td>\n",
       "      <td>Larry Trivieri, Jr.</td>\n",
       "      <td>The American Holistic Medical Association'</td>\n",
       "    </tr>\n",
       "    <tr>\n",
       "      <th>8988</th>\n",
       "      <td>The Undiscovered Paul Robeson , An Artist's Jo...</td>\n",
       "      <td>6.0</td>\n",
       "      <td>7/8</td>\n",
       "      <td>Rick's Review</td>\n",
       "      <td>I found The Undiscovered Paul Robeson is educa...</td>\n",
       "      <td>A biography of Paul Robeson, who overcame raci...</td>\n",
       "      <td>'Paul Robeson', 'Robeson, Jr. (Paul)'</td>\n",
       "      <td>'Biography &amp; Autobiography'</td>\n",
       "      <td>Popular</td>\n",
       "      <td>8</td>\n",
       "      <td>7</td>\n",
       "      <td>0.875000</td>\n",
       "      <td>2</td>\n",
       "      <td>'Paul Robeson</td>\n",
       "      <td>Robeson, Jr. (Paul)'</td>\n",
       "      <td>NaN</td>\n",
       "    </tr>\n",
       "  </tbody>\n",
       "</table>\n",
       "</div>"
      ],
      "text/plain": [
       "                                                  title  price  \\\n",
       "3172  Flash 8: Projects for Learning Animation and I...   23.2   \n",
       "3754  The American Holistic Medical Association Guid...    7.0   \n",
       "8988  The Undiscovered Paul Robeson , An Artist's Jo...    6.0   \n",
       "\n",
       "     review/helpfulness                    review/summary  \\\n",
       "3172              11/28         Good Content, Poor Layout   \n",
       "3754                0/0  Good overview of Holistic Health   \n",
       "8988                7/8                     Rick's Review   \n",
       "\n",
       "                                            review/text  \\\n",
       "3172  'Flash 8: Projects for Learning Animation and ...   \n",
       "3754  This book has a good overview of Holistic Heal...   \n",
       "8988  I found The Undiscovered Paul Robeson is educa...   \n",
       "\n",
       "                                            description  \\\n",
       "3172  Macromedia Flash is fast becoming the Web's mo...   \n",
       "3754  Offers information on such holistic medical pr...   \n",
       "8988  A biography of Paul Robeson, who overcame raci...   \n",
       "\n",
       "                                                authors  \\\n",
       "3172                'Rich Shupe', 'Robert Hoekman, Jr.'   \n",
       "3754  'Lawrence Trivieri', 'Larry Trivieri, Jr.', 'T...   \n",
       "8988              'Paul Robeson', 'Robeson, Jr. (Paul)'   \n",
       "\n",
       "                       categories popularity  total_reviews  helpful_reviews  \\\n",
       "3172                  'Computers'  Unpopular             28               11   \n",
       "3754           'Health & Fitness'  Unpopular              0                0   \n",
       "8988  'Biography & Autobiography'    Popular              8                7   \n",
       "\n",
       "      percentage_helpful  author_count            author_1  \\\n",
       "3172            0.392857             2         'Rich Shupe   \n",
       "3754            0.000000             3  'Lawrence Trivieri   \n",
       "8988            0.875000             2       'Paul Robeson   \n",
       "\n",
       "                  author_2                                    author_3  \n",
       "3172  Robert Hoekman, Jr.'                                         NaN  \n",
       "3754   Larry Trivieri, Jr.  The American Holistic Medical Association'  \n",
       "8988  Robeson, Jr. (Paul)'                                         NaN  "
      ]
     },
     "execution_count": 26,
     "metadata": {},
     "output_type": "execute_result"
    }
   ],
   "source": [
    "\n",
    "#list books where author_2 is \"Jr.'\n",
    "books[books['author_2'].str.contains(\"Jr\", na=False)]"
   ]
  },
  {
   "cell_type": "code",
   "execution_count": 27,
   "id": "68782b11",
   "metadata": {},
   "outputs": [],
   "source": [
    "books['author_2'].fillna('no_author_2', inplace=True)"
   ]
  },
  {
   "cell_type": "code",
   "execution_count": 28,
   "id": "5497242e",
   "metadata": {},
   "outputs": [
    {
     "data": {
      "text/plain": [
       "np.int64(0)"
      ]
     },
     "execution_count": 28,
     "metadata": {},
     "output_type": "execute_result"
    }
   ],
   "source": [
    "books['author_2'].isna().sum()"
   ]
  },
  {
   "cell_type": "code",
   "execution_count": 29,
   "id": "100ed032",
   "metadata": {},
   "outputs": [
    {
     "data": {
      "text/plain": [
       "author_3\n",
       "Amanda Vick Lethco'     10\n",
       "Ed McGuinness'           7\n",
       "David Wall'              6\n",
       "Mark C. Ebner'           6\n",
       "Clayton D. Block'        5\n",
       "                        ..\n",
       "Cheryl A. Pientka'       1\n",
       "John Hornecker'          1\n",
       "Maurice Sendak'          1\n",
       "J. Patrick Kociolek'     1\n",
       "Richard L. Shepherd'     1\n",
       "Name: count, Length: 222, dtype: int64"
      ]
     },
     "execution_count": 29,
     "metadata": {},
     "output_type": "execute_result"
    }
   ],
   "source": [
    "books['author_3'].value_counts()"
   ]
  },
  {
   "cell_type": "code",
   "execution_count": 30,
   "id": "ffc8d20d",
   "metadata": {},
   "outputs": [
    {
     "data": {
      "text/plain": [
       "np.int64(15178)"
      ]
     },
     "execution_count": 30,
     "metadata": {},
     "output_type": "execute_result"
    }
   ],
   "source": [
    "books['author_3'].isna().sum()"
   ]
  },
  {
   "cell_type": "code",
   "execution_count": 31,
   "id": "7b7d0663",
   "metadata": {},
   "outputs": [
    {
     "name": "stderr",
     "output_type": "stream",
     "text": [
      "/var/folders/1j/zxqksxbs0bg17c_9cj2hm8bh0000gn/T/ipykernel_80105/860416092.py:1: FutureWarning: A value is trying to be set on a copy of a DataFrame or Series through chained assignment using an inplace method.\n",
      "The behavior will change in pandas 3.0. This inplace method will never work because the intermediate object on which we are setting values always behaves as a copy.\n",
      "\n",
      "For example, when doing 'df[col].method(value, inplace=True)', try using 'df.method({col: value}, inplace=True)' or df[col] = df[col].method(value) instead, to perform the operation inplace on the original object.\n",
      "\n",
      "\n",
      "  books['author_3'].fillna('no_author_3', inplace=True)\n"
     ]
    }
   ],
   "source": [
    "books['author_3'].fillna('no_author_3', inplace=True)"
   ]
  },
  {
   "cell_type": "code",
   "execution_count": 32,
   "id": "c9254ae3",
   "metadata": {},
   "outputs": [
    {
     "data": {
      "text/plain": [
       "np.int64(0)"
      ]
     },
     "execution_count": 32,
     "metadata": {},
     "output_type": "execute_result"
    }
   ],
   "source": [
    "books['author_3'].isna().sum()"
   ]
  },
  {
   "cell_type": "code",
   "execution_count": 33,
   "id": "9f07bc29",
   "metadata": {},
   "outputs": [
    {
     "data": {
      "text/plain": [
       "title\n",
       "Eldest (Inheritance, Book 2)                                                                                                       90\n",
       "Hannibal                                                                                                                           85\n",
       "Jane Eyre (Large Print)                                                                                                            70\n",
       "A Tale of Two Cities - Literary Touchstone Edition                                                                                 55\n",
       "Jane Eyre (New Windmill)                                                                                                           51\n",
       "                                                                                                                                   ..\n",
       "The Exiles: Chantel (The Creoles, Book 1)                                                                                           1\n",
       "The Metaphor of God Incarnate                                                                                                       1\n",
       "They All Laughed... From Light Bulbs to Lasers: The Fascinating Stories Behind the Great Inventions That Have Changed Our Lives     1\n",
       "Power Tools: 33 Management Inventions You Can Use Today                                                                             1\n",
       "Tales from da Hood                                                                                                                  1\n",
       "Name: count, Length: 6906, dtype: int64"
      ]
     },
     "execution_count": 33,
     "metadata": {},
     "output_type": "execute_result"
    }
   ],
   "source": [
    "books['title'].value_counts()\n"
   ]
  },
  {
   "cell_type": "code",
   "execution_count": 34,
   "id": "3f63a0fe",
   "metadata": {},
   "outputs": [
    {
     "data": {
      "text/plain": [
       "authors\n",
       "'Thomas Harris'    85\n",
       "Name: count, dtype: int64"
      ]
     },
     "execution_count": 34,
     "metadata": {},
     "output_type": "execute_result"
    }
   ],
   "source": [
    "books[books['title'] == 'Hannibal']['authors'].value_counts()\n",
    "\n",
    "\n",
    "\n"
   ]
  },
  {
   "cell_type": "code",
   "execution_count": 35,
   "id": "94e3ea6f",
   "metadata": {},
   "outputs": [
    {
     "data": {
      "text/html": [
       "<div>\n",
       "<style scoped>\n",
       "    .dataframe tbody tr th:only-of-type {\n",
       "        vertical-align: middle;\n",
       "    }\n",
       "\n",
       "    .dataframe tbody tr th {\n",
       "        vertical-align: top;\n",
       "    }\n",
       "\n",
       "    .dataframe thead th {\n",
       "        text-align: right;\n",
       "    }\n",
       "</style>\n",
       "<table border=\"1\" class=\"dataframe\">\n",
       "  <thead>\n",
       "    <tr style=\"text-align: right;\">\n",
       "      <th></th>\n",
       "      <th>title</th>\n",
       "      <th>price</th>\n",
       "      <th>review/helpfulness</th>\n",
       "      <th>review/summary</th>\n",
       "      <th>review/text</th>\n",
       "      <th>description</th>\n",
       "      <th>authors</th>\n",
       "      <th>categories</th>\n",
       "      <th>popularity</th>\n",
       "      <th>total_reviews</th>\n",
       "      <th>helpful_reviews</th>\n",
       "      <th>percentage_helpful</th>\n",
       "      <th>author_count</th>\n",
       "      <th>author_1</th>\n",
       "      <th>author_2</th>\n",
       "      <th>author_3</th>\n",
       "    </tr>\n",
       "  </thead>\n",
       "  <tbody>\n",
       "    <tr>\n",
       "      <th>0</th>\n",
       "      <td>We Band of Angels: The Untold Story of America...</td>\n",
       "      <td>10.88</td>\n",
       "      <td>2/3</td>\n",
       "      <td>A Great Book about women in WWII</td>\n",
       "      <td>I have alway been a fan of fiction books set i...</td>\n",
       "      <td>In the fall of 1941, the Philippines was a gar...</td>\n",
       "      <td>'Elizabeth Norman'</td>\n",
       "      <td>'History'</td>\n",
       "      <td>Unpopular</td>\n",
       "      <td>3</td>\n",
       "      <td>2</td>\n",
       "      <td>0.666667</td>\n",
       "      <td>1</td>\n",
       "      <td>'Elizabeth Norman'</td>\n",
       "      <td>no_author_2</td>\n",
       "      <td>no_author_3</td>\n",
       "    </tr>\n",
       "    <tr>\n",
       "      <th>1</th>\n",
       "      <td>Prayer That Brings Revival: Interceding for Go...</td>\n",
       "      <td>9.35</td>\n",
       "      <td>0/0</td>\n",
       "      <td>Very helpful book for church prayer groups and...</td>\n",
       "      <td>Very helpful book to give you a better prayer ...</td>\n",
       "      <td>In Prayer That Brings Revival, best-selling au...</td>\n",
       "      <td>'Yong-gi Cho'</td>\n",
       "      <td>'Religion'</td>\n",
       "      <td>Unpopular</td>\n",
       "      <td>0</td>\n",
       "      <td>0</td>\n",
       "      <td>0.000000</td>\n",
       "      <td>1</td>\n",
       "      <td>'Yong-gi Cho'</td>\n",
       "      <td>no_author_2</td>\n",
       "      <td>no_author_3</td>\n",
       "    </tr>\n",
       "    <tr>\n",
       "      <th>2</th>\n",
       "      <td>The Mystical Journey from Jesus to Christ</td>\n",
       "      <td>24.95</td>\n",
       "      <td>17/19</td>\n",
       "      <td>Universal Spiritual Awakening Guide With Some ...</td>\n",
       "      <td>The message of this book is to find yourself a...</td>\n",
       "      <td>THE MYSTICAL JOURNEY FROM JESUS TO CHRIST Disc...</td>\n",
       "      <td>'Muata Ashby'</td>\n",
       "      <td>'Body, Mind &amp; Spirit'</td>\n",
       "      <td>Unpopular</td>\n",
       "      <td>19</td>\n",
       "      <td>17</td>\n",
       "      <td>0.894737</td>\n",
       "      <td>1</td>\n",
       "      <td>'Muata Ashby'</td>\n",
       "      <td>no_author_2</td>\n",
       "      <td>no_author_3</td>\n",
       "    </tr>\n",
       "    <tr>\n",
       "      <th>3</th>\n",
       "      <td>Death Row</td>\n",
       "      <td>7.99</td>\n",
       "      <td>0/1</td>\n",
       "      <td>Ben Kincaid tries to stop an execution.</td>\n",
       "      <td>The hero of William Bernhardt's Ben Kincaid no...</td>\n",
       "      <td>Upon receiving his execution date, one of the ...</td>\n",
       "      <td>'Lynden Harris'</td>\n",
       "      <td>'Social Science'</td>\n",
       "      <td>Unpopular</td>\n",
       "      <td>1</td>\n",
       "      <td>0</td>\n",
       "      <td>0.000000</td>\n",
       "      <td>1</td>\n",
       "      <td>'Lynden Harris'</td>\n",
       "      <td>no_author_2</td>\n",
       "      <td>no_author_3</td>\n",
       "    </tr>\n",
       "    <tr>\n",
       "      <th>4</th>\n",
       "      <td>Sound and Form in Modern Poetry: Second Editio...</td>\n",
       "      <td>32.50</td>\n",
       "      <td>18/20</td>\n",
       "      <td>good introduction to modern prosody</td>\n",
       "      <td>There's a lot in this book which the reader wi...</td>\n",
       "      <td>An updated and expanded version of a classic a...</td>\n",
       "      <td>'Harvey Seymour Gross', 'Robert McDowell'</td>\n",
       "      <td>'Poetry'</td>\n",
       "      <td>Unpopular</td>\n",
       "      <td>20</td>\n",
       "      <td>18</td>\n",
       "      <td>0.900000</td>\n",
       "      <td>2</td>\n",
       "      <td>'Harvey Seymour Gross</td>\n",
       "      <td>Robert McDowell'</td>\n",
       "      <td>no_author_3</td>\n",
       "    </tr>\n",
       "    <tr>\n",
       "      <th>...</th>\n",
       "      <td>...</td>\n",
       "      <td>...</td>\n",
       "      <td>...</td>\n",
       "      <td>...</td>\n",
       "      <td>...</td>\n",
       "      <td>...</td>\n",
       "      <td>...</td>\n",
       "      <td>...</td>\n",
       "      <td>...</td>\n",
       "      <td>...</td>\n",
       "      <td>...</td>\n",
       "      <td>...</td>\n",
       "      <td>...</td>\n",
       "      <td>...</td>\n",
       "      <td>...</td>\n",
       "      <td>...</td>\n",
       "    </tr>\n",
       "    <tr>\n",
       "      <th>15713</th>\n",
       "      <td>Incidents in the Life of a Slave Girl, by Harr...</td>\n",
       "      <td>31.63</td>\n",
       "      <td>5/5</td>\n",
       "      <td>Another of the most important books you'll eve...</td>\n",
       "      <td>Jacobs was a slave-- and endured unbearable ha...</td>\n",
       "      <td>'The degradations, the wrongs, the vices, that...</td>\n",
       "      <td>'Harriet Jacobs'</td>\n",
       "      <td>'Biography &amp; Autobiography'</td>\n",
       "      <td>Popular</td>\n",
       "      <td>5</td>\n",
       "      <td>5</td>\n",
       "      <td>1.000000</td>\n",
       "      <td>1</td>\n",
       "      <td>'Harriet Jacobs'</td>\n",
       "      <td>no_author_2</td>\n",
       "      <td>no_author_3</td>\n",
       "    </tr>\n",
       "    <tr>\n",
       "      <th>15714</th>\n",
       "      <td>Attack of the Deranged Mutant Killer Monster S...</td>\n",
       "      <td>7.64</td>\n",
       "      <td>0/0</td>\n",
       "      <td>Great for Calvin lovers</td>\n",
       "      <td>Bought as a Christmas gift, great book for kin...</td>\n",
       "      <td>Online: gocomics.com/calvinandhobbes/</td>\n",
       "      <td>'Bill Watterson'</td>\n",
       "      <td>'Comics &amp; Graphic Novels'</td>\n",
       "      <td>Unpopular</td>\n",
       "      <td>0</td>\n",
       "      <td>0</td>\n",
       "      <td>0.000000</td>\n",
       "      <td>1</td>\n",
       "      <td>'Bill Watterson'</td>\n",
       "      <td>no_author_2</td>\n",
       "      <td>no_author_3</td>\n",
       "    </tr>\n",
       "    <tr>\n",
       "      <th>15715</th>\n",
       "      <td>Book Savvy</td>\n",
       "      <td>33.99</td>\n",
       "      <td>2/2</td>\n",
       "      <td>literary pleasure</td>\n",
       "      <td>I thoroughly enjoyed Ms. Katona's Book Savvy. ...</td>\n",
       "      <td>Recounts the adventures of Mibs Beaumont, whos...</td>\n",
       "      <td>'Ingrid Law'</td>\n",
       "      <td>'Juvenile Fiction'</td>\n",
       "      <td>Popular</td>\n",
       "      <td>2</td>\n",
       "      <td>2</td>\n",
       "      <td>1.000000</td>\n",
       "      <td>1</td>\n",
       "      <td>'Ingrid Law'</td>\n",
       "      <td>no_author_2</td>\n",
       "      <td>no_author_3</td>\n",
       "    </tr>\n",
       "    <tr>\n",
       "      <th>15717</th>\n",
       "      <td>The Dharma Bums</td>\n",
       "      <td>39.95</td>\n",
       "      <td>3/3</td>\n",
       "      <td>The Sad, Beautiful, Joyful World of Jack Kerouac</td>\n",
       "      <td>Jack Kerouac was intensely alive and his fiery...</td>\n",
       "      <td>THE DHARMA BUMS appeared just one year after t...</td>\n",
       "      <td>'Jack Kerouac'</td>\n",
       "      <td>'Fiction'</td>\n",
       "      <td>Popular</td>\n",
       "      <td>3</td>\n",
       "      <td>3</td>\n",
       "      <td>1.000000</td>\n",
       "      <td>1</td>\n",
       "      <td>'Jack Kerouac'</td>\n",
       "      <td>no_author_2</td>\n",
       "      <td>no_author_3</td>\n",
       "    </tr>\n",
       "    <tr>\n",
       "      <th>15718</th>\n",
       "      <td>Palomino</td>\n",
       "      <td>7.99</td>\n",
       "      <td>0/0</td>\n",
       "      <td>\"Palomino\"</td>\n",
       "      <td>This is an older novel of Danielle Steele's, a...</td>\n",
       "      <td>Samantha Taylor is shattered when her husband ...</td>\n",
       "      <td>'Danielle Steel'</td>\n",
       "      <td>'Fiction'</td>\n",
       "      <td>Popular</td>\n",
       "      <td>0</td>\n",
       "      <td>0</td>\n",
       "      <td>0.000000</td>\n",
       "      <td>1</td>\n",
       "      <td>'Danielle Steel'</td>\n",
       "      <td>no_author_2</td>\n",
       "      <td>no_author_3</td>\n",
       "    </tr>\n",
       "  </tbody>\n",
       "</table>\n",
       "<p>15583 rows × 16 columns</p>\n",
       "</div>"
      ],
      "text/plain": [
       "                                                   title  price  \\\n",
       "0      We Band of Angels: The Untold Story of America...  10.88   \n",
       "1      Prayer That Brings Revival: Interceding for Go...   9.35   \n",
       "2              The Mystical Journey from Jesus to Christ  24.95   \n",
       "3                                              Death Row   7.99   \n",
       "4      Sound and Form in Modern Poetry: Second Editio...  32.50   \n",
       "...                                                  ...    ...   \n",
       "15713  Incidents in the Life of a Slave Girl, by Harr...  31.63   \n",
       "15714  Attack of the Deranged Mutant Killer Monster S...   7.64   \n",
       "15715                                         Book Savvy  33.99   \n",
       "15717                                    The Dharma Bums  39.95   \n",
       "15718                                           Palomino   7.99   \n",
       "\n",
       "      review/helpfulness                                     review/summary  \\\n",
       "0                    2/3                   A Great Book about women in WWII   \n",
       "1                    0/0  Very helpful book for church prayer groups and...   \n",
       "2                  17/19  Universal Spiritual Awakening Guide With Some ...   \n",
       "3                    0/1            Ben Kincaid tries to stop an execution.   \n",
       "4                  18/20                good introduction to modern prosody   \n",
       "...                  ...                                                ...   \n",
       "15713                5/5  Another of the most important books you'll eve...   \n",
       "15714                0/0                            Great for Calvin lovers   \n",
       "15715                2/2                                  literary pleasure   \n",
       "15717                3/3   The Sad, Beautiful, Joyful World of Jack Kerouac   \n",
       "15718                0/0                                         \"Palomino\"   \n",
       "\n",
       "                                             review/text  \\\n",
       "0      I have alway been a fan of fiction books set i...   \n",
       "1      Very helpful book to give you a better prayer ...   \n",
       "2      The message of this book is to find yourself a...   \n",
       "3      The hero of William Bernhardt's Ben Kincaid no...   \n",
       "4      There's a lot in this book which the reader wi...   \n",
       "...                                                  ...   \n",
       "15713  Jacobs was a slave-- and endured unbearable ha...   \n",
       "15714  Bought as a Christmas gift, great book for kin...   \n",
       "15715  I thoroughly enjoyed Ms. Katona's Book Savvy. ...   \n",
       "15717  Jack Kerouac was intensely alive and his fiery...   \n",
       "15718  This is an older novel of Danielle Steele's, a...   \n",
       "\n",
       "                                             description  \\\n",
       "0      In the fall of 1941, the Philippines was a gar...   \n",
       "1      In Prayer That Brings Revival, best-selling au...   \n",
       "2      THE MYSTICAL JOURNEY FROM JESUS TO CHRIST Disc...   \n",
       "3      Upon receiving his execution date, one of the ...   \n",
       "4      An updated and expanded version of a classic a...   \n",
       "...                                                  ...   \n",
       "15713  'The degradations, the wrongs, the vices, that...   \n",
       "15714              Online: gocomics.com/calvinandhobbes/   \n",
       "15715  Recounts the adventures of Mibs Beaumont, whos...   \n",
       "15717  THE DHARMA BUMS appeared just one year after t...   \n",
       "15718  Samantha Taylor is shattered when her husband ...   \n",
       "\n",
       "                                         authors                   categories  \\\n",
       "0                             'Elizabeth Norman'                    'History'   \n",
       "1                                  'Yong-gi Cho'                   'Religion'   \n",
       "2                                  'Muata Ashby'        'Body, Mind & Spirit'   \n",
       "3                                'Lynden Harris'             'Social Science'   \n",
       "4      'Harvey Seymour Gross', 'Robert McDowell'                     'Poetry'   \n",
       "...                                          ...                          ...   \n",
       "15713                           'Harriet Jacobs'  'Biography & Autobiography'   \n",
       "15714                           'Bill Watterson'    'Comics & Graphic Novels'   \n",
       "15715                               'Ingrid Law'           'Juvenile Fiction'   \n",
       "15717                             'Jack Kerouac'                    'Fiction'   \n",
       "15718                           'Danielle Steel'                    'Fiction'   \n",
       "\n",
       "      popularity  total_reviews  helpful_reviews  percentage_helpful  \\\n",
       "0      Unpopular              3                2            0.666667   \n",
       "1      Unpopular              0                0            0.000000   \n",
       "2      Unpopular             19               17            0.894737   \n",
       "3      Unpopular              1                0            0.000000   \n",
       "4      Unpopular             20               18            0.900000   \n",
       "...          ...            ...              ...                 ...   \n",
       "15713    Popular              5                5            1.000000   \n",
       "15714  Unpopular              0                0            0.000000   \n",
       "15715    Popular              2                2            1.000000   \n",
       "15717    Popular              3                3            1.000000   \n",
       "15718    Popular              0                0            0.000000   \n",
       "\n",
       "       author_count               author_1          author_2     author_3  \n",
       "0                 1     'Elizabeth Norman'       no_author_2  no_author_3  \n",
       "1                 1          'Yong-gi Cho'       no_author_2  no_author_3  \n",
       "2                 1          'Muata Ashby'       no_author_2  no_author_3  \n",
       "3                 1        'Lynden Harris'       no_author_2  no_author_3  \n",
       "4                 2  'Harvey Seymour Gross  Robert McDowell'  no_author_3  \n",
       "...             ...                    ...               ...          ...  \n",
       "15713             1       'Harriet Jacobs'       no_author_2  no_author_3  \n",
       "15714             1       'Bill Watterson'       no_author_2  no_author_3  \n",
       "15715             1           'Ingrid Law'       no_author_2  no_author_3  \n",
       "15717             1         'Jack Kerouac'       no_author_2  no_author_3  \n",
       "15718             1       'Danielle Steel'       no_author_2  no_author_3  \n",
       "\n",
       "[15583 rows x 16 columns]"
      ]
     },
     "execution_count": 35,
     "metadata": {},
     "output_type": "execute_result"
    }
   ],
   "source": [
    "books"
   ]
  },
  {
   "cell_type": "code",
   "execution_count": 36,
   "id": "bd433f26",
   "metadata": {},
   "outputs": [
    {
     "data": {
      "text/html": [
       "<div>\n",
       "<style scoped>\n",
       "    .dataframe tbody tr th:only-of-type {\n",
       "        vertical-align: middle;\n",
       "    }\n",
       "\n",
       "    .dataframe tbody tr th {\n",
       "        vertical-align: top;\n",
       "    }\n",
       "\n",
       "    .dataframe thead th {\n",
       "        text-align: right;\n",
       "    }\n",
       "</style>\n",
       "<table border=\"1\" class=\"dataframe\">\n",
       "  <thead>\n",
       "    <tr style=\"text-align: right;\">\n",
       "      <th></th>\n",
       "      <th>title</th>\n",
       "      <th>price</th>\n",
       "      <th>review/helpfulness</th>\n",
       "      <th>review/summary</th>\n",
       "      <th>review/text</th>\n",
       "      <th>description</th>\n",
       "      <th>authors</th>\n",
       "      <th>categories</th>\n",
       "      <th>popularity</th>\n",
       "      <th>total_reviews</th>\n",
       "      <th>helpful_reviews</th>\n",
       "      <th>percentage_helpful</th>\n",
       "      <th>author_count</th>\n",
       "      <th>author_1</th>\n",
       "      <th>author_2</th>\n",
       "      <th>author_3</th>\n",
       "    </tr>\n",
       "  </thead>\n",
       "  <tbody>\n",
       "    <tr>\n",
       "      <th>0</th>\n",
       "      <td>We Band of Angels: The Untold Story of America...</td>\n",
       "      <td>10.88</td>\n",
       "      <td>2/3</td>\n",
       "      <td>A Great Book about women in WWII</td>\n",
       "      <td>I have alway been a fan of fiction books set i...</td>\n",
       "      <td>In the fall of 1941, the Philippines was a gar...</td>\n",
       "      <td>'Elizabeth Norman'</td>\n",
       "      <td>'History'</td>\n",
       "      <td>Unpopular</td>\n",
       "      <td>3</td>\n",
       "      <td>2</td>\n",
       "      <td>0.666667</td>\n",
       "      <td>1</td>\n",
       "      <td>Elizabeth Norman</td>\n",
       "      <td>no_author_2</td>\n",
       "      <td>no_author_3</td>\n",
       "    </tr>\n",
       "    <tr>\n",
       "      <th>1</th>\n",
       "      <td>Prayer That Brings Revival: Interceding for Go...</td>\n",
       "      <td>9.35</td>\n",
       "      <td>0/0</td>\n",
       "      <td>Very helpful book for church prayer groups and...</td>\n",
       "      <td>Very helpful book to give you a better prayer ...</td>\n",
       "      <td>In Prayer That Brings Revival, best-selling au...</td>\n",
       "      <td>'Yong-gi Cho'</td>\n",
       "      <td>'Religion'</td>\n",
       "      <td>Unpopular</td>\n",
       "      <td>0</td>\n",
       "      <td>0</td>\n",
       "      <td>0.000000</td>\n",
       "      <td>1</td>\n",
       "      <td>Yong-gi Cho</td>\n",
       "      <td>no_author_2</td>\n",
       "      <td>no_author_3</td>\n",
       "    </tr>\n",
       "    <tr>\n",
       "      <th>2</th>\n",
       "      <td>The Mystical Journey from Jesus to Christ</td>\n",
       "      <td>24.95</td>\n",
       "      <td>17/19</td>\n",
       "      <td>Universal Spiritual Awakening Guide With Some ...</td>\n",
       "      <td>The message of this book is to find yourself a...</td>\n",
       "      <td>THE MYSTICAL JOURNEY FROM JESUS TO CHRIST Disc...</td>\n",
       "      <td>'Muata Ashby'</td>\n",
       "      <td>'Body, Mind &amp; Spirit'</td>\n",
       "      <td>Unpopular</td>\n",
       "      <td>19</td>\n",
       "      <td>17</td>\n",
       "      <td>0.894737</td>\n",
       "      <td>1</td>\n",
       "      <td>Muata Ashby</td>\n",
       "      <td>no_author_2</td>\n",
       "      <td>no_author_3</td>\n",
       "    </tr>\n",
       "    <tr>\n",
       "      <th>3</th>\n",
       "      <td>Death Row</td>\n",
       "      <td>7.99</td>\n",
       "      <td>0/1</td>\n",
       "      <td>Ben Kincaid tries to stop an execution.</td>\n",
       "      <td>The hero of William Bernhardt's Ben Kincaid no...</td>\n",
       "      <td>Upon receiving his execution date, one of the ...</td>\n",
       "      <td>'Lynden Harris'</td>\n",
       "      <td>'Social Science'</td>\n",
       "      <td>Unpopular</td>\n",
       "      <td>1</td>\n",
       "      <td>0</td>\n",
       "      <td>0.000000</td>\n",
       "      <td>1</td>\n",
       "      <td>Lynden Harris</td>\n",
       "      <td>no_author_2</td>\n",
       "      <td>no_author_3</td>\n",
       "    </tr>\n",
       "    <tr>\n",
       "      <th>4</th>\n",
       "      <td>Sound and Form in Modern Poetry: Second Editio...</td>\n",
       "      <td>32.50</td>\n",
       "      <td>18/20</td>\n",
       "      <td>good introduction to modern prosody</td>\n",
       "      <td>There's a lot in this book which the reader wi...</td>\n",
       "      <td>An updated and expanded version of a classic a...</td>\n",
       "      <td>'Harvey Seymour Gross', 'Robert McDowell'</td>\n",
       "      <td>'Poetry'</td>\n",
       "      <td>Unpopular</td>\n",
       "      <td>20</td>\n",
       "      <td>18</td>\n",
       "      <td>0.900000</td>\n",
       "      <td>2</td>\n",
       "      <td>Harvey Seymour Gross</td>\n",
       "      <td>Robert McDowell</td>\n",
       "      <td>no_author_3</td>\n",
       "    </tr>\n",
       "  </tbody>\n",
       "</table>\n",
       "</div>"
      ],
      "text/plain": [
       "                                               title  price  \\\n",
       "0  We Band of Angels: The Untold Story of America...  10.88   \n",
       "1  Prayer That Brings Revival: Interceding for Go...   9.35   \n",
       "2          The Mystical Journey from Jesus to Christ  24.95   \n",
       "3                                          Death Row   7.99   \n",
       "4  Sound and Form in Modern Poetry: Second Editio...  32.50   \n",
       "\n",
       "  review/helpfulness                                     review/summary  \\\n",
       "0                2/3                   A Great Book about women in WWII   \n",
       "1                0/0  Very helpful book for church prayer groups and...   \n",
       "2              17/19  Universal Spiritual Awakening Guide With Some ...   \n",
       "3                0/1            Ben Kincaid tries to stop an execution.   \n",
       "4              18/20                good introduction to modern prosody   \n",
       "\n",
       "                                         review/text  \\\n",
       "0  I have alway been a fan of fiction books set i...   \n",
       "1  Very helpful book to give you a better prayer ...   \n",
       "2  The message of this book is to find yourself a...   \n",
       "3  The hero of William Bernhardt's Ben Kincaid no...   \n",
       "4  There's a lot in this book which the reader wi...   \n",
       "\n",
       "                                         description  \\\n",
       "0  In the fall of 1941, the Philippines was a gar...   \n",
       "1  In Prayer That Brings Revival, best-selling au...   \n",
       "2  THE MYSTICAL JOURNEY FROM JESUS TO CHRIST Disc...   \n",
       "3  Upon receiving his execution date, one of the ...   \n",
       "4  An updated and expanded version of a classic a...   \n",
       "\n",
       "                                     authors             categories  \\\n",
       "0                         'Elizabeth Norman'              'History'   \n",
       "1                              'Yong-gi Cho'             'Religion'   \n",
       "2                              'Muata Ashby'  'Body, Mind & Spirit'   \n",
       "3                            'Lynden Harris'       'Social Science'   \n",
       "4  'Harvey Seymour Gross', 'Robert McDowell'               'Poetry'   \n",
       "\n",
       "  popularity  total_reviews  helpful_reviews  percentage_helpful  \\\n",
       "0  Unpopular              3                2            0.666667   \n",
       "1  Unpopular              0                0            0.000000   \n",
       "2  Unpopular             19               17            0.894737   \n",
       "3  Unpopular              1                0            0.000000   \n",
       "4  Unpopular             20               18            0.900000   \n",
       "\n",
       "   author_count              author_1         author_2     author_3  \n",
       "0             1      Elizabeth Norman      no_author_2  no_author_3  \n",
       "1             1           Yong-gi Cho      no_author_2  no_author_3  \n",
       "2             1           Muata Ashby      no_author_2  no_author_3  \n",
       "3             1         Lynden Harris      no_author_2  no_author_3  \n",
       "4             2  Harvey Seymour Gross  Robert McDowell  no_author_3  "
      ]
     },
     "execution_count": 36,
     "metadata": {},
     "output_type": "execute_result"
    }
   ],
   "source": [
    "#remove ' in author_1, author_2, author_3\n",
    "books['author_1'] = books['author_1'].str.replace(\"'\", \"\")\n",
    "books['author_2'] = books['author_2'].str.replace(\"'\", \"\")\n",
    "books['author_3'] = books['author_3'].str.replace(\"'\", \"\")\n",
    "\n",
    "books.head()\n"
   ]
  },
  {
   "cell_type": "markdown",
   "id": "adc8e493",
   "metadata": {},
   "source": [
    "# text analysis"
   ]
  },
  {
   "cell_type": "code",
   "execution_count": 37,
   "id": "c387a897",
   "metadata": {},
   "outputs": [
    {
     "name": "stdout",
     "output_type": "stream",
     "text": [
      "Requirement already satisfied: torch in /Users/sol/Code/datascience/good-books/books/lib/python3.13/site-packages (2.8.0)\n",
      "Requirement already satisfied: torchvision in /Users/sol/Code/datascience/good-books/books/lib/python3.13/site-packages (0.23.0)\n",
      "Requirement already satisfied: torchaudio in /Users/sol/Code/datascience/good-books/books/lib/python3.13/site-packages (2.8.0)\n",
      "Requirement already satisfied: filelock in /Users/sol/Code/datascience/good-books/books/lib/python3.13/site-packages (from torch) (3.13.1)\n",
      "Requirement already satisfied: typing-extensions>=4.10.0 in /Users/sol/Code/datascience/good-books/books/lib/python3.13/site-packages (from torch) (4.12.2)\n",
      "Requirement already satisfied: setuptools in /Users/sol/Code/datascience/good-books/books/lib/python3.13/site-packages (from torch) (70.2.0)\n",
      "Requirement already satisfied: sympy>=1.13.3 in /Users/sol/Code/datascience/good-books/books/lib/python3.13/site-packages (from torch) (1.13.3)\n",
      "Requirement already satisfied: networkx in /Users/sol/Code/datascience/good-books/books/lib/python3.13/site-packages (from torch) (3.3)\n",
      "Requirement already satisfied: jinja2 in /Users/sol/Code/datascience/good-books/books/lib/python3.13/site-packages (from torch) (3.1.4)\n",
      "Requirement already satisfied: fsspec in /Users/sol/Code/datascience/good-books/books/lib/python3.13/site-packages (from torch) (2024.6.1)\n",
      "Requirement already satisfied: numpy in /Users/sol/Code/datascience/good-books/books/lib/python3.13/site-packages (from torchvision) (2.1.2)\n",
      "Requirement already satisfied: pillow!=8.3.*,>=5.3.0 in /Users/sol/Code/datascience/good-books/books/lib/python3.13/site-packages (from torchvision) (11.0.0)\n",
      "Requirement already satisfied: mpmath<1.4,>=1.1.0 in /Users/sol/Code/datascience/good-books/books/lib/python3.13/site-packages (from sympy>=1.13.3->torch) (1.3.0)\n",
      "Requirement already satisfied: MarkupSafe>=2.0 in /Users/sol/Code/datascience/good-books/books/lib/python3.13/site-packages (from jinja2->torch) (2.1.5)\n"
     ]
    }
   ],
   "source": [
    "#!pip install transformers\n",
    "#!pip install tensorflow\n",
    "!pip install torch torchvision torchaudio\n"
   ]
  },
  {
   "cell_type": "code",
   "execution_count": 38,
   "id": "4a0f17f4",
   "metadata": {},
   "outputs": [
    {
     "data": {
      "text/html": [
       "<div>\n",
       "<style scoped>\n",
       "    .dataframe tbody tr th:only-of-type {\n",
       "        vertical-align: middle;\n",
       "    }\n",
       "\n",
       "    .dataframe tbody tr th {\n",
       "        vertical-align: top;\n",
       "    }\n",
       "\n",
       "    .dataframe thead th {\n",
       "        text-align: right;\n",
       "    }\n",
       "</style>\n",
       "<table border=\"1\" class=\"dataframe\">\n",
       "  <thead>\n",
       "    <tr style=\"text-align: right;\">\n",
       "      <th></th>\n",
       "      <th>title</th>\n",
       "      <th>price</th>\n",
       "      <th>review/helpfulness</th>\n",
       "      <th>review/summary</th>\n",
       "      <th>review/text</th>\n",
       "      <th>description</th>\n",
       "      <th>authors</th>\n",
       "      <th>categories</th>\n",
       "      <th>popularity</th>\n",
       "      <th>total_reviews</th>\n",
       "      <th>helpful_reviews</th>\n",
       "      <th>percentage_helpful</th>\n",
       "      <th>author_count</th>\n",
       "      <th>author_1</th>\n",
       "      <th>author_2</th>\n",
       "      <th>author_3</th>\n",
       "    </tr>\n",
       "  </thead>\n",
       "  <tbody>\n",
       "  </tbody>\n",
       "</table>\n",
       "</div>"
      ],
      "text/plain": [
       "Empty DataFrame\n",
       "Columns: [title, price, review/helpfulness, review/summary, review/text, description, authors, categories, popularity, total_reviews, helpful_reviews, percentage_helpful, author_count, author_1, author_2, author_3]\n",
       "Index: []"
      ]
     },
     "execution_count": 38,
     "metadata": {},
     "output_type": "execute_result"
    }
   ],
   "source": [
    "books[books['review/summary'].isna()]\n",
    "\n",
    "#convert review/summary to string\n",
    "books['review/summary'] = books['review/summary'].astype(str)\n",
    "\n",
    "books[books['review/summary'].isna()]\n",
    "\n"
   ]
  },
  {
   "cell_type": "code",
   "execution_count": 39,
   "id": "8167fd4a",
   "metadata": {},
   "outputs": [
    {
     "name": "stderr",
     "output_type": "stream",
     "text": [
      "No model was supplied, defaulted to distilbert/distilbert-base-uncased-finetuned-sst-2-english and revision 714eb0f (https://huggingface.co/distilbert/distilbert-base-uncased-finetuned-sst-2-english).\n",
      "Using a pipeline without specifying a model name and revision in production is not recommended.\n",
      "Device set to use mps:0\n"
     ]
    },
    {
     "name": "stdout",
     "output_type": "stream",
     "text": [
      "[{'label': 'POSITIVE', 'score': 0.9997510313987732}]\n"
     ]
    }
   ],
   "source": [
    "from transformers import pipeline\n",
    "\n",
    "# This will now default to PyTorch\n",
    "classifier = pipeline(\"sentiment-analysis\", framework=\"pt\")\n",
    "\n",
    "result = classifier(\"The movie was absolutely fantastic!\")\n",
    "print(result)\n"
   ]
  },
  {
   "cell_type": "code",
   "execution_count": 40,
   "id": "d62169d9",
   "metadata": {},
   "outputs": [
    {
     "name": "stdout",
     "output_type": "stream",
     "text": [
      "True\n"
     ]
    }
   ],
   "source": [
    "import torch\n",
    "print(torch.backends.mps.is_available())  # shou"
   ]
  },
  {
   "cell_type": "code",
   "execution_count": 41,
   "id": "e0274a20",
   "metadata": {},
   "outputs": [
    {
     "name": "stderr",
     "output_type": "stream",
     "text": [
      "No model was supplied, defaulted to distilbert/distilbert-base-uncased-finetuned-sst-2-english and revision 714eb0f (https://huggingface.co/distilbert/distilbert-base-uncased-finetuned-sst-2-english).\n",
      "Using a pipeline without specifying a model name and revision in production is not recommended.\n",
      "Device set to use mps:0\n"
     ]
    },
    {
     "ename": "NameError",
     "evalue": "name 'list_of_reviews' is not defined",
     "output_type": "error",
     "traceback": [
      "\u001b[31m---------------------------------------------------------------------------\u001b[39m",
      "\u001b[31mNameError\u001b[39m                                 Traceback (most recent call last)",
      "\u001b[36mCell\u001b[39m\u001b[36m \u001b[39m\u001b[32mIn[41]\u001b[39m\u001b[32m, line 3\u001b[39m\n\u001b[32m      1\u001b[39m classifier = pipeline(\u001b[33m\"\u001b[39m\u001b[33msentiment-analysis\u001b[39m\u001b[33m\"\u001b[39m, framework=\u001b[33m\"\u001b[39m\u001b[33mpt\u001b[39m\u001b[33m\"\u001b[39m, device=\u001b[32m0\u001b[39m)  \u001b[38;5;66;03m# use GPU if available\u001b[39;00m\n\u001b[32m----> \u001b[39m\u001b[32m3\u001b[39m results = classifier(\u001b[43mlist_of_reviews\u001b[49m, batch_size=\u001b[32m32\u001b[39m)\n",
      "\u001b[31mNameError\u001b[39m: name 'list_of_reviews' is not defined"
     ]
    }
   ],
   "source": [
    "classifier = pipeline(\"sentiment-analysis\", framework=\"pt\", device=0)  # use GPU if available\n",
    "\n",
    "results = classifier(list_of_reviews, batch_size=32)"
   ]
  },
  {
   "cell_type": "code",
   "execution_count": null,
   "id": "42bf629c",
   "metadata": {},
   "outputs": [
    {
     "name": "stderr",
     "output_type": "stream",
     "text": [
      "No model was supplied, defaulted to distilbert/distilbert-base-uncased-finetuned-sst-2-english and revision 714eb0f (https://huggingface.co/distilbert/distilbert-base-uncased-finetuned-sst-2-english).\n",
      "Using a pipeline without specifying a model name and revision in production is not recommended.\n",
      "Device set to use mps:0\n"
     ]
    }
   ],
   "source": [
    "import pandas as pd\n",
    "from transformers import pipeline\n",
    "\n",
    "# Create pipeline (device=0 = GPU/MPS, device=-1 = CPU)\n",
    "classifier = pipeline(\"sentiment-analysis\", \n",
    "                      framework=\"pt\", \n",
    "                      device=0,   \n",
    "                      truncation=True,     # cut long texts to 512 tokens\n",
    "                      padding=True         # pad shorter texts for batching\n",
    "                      )\n",
    "\n",
    "# Convert reviews to list\n",
    "reviews = books[\"review/text\"].tolist()\n",
    "\n",
    "# Run batched inference\n",
    "results = classifier(reviews, batch_size=32)\n",
    "\n",
    "# Convert results back into DataFrame columns\n",
    "books[\"sentiment_text\"] = [r[\"label\"] for r in results]\n",
    "books[\"score_text\"] = [r[\"score\"] for r in results]"
   ]
  },
  {
   "cell_type": "code",
   "execution_count": null,
   "id": "99418e38",
   "metadata": {},
   "outputs": [
    {
     "name": "stderr",
     "output_type": "stream",
     "text": [
      "No model was supplied, defaulted to distilbert/distilbert-base-uncased-finetuned-sst-2-english and revision 714eb0f (https://huggingface.co/distilbert/distilbert-base-uncased-finetuned-sst-2-english).\n",
      "Using a pipeline without specifying a model name and revision in production is not recommended.\n",
      "Device set to use mps:0\n"
     ]
    }
   ],
   "source": [
    "# Sentiment pipeline (PyTorch)\n",
    "classifier = pipeline(\"sentiment-analysis\", framework=\"pt\")\n",
    "\n",
    "books['sentiment'] = books['review/summary'].apply(lambda x: classifier(x)[0]['label'])"
   ]
  },
  {
   "cell_type": "code",
   "execution_count": null,
   "id": "610ef5f6",
   "metadata": {},
   "outputs": [
    {
     "data": {
      "text/html": [
       "<div>\n",
       "<style scoped>\n",
       "    .dataframe tbody tr th:only-of-type {\n",
       "        vertical-align: middle;\n",
       "    }\n",
       "\n",
       "    .dataframe tbody tr th {\n",
       "        vertical-align: top;\n",
       "    }\n",
       "\n",
       "    .dataframe thead th {\n",
       "        text-align: right;\n",
       "    }\n",
       "</style>\n",
       "<table border=\"1\" class=\"dataframe\">\n",
       "  <thead>\n",
       "    <tr style=\"text-align: right;\">\n",
       "      <th></th>\n",
       "      <th>title</th>\n",
       "      <th>price</th>\n",
       "      <th>review/helpfulness</th>\n",
       "      <th>review/summary</th>\n",
       "      <th>review/text</th>\n",
       "      <th>description</th>\n",
       "      <th>authors</th>\n",
       "      <th>categories</th>\n",
       "      <th>popularity</th>\n",
       "      <th>total_reviews</th>\n",
       "      <th>helpful_reviews</th>\n",
       "      <th>percentage_helpful</th>\n",
       "      <th>author_count</th>\n",
       "      <th>author_1</th>\n",
       "      <th>author_2</th>\n",
       "      <th>author_3</th>\n",
       "      <th>sentiment</th>\n",
       "    </tr>\n",
       "  </thead>\n",
       "  <tbody>\n",
       "    <tr>\n",
       "      <th>0</th>\n",
       "      <td>We Band of Angels: The Untold Story of America...</td>\n",
       "      <td>10.88</td>\n",
       "      <td>2/3</td>\n",
       "      <td>A Great Book about women in WWII</td>\n",
       "      <td>I have alway been a fan of fiction books set i...</td>\n",
       "      <td>In the fall of 1941, the Philippines was a gar...</td>\n",
       "      <td>'Elizabeth Norman'</td>\n",
       "      <td>'History'</td>\n",
       "      <td>Unpopular</td>\n",
       "      <td>3</td>\n",
       "      <td>2</td>\n",
       "      <td>0.666667</td>\n",
       "      <td>1</td>\n",
       "      <td>Elizabeth Norman</td>\n",
       "      <td>no_author_2</td>\n",
       "      <td>no_author_3</td>\n",
       "      <td>POSITIVE</td>\n",
       "    </tr>\n",
       "    <tr>\n",
       "      <th>1</th>\n",
       "      <td>Prayer That Brings Revival: Interceding for Go...</td>\n",
       "      <td>9.35</td>\n",
       "      <td>0/0</td>\n",
       "      <td>Very helpful book for church prayer groups and...</td>\n",
       "      <td>Very helpful book to give you a better prayer ...</td>\n",
       "      <td>In Prayer That Brings Revival, best-selling au...</td>\n",
       "      <td>'Yong-gi Cho'</td>\n",
       "      <td>'Religion'</td>\n",
       "      <td>Unpopular</td>\n",
       "      <td>0</td>\n",
       "      <td>0</td>\n",
       "      <td>0.000000</td>\n",
       "      <td>1</td>\n",
       "      <td>Yong-gi Cho</td>\n",
       "      <td>no_author_2</td>\n",
       "      <td>no_author_3</td>\n",
       "      <td>POSITIVE</td>\n",
       "    </tr>\n",
       "    <tr>\n",
       "      <th>2</th>\n",
       "      <td>The Mystical Journey from Jesus to Christ</td>\n",
       "      <td>24.95</td>\n",
       "      <td>17/19</td>\n",
       "      <td>Universal Spiritual Awakening Guide With Some ...</td>\n",
       "      <td>The message of this book is to find yourself a...</td>\n",
       "      <td>THE MYSTICAL JOURNEY FROM JESUS TO CHRIST Disc...</td>\n",
       "      <td>'Muata Ashby'</td>\n",
       "      <td>'Body, Mind &amp; Spirit'</td>\n",
       "      <td>Unpopular</td>\n",
       "      <td>19</td>\n",
       "      <td>17</td>\n",
       "      <td>0.894737</td>\n",
       "      <td>1</td>\n",
       "      <td>Muata Ashby</td>\n",
       "      <td>no_author_2</td>\n",
       "      <td>no_author_3</td>\n",
       "      <td>NEGATIVE</td>\n",
       "    </tr>\n",
       "    <tr>\n",
       "      <th>3</th>\n",
       "      <td>Death Row</td>\n",
       "      <td>7.99</td>\n",
       "      <td>0/1</td>\n",
       "      <td>Ben Kincaid tries to stop an execution.</td>\n",
       "      <td>The hero of William Bernhardt's Ben Kincaid no...</td>\n",
       "      <td>Upon receiving his execution date, one of the ...</td>\n",
       "      <td>'Lynden Harris'</td>\n",
       "      <td>'Social Science'</td>\n",
       "      <td>Unpopular</td>\n",
       "      <td>1</td>\n",
       "      <td>0</td>\n",
       "      <td>0.000000</td>\n",
       "      <td>1</td>\n",
       "      <td>Lynden Harris</td>\n",
       "      <td>no_author_2</td>\n",
       "      <td>no_author_3</td>\n",
       "      <td>NEGATIVE</td>\n",
       "    </tr>\n",
       "    <tr>\n",
       "      <th>4</th>\n",
       "      <td>Sound and Form in Modern Poetry: Second Editio...</td>\n",
       "      <td>32.50</td>\n",
       "      <td>18/20</td>\n",
       "      <td>good introduction to modern prosody</td>\n",
       "      <td>There's a lot in this book which the reader wi...</td>\n",
       "      <td>An updated and expanded version of a classic a...</td>\n",
       "      <td>'Harvey Seymour Gross', 'Robert McDowell'</td>\n",
       "      <td>'Poetry'</td>\n",
       "      <td>Unpopular</td>\n",
       "      <td>20</td>\n",
       "      <td>18</td>\n",
       "      <td>0.900000</td>\n",
       "      <td>2</td>\n",
       "      <td>Harvey Seymour Gross</td>\n",
       "      <td>Robert McDowell</td>\n",
       "      <td>no_author_3</td>\n",
       "      <td>POSITIVE</td>\n",
       "    </tr>\n",
       "  </tbody>\n",
       "</table>\n",
       "</div>"
      ],
      "text/plain": [
       "                                               title  price  \\\n",
       "0  We Band of Angels: The Untold Story of America...  10.88   \n",
       "1  Prayer That Brings Revival: Interceding for Go...   9.35   \n",
       "2          The Mystical Journey from Jesus to Christ  24.95   \n",
       "3                                          Death Row   7.99   \n",
       "4  Sound and Form in Modern Poetry: Second Editio...  32.50   \n",
       "\n",
       "  review/helpfulness                                     review/summary  \\\n",
       "0                2/3                   A Great Book about women in WWII   \n",
       "1                0/0  Very helpful book for church prayer groups and...   \n",
       "2              17/19  Universal Spiritual Awakening Guide With Some ...   \n",
       "3                0/1            Ben Kincaid tries to stop an execution.   \n",
       "4              18/20                good introduction to modern prosody   \n",
       "\n",
       "                                         review/text  \\\n",
       "0  I have alway been a fan of fiction books set i...   \n",
       "1  Very helpful book to give you a better prayer ...   \n",
       "2  The message of this book is to find yourself a...   \n",
       "3  The hero of William Bernhardt's Ben Kincaid no...   \n",
       "4  There's a lot in this book which the reader wi...   \n",
       "\n",
       "                                         description  \\\n",
       "0  In the fall of 1941, the Philippines was a gar...   \n",
       "1  In Prayer That Brings Revival, best-selling au...   \n",
       "2  THE MYSTICAL JOURNEY FROM JESUS TO CHRIST Disc...   \n",
       "3  Upon receiving his execution date, one of the ...   \n",
       "4  An updated and expanded version of a classic a...   \n",
       "\n",
       "                                     authors             categories  \\\n",
       "0                         'Elizabeth Norman'              'History'   \n",
       "1                              'Yong-gi Cho'             'Religion'   \n",
       "2                              'Muata Ashby'  'Body, Mind & Spirit'   \n",
       "3                            'Lynden Harris'       'Social Science'   \n",
       "4  'Harvey Seymour Gross', 'Robert McDowell'               'Poetry'   \n",
       "\n",
       "  popularity  total_reviews  helpful_reviews  percentage_helpful  \\\n",
       "0  Unpopular              3                2            0.666667   \n",
       "1  Unpopular              0                0            0.000000   \n",
       "2  Unpopular             19               17            0.894737   \n",
       "3  Unpopular              1                0            0.000000   \n",
       "4  Unpopular             20               18            0.900000   \n",
       "\n",
       "   author_count              author_1         author_2     author_3 sentiment  \n",
       "0             1      Elizabeth Norman      no_author_2  no_author_3  POSITIVE  \n",
       "1             1           Yong-gi Cho      no_author_2  no_author_3  POSITIVE  \n",
       "2             1           Muata Ashby      no_author_2  no_author_3  NEGATIVE  \n",
       "3             1         Lynden Harris      no_author_2  no_author_3  NEGATIVE  \n",
       "4             2  Harvey Seymour Gross  Robert McDowell  no_author_3  POSITIVE  "
      ]
     },
     "execution_count": 47,
     "metadata": {},
     "output_type": "execute_result"
    }
   ],
   "source": [
    "books.head()"
   ]
  },
  {
   "cell_type": "code",
   "execution_count": null,
   "id": "22de4faf",
   "metadata": {},
   "outputs": [
    {
     "data": {
      "text/plain": [
       "sentiment_summary\n",
       "POSITIVE    11139\n",
       "NEGATIVE     4444\n",
       "Name: count, dtype: int64"
      ]
     },
     "execution_count": 48,
     "metadata": {},
     "output_type": "execute_result"
    }
   ],
   "source": [
    "#remane sentiment for sentiment_summary\n",
    "books.rename(columns={'sentiment': 'sentiment_summary'}, inplace=True)\n",
    "books.head()\n",
    "\n",
    "books['sentiment_summary'].value_counts()\n",
    "\n"
   ]
  },
  {
   "cell_type": "code",
   "execution_count": null,
   "id": "4e7422f0",
   "metadata": {},
   "outputs": [
    {
     "data": {
      "text/html": [
       "<div>\n",
       "<style scoped>\n",
       "    .dataframe tbody tr th:only-of-type {\n",
       "        vertical-align: middle;\n",
       "    }\n",
       "\n",
       "    .dataframe tbody tr th {\n",
       "        vertical-align: top;\n",
       "    }\n",
       "\n",
       "    .dataframe thead th {\n",
       "        text-align: right;\n",
       "    }\n",
       "</style>\n",
       "<table border=\"1\" class=\"dataframe\">\n",
       "  <thead>\n",
       "    <tr style=\"text-align: right;\">\n",
       "      <th></th>\n",
       "      <th>title</th>\n",
       "      <th>price</th>\n",
       "      <th>review/helpfulness</th>\n",
       "      <th>review/summary</th>\n",
       "      <th>review/text</th>\n",
       "      <th>description</th>\n",
       "      <th>authors</th>\n",
       "      <th>categories</th>\n",
       "      <th>popularity</th>\n",
       "      <th>total_reviews</th>\n",
       "      <th>helpful_reviews</th>\n",
       "      <th>percentage_helpful</th>\n",
       "      <th>author_count</th>\n",
       "      <th>author_1</th>\n",
       "      <th>author_2</th>\n",
       "      <th>author_3</th>\n",
       "      <th>sentiment_summary</th>\n",
       "      <th>sentiment_text</th>\n",
       "      <th>score_text</th>\n",
       "    </tr>\n",
       "  </thead>\n",
       "  <tbody>\n",
       "    <tr>\n",
       "      <th>0</th>\n",
       "      <td>We Band of Angels: The Untold Story of America...</td>\n",
       "      <td>10.88</td>\n",
       "      <td>2/3</td>\n",
       "      <td>A Great Book about women in WWII</td>\n",
       "      <td>I have alway been a fan of fiction books set i...</td>\n",
       "      <td>In the fall of 1941, the Philippines was a gar...</td>\n",
       "      <td>'Elizabeth Norman'</td>\n",
       "      <td>'History'</td>\n",
       "      <td>Unpopular</td>\n",
       "      <td>3</td>\n",
       "      <td>2</td>\n",
       "      <td>0.666667</td>\n",
       "      <td>1</td>\n",
       "      <td>Elizabeth Norman</td>\n",
       "      <td>no_author_2</td>\n",
       "      <td>no_author_3</td>\n",
       "      <td>POSITIVE</td>\n",
       "      <td>POSITIVE</td>\n",
       "      <td>0.999283</td>\n",
       "    </tr>\n",
       "    <tr>\n",
       "      <th>1</th>\n",
       "      <td>Prayer That Brings Revival: Interceding for Go...</td>\n",
       "      <td>9.35</td>\n",
       "      <td>0/0</td>\n",
       "      <td>Very helpful book for church prayer groups and...</td>\n",
       "      <td>Very helpful book to give you a better prayer ...</td>\n",
       "      <td>In Prayer That Brings Revival, best-selling au...</td>\n",
       "      <td>'Yong-gi Cho'</td>\n",
       "      <td>'Religion'</td>\n",
       "      <td>Unpopular</td>\n",
       "      <td>0</td>\n",
       "      <td>0</td>\n",
       "      <td>0.000000</td>\n",
       "      <td>1</td>\n",
       "      <td>Yong-gi Cho</td>\n",
       "      <td>no_author_2</td>\n",
       "      <td>no_author_3</td>\n",
       "      <td>POSITIVE</td>\n",
       "      <td>POSITIVE</td>\n",
       "      <td>0.999845</td>\n",
       "    </tr>\n",
       "    <tr>\n",
       "      <th>2</th>\n",
       "      <td>The Mystical Journey from Jesus to Christ</td>\n",
       "      <td>24.95</td>\n",
       "      <td>17/19</td>\n",
       "      <td>Universal Spiritual Awakening Guide With Some ...</td>\n",
       "      <td>The message of this book is to find yourself a...</td>\n",
       "      <td>THE MYSTICAL JOURNEY FROM JESUS TO CHRIST Disc...</td>\n",
       "      <td>'Muata Ashby'</td>\n",
       "      <td>'Body, Mind &amp; Spirit'</td>\n",
       "      <td>Unpopular</td>\n",
       "      <td>19</td>\n",
       "      <td>17</td>\n",
       "      <td>0.894737</td>\n",
       "      <td>1</td>\n",
       "      <td>Muata Ashby</td>\n",
       "      <td>no_author_2</td>\n",
       "      <td>no_author_3</td>\n",
       "      <td>NEGATIVE</td>\n",
       "      <td>NEGATIVE</td>\n",
       "      <td>0.828281</td>\n",
       "    </tr>\n",
       "    <tr>\n",
       "      <th>3</th>\n",
       "      <td>Death Row</td>\n",
       "      <td>7.99</td>\n",
       "      <td>0/1</td>\n",
       "      <td>Ben Kincaid tries to stop an execution.</td>\n",
       "      <td>The hero of William Bernhardt's Ben Kincaid no...</td>\n",
       "      <td>Upon receiving his execution date, one of the ...</td>\n",
       "      <td>'Lynden Harris'</td>\n",
       "      <td>'Social Science'</td>\n",
       "      <td>Unpopular</td>\n",
       "      <td>1</td>\n",
       "      <td>0</td>\n",
       "      <td>0.000000</td>\n",
       "      <td>1</td>\n",
       "      <td>Lynden Harris</td>\n",
       "      <td>no_author_2</td>\n",
       "      <td>no_author_3</td>\n",
       "      <td>NEGATIVE</td>\n",
       "      <td>POSITIVE</td>\n",
       "      <td>0.995394</td>\n",
       "    </tr>\n",
       "    <tr>\n",
       "      <th>4</th>\n",
       "      <td>Sound and Form in Modern Poetry: Second Editio...</td>\n",
       "      <td>32.50</td>\n",
       "      <td>18/20</td>\n",
       "      <td>good introduction to modern prosody</td>\n",
       "      <td>There's a lot in this book which the reader wi...</td>\n",
       "      <td>An updated and expanded version of a classic a...</td>\n",
       "      <td>'Harvey Seymour Gross', 'Robert McDowell'</td>\n",
       "      <td>'Poetry'</td>\n",
       "      <td>Unpopular</td>\n",
       "      <td>20</td>\n",
       "      <td>18</td>\n",
       "      <td>0.900000</td>\n",
       "      <td>2</td>\n",
       "      <td>Harvey Seymour Gross</td>\n",
       "      <td>Robert McDowell</td>\n",
       "      <td>no_author_3</td>\n",
       "      <td>POSITIVE</td>\n",
       "      <td>POSITIVE</td>\n",
       "      <td>0.995729</td>\n",
       "    </tr>\n",
       "  </tbody>\n",
       "</table>\n",
       "</div>"
      ],
      "text/plain": [
       "                                               title  price  \\\n",
       "0  We Band of Angels: The Untold Story of America...  10.88   \n",
       "1  Prayer That Brings Revival: Interceding for Go...   9.35   \n",
       "2          The Mystical Journey from Jesus to Christ  24.95   \n",
       "3                                          Death Row   7.99   \n",
       "4  Sound and Form in Modern Poetry: Second Editio...  32.50   \n",
       "\n",
       "  review/helpfulness                                     review/summary  \\\n",
       "0                2/3                   A Great Book about women in WWII   \n",
       "1                0/0  Very helpful book for church prayer groups and...   \n",
       "2              17/19  Universal Spiritual Awakening Guide With Some ...   \n",
       "3                0/1            Ben Kincaid tries to stop an execution.   \n",
       "4              18/20                good introduction to modern prosody   \n",
       "\n",
       "                                         review/text  \\\n",
       "0  I have alway been a fan of fiction books set i...   \n",
       "1  Very helpful book to give you a better prayer ...   \n",
       "2  The message of this book is to find yourself a...   \n",
       "3  The hero of William Bernhardt's Ben Kincaid no...   \n",
       "4  There's a lot in this book which the reader wi...   \n",
       "\n",
       "                                         description  \\\n",
       "0  In the fall of 1941, the Philippines was a gar...   \n",
       "1  In Prayer That Brings Revival, best-selling au...   \n",
       "2  THE MYSTICAL JOURNEY FROM JESUS TO CHRIST Disc...   \n",
       "3  Upon receiving his execution date, one of the ...   \n",
       "4  An updated and expanded version of a classic a...   \n",
       "\n",
       "                                     authors             categories  \\\n",
       "0                         'Elizabeth Norman'              'History'   \n",
       "1                              'Yong-gi Cho'             'Religion'   \n",
       "2                              'Muata Ashby'  'Body, Mind & Spirit'   \n",
       "3                            'Lynden Harris'       'Social Science'   \n",
       "4  'Harvey Seymour Gross', 'Robert McDowell'               'Poetry'   \n",
       "\n",
       "  popularity  total_reviews  helpful_reviews  percentage_helpful  \\\n",
       "0  Unpopular              3                2            0.666667   \n",
       "1  Unpopular              0                0            0.000000   \n",
       "2  Unpopular             19               17            0.894737   \n",
       "3  Unpopular              1                0            0.000000   \n",
       "4  Unpopular             20               18            0.900000   \n",
       "\n",
       "   author_count              author_1         author_2     author_3  \\\n",
       "0             1      Elizabeth Norman      no_author_2  no_author_3   \n",
       "1             1           Yong-gi Cho      no_author_2  no_author_3   \n",
       "2             1           Muata Ashby      no_author_2  no_author_3   \n",
       "3             1         Lynden Harris      no_author_2  no_author_3   \n",
       "4             2  Harvey Seymour Gross  Robert McDowell  no_author_3   \n",
       "\n",
       "  sentiment_summary sentiment_text  score_text  \n",
       "0          POSITIVE       POSITIVE    0.999283  \n",
       "1          POSITIVE       POSITIVE    0.999845  \n",
       "2          NEGATIVE       NEGATIVE    0.828281  \n",
       "3          NEGATIVE       POSITIVE    0.995394  \n",
       "4          POSITIVE       POSITIVE    0.995729  "
      ]
     },
     "execution_count": 51,
     "metadata": {},
     "output_type": "execute_result"
    }
   ],
   "source": [
    "books.head()"
   ]
  },
  {
   "cell_type": "code",
   "execution_count": 52,
   "id": "c966ae9f",
   "metadata": {},
   "outputs": [],
   "source": [
    "#SAVE FILE\n",
    "books.to_csv(\"data/books_with_sentiment.csv\", index=False)"
   ]
  },
  {
   "cell_type": "code",
   "execution_count": null,
   "id": "fa63ab58",
   "metadata": {},
   "outputs": [
    {
     "data": {
      "text/html": [
       "<div>\n",
       "<style scoped>\n",
       "    .dataframe tbody tr th:only-of-type {\n",
       "        vertical-align: middle;\n",
       "    }\n",
       "\n",
       "    .dataframe tbody tr th {\n",
       "        vertical-align: top;\n",
       "    }\n",
       "\n",
       "    .dataframe thead th {\n",
       "        text-align: right;\n",
       "    }\n",
       "</style>\n",
       "<table border=\"1\" class=\"dataframe\">\n",
       "  <thead>\n",
       "    <tr style=\"text-align: right;\">\n",
       "      <th></th>\n",
       "      <th>title</th>\n",
       "      <th>price</th>\n",
       "      <th>review/helpfulness</th>\n",
       "      <th>review/summary</th>\n",
       "      <th>review/text</th>\n",
       "      <th>description</th>\n",
       "      <th>authors</th>\n",
       "      <th>categories</th>\n",
       "      <th>popularity</th>\n",
       "      <th>total_reviews</th>\n",
       "      <th>helpful_reviews</th>\n",
       "      <th>percentage_helpful</th>\n",
       "      <th>author_count</th>\n",
       "      <th>author_1</th>\n",
       "      <th>author_2</th>\n",
       "      <th>author_3</th>\n",
       "      <th>sentiment_summary</th>\n",
       "      <th>sentiment_text</th>\n",
       "      <th>score_text</th>\n",
       "    </tr>\n",
       "  </thead>\n",
       "  <tbody>\n",
       "    <tr>\n",
       "      <th>3</th>\n",
       "      <td>Death Row</td>\n",
       "      <td>7.99</td>\n",
       "      <td>0/1</td>\n",
       "      <td>Ben Kincaid tries to stop an execution.</td>\n",
       "      <td>The hero of William Bernhardt's Ben Kincaid no...</td>\n",
       "      <td>Upon receiving his execution date, one of the ...</td>\n",
       "      <td>'Lynden Harris'</td>\n",
       "      <td>'Social Science'</td>\n",
       "      <td>Unpopular</td>\n",
       "      <td>1</td>\n",
       "      <td>0</td>\n",
       "      <td>0.000000</td>\n",
       "      <td>1</td>\n",
       "      <td>Lynden Harris</td>\n",
       "      <td>no_author_2</td>\n",
       "      <td>no_author_3</td>\n",
       "      <td>NEGATIVE</td>\n",
       "      <td>POSITIVE</td>\n",
       "      <td>0.995394</td>\n",
       "    </tr>\n",
       "    <tr>\n",
       "      <th>13</th>\n",
       "      <td>1491: New Revelations of the Americas Before C...</td>\n",
       "      <td>24.15</td>\n",
       "      <td>0/3</td>\n",
       "      <td>Some interesting hypotheses</td>\n",
       "      <td>I really looked forward to reading this book a...</td>\n",
       "      <td>Hoe de wereld zich ontwikkelde na de ontdekkin...</td>\n",
       "      <td>'Charles C. Mann'</td>\n",
       "      <td>'History'</td>\n",
       "      <td>Unpopular</td>\n",
       "      <td>3</td>\n",
       "      <td>0</td>\n",
       "      <td>0.000000</td>\n",
       "      <td>1</td>\n",
       "      <td>Charles C. Mann</td>\n",
       "      <td>no_author_2</td>\n",
       "      <td>no_author_3</td>\n",
       "      <td>NEGATIVE</td>\n",
       "      <td>POSITIVE</td>\n",
       "      <td>0.940203</td>\n",
       "    </tr>\n",
       "    <tr>\n",
       "      <th>15</th>\n",
       "      <td>Will You Please Be Quiet, Please?: Stories</td>\n",
       "      <td>10.20</td>\n",
       "      <td>21/21</td>\n",
       "      <td>assortment of harsh, condensed, short stories</td>\n",
       "      <td>There is something very satisfying about short...</td>\n",
       "      <td>With this, his first collection of stories, Ra...</td>\n",
       "      <td>'Raymond Carver'</td>\n",
       "      <td>'Fiction'</td>\n",
       "      <td>Unpopular</td>\n",
       "      <td>21</td>\n",
       "      <td>21</td>\n",
       "      <td>1.000000</td>\n",
       "      <td>1</td>\n",
       "      <td>Raymond Carver</td>\n",
       "      <td>no_author_2</td>\n",
       "      <td>no_author_3</td>\n",
       "      <td>NEGATIVE</td>\n",
       "      <td>POSITIVE</td>\n",
       "      <td>0.997320</td>\n",
       "    </tr>\n",
       "    <tr>\n",
       "      <th>16</th>\n",
       "      <td>Origins of the Civil Rights Movements</td>\n",
       "      <td>18.95</td>\n",
       "      <td>2/3</td>\n",
       "      <td>One Quibble</td>\n",
       "      <td>When Professor Morris wrote this book, he did ...</td>\n",
       "      <td>A blending of scholarly research and interview...</td>\n",
       "      <td>'Aldon D. Morris'</td>\n",
       "      <td>'History'</td>\n",
       "      <td>Unpopular</td>\n",
       "      <td>3</td>\n",
       "      <td>2</td>\n",
       "      <td>0.666667</td>\n",
       "      <td>1</td>\n",
       "      <td>Aldon D. Morris</td>\n",
       "      <td>no_author_2</td>\n",
       "      <td>no_author_3</td>\n",
       "      <td>POSITIVE</td>\n",
       "      <td>NEGATIVE</td>\n",
       "      <td>0.996330</td>\n",
       "    </tr>\n",
       "    <tr>\n",
       "      <th>19</th>\n",
       "      <td>Power Plays : Win or Lose--How History's Great...</td>\n",
       "      <td>6.40</td>\n",
       "      <td>3/5</td>\n",
       "      <td>A limited analysis of political leaders</td>\n",
       "      <td>Morris is an intelligent and astute political ...</td>\n",
       "      <td>Dick Morris is the frankest and most outspoken...</td>\n",
       "      <td>'Dick Morris'</td>\n",
       "      <td>'Political Science'</td>\n",
       "      <td>Unpopular</td>\n",
       "      <td>5</td>\n",
       "      <td>3</td>\n",
       "      <td>0.600000</td>\n",
       "      <td>1</td>\n",
       "      <td>Dick Morris</td>\n",
       "      <td>no_author_2</td>\n",
       "      <td>no_author_3</td>\n",
       "      <td>POSITIVE</td>\n",
       "      <td>NEGATIVE</td>\n",
       "      <td>0.999309</td>\n",
       "    </tr>\n",
       "    <tr>\n",
       "      <th>...</th>\n",
       "      <td>...</td>\n",
       "      <td>...</td>\n",
       "      <td>...</td>\n",
       "      <td>...</td>\n",
       "      <td>...</td>\n",
       "      <td>...</td>\n",
       "      <td>...</td>\n",
       "      <td>...</td>\n",
       "      <td>...</td>\n",
       "      <td>...</td>\n",
       "      <td>...</td>\n",
       "      <td>...</td>\n",
       "      <td>...</td>\n",
       "      <td>...</td>\n",
       "      <td>...</td>\n",
       "      <td>...</td>\n",
       "      <td>...</td>\n",
       "      <td>...</td>\n",
       "      <td>...</td>\n",
       "    </tr>\n",
       "    <tr>\n",
       "      <th>15700</th>\n",
       "      <td>Altered Lives, Enduring Community: Japanese Am...</td>\n",
       "      <td>24.95</td>\n",
       "      <td>3/4</td>\n",
       "      <td>The Past is not Just the Past</td>\n",
       "      <td>I grew up in Seattle hearing bits and pieces o...</td>\n",
       "      <td>Altered Lives, Enduring Community examines the...</td>\n",
       "      <td>'Stephen S. Fugita', 'Marilyn Fernandez'</td>\n",
       "      <td>'Social Science'</td>\n",
       "      <td>Popular</td>\n",
       "      <td>4</td>\n",
       "      <td>3</td>\n",
       "      <td>0.750000</td>\n",
       "      <td>2</td>\n",
       "      <td>Stephen S. Fugita</td>\n",
       "      <td>Marilyn Fernandez</td>\n",
       "      <td>no_author_3</td>\n",
       "      <td>NEGATIVE</td>\n",
       "      <td>POSITIVE</td>\n",
       "      <td>0.987894</td>\n",
       "    </tr>\n",
       "    <tr>\n",
       "      <th>15702</th>\n",
       "      <td>Dressing Smart in the New Millennium</td>\n",
       "      <td>15.95</td>\n",
       "      <td>3/6</td>\n",
       "      <td>Dressing Smart is fun, easy, and above all *us...</td>\n",
       "      <td>After reading this book and using some of the ...</td>\n",
       "      <td>One of America's leading image consultants out...</td>\n",
       "      <td>'JoAnna Nicholson'</td>\n",
       "      <td>'Business &amp; Economics'</td>\n",
       "      <td>Popular</td>\n",
       "      <td>6</td>\n",
       "      <td>3</td>\n",
       "      <td>0.500000</td>\n",
       "      <td>1</td>\n",
       "      <td>JoAnna Nicholson</td>\n",
       "      <td>no_author_2</td>\n",
       "      <td>no_author_3</td>\n",
       "      <td>POSITIVE</td>\n",
       "      <td>NEGATIVE</td>\n",
       "      <td>0.993793</td>\n",
       "    </tr>\n",
       "    <tr>\n",
       "      <th>15707</th>\n",
       "      <td>The Passion of the Western Mind: Understanding...</td>\n",
       "      <td>12.89</td>\n",
       "      <td>172/215</td>\n",
       "      <td>This author, and I, live in different twentiet...</td>\n",
       "      <td>This book starts well. I found the introductio...</td>\n",
       "      <td>\"[This] magnificent critical survey, with its ...</td>\n",
       "      <td>'Richard Tarnas'</td>\n",
       "      <td>'Philosophy'</td>\n",
       "      <td>Unpopular</td>\n",
       "      <td>215</td>\n",
       "      <td>172</td>\n",
       "      <td>0.800000</td>\n",
       "      <td>1</td>\n",
       "      <td>Richard Tarnas</td>\n",
       "      <td>no_author_2</td>\n",
       "      <td>no_author_3</td>\n",
       "      <td>POSITIVE</td>\n",
       "      <td>NEGATIVE</td>\n",
       "      <td>0.942799</td>\n",
       "    </tr>\n",
       "    <tr>\n",
       "      <th>15711</th>\n",
       "      <td>The A-List: A Novel</td>\n",
       "      <td>8.47</td>\n",
       "      <td>1/1</td>\n",
       "      <td>Get on \"The A-List\"</td>\n",
       "      <td>What would you do to be on The A-List?Welcome ...</td>\n",
       "      <td>The List is an irreverent, sophisticated take ...</td>\n",
       "      <td>'Tara Ison'</td>\n",
       "      <td>'Fiction'</td>\n",
       "      <td>Unpopular</td>\n",
       "      <td>1</td>\n",
       "      <td>1</td>\n",
       "      <td>1.000000</td>\n",
       "      <td>1</td>\n",
       "      <td>Tara Ison</td>\n",
       "      <td>no_author_2</td>\n",
       "      <td>no_author_3</td>\n",
       "      <td>POSITIVE</td>\n",
       "      <td>NEGATIVE</td>\n",
       "      <td>0.973067</td>\n",
       "    </tr>\n",
       "    <tr>\n",
       "      <th>15718</th>\n",
       "      <td>Palomino</td>\n",
       "      <td>7.99</td>\n",
       "      <td>0/0</td>\n",
       "      <td>\"Palomino\"</td>\n",
       "      <td>This is an older novel of Danielle Steele's, a...</td>\n",
       "      <td>Samantha Taylor is shattered when her husband ...</td>\n",
       "      <td>'Danielle Steel'</td>\n",
       "      <td>'Fiction'</td>\n",
       "      <td>Popular</td>\n",
       "      <td>0</td>\n",
       "      <td>0</td>\n",
       "      <td>0.000000</td>\n",
       "      <td>1</td>\n",
       "      <td>Danielle Steel</td>\n",
       "      <td>no_author_2</td>\n",
       "      <td>no_author_3</td>\n",
       "      <td>NEGATIVE</td>\n",
       "      <td>POSITIVE</td>\n",
       "      <td>0.999811</td>\n",
       "    </tr>\n",
       "  </tbody>\n",
       "</table>\n",
       "<p>4459 rows × 19 columns</p>\n",
       "</div>"
      ],
      "text/plain": [
       "                                                   title  price  \\\n",
       "3                                              Death Row   7.99   \n",
       "13     1491: New Revelations of the Americas Before C...  24.15   \n",
       "15            Will You Please Be Quiet, Please?: Stories  10.20   \n",
       "16                 Origins of the Civil Rights Movements  18.95   \n",
       "19     Power Plays : Win or Lose--How History's Great...   6.40   \n",
       "...                                                  ...    ...   \n",
       "15700  Altered Lives, Enduring Community: Japanese Am...  24.95   \n",
       "15702               Dressing Smart in the New Millennium  15.95   \n",
       "15707  The Passion of the Western Mind: Understanding...  12.89   \n",
       "15711                                The A-List: A Novel   8.47   \n",
       "15718                                           Palomino   7.99   \n",
       "\n",
       "      review/helpfulness                                     review/summary  \\\n",
       "3                    0/1            Ben Kincaid tries to stop an execution.   \n",
       "13                   0/3                        Some interesting hypotheses   \n",
       "15                 21/21      assortment of harsh, condensed, short stories   \n",
       "16                   2/3                                        One Quibble   \n",
       "19                   3/5            A limited analysis of political leaders   \n",
       "...                  ...                                                ...   \n",
       "15700                3/4                      The Past is not Just the Past   \n",
       "15702                3/6  Dressing Smart is fun, easy, and above all *us...   \n",
       "15707            172/215  This author, and I, live in different twentiet...   \n",
       "15711                1/1                                Get on \"The A-List\"   \n",
       "15718                0/0                                         \"Palomino\"   \n",
       "\n",
       "                                             review/text  \\\n",
       "3      The hero of William Bernhardt's Ben Kincaid no...   \n",
       "13     I really looked forward to reading this book a...   \n",
       "15     There is something very satisfying about short...   \n",
       "16     When Professor Morris wrote this book, he did ...   \n",
       "19     Morris is an intelligent and astute political ...   \n",
       "...                                                  ...   \n",
       "15700  I grew up in Seattle hearing bits and pieces o...   \n",
       "15702  After reading this book and using some of the ...   \n",
       "15707  This book starts well. I found the introductio...   \n",
       "15711  What would you do to be on The A-List?Welcome ...   \n",
       "15718  This is an older novel of Danielle Steele's, a...   \n",
       "\n",
       "                                             description  \\\n",
       "3      Upon receiving his execution date, one of the ...   \n",
       "13     Hoe de wereld zich ontwikkelde na de ontdekkin...   \n",
       "15     With this, his first collection of stories, Ra...   \n",
       "16     A blending of scholarly research and interview...   \n",
       "19     Dick Morris is the frankest and most outspoken...   \n",
       "...                                                  ...   \n",
       "15700  Altered Lives, Enduring Community examines the...   \n",
       "15702  One of America's leading image consultants out...   \n",
       "15707  \"[This] magnificent critical survey, with its ...   \n",
       "15711  The List is an irreverent, sophisticated take ...   \n",
       "15718  Samantha Taylor is shattered when her husband ...   \n",
       "\n",
       "                                        authors              categories  \\\n",
       "3                               'Lynden Harris'        'Social Science'   \n",
       "13                            'Charles C. Mann'               'History'   \n",
       "15                             'Raymond Carver'               'Fiction'   \n",
       "16                            'Aldon D. Morris'               'History'   \n",
       "19                                'Dick Morris'     'Political Science'   \n",
       "...                                         ...                     ...   \n",
       "15700  'Stephen S. Fugita', 'Marilyn Fernandez'        'Social Science'   \n",
       "15702                        'JoAnna Nicholson'  'Business & Economics'   \n",
       "15707                          'Richard Tarnas'            'Philosophy'   \n",
       "15711                               'Tara Ison'               'Fiction'   \n",
       "15718                          'Danielle Steel'               'Fiction'   \n",
       "\n",
       "      popularity  total_reviews  helpful_reviews  percentage_helpful  \\\n",
       "3      Unpopular              1                0            0.000000   \n",
       "13     Unpopular              3                0            0.000000   \n",
       "15     Unpopular             21               21            1.000000   \n",
       "16     Unpopular              3                2            0.666667   \n",
       "19     Unpopular              5                3            0.600000   \n",
       "...          ...            ...              ...                 ...   \n",
       "15700    Popular              4                3            0.750000   \n",
       "15702    Popular              6                3            0.500000   \n",
       "15707  Unpopular            215              172            0.800000   \n",
       "15711  Unpopular              1                1            1.000000   \n",
       "15718    Popular              0                0            0.000000   \n",
       "\n",
       "       author_count           author_1           author_2     author_3  \\\n",
       "3                 1      Lynden Harris        no_author_2  no_author_3   \n",
       "13                1    Charles C. Mann        no_author_2  no_author_3   \n",
       "15                1     Raymond Carver        no_author_2  no_author_3   \n",
       "16                1    Aldon D. Morris        no_author_2  no_author_3   \n",
       "19                1        Dick Morris        no_author_2  no_author_3   \n",
       "...             ...                ...                ...          ...   \n",
       "15700             2  Stephen S. Fugita  Marilyn Fernandez  no_author_3   \n",
       "15702             1   JoAnna Nicholson        no_author_2  no_author_3   \n",
       "15707             1     Richard Tarnas        no_author_2  no_author_3   \n",
       "15711             1          Tara Ison        no_author_2  no_author_3   \n",
       "15718             1     Danielle Steel        no_author_2  no_author_3   \n",
       "\n",
       "      sentiment_summary sentiment_text  score_text  \n",
       "3              NEGATIVE       POSITIVE    0.995394  \n",
       "13             NEGATIVE       POSITIVE    0.940203  \n",
       "15             NEGATIVE       POSITIVE    0.997320  \n",
       "16             POSITIVE       NEGATIVE    0.996330  \n",
       "19             POSITIVE       NEGATIVE    0.999309  \n",
       "...                 ...            ...         ...  \n",
       "15700          NEGATIVE       POSITIVE    0.987894  \n",
       "15702          POSITIVE       NEGATIVE    0.993793  \n",
       "15707          POSITIVE       NEGATIVE    0.942799  \n",
       "15711          POSITIVE       NEGATIVE    0.973067  \n",
       "15718          NEGATIVE       POSITIVE    0.999811  \n",
       "\n",
       "[4459 rows x 19 columns]"
      ]
     },
     "execution_count": 53,
     "metadata": {},
     "output_type": "execute_result"
    }
   ],
   "source": [
    "books[books['sentiment_summary'] != books['sentiment_text']]"
   ]
  },
  {
   "cell_type": "code",
   "execution_count": 54,
   "id": "e5d070f0",
   "metadata": {},
   "outputs": [
    {
     "data": {
      "text/html": [
       "<div>\n",
       "<style scoped>\n",
       "    .dataframe tbody tr th:only-of-type {\n",
       "        vertical-align: middle;\n",
       "    }\n",
       "\n",
       "    .dataframe tbody tr th {\n",
       "        vertical-align: top;\n",
       "    }\n",
       "\n",
       "    .dataframe thead th {\n",
       "        text-align: right;\n",
       "    }\n",
       "</style>\n",
       "<table border=\"1\" class=\"dataframe\">\n",
       "  <thead>\n",
       "    <tr style=\"text-align: right;\">\n",
       "      <th></th>\n",
       "      <th>title</th>\n",
       "      <th>price</th>\n",
       "      <th>review/helpfulness</th>\n",
       "      <th>review/summary</th>\n",
       "      <th>review/text</th>\n",
       "      <th>description</th>\n",
       "      <th>authors</th>\n",
       "      <th>categories</th>\n",
       "      <th>popularity</th>\n",
       "      <th>total_reviews</th>\n",
       "      <th>helpful_reviews</th>\n",
       "      <th>percentage_helpful</th>\n",
       "      <th>author_count</th>\n",
       "      <th>author_1</th>\n",
       "      <th>author_2</th>\n",
       "      <th>author_3</th>\n",
       "      <th>sentiment_summary</th>\n",
       "      <th>sentiment_text</th>\n",
       "      <th>score_text</th>\n",
       "    </tr>\n",
       "  </thead>\n",
       "  <tbody>\n",
       "    <tr>\n",
       "      <th>0</th>\n",
       "      <td>We Band of Angels: The Untold Story of America...</td>\n",
       "      <td>10.88</td>\n",
       "      <td>2/3</td>\n",
       "      <td>A Great Book about women in WWII</td>\n",
       "      <td>I have alway been a fan of fiction books set i...</td>\n",
       "      <td>In the fall of 1941, the Philippines was a gar...</td>\n",
       "      <td>'Elizabeth Norman'</td>\n",
       "      <td>'History'</td>\n",
       "      <td>Unpopular</td>\n",
       "      <td>3</td>\n",
       "      <td>2</td>\n",
       "      <td>0.666667</td>\n",
       "      <td>1</td>\n",
       "      <td>Elizabeth Norman</td>\n",
       "      <td>no_author_2</td>\n",
       "      <td>no_author_3</td>\n",
       "      <td>POSITIVE</td>\n",
       "      <td>POSITIVE</td>\n",
       "      <td>0.999283</td>\n",
       "    </tr>\n",
       "    <tr>\n",
       "      <th>1</th>\n",
       "      <td>Prayer That Brings Revival: Interceding for Go...</td>\n",
       "      <td>9.35</td>\n",
       "      <td>0/0</td>\n",
       "      <td>Very helpful book for church prayer groups and...</td>\n",
       "      <td>Very helpful book to give you a better prayer ...</td>\n",
       "      <td>In Prayer That Brings Revival, best-selling au...</td>\n",
       "      <td>'Yong-gi Cho'</td>\n",
       "      <td>'Religion'</td>\n",
       "      <td>Unpopular</td>\n",
       "      <td>0</td>\n",
       "      <td>0</td>\n",
       "      <td>0.000000</td>\n",
       "      <td>1</td>\n",
       "      <td>Yong-gi Cho</td>\n",
       "      <td>no_author_2</td>\n",
       "      <td>no_author_3</td>\n",
       "      <td>POSITIVE</td>\n",
       "      <td>POSITIVE</td>\n",
       "      <td>0.999845</td>\n",
       "    </tr>\n",
       "    <tr>\n",
       "      <th>2</th>\n",
       "      <td>The Mystical Journey from Jesus to Christ</td>\n",
       "      <td>24.95</td>\n",
       "      <td>17/19</td>\n",
       "      <td>Universal Spiritual Awakening Guide With Some ...</td>\n",
       "      <td>The message of this book is to find yourself a...</td>\n",
       "      <td>THE MYSTICAL JOURNEY FROM JESUS TO CHRIST Disc...</td>\n",
       "      <td>'Muata Ashby'</td>\n",
       "      <td>'Body, Mind &amp; Spirit'</td>\n",
       "      <td>Unpopular</td>\n",
       "      <td>19</td>\n",
       "      <td>17</td>\n",
       "      <td>0.894737</td>\n",
       "      <td>1</td>\n",
       "      <td>Muata Ashby</td>\n",
       "      <td>no_author_2</td>\n",
       "      <td>no_author_3</td>\n",
       "      <td>NEGATIVE</td>\n",
       "      <td>NEGATIVE</td>\n",
       "      <td>0.828281</td>\n",
       "    </tr>\n",
       "    <tr>\n",
       "      <th>3</th>\n",
       "      <td>Death Row</td>\n",
       "      <td>7.99</td>\n",
       "      <td>0/1</td>\n",
       "      <td>Ben Kincaid tries to stop an execution.</td>\n",
       "      <td>The hero of William Bernhardt's Ben Kincaid no...</td>\n",
       "      <td>Upon receiving his execution date, one of the ...</td>\n",
       "      <td>'Lynden Harris'</td>\n",
       "      <td>'Social Science'</td>\n",
       "      <td>Unpopular</td>\n",
       "      <td>1</td>\n",
       "      <td>0</td>\n",
       "      <td>0.000000</td>\n",
       "      <td>1</td>\n",
       "      <td>Lynden Harris</td>\n",
       "      <td>no_author_2</td>\n",
       "      <td>no_author_3</td>\n",
       "      <td>NEGATIVE</td>\n",
       "      <td>POSITIVE</td>\n",
       "      <td>0.995394</td>\n",
       "    </tr>\n",
       "    <tr>\n",
       "      <th>4</th>\n",
       "      <td>Sound and Form in Modern Poetry: Second Editio...</td>\n",
       "      <td>32.50</td>\n",
       "      <td>18/20</td>\n",
       "      <td>good introduction to modern prosody</td>\n",
       "      <td>There's a lot in this book which the reader wi...</td>\n",
       "      <td>An updated and expanded version of a classic a...</td>\n",
       "      <td>'Harvey Seymour Gross', 'Robert McDowell'</td>\n",
       "      <td>'Poetry'</td>\n",
       "      <td>Unpopular</td>\n",
       "      <td>20</td>\n",
       "      <td>18</td>\n",
       "      <td>0.900000</td>\n",
       "      <td>2</td>\n",
       "      <td>Harvey Seymour Gross</td>\n",
       "      <td>Robert McDowell</td>\n",
       "      <td>no_author_3</td>\n",
       "      <td>POSITIVE</td>\n",
       "      <td>POSITIVE</td>\n",
       "      <td>0.995729</td>\n",
       "    </tr>\n",
       "  </tbody>\n",
       "</table>\n",
       "</div>"
      ],
      "text/plain": [
       "                                               title  price  \\\n",
       "0  We Band of Angels: The Untold Story of America...  10.88   \n",
       "1  Prayer That Brings Revival: Interceding for Go...   9.35   \n",
       "2          The Mystical Journey from Jesus to Christ  24.95   \n",
       "3                                          Death Row   7.99   \n",
       "4  Sound and Form in Modern Poetry: Second Editio...  32.50   \n",
       "\n",
       "  review/helpfulness                                     review/summary  \\\n",
       "0                2/3                   A Great Book about women in WWII   \n",
       "1                0/0  Very helpful book for church prayer groups and...   \n",
       "2              17/19  Universal Spiritual Awakening Guide With Some ...   \n",
       "3                0/1            Ben Kincaid tries to stop an execution.   \n",
       "4              18/20                good introduction to modern prosody   \n",
       "\n",
       "                                         review/text  \\\n",
       "0  I have alway been a fan of fiction books set i...   \n",
       "1  Very helpful book to give you a better prayer ...   \n",
       "2  The message of this book is to find yourself a...   \n",
       "3  The hero of William Bernhardt's Ben Kincaid no...   \n",
       "4  There's a lot in this book which the reader wi...   \n",
       "\n",
       "                                         description  \\\n",
       "0  In the fall of 1941, the Philippines was a gar...   \n",
       "1  In Prayer That Brings Revival, best-selling au...   \n",
       "2  THE MYSTICAL JOURNEY FROM JESUS TO CHRIST Disc...   \n",
       "3  Upon receiving his execution date, one of the ...   \n",
       "4  An updated and expanded version of a classic a...   \n",
       "\n",
       "                                     authors             categories  \\\n",
       "0                         'Elizabeth Norman'              'History'   \n",
       "1                              'Yong-gi Cho'             'Religion'   \n",
       "2                              'Muata Ashby'  'Body, Mind & Spirit'   \n",
       "3                            'Lynden Harris'       'Social Science'   \n",
       "4  'Harvey Seymour Gross', 'Robert McDowell'               'Poetry'   \n",
       "\n",
       "  popularity  total_reviews  helpful_reviews  percentage_helpful  \\\n",
       "0  Unpopular              3                2            0.666667   \n",
       "1  Unpopular              0                0            0.000000   \n",
       "2  Unpopular             19               17            0.894737   \n",
       "3  Unpopular              1                0            0.000000   \n",
       "4  Unpopular             20               18            0.900000   \n",
       "\n",
       "   author_count              author_1         author_2     author_3  \\\n",
       "0             1      Elizabeth Norman      no_author_2  no_author_3   \n",
       "1             1           Yong-gi Cho      no_author_2  no_author_3   \n",
       "2             1           Muata Ashby      no_author_2  no_author_3   \n",
       "3             1         Lynden Harris      no_author_2  no_author_3   \n",
       "4             2  Harvey Seymour Gross  Robert McDowell  no_author_3   \n",
       "\n",
       "  sentiment_summary sentiment_text  score_text  \n",
       "0          POSITIVE       POSITIVE    0.999283  \n",
       "1          POSITIVE       POSITIVE    0.999845  \n",
       "2          NEGATIVE       NEGATIVE    0.828281  \n",
       "3          NEGATIVE       POSITIVE    0.995394  \n",
       "4          POSITIVE       POSITIVE    0.995729  "
      ]
     },
     "execution_count": 54,
     "metadata": {},
     "output_type": "execute_result"
    }
   ],
   "source": [
    "books.head()"
   ]
  },
  {
   "cell_type": "code",
   "execution_count": 57,
   "id": "7ac56832",
   "metadata": {},
   "outputs": [
    {
     "data": {
      "text/plain": [
       "clean_categories\n",
       "Fiction                      3511\n",
       "Religion                     1049\n",
       "Biography & Autobiography     850\n",
       "Juvenile Fiction              814\n",
       "History                       753\n",
       "                             ... \n",
       "Sunflowers                      1\n",
       "Self-confidence                 1\n",
       "United States                   1\n",
       "Note-taking                     1\n",
       "Asthma                          1\n",
       "Name: count, Length: 312, dtype: int64"
      ]
     },
     "execution_count": 57,
     "metadata": {},
     "output_type": "execute_result"
    }
   ],
   "source": [
    "books['clean_categories'] = books['categories'].str.replace(\"'\", \"\")\n",
    "books['clean_categories'].value_counts()"
   ]
  },
  {
   "cell_type": "code",
   "execution_count": 59,
   "id": "5754af2a",
   "metadata": {},
   "outputs": [
    {
     "name": "stdout",
     "output_type": "stream",
     "text": [
      "Collecting scikit-learn\n",
      "  Downloading scikit_learn-1.6.1-cp39-cp39-macosx_12_0_arm64.whl (11.1 MB)\n",
      "\u001b[K     |████████████████████████████████| 11.1 MB 4.2 MB/s eta 0:00:01\n",
      "\u001b[?25hCollecting scipy>=1.6.0\n",
      "  Downloading scipy-1.13.1-cp39-cp39-macosx_12_0_arm64.whl (30.3 MB)\n",
      "\u001b[K     |████████████████████████████████| 30.3 MB 5.4 MB/s eta 0:00:011\n",
      "\u001b[?25hCollecting joblib>=1.2.0\n",
      "  Downloading joblib-1.5.2-py3-none-any.whl (308 kB)\n",
      "\u001b[K     |████████████████████████████████| 308 kB 30.8 MB/s eta 0:00:01\n",
      "\u001b[?25hCollecting threadpoolctl>=3.1.0\n",
      "  Downloading threadpoolctl-3.6.0-py3-none-any.whl (18 kB)\n",
      "Requirement already satisfied: numpy>=1.19.5 in /Users/sol/Code/datascience/good-books/venv/lib/python3.9/site-packages (from scikit-learn) (2.0.2)\n",
      "Installing collected packages: threadpoolctl, scipy, joblib, scikit-learn\n",
      "Successfully installed joblib-1.5.2 scikit-learn-1.6.1 scipy-1.13.1 threadpoolctl-3.6.0\n",
      "\u001b[33mWARNING: You are using pip version 21.2.4; however, version 25.2 is available.\n",
      "You should consider upgrading via the '/Users/sol/Code/datascience/good-books/venv/bin/python3 -m pip install --upgrade pip' command.\u001b[0m\n"
     ]
    }
   ],
   "source": [
    "!pip install scikit-learn"
   ]
  },
  {
   "cell_type": "code",
   "execution_count": 60,
   "id": "14ba743f",
   "metadata": {},
   "outputs": [],
   "source": [
    "from sklearn.feature_extraction.text import TfidfVectorizer\n",
    "\n",
    "vectorizer = TfidfVectorizer(max_features=5000, ngram_range=(1,2))\n",
    "X_tfidf = vectorizer.fit_transform(books['description'])\n"
   ]
  },
  {
   "cell_type": "code",
   "execution_count": 62,
   "id": "aaec1e5d",
   "metadata": {},
   "outputs": [
    {
     "name": "stdout",
     "output_type": "stream",
     "text": [
      "Collecting sentence-transformers\n",
      "  Downloading sentence_transformers-5.1.0-py3-none-any.whl (483 kB)\n",
      "\u001b[K     |████████████████████████████████| 483 kB 4.5 MB/s eta 0:00:01\n",
      "\u001b[?25hRequirement already satisfied: typing_extensions>=4.5.0 in /Users/sol/Code/datascience/good-books/venv/lib/python3.9/site-packages (from sentence-transformers) (4.15.0)\n",
      "Requirement already satisfied: huggingface-hub>=0.20.0 in /Users/sol/Code/datascience/good-books/venv/lib/python3.9/site-packages (from sentence-transformers) (0.34.4)\n",
      "Requirement already satisfied: Pillow in /Users/sol/Code/datascience/good-books/venv/lib/python3.9/site-packages (from sentence-transformers) (11.3.0)\n",
      "Requirement already satisfied: torch>=1.11.0 in /Users/sol/Code/datascience/good-books/venv/lib/python3.9/site-packages (from sentence-transformers) (2.8.0)\n",
      "Requirement already satisfied: scipy in /Users/sol/Code/datascience/good-books/venv/lib/python3.9/site-packages (from sentence-transformers) (1.13.1)\n",
      "Requirement already satisfied: tqdm in /Users/sol/Code/datascience/good-books/venv/lib/python3.9/site-packages (from sentence-transformers) (4.67.1)\n",
      "Requirement already satisfied: transformers<5.0.0,>=4.41.0 in /Users/sol/Code/datascience/good-books/venv/lib/python3.9/site-packages (from sentence-transformers) (4.55.4)\n",
      "Requirement already satisfied: scikit-learn in /Users/sol/Code/datascience/good-books/venv/lib/python3.9/site-packages (from sentence-transformers) (1.6.1)\n",
      "Requirement already satisfied: pyyaml>=5.1 in /Users/sol/Code/datascience/good-books/venv/lib/python3.9/site-packages (from huggingface-hub>=0.20.0->sentence-transformers) (6.0.2)\n",
      "Requirement already satisfied: requests in /Users/sol/Code/datascience/good-books/venv/lib/python3.9/site-packages (from huggingface-hub>=0.20.0->sentence-transformers) (2.32.5)\n",
      "Requirement already satisfied: hf-xet<2.0.0,>=1.1.3 in /Users/sol/Code/datascience/good-books/venv/lib/python3.9/site-packages (from huggingface-hub>=0.20.0->sentence-transformers) (1.1.9)\n",
      "Requirement already satisfied: fsspec>=2023.5.0 in /Users/sol/Code/datascience/good-books/venv/lib/python3.9/site-packages (from huggingface-hub>=0.20.0->sentence-transformers) (2025.7.0)\n",
      "Requirement already satisfied: filelock in /Users/sol/Code/datascience/good-books/venv/lib/python3.9/site-packages (from huggingface-hub>=0.20.0->sentence-transformers) (3.19.1)\n",
      "Requirement already satisfied: packaging>=20.9 in /Users/sol/Code/datascience/good-books/venv/lib/python3.9/site-packages (from huggingface-hub>=0.20.0->sentence-transformers) (25.0)\n",
      "Requirement already satisfied: jinja2 in /Users/sol/Code/datascience/good-books/venv/lib/python3.9/site-packages (from torch>=1.11.0->sentence-transformers) (3.1.6)\n",
      "Requirement already satisfied: sympy>=1.13.3 in /Users/sol/Code/datascience/good-books/venv/lib/python3.9/site-packages (from torch>=1.11.0->sentence-transformers) (1.14.0)\n",
      "Requirement already satisfied: networkx in /Users/sol/Code/datascience/good-books/venv/lib/python3.9/site-packages (from torch>=1.11.0->sentence-transformers) (3.2.1)\n",
      "Requirement already satisfied: mpmath<1.4,>=1.1.0 in /Users/sol/Code/datascience/good-books/venv/lib/python3.9/site-packages (from sympy>=1.13.3->torch>=1.11.0->sentence-transformers) (1.3.0)\n",
      "Requirement already satisfied: regex!=2019.12.17 in /Users/sol/Code/datascience/good-books/venv/lib/python3.9/site-packages (from transformers<5.0.0,>=4.41.0->sentence-transformers) (2025.7.34)\n",
      "Requirement already satisfied: numpy>=1.17 in /Users/sol/Code/datascience/good-books/venv/lib/python3.9/site-packages (from transformers<5.0.0,>=4.41.0->sentence-transformers) (2.0.2)\n",
      "Requirement already satisfied: safetensors>=0.4.3 in /Users/sol/Code/datascience/good-books/venv/lib/python3.9/site-packages (from transformers<5.0.0,>=4.41.0->sentence-transformers) (0.6.2)\n",
      "Requirement already satisfied: tokenizers<0.22,>=0.21 in /Users/sol/Code/datascience/good-books/venv/lib/python3.9/site-packages (from transformers<5.0.0,>=4.41.0->sentence-transformers) (0.21.4)\n",
      "Requirement already satisfied: MarkupSafe>=2.0 in /Users/sol/Code/datascience/good-books/venv/lib/python3.9/site-packages (from jinja2->torch>=1.11.0->sentence-transformers) (3.0.2)\n",
      "Requirement already satisfied: certifi>=2017.4.17 in /Users/sol/Code/datascience/good-books/venv/lib/python3.9/site-packages (from requests->huggingface-hub>=0.20.0->sentence-transformers) (2025.8.3)\n",
      "Requirement already satisfied: urllib3<3,>=1.21.1 in /Users/sol/Code/datascience/good-books/venv/lib/python3.9/site-packages (from requests->huggingface-hub>=0.20.0->sentence-transformers) (2.5.0)\n",
      "Requirement already satisfied: idna<4,>=2.5 in /Users/sol/Code/datascience/good-books/venv/lib/python3.9/site-packages (from requests->huggingface-hub>=0.20.0->sentence-transformers) (3.10)\n",
      "Requirement already satisfied: charset_normalizer<4,>=2 in /Users/sol/Code/datascience/good-books/venv/lib/python3.9/site-packages (from requests->huggingface-hub>=0.20.0->sentence-transformers) (3.4.3)\n",
      "Requirement already satisfied: joblib>=1.2.0 in /Users/sol/Code/datascience/good-books/venv/lib/python3.9/site-packages (from scikit-learn->sentence-transformers) (1.5.2)\n",
      "Requirement already satisfied: threadpoolctl>=3.1.0 in /Users/sol/Code/datascience/good-books/venv/lib/python3.9/site-packages (from scikit-learn->sentence-transformers) (3.6.0)\n",
      "Installing collected packages: sentence-transformers\n",
      "Successfully installed sentence-transformers-5.1.0\n",
      "\u001b[33mWARNING: You are using pip version 21.2.4; however, version 25.2 is available.\n",
      "You should consider upgrading via the '/Users/sol/Code/datascience/good-books/venv/bin/python3 -m pip install --upgrade pip' command.\u001b[0m\n"
     ]
    }
   ],
   "source": [
    "!pip install sentence-transformers"
   ]
  },
  {
   "cell_type": "code",
   "execution_count": 1,
   "id": "94e9d695",
   "metadata": {},
   "outputs": [
    {
     "name": "stdout",
     "output_type": "stream",
     "text": [
      "Requirement already satisfied: pandas in /Users/sol/Code/datascience/good-books/books/lib/python3.13/site-packages (2.3.2)\n",
      "Requirement already satisfied: scikit-learn in /Users/sol/Code/datascience/good-books/books/lib/python3.13/site-packages (1.7.1)\n",
      "Requirement already satisfied: numpy in /Users/sol/Code/datascience/good-books/books/lib/python3.13/site-packages (2.1.2)\n",
      "Requirement already satisfied: transformers in /Users/sol/Code/datascience/good-books/books/lib/python3.13/site-packages (4.55.4)\n",
      "Requirement already satisfied: sentence-transformers in /Users/sol/Code/datascience/good-books/books/lib/python3.13/site-packages (5.1.0)\n",
      "Requirement already satisfied: python-dateutil>=2.8.2 in /Users/sol/Code/datascience/good-books/books/lib/python3.13/site-packages (from pandas) (2.9.0.post0)\n",
      "Requirement already satisfied: pytz>=2020.1 in /Users/sol/Code/datascience/good-books/books/lib/python3.13/site-packages (from pandas) (2025.2)\n",
      "Requirement already satisfied: tzdata>=2022.7 in /Users/sol/Code/datascience/good-books/books/lib/python3.13/site-packages (from pandas) (2025.2)\n",
      "Requirement already satisfied: scipy>=1.8.0 in /Users/sol/Code/datascience/good-books/books/lib/python3.13/site-packages (from scikit-learn) (1.16.1)\n",
      "Requirement already satisfied: joblib>=1.2.0 in /Users/sol/Code/datascience/good-books/books/lib/python3.13/site-packages (from scikit-learn) (1.5.2)\n",
      "Requirement already satisfied: threadpoolctl>=3.1.0 in /Users/sol/Code/datascience/good-books/books/lib/python3.13/site-packages (from scikit-learn) (3.6.0)\n",
      "Requirement already satisfied: filelock in /Users/sol/Code/datascience/good-books/books/lib/python3.13/site-packages (from transformers) (3.13.1)\n",
      "Requirement already satisfied: huggingface-hub<1.0,>=0.34.0 in /Users/sol/Code/datascience/good-books/books/lib/python3.13/site-packages (from transformers) (0.34.4)\n",
      "Requirement already satisfied: packaging>=20.0 in /Users/sol/Code/datascience/good-books/books/lib/python3.13/site-packages (from transformers) (25.0)\n",
      "Requirement already satisfied: pyyaml>=5.1 in /Users/sol/Code/datascience/good-books/books/lib/python3.13/site-packages (from transformers) (6.0.2)\n",
      "Requirement already satisfied: regex!=2019.12.17 in /Users/sol/Code/datascience/good-books/books/lib/python3.13/site-packages (from transformers) (2025.7.34)\n",
      "Requirement already satisfied: requests in /Users/sol/Code/datascience/good-books/books/lib/python3.13/site-packages (from transformers) (2.32.5)\n",
      "Requirement already satisfied: tokenizers<0.22,>=0.21 in /Users/sol/Code/datascience/good-books/books/lib/python3.13/site-packages (from transformers) (0.21.4)\n",
      "Requirement already satisfied: safetensors>=0.4.3 in /Users/sol/Code/datascience/good-books/books/lib/python3.13/site-packages (from transformers) (0.6.2)\n",
      "Requirement already satisfied: tqdm>=4.27 in /Users/sol/Code/datascience/good-books/books/lib/python3.13/site-packages (from transformers) (4.67.1)\n",
      "Requirement already satisfied: fsspec>=2023.5.0 in /Users/sol/Code/datascience/good-books/books/lib/python3.13/site-packages (from huggingface-hub<1.0,>=0.34.0->transformers) (2024.6.1)\n",
      "Requirement already satisfied: typing-extensions>=3.7.4.3 in /Users/sol/Code/datascience/good-books/books/lib/python3.13/site-packages (from huggingface-hub<1.0,>=0.34.0->transformers) (4.12.2)\n",
      "Requirement already satisfied: hf-xet<2.0.0,>=1.1.3 in /Users/sol/Code/datascience/good-books/books/lib/python3.13/site-packages (from huggingface-hub<1.0,>=0.34.0->transformers) (1.1.9)\n",
      "Requirement already satisfied: torch>=1.11.0 in /Users/sol/Code/datascience/good-books/books/lib/python3.13/site-packages (from sentence-transformers) (2.8.0)\n",
      "Requirement already satisfied: Pillow in /Users/sol/Code/datascience/good-books/books/lib/python3.13/site-packages (from sentence-transformers) (11.0.0)\n",
      "Requirement already satisfied: six>=1.5 in /Users/sol/Code/datascience/good-books/books/lib/python3.13/site-packages (from python-dateutil>=2.8.2->pandas) (1.17.0)\n",
      "Requirement already satisfied: setuptools in /Users/sol/Code/datascience/good-books/books/lib/python3.13/site-packages (from torch>=1.11.0->sentence-transformers) (70.2.0)\n",
      "Requirement already satisfied: sympy>=1.13.3 in /Users/sol/Code/datascience/good-books/books/lib/python3.13/site-packages (from torch>=1.11.0->sentence-transformers) (1.13.3)\n",
      "Requirement already satisfied: networkx in /Users/sol/Code/datascience/good-books/books/lib/python3.13/site-packages (from torch>=1.11.0->sentence-transformers) (3.3)\n",
      "Requirement already satisfied: jinja2 in /Users/sol/Code/datascience/good-books/books/lib/python3.13/site-packages (from torch>=1.11.0->sentence-transformers) (3.1.4)\n",
      "Requirement already satisfied: mpmath<1.4,>=1.1.0 in /Users/sol/Code/datascience/good-books/books/lib/python3.13/site-packages (from sympy>=1.13.3->torch>=1.11.0->sentence-transformers) (1.3.0)\n",
      "Requirement already satisfied: MarkupSafe>=2.0 in /Users/sol/Code/datascience/good-books/books/lib/python3.13/site-packages (from jinja2->torch>=1.11.0->sentence-transformers) (2.1.5)\n",
      "Requirement already satisfied: charset_normalizer<4,>=2 in /Users/sol/Code/datascience/good-books/books/lib/python3.13/site-packages (from requests->transformers) (3.4.3)\n",
      "Requirement already satisfied: idna<4,>=2.5 in /Users/sol/Code/datascience/good-books/books/lib/python3.13/site-packages (from requests->transformers) (3.10)\n",
      "Requirement already satisfied: urllib3<3,>=1.21.1 in /Users/sol/Code/datascience/good-books/books/lib/python3.13/site-packages (from requests->transformers) (2.5.0)\n",
      "Requirement already satisfied: certifi>=2017.4.17 in /Users/sol/Code/datascience/good-books/books/lib/python3.13/site-packages (from requests->transformers) (2025.8.3)\n"
     ]
    }
   ],
   "source": [
    "!pip install pandas scikit-learn numpy transformers sentence-transformers\n",
    "\n"
   ]
  },
  {
   "cell_type": "code",
   "execution_count": null,
   "id": "9b0eaa71",
   "metadata": {},
   "outputs": [
    {
     "name": "stderr",
     "output_type": "stream",
     "text": [
      "/Users/sol/Code/datascience/good-books/books/lib/python3.13/site-packages/tqdm/auto.py:21: TqdmWarning: IProgress not found. Please update jupyter and ipywidgets. See https://ipywidgets.readthedocs.io/en/stable/user_install.html\n",
      "  from .autonotebook import tqdm as notebook_tqdm\n",
      "No model was supplied, defaulted to distilbert/distilbert-base-uncased-finetuned-sst-2-english and revision 714eb0f (https://huggingface.co/distilbert/distilbert-base-uncased-finetuned-sst-2-english).\n",
      "Using a pipeline without specifying a model name and revision in production is not recommended.\n",
      "Device set to use mps:0\n"
     ]
    },
    {
     "name": "stdout",
     "output_type": "stream",
     "text": [
      "(2, 421)\n",
      "   adventure  adventure full   amazing  amazing adventure        an  \\\n",
      "0   0.258199        0.258199  0.258199           0.258199  0.258199   \n",
      "1   0.000000        0.000000  0.000000           0.000000  0.000000   \n",
      "\n",
      "   an amazing       and  and courage   courage     dark  ...   emb_383  \\\n",
      "0    0.258199  0.258199     0.258199  0.258199  0.00000  ... -0.047822   \n",
      "1    0.000000  0.000000     0.000000  0.000000  0.27735  ...  0.064876   \n",
      "\n",
      "   sentiment_score  sentiment_label_num  num_words  num_chars  avg_word_len  \\\n",
      "0         0.999882                    1          8         52         5.625   \n",
      "1         0.999766                    1          8         42         4.375   \n",
      "\n",
      "   has_mystery  has_romance  has_adventure  has_horror  \n",
      "0            0            0              1           0  \n",
      "1            0            0              0           1  \n",
      "\n",
      "[2 rows x 421 columns]\n"
     ]
    }
   ],
   "source": [
    "import pandas as pd\n",
    "from sklearn.feature_extraction.text import TfidfVectorizer\n",
    "from sentence_transformers import SentenceTransformer\n",
    "from transformers import pipeline\n",
    "import numpy as np\n",
    "\n",
    "# Example DataFrame\n",
    "books_test = pd.DataFrame({\n",
    "    \"title\": [\"Book A\", \"Book B\"],\n",
    "    \"description\": [\n",
    "        \"An amazing adventure full of friendship and courage.\",\n",
    "        \"A dark horror story that will terrify you.\"\n",
    "    ]\n",
    "})\n",
    "\n",
    "# -------------------------------\n",
    "# 1️⃣ TF-IDF features\n",
    "# -------------------------------\n",
    "tfidf_vectorizer = TfidfVectorizer(max_features=5000, ngram_range=(1,2))\n",
    "X_tfidf = tfidf_vectorizer.fit_transform(books_test['description'])\n",
    "\n",
    "# Convert sparse TF-IDF to DataFrame\n",
    "tfidf_df = pd.DataFrame(X_tfidf.toarray(), columns=tfidf_vectorizer.get_feature_names_out())\n",
    "\n",
    "# -------------------------------\n",
    "# 2️⃣ Sentence embeddings\n",
    "# -------------------------------\n",
    "embed_model = SentenceTransformer('all-MiniLM-L6-v2')\n",
    "embeddings = embed_model.encode(books_test['description'].tolist())\n",
    "embeddings_df = pd.DataFrame(embeddings, columns=[f\"emb_{i}\" for i in range(embeddings.shape[1])])\n",
    "\n",
    "# -------------------------------\n",
    "# 3️⃣ Sentiment analysis\n",
    "# -------------------------------\n",
    "sentiment_model = pipeline(\"sentiment-analysis\", framework=\"pt\", device=0)\n",
    "sentiments = sentiment_model(books_test['description'].tolist(), batch_size=16)\n",
    "\n",
    "books_test['sentiment_label'] = [s['label'] for s in sentiments]\n",
    "books_test['sentiment_score'] = [s['score'] for s in sentiments]\n",
    "\n",
    "# Encode sentiment_label as numeric\n",
    "books_test['sentiment_label_num'] = books_test['sentiment_label'].map({\"NEGATIVE\":0, \"POSITIVE\":1})\n",
    "\n",
    "# -------------------------------\n",
    "# 4️⃣ Metadata / numeric features\n",
    "# -------------------------------\n",
    "books_test['description_num_words'] = books_test['description'].apply(lambda x: len(x.split()))\n",
    "books_test['_description_num_chars'] = books_test['description'].apply(len)\n",
    "books_test['description_avg_word_len'] = books_test['description'].apply(lambda x: sum(len(w) for w in x.split()) / max(len(x.split()),1))\n",
    "\n",
    "metadata_df = books_test[['sentiment_score','sentiment_label_num','description_num_words','_description_num_chars','description_avg_word_len']]\n",
    "\n",
    "# -------------------------------\n",
    "# 5️⃣ Optional keyword flags\n",
    "# -------------------------------\n",
    "keywords = ['mystery', 'romance', 'adventure', 'horror']\n",
    "for kw in keywords:\n",
    "    books_test[f'has_{kw}'] = books_test['description'].str.contains(kw, case=False).astype(int)\n",
    "\n",
    "keywords_df = books_test[[f'has_{kw}' for kw in keywords]]\n",
    "\n",
    "# -------------------------------\n",
    "# Combine all features\n",
    "# -------------------------------\n",
    "feature_matrix = pd.concat([tfidf_df, embeddings_df, metadata_df, keywords_df], axis=1)\n",
    "\n",
    "print(feature_matrix.shape)\n",
    "print(feature_matrix.head())\n"
   ]
  },
  {
   "cell_type": "code",
   "execution_count": null,
   "id": "ee2f1b64",
   "metadata": {},
   "outputs": [],
   "source": []
  },
  {
   "cell_type": "code",
   "execution_count": 2,
   "id": "26bd2a38",
   "metadata": {},
   "outputs": [
    {
     "name": "stdout",
     "output_type": "stream",
     "text": [
      "Found existing installation: tensorflow 2.20.0\n",
      "Uninstalling tensorflow-2.20.0:\n",
      "  Successfully uninstalled tensorflow-2.20.0\n",
      "Found existing installation: keras 3.10.0\n",
      "Uninstalling keras-3.10.0:\n",
      "  Successfully uninstalled keras-3.10.0\n"
     ]
    }
   ],
   "source": [
    "!pip uninstall tensorflow keras -y\n",
    "\n"
   ]
  },
  {
   "cell_type": "code",
   "execution_count": 3,
   "id": "5027c22a",
   "metadata": {},
   "outputs": [
    {
     "name": "stdout",
     "output_type": "stream",
     "text": [
      "Looking in indexes: https://download.pytorch.org/whl/cpu\n",
      "Requirement already satisfied: torch in /Users/sol/Code/datascience/good-books/venv/lib/python3.9/site-packages (2.8.0)\n",
      "Requirement already satisfied: torchvision in /Users/sol/Code/datascience/good-books/venv/lib/python3.9/site-packages (0.23.0)\n",
      "Requirement already satisfied: torchaudio in /Users/sol/Code/datascience/good-books/venv/lib/python3.9/site-packages (2.8.0)\n",
      "Requirement already satisfied: typing-extensions>=4.10.0 in /Users/sol/Code/datascience/good-books/venv/lib/python3.9/site-packages (from torch) (4.15.0)\n",
      "Requirement already satisfied: networkx in /Users/sol/Code/datascience/good-books/venv/lib/python3.9/site-packages (from torch) (3.2.1)\n",
      "Requirement already satisfied: sympy>=1.13.3 in /Users/sol/Code/datascience/good-books/venv/lib/python3.9/site-packages (from torch) (1.14.0)\n",
      "Requirement already satisfied: jinja2 in /Users/sol/Code/datascience/good-books/venv/lib/python3.9/site-packages (from torch) (3.1.6)\n",
      "Requirement already satisfied: fsspec in /Users/sol/Code/datascience/good-books/venv/lib/python3.9/site-packages (from torch) (2025.7.0)\n",
      "Requirement already satisfied: filelock in /Users/sol/Code/datascience/good-books/venv/lib/python3.9/site-packages (from torch) (3.19.1)\n",
      "Requirement already satisfied: numpy in /Users/sol/Code/datascience/good-books/venv/lib/python3.9/site-packages (from torchvision) (2.0.2)\n",
      "Requirement already satisfied: pillow!=8.3.*,>=5.3.0 in /Users/sol/Code/datascience/good-books/venv/lib/python3.9/site-packages (from torchvision) (11.3.0)\n",
      "Requirement already satisfied: mpmath<1.4,>=1.1.0 in /Users/sol/Code/datascience/good-books/venv/lib/python3.9/site-packages (from sympy>=1.13.3->torch) (1.3.0)\n",
      "Requirement already satisfied: MarkupSafe>=2.0 in /Users/sol/Code/datascience/good-books/venv/lib/python3.9/site-packages (from jinja2->torch) (3.0.2)\n",
      "\u001b[33mWARNING: You are using pip version 21.2.4; however, version 25.2 is available.\n",
      "You should consider upgrading via the '/Users/sol/Code/datascience/good-books/venv/bin/python3 -m pip install --upgrade pip' command.\u001b[0m\n",
      "Requirement already satisfied: transformers in /Users/sol/Code/datascience/good-books/venv/lib/python3.9/site-packages (4.55.4)\n",
      "Requirement already satisfied: sentence-transformers in /Users/sol/Code/datascience/good-books/venv/lib/python3.9/site-packages (5.1.0)\n",
      "Requirement already satisfied: packaging>=20.0 in /Users/sol/Code/datascience/good-books/venv/lib/python3.9/site-packages (from transformers) (25.0)\n",
      "Requirement already satisfied: requests in /Users/sol/Code/datascience/good-books/venv/lib/python3.9/site-packages (from transformers) (2.32.5)\n",
      "Requirement already satisfied: pyyaml>=5.1 in /Users/sol/Code/datascience/good-books/venv/lib/python3.9/site-packages (from transformers) (6.0.2)\n",
      "Requirement already satisfied: filelock in /Users/sol/Code/datascience/good-books/venv/lib/python3.9/site-packages (from transformers) (3.19.1)\n",
      "Requirement already satisfied: regex!=2019.12.17 in /Users/sol/Code/datascience/good-books/venv/lib/python3.9/site-packages (from transformers) (2025.7.34)\n",
      "Requirement already satisfied: tokenizers<0.22,>=0.21 in /Users/sol/Code/datascience/good-books/venv/lib/python3.9/site-packages (from transformers) (0.21.4)\n",
      "Requirement already satisfied: numpy>=1.17 in /Users/sol/Code/datascience/good-books/venv/lib/python3.9/site-packages (from transformers) (2.0.2)\n",
      "Requirement already satisfied: huggingface-hub<1.0,>=0.34.0 in /Users/sol/Code/datascience/good-books/venv/lib/python3.9/site-packages (from transformers) (0.34.4)\n",
      "Requirement already satisfied: safetensors>=0.4.3 in /Users/sol/Code/datascience/good-books/venv/lib/python3.9/site-packages (from transformers) (0.6.2)\n",
      "Requirement already satisfied: tqdm>=4.27 in /Users/sol/Code/datascience/good-books/venv/lib/python3.9/site-packages (from transformers) (4.67.1)\n",
      "Requirement already satisfied: typing_extensions>=4.5.0 in /Users/sol/Code/datascience/good-books/venv/lib/python3.9/site-packages (from sentence-transformers) (4.15.0)\n",
      "Requirement already satisfied: Pillow in /Users/sol/Code/datascience/good-books/venv/lib/python3.9/site-packages (from sentence-transformers) (11.3.0)\n",
      "Requirement already satisfied: scipy in /Users/sol/Code/datascience/good-books/venv/lib/python3.9/site-packages (from sentence-transformers) (1.13.1)\n",
      "Requirement already satisfied: torch>=1.11.0 in /Users/sol/Code/datascience/good-books/venv/lib/python3.9/site-packages (from sentence-transformers) (2.8.0)\n",
      "Requirement already satisfied: scikit-learn in /Users/sol/Code/datascience/good-books/venv/lib/python3.9/site-packages (from sentence-transformers) (1.6.1)\n",
      "Requirement already satisfied: hf-xet<2.0.0,>=1.1.3 in /Users/sol/Code/datascience/good-books/venv/lib/python3.9/site-packages (from huggingface-hub<1.0,>=0.34.0->transformers) (1.1.9)\n",
      "Requirement already satisfied: fsspec>=2023.5.0 in /Users/sol/Code/datascience/good-books/venv/lib/python3.9/site-packages (from huggingface-hub<1.0,>=0.34.0->transformers) (2025.7.0)\n",
      "Requirement already satisfied: networkx in /Users/sol/Code/datascience/good-books/venv/lib/python3.9/site-packages (from torch>=1.11.0->sentence-transformers) (3.2.1)\n",
      "Requirement already satisfied: sympy>=1.13.3 in /Users/sol/Code/datascience/good-books/venv/lib/python3.9/site-packages (from torch>=1.11.0->sentence-transformers) (1.14.0)\n",
      "Requirement already satisfied: jinja2 in /Users/sol/Code/datascience/good-books/venv/lib/python3.9/site-packages (from torch>=1.11.0->sentence-transformers) (3.1.6)\n",
      "Requirement already satisfied: mpmath<1.4,>=1.1.0 in /Users/sol/Code/datascience/good-books/venv/lib/python3.9/site-packages (from sympy>=1.13.3->torch>=1.11.0->sentence-transformers) (1.3.0)\n",
      "Requirement already satisfied: MarkupSafe>=2.0 in /Users/sol/Code/datascience/good-books/venv/lib/python3.9/site-packages (from jinja2->torch>=1.11.0->sentence-transformers) (3.0.2)\n",
      "Requirement already satisfied: charset_normalizer<4,>=2 in /Users/sol/Code/datascience/good-books/venv/lib/python3.9/site-packages (from requests->transformers) (3.4.3)\n",
      "Requirement already satisfied: idna<4,>=2.5 in /Users/sol/Code/datascience/good-books/venv/lib/python3.9/site-packages (from requests->transformers) (3.10)\n",
      "Requirement already satisfied: urllib3<3,>=1.21.1 in /Users/sol/Code/datascience/good-books/venv/lib/python3.9/site-packages (from requests->transformers) (2.5.0)\n",
      "Requirement already satisfied: certifi>=2017.4.17 in /Users/sol/Code/datascience/good-books/venv/lib/python3.9/site-packages (from requests->transformers) (2025.8.3)\n",
      "Requirement already satisfied: joblib>=1.2.0 in /Users/sol/Code/datascience/good-books/venv/lib/python3.9/site-packages (from scikit-learn->sentence-transformers) (1.5.2)\n",
      "Requirement already satisfied: threadpoolctl>=3.1.0 in /Users/sol/Code/datascience/good-books/venv/lib/python3.9/site-packages (from scikit-learn->sentence-transformers) (3.6.0)\n",
      "\u001b[33mWARNING: You are using pip version 21.2.4; however, version 25.2 is available.\n",
      "You should consider upgrading via the '/Users/sol/Code/datascience/good-books/venv/bin/python3 -m pip install --upgrade pip' command.\u001b[0m\n"
     ]
    }
   ],
   "source": [
    "!pip install torch torchvision torchaudio --index-url https://download.pytorch.org/whl/cpu\n",
    "!pip install --upgrade transformers sentence-transformers\n"
   ]
  },
  {
   "cell_type": "code",
   "execution_count": 58,
   "id": "366e347d",
   "metadata": {},
   "outputs": [
    {
     "data": {
      "text/plain": [
       "Index(['title', 'price', 'review/helpfulness', 'review/summary', 'review/text',\n",
       "       'description', 'authors', 'categories', 'popularity', 'total_reviews',\n",
       "       'helpful_reviews', 'percentage_helpful', 'author_count', 'author_1',\n",
       "       'author_2', 'author_3', 'sentiment_summary', 'sentiment_text',\n",
       "       'score_text', 'clean_categories'],\n",
       "      dtype='object')"
      ]
     },
     "execution_count": 58,
     "metadata": {},
     "output_type": "execute_result"
    }
   ],
   "source": [
    "books.columns\n"
   ]
  },
  {
   "cell_type": "code",
   "execution_count": 2,
   "id": "20527894",
   "metadata": {},
   "outputs": [
    {
     "data": {
      "text/html": [
       "<div>\n",
       "<style scoped>\n",
       "    .dataframe tbody tr th:only-of-type {\n",
       "        vertical-align: middle;\n",
       "    }\n",
       "\n",
       "    .dataframe tbody tr th {\n",
       "        vertical-align: top;\n",
       "    }\n",
       "\n",
       "    .dataframe thead th {\n",
       "        text-align: right;\n",
       "    }\n",
       "</style>\n",
       "<table border=\"1\" class=\"dataframe\">\n",
       "  <thead>\n",
       "    <tr style=\"text-align: right;\">\n",
       "      <th></th>\n",
       "      <th>title</th>\n",
       "      <th>price</th>\n",
       "      <th>review/helpfulness</th>\n",
       "      <th>review/summary</th>\n",
       "      <th>review/text</th>\n",
       "      <th>description</th>\n",
       "      <th>authors</th>\n",
       "      <th>categories</th>\n",
       "      <th>popularity</th>\n",
       "      <th>total_reviews</th>\n",
       "      <th>helpful_reviews</th>\n",
       "      <th>percentage_helpful</th>\n",
       "      <th>author_count</th>\n",
       "      <th>author_1</th>\n",
       "      <th>author_2</th>\n",
       "      <th>author_3</th>\n",
       "      <th>sentiment_summary</th>\n",
       "      <th>sentiment_text</th>\n",
       "      <th>score_text</th>\n",
       "    </tr>\n",
       "  </thead>\n",
       "  <tbody>\n",
       "    <tr>\n",
       "      <th>0</th>\n",
       "      <td>We Band of Angels: The Untold Story of America...</td>\n",
       "      <td>10.88</td>\n",
       "      <td>2/3</td>\n",
       "      <td>A Great Book about women in WWII</td>\n",
       "      <td>I have alway been a fan of fiction books set i...</td>\n",
       "      <td>In the fall of 1941, the Philippines was a gar...</td>\n",
       "      <td>'Elizabeth Norman'</td>\n",
       "      <td>'History'</td>\n",
       "      <td>Unpopular</td>\n",
       "      <td>3</td>\n",
       "      <td>2</td>\n",
       "      <td>0.666667</td>\n",
       "      <td>1</td>\n",
       "      <td>Elizabeth Norman</td>\n",
       "      <td>no_author_2</td>\n",
       "      <td>no_author_3</td>\n",
       "      <td>POSITIVE</td>\n",
       "      <td>POSITIVE</td>\n",
       "      <td>0.999283</td>\n",
       "    </tr>\n",
       "    <tr>\n",
       "      <th>1</th>\n",
       "      <td>Prayer That Brings Revival: Interceding for Go...</td>\n",
       "      <td>9.35</td>\n",
       "      <td>0/0</td>\n",
       "      <td>Very helpful book for church prayer groups and...</td>\n",
       "      <td>Very helpful book to give you a better prayer ...</td>\n",
       "      <td>In Prayer That Brings Revival, best-selling au...</td>\n",
       "      <td>'Yong-gi Cho'</td>\n",
       "      <td>'Religion'</td>\n",
       "      <td>Unpopular</td>\n",
       "      <td>0</td>\n",
       "      <td>0</td>\n",
       "      <td>0.000000</td>\n",
       "      <td>1</td>\n",
       "      <td>Yong-gi Cho</td>\n",
       "      <td>no_author_2</td>\n",
       "      <td>no_author_3</td>\n",
       "      <td>POSITIVE</td>\n",
       "      <td>POSITIVE</td>\n",
       "      <td>0.999845</td>\n",
       "    </tr>\n",
       "    <tr>\n",
       "      <th>2</th>\n",
       "      <td>The Mystical Journey from Jesus to Christ</td>\n",
       "      <td>24.95</td>\n",
       "      <td>17/19</td>\n",
       "      <td>Universal Spiritual Awakening Guide With Some ...</td>\n",
       "      <td>The message of this book is to find yourself a...</td>\n",
       "      <td>THE MYSTICAL JOURNEY FROM JESUS TO CHRIST Disc...</td>\n",
       "      <td>'Muata Ashby'</td>\n",
       "      <td>'Body, Mind &amp; Spirit'</td>\n",
       "      <td>Unpopular</td>\n",
       "      <td>19</td>\n",
       "      <td>17</td>\n",
       "      <td>0.894737</td>\n",
       "      <td>1</td>\n",
       "      <td>Muata Ashby</td>\n",
       "      <td>no_author_2</td>\n",
       "      <td>no_author_3</td>\n",
       "      <td>NEGATIVE</td>\n",
       "      <td>NEGATIVE</td>\n",
       "      <td>0.828281</td>\n",
       "    </tr>\n",
       "    <tr>\n",
       "      <th>3</th>\n",
       "      <td>Death Row</td>\n",
       "      <td>7.99</td>\n",
       "      <td>0/1</td>\n",
       "      <td>Ben Kincaid tries to stop an execution.</td>\n",
       "      <td>The hero of William Bernhardt's Ben Kincaid no...</td>\n",
       "      <td>Upon receiving his execution date, one of the ...</td>\n",
       "      <td>'Lynden Harris'</td>\n",
       "      <td>'Social Science'</td>\n",
       "      <td>Unpopular</td>\n",
       "      <td>1</td>\n",
       "      <td>0</td>\n",
       "      <td>0.000000</td>\n",
       "      <td>1</td>\n",
       "      <td>Lynden Harris</td>\n",
       "      <td>no_author_2</td>\n",
       "      <td>no_author_3</td>\n",
       "      <td>NEGATIVE</td>\n",
       "      <td>POSITIVE</td>\n",
       "      <td>0.995394</td>\n",
       "    </tr>\n",
       "    <tr>\n",
       "      <th>4</th>\n",
       "      <td>Sound and Form in Modern Poetry: Second Editio...</td>\n",
       "      <td>32.50</td>\n",
       "      <td>18/20</td>\n",
       "      <td>good introduction to modern prosody</td>\n",
       "      <td>There's a lot in this book which the reader wi...</td>\n",
       "      <td>An updated and expanded version of a classic a...</td>\n",
       "      <td>'Harvey Seymour Gross', 'Robert McDowell'</td>\n",
       "      <td>'Poetry'</td>\n",
       "      <td>Unpopular</td>\n",
       "      <td>20</td>\n",
       "      <td>18</td>\n",
       "      <td>0.900000</td>\n",
       "      <td>2</td>\n",
       "      <td>Harvey Seymour Gross</td>\n",
       "      <td>Robert McDowell</td>\n",
       "      <td>no_author_3</td>\n",
       "      <td>POSITIVE</td>\n",
       "      <td>POSITIVE</td>\n",
       "      <td>0.995729</td>\n",
       "    </tr>\n",
       "  </tbody>\n",
       "</table>\n",
       "</div>"
      ],
      "text/plain": [
       "                                               title  price  \\\n",
       "0  We Band of Angels: The Untold Story of America...  10.88   \n",
       "1  Prayer That Brings Revival: Interceding for Go...   9.35   \n",
       "2          The Mystical Journey from Jesus to Christ  24.95   \n",
       "3                                          Death Row   7.99   \n",
       "4  Sound and Form in Modern Poetry: Second Editio...  32.50   \n",
       "\n",
       "  review/helpfulness                                     review/summary  \\\n",
       "0                2/3                   A Great Book about women in WWII   \n",
       "1                0/0  Very helpful book for church prayer groups and...   \n",
       "2              17/19  Universal Spiritual Awakening Guide With Some ...   \n",
       "3                0/1            Ben Kincaid tries to stop an execution.   \n",
       "4              18/20                good introduction to modern prosody   \n",
       "\n",
       "                                         review/text  \\\n",
       "0  I have alway been a fan of fiction books set i...   \n",
       "1  Very helpful book to give you a better prayer ...   \n",
       "2  The message of this book is to find yourself a...   \n",
       "3  The hero of William Bernhardt's Ben Kincaid no...   \n",
       "4  There's a lot in this book which the reader wi...   \n",
       "\n",
       "                                         description  \\\n",
       "0  In the fall of 1941, the Philippines was a gar...   \n",
       "1  In Prayer That Brings Revival, best-selling au...   \n",
       "2  THE MYSTICAL JOURNEY FROM JESUS TO CHRIST Disc...   \n",
       "3  Upon receiving his execution date, one of the ...   \n",
       "4  An updated and expanded version of a classic a...   \n",
       "\n",
       "                                     authors             categories  \\\n",
       "0                         'Elizabeth Norman'              'History'   \n",
       "1                              'Yong-gi Cho'             'Religion'   \n",
       "2                              'Muata Ashby'  'Body, Mind & Spirit'   \n",
       "3                            'Lynden Harris'       'Social Science'   \n",
       "4  'Harvey Seymour Gross', 'Robert McDowell'               'Poetry'   \n",
       "\n",
       "  popularity  total_reviews  helpful_reviews  percentage_helpful  \\\n",
       "0  Unpopular              3                2            0.666667   \n",
       "1  Unpopular              0                0            0.000000   \n",
       "2  Unpopular             19               17            0.894737   \n",
       "3  Unpopular              1                0            0.000000   \n",
       "4  Unpopular             20               18            0.900000   \n",
       "\n",
       "   author_count              author_1         author_2     author_3  \\\n",
       "0             1      Elizabeth Norman      no_author_2  no_author_3   \n",
       "1             1           Yong-gi Cho      no_author_2  no_author_3   \n",
       "2             1           Muata Ashby      no_author_2  no_author_3   \n",
       "3             1         Lynden Harris      no_author_2  no_author_3   \n",
       "4             2  Harvey Seymour Gross  Robert McDowell  no_author_3   \n",
       "\n",
       "  sentiment_summary sentiment_text  score_text  \n",
       "0          POSITIVE       POSITIVE    0.999283  \n",
       "1          POSITIVE       POSITIVE    0.999845  \n",
       "2          NEGATIVE       NEGATIVE    0.828281  \n",
       "3          NEGATIVE       POSITIVE    0.995394  \n",
       "4          POSITIVE       POSITIVE    0.995729  "
      ]
     },
     "execution_count": 2,
     "metadata": {},
     "output_type": "execute_result"
    }
   ],
   "source": [
    "import pandas as pd \n",
    "books_w = pd.read_csv(\"data/books_with_sentiment.csv\")\n",
    "books_w.head()"
   ]
  },
  {
   "cell_type": "code",
   "execution_count": 5,
   "id": "18a90acc",
   "metadata": {},
   "outputs": [],
   "source": [
    "books_w['clean_categories'] = books_w['categories'].str.replace(\"'\", \"\")"
   ]
  },
  {
   "cell_type": "code",
   "execution_count": 6,
   "id": "9e261f7c",
   "metadata": {},
   "outputs": [
    {
     "data": {
      "text/plain": [
       "Index(['title', 'price', 'review/helpfulness', 'review/summary', 'review/text',\n",
       "       'description', 'authors', 'categories', 'popularity', 'total_reviews',\n",
       "       'helpful_reviews', 'percentage_helpful', 'author_count', 'author_1',\n",
       "       'author_2', 'author_3', 'sentiment_summary', 'sentiment_text',\n",
       "       'score_text', 'clean_categories'],\n",
       "      dtype='object')"
      ]
     },
     "execution_count": 6,
     "metadata": {},
     "output_type": "execute_result"
    }
   ],
   "source": [
    "books_w.columns"
   ]
  },
  {
   "cell_type": "code",
   "execution_count": null,
   "id": "034767e0",
   "metadata": {},
   "outputs": [],
   "source": [
    "filter_columns = ['title', 'price', 'review/helpfulness', 'review/summary', 'review/text',\n",
    "       'description', 'authors', 'categories', 'popularity', 'total_reviews',\n",
    "       'helpful_reviews', 'percentage_helpful', 'author_count', 'author_1',\n",
    "       'author_2', 'author_3', 'sentiment_summary', 'sentiment_text',\n",
    "       'score_text', 'clean_categories']"
   ]
  },
  {
   "cell_type": "code",
   "execution_count": 8,
   "id": "6a9a23c2",
   "metadata": {},
   "outputs": [],
   "source": [
    "books_sample = books_w.head(20)"
   ]
  },
  {
   "cell_type": "code",
   "execution_count": 9,
   "id": "512b3417",
   "metadata": {},
   "outputs": [
    {
     "data": {
      "text/html": [
       "<div>\n",
       "<style scoped>\n",
       "    .dataframe tbody tr th:only-of-type {\n",
       "        vertical-align: middle;\n",
       "    }\n",
       "\n",
       "    .dataframe tbody tr th {\n",
       "        vertical-align: top;\n",
       "    }\n",
       "\n",
       "    .dataframe thead th {\n",
       "        text-align: right;\n",
       "    }\n",
       "</style>\n",
       "<table border=\"1\" class=\"dataframe\">\n",
       "  <thead>\n",
       "    <tr style=\"text-align: right;\">\n",
       "      <th></th>\n",
       "      <th>title</th>\n",
       "      <th>price</th>\n",
       "      <th>review/helpfulness</th>\n",
       "      <th>review/summary</th>\n",
       "      <th>review/text</th>\n",
       "      <th>description</th>\n",
       "      <th>authors</th>\n",
       "      <th>categories</th>\n",
       "      <th>popularity</th>\n",
       "      <th>total_reviews</th>\n",
       "      <th>helpful_reviews</th>\n",
       "      <th>percentage_helpful</th>\n",
       "      <th>author_count</th>\n",
       "      <th>author_1</th>\n",
       "      <th>author_2</th>\n",
       "      <th>author_3</th>\n",
       "      <th>sentiment_summary</th>\n",
       "      <th>sentiment_text</th>\n",
       "      <th>score_text</th>\n",
       "      <th>clean_categories</th>\n",
       "    </tr>\n",
       "  </thead>\n",
       "  <tbody>\n",
       "    <tr>\n",
       "      <th>0</th>\n",
       "      <td>We Band of Angels: The Untold Story of America...</td>\n",
       "      <td>10.88</td>\n",
       "      <td>2/3</td>\n",
       "      <td>A Great Book about women in WWII</td>\n",
       "      <td>I have alway been a fan of fiction books set i...</td>\n",
       "      <td>In the fall of 1941, the Philippines was a gar...</td>\n",
       "      <td>'Elizabeth Norman'</td>\n",
       "      <td>'History'</td>\n",
       "      <td>Unpopular</td>\n",
       "      <td>3</td>\n",
       "      <td>2</td>\n",
       "      <td>0.666667</td>\n",
       "      <td>1</td>\n",
       "      <td>Elizabeth Norman</td>\n",
       "      <td>no_author_2</td>\n",
       "      <td>no_author_3</td>\n",
       "      <td>POSITIVE</td>\n",
       "      <td>POSITIVE</td>\n",
       "      <td>0.999283</td>\n",
       "      <td>History</td>\n",
       "    </tr>\n",
       "    <tr>\n",
       "      <th>1</th>\n",
       "      <td>Prayer That Brings Revival: Interceding for Go...</td>\n",
       "      <td>9.35</td>\n",
       "      <td>0/0</td>\n",
       "      <td>Very helpful book for church prayer groups and...</td>\n",
       "      <td>Very helpful book to give you a better prayer ...</td>\n",
       "      <td>In Prayer That Brings Revival, best-selling au...</td>\n",
       "      <td>'Yong-gi Cho'</td>\n",
       "      <td>'Religion'</td>\n",
       "      <td>Unpopular</td>\n",
       "      <td>0</td>\n",
       "      <td>0</td>\n",
       "      <td>0.000000</td>\n",
       "      <td>1</td>\n",
       "      <td>Yong-gi Cho</td>\n",
       "      <td>no_author_2</td>\n",
       "      <td>no_author_3</td>\n",
       "      <td>POSITIVE</td>\n",
       "      <td>POSITIVE</td>\n",
       "      <td>0.999845</td>\n",
       "      <td>Religion</td>\n",
       "    </tr>\n",
       "    <tr>\n",
       "      <th>2</th>\n",
       "      <td>The Mystical Journey from Jesus to Christ</td>\n",
       "      <td>24.95</td>\n",
       "      <td>17/19</td>\n",
       "      <td>Universal Spiritual Awakening Guide With Some ...</td>\n",
       "      <td>The message of this book is to find yourself a...</td>\n",
       "      <td>THE MYSTICAL JOURNEY FROM JESUS TO CHRIST Disc...</td>\n",
       "      <td>'Muata Ashby'</td>\n",
       "      <td>'Body, Mind &amp; Spirit'</td>\n",
       "      <td>Unpopular</td>\n",
       "      <td>19</td>\n",
       "      <td>17</td>\n",
       "      <td>0.894737</td>\n",
       "      <td>1</td>\n",
       "      <td>Muata Ashby</td>\n",
       "      <td>no_author_2</td>\n",
       "      <td>no_author_3</td>\n",
       "      <td>NEGATIVE</td>\n",
       "      <td>NEGATIVE</td>\n",
       "      <td>0.828281</td>\n",
       "      <td>Body, Mind &amp; Spirit</td>\n",
       "    </tr>\n",
       "    <tr>\n",
       "      <th>3</th>\n",
       "      <td>Death Row</td>\n",
       "      <td>7.99</td>\n",
       "      <td>0/1</td>\n",
       "      <td>Ben Kincaid tries to stop an execution.</td>\n",
       "      <td>The hero of William Bernhardt's Ben Kincaid no...</td>\n",
       "      <td>Upon receiving his execution date, one of the ...</td>\n",
       "      <td>'Lynden Harris'</td>\n",
       "      <td>'Social Science'</td>\n",
       "      <td>Unpopular</td>\n",
       "      <td>1</td>\n",
       "      <td>0</td>\n",
       "      <td>0.000000</td>\n",
       "      <td>1</td>\n",
       "      <td>Lynden Harris</td>\n",
       "      <td>no_author_2</td>\n",
       "      <td>no_author_3</td>\n",
       "      <td>NEGATIVE</td>\n",
       "      <td>POSITIVE</td>\n",
       "      <td>0.995394</td>\n",
       "      <td>Social Science</td>\n",
       "    </tr>\n",
       "    <tr>\n",
       "      <th>4</th>\n",
       "      <td>Sound and Form in Modern Poetry: Second Editio...</td>\n",
       "      <td>32.50</td>\n",
       "      <td>18/20</td>\n",
       "      <td>good introduction to modern prosody</td>\n",
       "      <td>There's a lot in this book which the reader wi...</td>\n",
       "      <td>An updated and expanded version of a classic a...</td>\n",
       "      <td>'Harvey Seymour Gross', 'Robert McDowell'</td>\n",
       "      <td>'Poetry'</td>\n",
       "      <td>Unpopular</td>\n",
       "      <td>20</td>\n",
       "      <td>18</td>\n",
       "      <td>0.900000</td>\n",
       "      <td>2</td>\n",
       "      <td>Harvey Seymour Gross</td>\n",
       "      <td>Robert McDowell</td>\n",
       "      <td>no_author_3</td>\n",
       "      <td>POSITIVE</td>\n",
       "      <td>POSITIVE</td>\n",
       "      <td>0.995729</td>\n",
       "      <td>Poetry</td>\n",
       "    </tr>\n",
       "    <tr>\n",
       "      <th>5</th>\n",
       "      <td>For Women Only: What You Need to Know about th...</td>\n",
       "      <td>10.98</td>\n",
       "      <td>9/12</td>\n",
       "      <td>This is not a male bashing book!</td>\n",
       "      <td>We all know that men and women are wired diffe...</td>\n",
       "      <td>What bestselling author Feldhahn's research re...</td>\n",
       "      <td>'Shaunti Feldhahn'</td>\n",
       "      <td>'Religion'</td>\n",
       "      <td>Unpopular</td>\n",
       "      <td>12</td>\n",
       "      <td>9</td>\n",
       "      <td>0.750000</td>\n",
       "      <td>1</td>\n",
       "      <td>Shaunti Feldhahn</td>\n",
       "      <td>no_author_2</td>\n",
       "      <td>no_author_3</td>\n",
       "      <td>POSITIVE</td>\n",
       "      <td>POSITIVE</td>\n",
       "      <td>0.991373</td>\n",
       "      <td>Religion</td>\n",
       "    </tr>\n",
       "    <tr>\n",
       "      <th>6</th>\n",
       "      <td>Scar Tissue</td>\n",
       "      <td>10.98</td>\n",
       "      <td>0/0</td>\n",
       "      <td>Tedious</td>\n",
       "      <td>I must admit that I have not finished reading ...</td>\n",
       "      <td>In this \"vivid and inspiring\" NYT bestseller (...</td>\n",
       "      <td>'Anthony Kiedis', 'Larry Sloman'</td>\n",
       "      <td>'Music'</td>\n",
       "      <td>Unpopular</td>\n",
       "      <td>0</td>\n",
       "      <td>0</td>\n",
       "      <td>0.000000</td>\n",
       "      <td>2</td>\n",
       "      <td>Anthony Kiedis</td>\n",
       "      <td>Larry Sloman</td>\n",
       "      <td>no_author_3</td>\n",
       "      <td>NEGATIVE</td>\n",
       "      <td>NEGATIVE</td>\n",
       "      <td>0.578432</td>\n",
       "      <td>Music</td>\n",
       "    </tr>\n",
       "    <tr>\n",
       "      <th>7</th>\n",
       "      <td>Dereliction of Duty: Johnson, McNamara, the Jo...</td>\n",
       "      <td>11.55</td>\n",
       "      <td>3/4</td>\n",
       "      <td>Good but dense</td>\n",
       "      <td>I used this book in a course on the Vietnam Wa...</td>\n",
       "      <td>\"The war in Vietnam was not lost in the field,...</td>\n",
       "      <td>'H. R. McMaster'</td>\n",
       "      <td>'History'</td>\n",
       "      <td>Unpopular</td>\n",
       "      <td>4</td>\n",
       "      <td>3</td>\n",
       "      <td>0.750000</td>\n",
       "      <td>1</td>\n",
       "      <td>H. R. McMaster</td>\n",
       "      <td>no_author_2</td>\n",
       "      <td>no_author_3</td>\n",
       "      <td>POSITIVE</td>\n",
       "      <td>POSITIVE</td>\n",
       "      <td>0.997806</td>\n",
       "      <td>History</td>\n",
       "    </tr>\n",
       "    <tr>\n",
       "      <th>8</th>\n",
       "      <td>Epiphany at Goofy's Gas</td>\n",
       "      <td>9.95</td>\n",
       "      <td>0/7</td>\n",
       "      <td>Keeler, trying hard</td>\n",
       "      <td>Greg Keeler wants to have his poems mean somet...</td>\n",
       "      <td>Greg Keeler has gradually gained a larger audi...</td>\n",
       "      <td>'Greg Keeler'</td>\n",
       "      <td>'Poetry'</td>\n",
       "      <td>Unpopular</td>\n",
       "      <td>7</td>\n",
       "      <td>0</td>\n",
       "      <td>0.000000</td>\n",
       "      <td>1</td>\n",
       "      <td>Greg Keeler</td>\n",
       "      <td>no_author_2</td>\n",
       "      <td>no_author_3</td>\n",
       "      <td>NEGATIVE</td>\n",
       "      <td>NEGATIVE</td>\n",
       "      <td>0.986693</td>\n",
       "      <td>Poetry</td>\n",
       "    </tr>\n",
       "    <tr>\n",
       "      <th>9</th>\n",
       "      <td>Virginia Woolf</td>\n",
       "      <td>12.95</td>\n",
       "      <td>6/6</td>\n",
       "      <td>Another excellent addition to a wonderful seri...</td>\n",
       "      <td>I've become quite enchanted with the Overlook ...</td>\n",
       "      <td>Traces the life of the British novelist and di...</td>\n",
       "      <td>'Hermione Lee'</td>\n",
       "      <td>'Biography &amp; Autobiography'</td>\n",
       "      <td>Unpopular</td>\n",
       "      <td>6</td>\n",
       "      <td>6</td>\n",
       "      <td>1.000000</td>\n",
       "      <td>1</td>\n",
       "      <td>Hermione Lee</td>\n",
       "      <td>no_author_2</td>\n",
       "      <td>no_author_3</td>\n",
       "      <td>POSITIVE</td>\n",
       "      <td>POSITIVE</td>\n",
       "      <td>0.994241</td>\n",
       "      <td>Biography &amp; Autobiography</td>\n",
       "    </tr>\n",
       "    <tr>\n",
       "      <th>10</th>\n",
       "      <td>The Trembling Mountain: A Personal Account of ...</td>\n",
       "      <td>24.00</td>\n",
       "      <td>0/1</td>\n",
       "      <td>incredible</td>\n",
       "      <td>really wonderful account of a man's journey to...</td>\n",
       "      <td>Kuru, like Mad Cow disease, is caused by a rar...</td>\n",
       "      <td>'Robert Klitzman'</td>\n",
       "      <td>'Science'</td>\n",
       "      <td>Unpopular</td>\n",
       "      <td>1</td>\n",
       "      <td>0</td>\n",
       "      <td>0.000000</td>\n",
       "      <td>1</td>\n",
       "      <td>Robert Klitzman</td>\n",
       "      <td>no_author_2</td>\n",
       "      <td>no_author_3</td>\n",
       "      <td>POSITIVE</td>\n",
       "      <td>POSITIVE</td>\n",
       "      <td>0.999749</td>\n",
       "      <td>Science</td>\n",
       "    </tr>\n",
       "    <tr>\n",
       "      <th>11</th>\n",
       "      <td>The Food Service Professional Guide to Control...</td>\n",
       "      <td>14.96</td>\n",
       "      <td>0/0</td>\n",
       "      <td>Basic Costs</td>\n",
       "      <td>The books in this series seem to only cover th...</td>\n",
       "      <td>This series of fifteen books - The Food Servic...</td>\n",
       "      <td>'Douglas Robert Brown'</td>\n",
       "      <td>'Business &amp; Economics'</td>\n",
       "      <td>Unpopular</td>\n",
       "      <td>0</td>\n",
       "      <td>0</td>\n",
       "      <td>0.000000</td>\n",
       "      <td>1</td>\n",
       "      <td>Douglas Robert Brown</td>\n",
       "      <td>no_author_2</td>\n",
       "      <td>no_author_3</td>\n",
       "      <td>NEGATIVE</td>\n",
       "      <td>NEGATIVE</td>\n",
       "      <td>0.999525</td>\n",
       "      <td>Business &amp; Economics</td>\n",
       "    </tr>\n",
       "    <tr>\n",
       "      <th>12</th>\n",
       "      <td>The Jungle Book (Townsend Library Edition)</td>\n",
       "      <td>4.95</td>\n",
       "      <td>0/0</td>\n",
       "      <td>Fantastic.</td>\n",
       "      <td>Loved it. Mowgli is just a loving character an...</td>\n",
       "      <td>The Return of Tarzan was first published in th...</td>\n",
       "      <td>'Edgar Rice Burroughs'</td>\n",
       "      <td>'Fiction'</td>\n",
       "      <td>Unpopular</td>\n",
       "      <td>0</td>\n",
       "      <td>0</td>\n",
       "      <td>0.000000</td>\n",
       "      <td>1</td>\n",
       "      <td>Edgar Rice Burroughs</td>\n",
       "      <td>no_author_2</td>\n",
       "      <td>no_author_3</td>\n",
       "      <td>POSITIVE</td>\n",
       "      <td>POSITIVE</td>\n",
       "      <td>0.999872</td>\n",
       "      <td>Fiction</td>\n",
       "    </tr>\n",
       "    <tr>\n",
       "      <th>13</th>\n",
       "      <td>1491: New Revelations of the Americas Before C...</td>\n",
       "      <td>24.15</td>\n",
       "      <td>0/3</td>\n",
       "      <td>Some interesting hypotheses</td>\n",
       "      <td>I really looked forward to reading this book a...</td>\n",
       "      <td>Hoe de wereld zich ontwikkelde na de ontdekkin...</td>\n",
       "      <td>'Charles C. Mann'</td>\n",
       "      <td>'History'</td>\n",
       "      <td>Unpopular</td>\n",
       "      <td>3</td>\n",
       "      <td>0</td>\n",
       "      <td>0.000000</td>\n",
       "      <td>1</td>\n",
       "      <td>Charles C. Mann</td>\n",
       "      <td>no_author_2</td>\n",
       "      <td>no_author_3</td>\n",
       "      <td>NEGATIVE</td>\n",
       "      <td>POSITIVE</td>\n",
       "      <td>0.940203</td>\n",
       "      <td>History</td>\n",
       "    </tr>\n",
       "    <tr>\n",
       "      <th>14</th>\n",
       "      <td>Earth Under Fire: Humanity's Survival of the I...</td>\n",
       "      <td>17.24</td>\n",
       "      <td>4/6</td>\n",
       "      <td>A Plausible Synthesis</td>\n",
       "      <td>The central thesis of this book is that the nu...</td>\n",
       "      <td>In Earth Under Fire, Paul LaViolette investiga...</td>\n",
       "      <td>'Paul A. LaViolette'</td>\n",
       "      <td>'Body, Mind &amp; Spirit'</td>\n",
       "      <td>Unpopular</td>\n",
       "      <td>6</td>\n",
       "      <td>4</td>\n",
       "      <td>0.666667</td>\n",
       "      <td>1</td>\n",
       "      <td>Paul A. LaViolette</td>\n",
       "      <td>no_author_2</td>\n",
       "      <td>no_author_3</td>\n",
       "      <td>POSITIVE</td>\n",
       "      <td>POSITIVE</td>\n",
       "      <td>0.827372</td>\n",
       "      <td>Body, Mind &amp; Spirit</td>\n",
       "    </tr>\n",
       "    <tr>\n",
       "      <th>15</th>\n",
       "      <td>Will You Please Be Quiet, Please?: Stories</td>\n",
       "      <td>10.20</td>\n",
       "      <td>21/21</td>\n",
       "      <td>assortment of harsh, condensed, short stories</td>\n",
       "      <td>There is something very satisfying about short...</td>\n",
       "      <td>With this, his first collection of stories, Ra...</td>\n",
       "      <td>'Raymond Carver'</td>\n",
       "      <td>'Fiction'</td>\n",
       "      <td>Unpopular</td>\n",
       "      <td>21</td>\n",
       "      <td>21</td>\n",
       "      <td>1.000000</td>\n",
       "      <td>1</td>\n",
       "      <td>Raymond Carver</td>\n",
       "      <td>no_author_2</td>\n",
       "      <td>no_author_3</td>\n",
       "      <td>NEGATIVE</td>\n",
       "      <td>POSITIVE</td>\n",
       "      <td>0.997320</td>\n",
       "      <td>Fiction</td>\n",
       "    </tr>\n",
       "    <tr>\n",
       "      <th>16</th>\n",
       "      <td>Origins of the Civil Rights Movements</td>\n",
       "      <td>18.95</td>\n",
       "      <td>2/3</td>\n",
       "      <td>One Quibble</td>\n",
       "      <td>When Professor Morris wrote this book, he did ...</td>\n",
       "      <td>A blending of scholarly research and interview...</td>\n",
       "      <td>'Aldon D. Morris'</td>\n",
       "      <td>'History'</td>\n",
       "      <td>Unpopular</td>\n",
       "      <td>3</td>\n",
       "      <td>2</td>\n",
       "      <td>0.666667</td>\n",
       "      <td>1</td>\n",
       "      <td>Aldon D. Morris</td>\n",
       "      <td>no_author_2</td>\n",
       "      <td>no_author_3</td>\n",
       "      <td>POSITIVE</td>\n",
       "      <td>NEGATIVE</td>\n",
       "      <td>0.996330</td>\n",
       "      <td>History</td>\n",
       "    </tr>\n",
       "    <tr>\n",
       "      <th>17</th>\n",
       "      <td>Maniac Magee (Turtleback School &amp; Library Bind...</td>\n",
       "      <td>14.35</td>\n",
       "      <td>0/2</td>\n",
       "      <td>maniac magee</td>\n",
       "      <td>I thought the book was boring. Maniac's parent...</td>\n",
       "      <td>A Newbery Medal winning modern classic about a...</td>\n",
       "      <td>'Jerry Spinelli'</td>\n",
       "      <td>'Juvenile Fiction'</td>\n",
       "      <td>Unpopular</td>\n",
       "      <td>2</td>\n",
       "      <td>0</td>\n",
       "      <td>0.000000</td>\n",
       "      <td>1</td>\n",
       "      <td>Jerry Spinelli</td>\n",
       "      <td>no_author_2</td>\n",
       "      <td>no_author_3</td>\n",
       "      <td>NEGATIVE</td>\n",
       "      <td>NEGATIVE</td>\n",
       "      <td>0.923309</td>\n",
       "      <td>Juvenile Fiction</td>\n",
       "    </tr>\n",
       "    <tr>\n",
       "      <th>18</th>\n",
       "      <td>Mission Furniture, How To Make It: Parts I, II...</td>\n",
       "      <td>8.27</td>\n",
       "      <td>8/9</td>\n",
       "      <td>Historically interesting</td>\n",
       "      <td>This book succeeds at depicting furniture desi...</td>\n",
       "      <td>Nearly 100 of the finest, most desirable piece...</td>\n",
       "      <td>'Henry Haven Windsor'</td>\n",
       "      <td>'Antiques &amp; Collectibles'</td>\n",
       "      <td>Unpopular</td>\n",
       "      <td>9</td>\n",
       "      <td>8</td>\n",
       "      <td>0.888889</td>\n",
       "      <td>1</td>\n",
       "      <td>Henry Haven Windsor</td>\n",
       "      <td>no_author_2</td>\n",
       "      <td>no_author_3</td>\n",
       "      <td>POSITIVE</td>\n",
       "      <td>POSITIVE</td>\n",
       "      <td>0.998116</td>\n",
       "      <td>Antiques &amp; Collectibles</td>\n",
       "    </tr>\n",
       "    <tr>\n",
       "      <th>19</th>\n",
       "      <td>Power Plays : Win or Lose--How History's Great...</td>\n",
       "      <td>6.40</td>\n",
       "      <td>3/5</td>\n",
       "      <td>A limited analysis of political leaders</td>\n",
       "      <td>Morris is an intelligent and astute political ...</td>\n",
       "      <td>Dick Morris is the frankest and most outspoken...</td>\n",
       "      <td>'Dick Morris'</td>\n",
       "      <td>'Political Science'</td>\n",
       "      <td>Unpopular</td>\n",
       "      <td>5</td>\n",
       "      <td>3</td>\n",
       "      <td>0.600000</td>\n",
       "      <td>1</td>\n",
       "      <td>Dick Morris</td>\n",
       "      <td>no_author_2</td>\n",
       "      <td>no_author_3</td>\n",
       "      <td>POSITIVE</td>\n",
       "      <td>NEGATIVE</td>\n",
       "      <td>0.999309</td>\n",
       "      <td>Political Science</td>\n",
       "    </tr>\n",
       "  </tbody>\n",
       "</table>\n",
       "</div>"
      ],
      "text/plain": [
       "                                                title  price  \\\n",
       "0   We Band of Angels: The Untold Story of America...  10.88   \n",
       "1   Prayer That Brings Revival: Interceding for Go...   9.35   \n",
       "2           The Mystical Journey from Jesus to Christ  24.95   \n",
       "3                                           Death Row   7.99   \n",
       "4   Sound and Form in Modern Poetry: Second Editio...  32.50   \n",
       "5   For Women Only: What You Need to Know about th...  10.98   \n",
       "6                                         Scar Tissue  10.98   \n",
       "7   Dereliction of Duty: Johnson, McNamara, the Jo...  11.55   \n",
       "8                             Epiphany at Goofy's Gas   9.95   \n",
       "9                                      Virginia Woolf  12.95   \n",
       "10  The Trembling Mountain: A Personal Account of ...  24.00   \n",
       "11  The Food Service Professional Guide to Control...  14.96   \n",
       "12         The Jungle Book (Townsend Library Edition)   4.95   \n",
       "13  1491: New Revelations of the Americas Before C...  24.15   \n",
       "14  Earth Under Fire: Humanity's Survival of the I...  17.24   \n",
       "15         Will You Please Be Quiet, Please?: Stories  10.20   \n",
       "16              Origins of the Civil Rights Movements  18.95   \n",
       "17  Maniac Magee (Turtleback School & Library Bind...  14.35   \n",
       "18  Mission Furniture, How To Make It: Parts I, II...   8.27   \n",
       "19  Power Plays : Win or Lose--How History's Great...   6.40   \n",
       "\n",
       "   review/helpfulness                                     review/summary  \\\n",
       "0                 2/3                   A Great Book about women in WWII   \n",
       "1                 0/0  Very helpful book for church prayer groups and...   \n",
       "2               17/19  Universal Spiritual Awakening Guide With Some ...   \n",
       "3                 0/1            Ben Kincaid tries to stop an execution.   \n",
       "4               18/20                good introduction to modern prosody   \n",
       "5                9/12                   This is not a male bashing book!   \n",
       "6                 0/0                                            Tedious   \n",
       "7                 3/4                                     Good but dense   \n",
       "8                 0/7                                Keeler, trying hard   \n",
       "9                 6/6  Another excellent addition to a wonderful seri...   \n",
       "10                0/1                                         incredible   \n",
       "11                0/0                                        Basic Costs   \n",
       "12                0/0                                         Fantastic.   \n",
       "13                0/3                        Some interesting hypotheses   \n",
       "14                4/6                              A Plausible Synthesis   \n",
       "15              21/21      assortment of harsh, condensed, short stories   \n",
       "16                2/3                                        One Quibble   \n",
       "17                0/2                                       maniac magee   \n",
       "18                8/9                           Historically interesting   \n",
       "19                3/5            A limited analysis of political leaders   \n",
       "\n",
       "                                          review/text  \\\n",
       "0   I have alway been a fan of fiction books set i...   \n",
       "1   Very helpful book to give you a better prayer ...   \n",
       "2   The message of this book is to find yourself a...   \n",
       "3   The hero of William Bernhardt's Ben Kincaid no...   \n",
       "4   There's a lot in this book which the reader wi...   \n",
       "5   We all know that men and women are wired diffe...   \n",
       "6   I must admit that I have not finished reading ...   \n",
       "7   I used this book in a course on the Vietnam Wa...   \n",
       "8   Greg Keeler wants to have his poems mean somet...   \n",
       "9   I've become quite enchanted with the Overlook ...   \n",
       "10  really wonderful account of a man's journey to...   \n",
       "11  The books in this series seem to only cover th...   \n",
       "12  Loved it. Mowgli is just a loving character an...   \n",
       "13  I really looked forward to reading this book a...   \n",
       "14  The central thesis of this book is that the nu...   \n",
       "15  There is something very satisfying about short...   \n",
       "16  When Professor Morris wrote this book, he did ...   \n",
       "17  I thought the book was boring. Maniac's parent...   \n",
       "18  This book succeeds at depicting furniture desi...   \n",
       "19  Morris is an intelligent and astute political ...   \n",
       "\n",
       "                                          description  \\\n",
       "0   In the fall of 1941, the Philippines was a gar...   \n",
       "1   In Prayer That Brings Revival, best-selling au...   \n",
       "2   THE MYSTICAL JOURNEY FROM JESUS TO CHRIST Disc...   \n",
       "3   Upon receiving his execution date, one of the ...   \n",
       "4   An updated and expanded version of a classic a...   \n",
       "5   What bestselling author Feldhahn's research re...   \n",
       "6   In this \"vivid and inspiring\" NYT bestseller (...   \n",
       "7   \"The war in Vietnam was not lost in the field,...   \n",
       "8   Greg Keeler has gradually gained a larger audi...   \n",
       "9   Traces the life of the British novelist and di...   \n",
       "10  Kuru, like Mad Cow disease, is caused by a rar...   \n",
       "11  This series of fifteen books - The Food Servic...   \n",
       "12  The Return of Tarzan was first published in th...   \n",
       "13  Hoe de wereld zich ontwikkelde na de ontdekkin...   \n",
       "14  In Earth Under Fire, Paul LaViolette investiga...   \n",
       "15  With this, his first collection of stories, Ra...   \n",
       "16  A blending of scholarly research and interview...   \n",
       "17  A Newbery Medal winning modern classic about a...   \n",
       "18  Nearly 100 of the finest, most desirable piece...   \n",
       "19  Dick Morris is the frankest and most outspoken...   \n",
       "\n",
       "                                      authors                   categories  \\\n",
       "0                          'Elizabeth Norman'                    'History'   \n",
       "1                               'Yong-gi Cho'                   'Religion'   \n",
       "2                               'Muata Ashby'        'Body, Mind & Spirit'   \n",
       "3                             'Lynden Harris'             'Social Science'   \n",
       "4   'Harvey Seymour Gross', 'Robert McDowell'                     'Poetry'   \n",
       "5                          'Shaunti Feldhahn'                   'Religion'   \n",
       "6            'Anthony Kiedis', 'Larry Sloman'                      'Music'   \n",
       "7                            'H. R. McMaster'                    'History'   \n",
       "8                               'Greg Keeler'                     'Poetry'   \n",
       "9                              'Hermione Lee'  'Biography & Autobiography'   \n",
       "10                          'Robert Klitzman'                    'Science'   \n",
       "11                     'Douglas Robert Brown'       'Business & Economics'   \n",
       "12                     'Edgar Rice Burroughs'                    'Fiction'   \n",
       "13                          'Charles C. Mann'                    'History'   \n",
       "14                       'Paul A. LaViolette'        'Body, Mind & Spirit'   \n",
       "15                           'Raymond Carver'                    'Fiction'   \n",
       "16                          'Aldon D. Morris'                    'History'   \n",
       "17                           'Jerry Spinelli'           'Juvenile Fiction'   \n",
       "18                      'Henry Haven Windsor'    'Antiques & Collectibles'   \n",
       "19                              'Dick Morris'          'Political Science'   \n",
       "\n",
       "   popularity  total_reviews  helpful_reviews  percentage_helpful  \\\n",
       "0   Unpopular              3                2            0.666667   \n",
       "1   Unpopular              0                0            0.000000   \n",
       "2   Unpopular             19               17            0.894737   \n",
       "3   Unpopular              1                0            0.000000   \n",
       "4   Unpopular             20               18            0.900000   \n",
       "5   Unpopular             12                9            0.750000   \n",
       "6   Unpopular              0                0            0.000000   \n",
       "7   Unpopular              4                3            0.750000   \n",
       "8   Unpopular              7                0            0.000000   \n",
       "9   Unpopular              6                6            1.000000   \n",
       "10  Unpopular              1                0            0.000000   \n",
       "11  Unpopular              0                0            0.000000   \n",
       "12  Unpopular              0                0            0.000000   \n",
       "13  Unpopular              3                0            0.000000   \n",
       "14  Unpopular              6                4            0.666667   \n",
       "15  Unpopular             21               21            1.000000   \n",
       "16  Unpopular              3                2            0.666667   \n",
       "17  Unpopular              2                0            0.000000   \n",
       "18  Unpopular              9                8            0.888889   \n",
       "19  Unpopular              5                3            0.600000   \n",
       "\n",
       "    author_count              author_1         author_2     author_3  \\\n",
       "0              1      Elizabeth Norman      no_author_2  no_author_3   \n",
       "1              1           Yong-gi Cho      no_author_2  no_author_3   \n",
       "2              1           Muata Ashby      no_author_2  no_author_3   \n",
       "3              1         Lynden Harris      no_author_2  no_author_3   \n",
       "4              2  Harvey Seymour Gross  Robert McDowell  no_author_3   \n",
       "5              1      Shaunti Feldhahn      no_author_2  no_author_3   \n",
       "6              2        Anthony Kiedis     Larry Sloman  no_author_3   \n",
       "7              1        H. R. McMaster      no_author_2  no_author_3   \n",
       "8              1           Greg Keeler      no_author_2  no_author_3   \n",
       "9              1          Hermione Lee      no_author_2  no_author_3   \n",
       "10             1       Robert Klitzman      no_author_2  no_author_3   \n",
       "11             1  Douglas Robert Brown      no_author_2  no_author_3   \n",
       "12             1  Edgar Rice Burroughs      no_author_2  no_author_3   \n",
       "13             1       Charles C. Mann      no_author_2  no_author_3   \n",
       "14             1    Paul A. LaViolette      no_author_2  no_author_3   \n",
       "15             1        Raymond Carver      no_author_2  no_author_3   \n",
       "16             1       Aldon D. Morris      no_author_2  no_author_3   \n",
       "17             1        Jerry Spinelli      no_author_2  no_author_3   \n",
       "18             1   Henry Haven Windsor      no_author_2  no_author_3   \n",
       "19             1           Dick Morris      no_author_2  no_author_3   \n",
       "\n",
       "   sentiment_summary sentiment_text  score_text           clean_categories  \n",
       "0           POSITIVE       POSITIVE    0.999283                    History  \n",
       "1           POSITIVE       POSITIVE    0.999845                   Religion  \n",
       "2           NEGATIVE       NEGATIVE    0.828281        Body, Mind & Spirit  \n",
       "3           NEGATIVE       POSITIVE    0.995394             Social Science  \n",
       "4           POSITIVE       POSITIVE    0.995729                     Poetry  \n",
       "5           POSITIVE       POSITIVE    0.991373                   Religion  \n",
       "6           NEGATIVE       NEGATIVE    0.578432                      Music  \n",
       "7           POSITIVE       POSITIVE    0.997806                    History  \n",
       "8           NEGATIVE       NEGATIVE    0.986693                     Poetry  \n",
       "9           POSITIVE       POSITIVE    0.994241  Biography & Autobiography  \n",
       "10          POSITIVE       POSITIVE    0.999749                    Science  \n",
       "11          NEGATIVE       NEGATIVE    0.999525       Business & Economics  \n",
       "12          POSITIVE       POSITIVE    0.999872                    Fiction  \n",
       "13          NEGATIVE       POSITIVE    0.940203                    History  \n",
       "14          POSITIVE       POSITIVE    0.827372        Body, Mind & Spirit  \n",
       "15          NEGATIVE       POSITIVE    0.997320                    Fiction  \n",
       "16          POSITIVE       NEGATIVE    0.996330                    History  \n",
       "17          NEGATIVE       NEGATIVE    0.923309           Juvenile Fiction  \n",
       "18          POSITIVE       POSITIVE    0.998116    Antiques & Collectibles  \n",
       "19          POSITIVE       NEGATIVE    0.999309          Political Science  "
      ]
     },
     "execution_count": 9,
     "metadata": {},
     "output_type": "execute_result"
    }
   ],
   "source": [
    "books_sample"
   ]
  },
  {
   "cell_type": "code",
   "execution_count": null,
   "id": "dcd92420",
   "metadata": {},
   "outputs": [
    {
     "name": "stderr",
     "output_type": "stream",
     "text": [
      "No model was supplied, defaulted to distilbert/distilbert-base-uncased-finetuned-sst-2-english and revision 714eb0f (https://huggingface.co/distilbert/distilbert-base-uncased-finetuned-sst-2-english).\n",
      "Using a pipeline without specifying a model name and revision in production is not recommended.\n",
      "Device set to use mps:0\n",
      "/var/folders/1j/zxqksxbs0bg17c_9cj2hm8bh0000gn/T/ipykernel_86025/1967946610.py:62: PerformanceWarning: DataFrame is highly fragmented.  This is usually the result of calling `frame.insert` many times, which has poor performance.  Consider joining all columns at once using pd.concat(axis=1) instead. To get a de-fragmented frame, use `newframe = frame.copy()`\n",
      "  books_test[f'has_{kw}'] = books_test['description'].str.contains(kw, case=False).astype(int)\n"
     ]
    },
    {
     "name": "stdout",
     "output_type": "stream",
     "text": [
      "(15583, 5491)\n",
      "   000  000 first   10  100  101   11   12   13   15  150  ...  has_peace  \\\n",
      "0  0.0        0.0  0.0  0.0  0.0  0.0  0.0  0.0  0.0  0.0  ...          0   \n",
      "1  0.0        0.0  0.0  0.0  0.0  0.0  0.0  0.0  0.0  0.0  ...          0   \n",
      "2  0.0        0.0  0.0  0.0  0.0  0.0  0.0  0.0  0.0  0.0  ...          0   \n",
      "3  0.0        0.0  0.0  0.0  0.0  0.0  0.0  0.0  0.0  0.0  ...          0   \n",
      "4  0.0        0.0  0.0  0.0  0.0  0.0  0.0  0.0  0.0  0.0  ...          0   \n",
      "\n",
      "   has_justice  has_crime  has_punishment  has_crime  has_detective  \\\n",
      "0            0          0               0          0              0   \n",
      "1            0          0               0          0              0   \n",
      "2            0          0               0          0              0   \n",
      "3            1          0               0          0              0   \n",
      "4            0          0               0          0              0   \n",
      "\n",
      "   has_paranormal  has_supernatural  has_magic  has_mythology  \n",
      "0               0                 0          0              0  \n",
      "1               0                 0          0              0  \n",
      "2               0                 0          0              0  \n",
      "3               0                 0          0              0  \n",
      "4               0                 0          0              0  \n",
      "\n",
      "[5 rows x 5491 columns]\n"
     ]
    }
   ],
   "source": [
    "import pandas as pd\n",
    "from sklearn.feature_extraction.text import TfidfVectorizer\n",
    "from sentence_transformers import SentenceTransformer\n",
    "from transformers import pipeline\n",
    "import numpy as np\n",
    "\n",
    "\n",
    "books_test = books_w\n",
    "\n",
    "\n",
    "# -------------------------------\n",
    "# 1️⃣ TF-IDF features\n",
    "# -------------------------------\n",
    "tfidf_vectorizer = TfidfVectorizer(max_features=5000, ngram_range=(1, 2))\n",
    "X_tfidf = tfidf_vectorizer.fit_transform(books_test['description'])\n",
    "\n",
    "# Convert sparse TF-IDF to DataFrame\n",
    "tfidf_df = pd.DataFrame(\n",
    "    X_tfidf.toarray(), columns=tfidf_vectorizer.get_feature_names_out())\n",
    "\n",
    "# -------------------------------\n",
    "# 2️⃣ Sentence embeddings\n",
    "# -------------------------------\n",
    "embed_model = SentenceTransformer('all-MiniLM-L6-v2')\n",
    "embeddings = embed_model.encode(books_test['description'].tolist())\n",
    "embeddings_df = pd.DataFrame(\n",
    "    embeddings, columns=[f\"emb_{i}\" for i in range(embeddings.shape[1])])\n",
    "\n",
    "# -------------------------------\n",
    "# 3️⃣ Sentiment analysis\n",
    "# -------------------------------\n",
    "sentiment_model = pipeline(\n",
    "    \"sentiment-analysis\", framework=\"pt\", device=0, truncation=True, padding=True)\n",
    "sentiments = sentiment_model(books_test['description'].tolist(), batch_size=16)\n",
    "\n",
    "books_test['sentiment_label'] = [s['label'] for s in sentiments]\n",
    "books_test['sentiment_score'] = [s['score'] for s in sentiments]\n",
    "\n",
    "# Encode sentiment_label as numeric\n",
    "books_test['sentiment_label_num'] = books_test['sentiment_label'].map(\n",
    "    {\"NEGATIVE\": 0, \"POSITIVE\": 1})\n",
    "\n",
    "# -------------------------------\n",
    "# 4️⃣ Metadata / numeric features\n",
    "# -------------------------------\n",
    "books_test['num_words'] = books_test['description'].apply(\n",
    "    lambda x: len(x.split()))\n",
    "books_test['num_chars'] = books_test['description'].apply(len)\n",
    "books_test['avg_word_len'] = books_test['description'].apply(\n",
    "    lambda x: sum(len(w) for w in x.split()) / max(len(x.split()), 1))\n",
    "\n",
    "metadata_df = books_test[[\n",
    "    'sentiment_score', 'sentiment_label_num', 'num_words', 'num_chars', 'avg_word_len']]\n",
    "\n",
    "# -------------------------------\n",
    "# 5️⃣ Optional keyword flags\n",
    "# -------------------------------\n",
    "keywords = [\n",
    "    'mystery', 'romance', 'adventure', 'horror', 'queer', 'thriller', 'fantasy',\n",
    "    'science fiction', 'sci-fi', 'dystopian', 'historical', 'young adult', 'children',\n",
    "    'non-fiction', 'biography', 'memoir', 'self-help', 'psychology', 'philosophy',\n",
    "    'crime', 'detective', 'paranormal', 'supernatural', 'magic', 'mythology',\n",
    "    'fairy tale', 'classic', 'drama', 'suspense', 'war', 'political', 'travel',\n",
    "    'spiritual', 'religion', 'comedy', 'humor', 'family', 'friendship', 'coming-of-age',\n",
    "    'teen', 'epic', 'western', 'literary', 'tragedy', 'romantic', 'love', 'school',\n",
    "    'science', 'technology', 'mystical', 'dark', 'poetry', 'art', 'music', 'dance',\n",
    "    'theater', 'film', 'tv', 'comics', 'anime', 'manga', 'gaming', 'hobbies', 'crafts', 'diy',\n",
    "    'cooking', 'food', 'drink', 'coffee', 'tea', 'alcohol', 'smoking', 'drugs', 'sex', 'relationships',\n",
    "    'dating', 'marriage', 'family', 'children', 'parenting', 'education', 'school', 'college', 'university',\n",
    "    'job', 'career', 'money', 'finance', 'investing', 'economy', 'politics', 'war', 'peace', 'justice', 'crime',\n",
    "    'punishment', 'crime', 'detective', 'paranormal', 'supernatural', 'magic', 'mythology', 'murder', 'violence',\n",
    "]\n",
    "for kw in keywords:\n",
    "    books_test[f'has_{kw}'] = books_test['description'].str.contains(\n",
    "        kw, case=False).astype(int)\n",
    "\n",
    "keywords_df = books_test[[f'has_{kw}' for kw in keywords]]\n",
    "\n",
    "# -------------------------------\n",
    "# Combine all features\n",
    "# -------------------------------\n",
    "feature_matrix = pd.concat(\n",
    "    [tfidf_df, embeddings_df, metadata_df, keywords_df], axis=1)\n",
    "\n",
    "print(feature_matrix.shape)\n",
    "print(feature_matrix.head())"
   ]
  },
  {
   "cell_type": "code",
   "execution_count": 28,
   "id": "4da73c8b",
   "metadata": {},
   "outputs": [],
   "source": [
    "books_test.to_csv(\"data/books_test.csv\", index=False)"
   ]
  },
  {
   "cell_type": "code",
   "execution_count": 33,
   "id": "dc99b5b3",
   "metadata": {},
   "outputs": [
    {
     "name": "stdout",
     "output_type": "stream",
     "text": [
      "<class 'pandas.core.frame.DataFrame'>\n",
      "RangeIndex: 15583 entries, 0 to 15582\n",
      "Columns: 117 entries, title to has_punishment\n",
      "dtypes: float64(5), int64(97), object(15)\n",
      "memory usage: 13.9+ MB\n"
     ]
    }
   ],
   "source": [
    "books_test.info()"
   ]
  },
  {
   "cell_type": "code",
   "execution_count": 40,
   "id": "8b9f4009",
   "metadata": {},
   "outputs": [
    {
     "name": "stdout",
     "output_type": "stream",
     "text": [
      "['has_mystery', 'has_romance', 'has_adventure', 'has_horror', 'has_queer', 'has_thriller', 'has_fantasy', 'has_science fiction', 'has_sci-fi', 'has_dystopian', 'has_historical', 'has_young adult', 'has_children', 'has_non-fiction', 'has_biography', 'has_memoir', 'has_self-help', 'has_psychology', 'has_philosophy', 'has_crime', 'has_detective', 'has_paranormal', 'has_supernatural', 'has_magic', 'has_mythology', 'has_fairy tale', 'has_classic', 'has_drama', 'has_suspense', 'has_war', 'has_political', 'has_travel', 'has_spiritual', 'has_religion', 'has_comedy', 'has_humor', 'has_family', 'has_friendship', 'has_coming-of-age', 'has_teen', 'has_epic', 'has_western', 'has_literary', 'has_tragedy', 'has_romantic', 'has_love', 'has_school', 'has_science', 'has_technology', 'has_mystical', 'has_dark', 'has_poetry', 'has_art', 'has_music', 'has_dance', 'has_theater', 'has_film', 'has_tv', 'has_comics', 'has_anime', 'has_manga', 'has_gaming', 'has_hobbies', 'has_crafts', 'has_diy', 'has_cooking', 'has_food', 'has_drink', 'has_coffee', 'has_tea', 'has_alcohol', 'has_smoking', 'has_drugs', 'has_sex', 'has_relationships', 'has_dating', 'has_marriage', 'has_parenting', 'has_education', 'has_college', 'has_university', 'has_job', 'has_career', 'has_money', 'has_finance', 'has_investing', 'has_economy', 'has_politics', 'has_peace', 'has_justice', 'has_punishment']\n",
      "has_children\n",
      "has_children\n",
      "0    14665\n",
      "1      918\n",
      "Name: count, dtype: int64\n",
      "\n",
      "\n",
      "has_classic\n",
      "has_classic\n",
      "0    14464\n",
      "1     1119\n",
      "Name: count, dtype: int64\n",
      "\n",
      "\n",
      "has_war\n",
      "has_war\n",
      "0    12186\n",
      "1     3397\n",
      "Name: count, dtype: int64\n",
      "\n",
      "\n",
      "has_family\n",
      "has_family\n",
      "0    14267\n",
      "1     1316\n",
      "Name: count, dtype: int64\n",
      "\n",
      "\n",
      "has_teen\n",
      "has_teen\n",
      "0    14634\n",
      "1      949\n",
      "Name: count, dtype: int64\n",
      "\n",
      "\n",
      "has_love\n",
      "has_love\n",
      "0    13039\n",
      "1     2544\n",
      "Name: count, dtype: int64\n",
      "\n",
      "\n",
      "has_school\n",
      "has_school\n",
      "0    14779\n",
      "1      804\n",
      "Name: count, dtype: int64\n",
      "\n",
      "\n",
      "has_art\n",
      "has_art\n",
      "0    10263\n",
      "1     5320\n",
      "Name: count, dtype: int64\n",
      "\n",
      "\n",
      "has_tea\n",
      "has_tea\n",
      "0    13682\n",
      "1     1901\n",
      "Name: count, dtype: int64\n",
      "\n",
      "\n",
      "['has_children', 'has_classic', 'has_war', 'has_family', 'has_teen', 'has_love', 'has_school', 'has_art', 'has_tea']\n"
     ]
    }
   ],
   "source": [
    "books_test.head()\n",
    "books_test.columns\n",
    "#list of all the columns that start with has_\n",
    "has_columns = [col for col in books_test.columns if col.startswith('has_')]\n",
    "print(has_columns)\n",
    "# check each column to see if it has 1 values\n",
    "has_columns_w_1_value = []\n",
    "for col in has_columns:\n",
    "    # if the values 1 have more than 20\n",
    "    if books_test[col].value_counts()[0] < 15000:\n",
    "        print(col)\n",
    "        print(books_test[col].value_counts())\n",
    "        print(\"\\n\")\n",
    "        has_columns_w_1_value.append(col)\n",
    "  \n",
    "\n",
    "print(has_columns_w_1_value)\n"
   ]
  },
  {
   "cell_type": "code",
   "execution_count": 34,
   "id": "30d3bc55",
   "metadata": {},
   "outputs": [
    {
     "data": {
      "text/plain": [
       "has_justice\n",
       "0    15331\n",
       "1      252\n",
       "Name: count, dtype: int64"
      ]
     },
     "execution_count": 34,
     "metadata": {},
     "output_type": "execute_result"
    }
   ],
   "source": [
    "books_test['has_justice']\n",
    "books_test['has_justice'].value_counts()\n"
   ]
  },
  {
   "cell_type": "code",
   "execution_count": 75,
   "id": "5bb51fe5",
   "metadata": {},
   "outputs": [
    {
     "name": "stderr",
     "output_type": "stream",
     "text": [
      "/var/folders/1j/zxqksxbs0bg17c_9cj2hm8bh0000gn/T/ipykernel_86025/321026520.py:32: PerformanceWarning: DataFrame is highly fragmented.  This is usually the result of calling `frame.insert` many times, which has poor performance.  Consider joining all columns at once using pd.concat(axis=1) instead. To get a de-fragmented frame, use `newframe = frame.copy()`\n",
      "  books_test[f'has_{kw}'] = books_test['description'].str.contains(\n"
     ]
    }
   ],
   "source": [
    "\n",
    "# -------------------------------\n",
    "# 5️⃣ Optional keyword flags\n",
    "# -------------------------------\n",
    "keywords = [\n",
    "    'mystery', 'romance', 'adventure', 'horror', 'queer', 'thriller', 'fantasy',\n",
    "    'science fiction', 'sci-fi', 'dystopian', 'historical', 'young adult', 'children',\n",
    "    'non-fiction', 'biography', 'memoir', 'self-help', 'psychology', 'philosophy',\n",
    "    'crime', 'detective', 'paranormal', 'supernatural', 'magic', 'mythology',\n",
    "    'fairy tale', 'classic', 'drama', 'suspense', 'war', 'political', 'travel',\n",
    "    'spiritual', 'religion', 'comedy', 'humor', 'family', 'friendship', 'coming-of-age',\n",
    "    'teen', 'epic', 'western', 'literary', 'tragedy', 'romantic', 'love', 'school',\n",
    "    'science', 'technology', 'mystical', 'dark', 'poetry', 'art', 'music', 'dance','sisters','brothers',\n",
    "    'theater', 'film', 'tv', 'comics', 'anime', 'manga', 'gaming', 'hobbies', 'crafts', 'diy',\n",
    "    'cooking', 'food', 'drink', 'coffee', 'tea', 'alcohol', 'smoking', 'drugs', 'sex', 'relationships',\n",
    "    'dating', 'marriage', 'family', 'children', 'parenting', 'education', 'school', 'college', 'university',\n",
    "    'job', 'career', 'money', 'finance', 'investing', 'economy', 'politics', 'war', 'peace', 'justice', 'crime',\n",
    "    'punishment', 'crime', 'detective', 'paranormal', 'supernatural', 'magic', 'mythology', 'murder', 'violence','heartbreak', 'loss',\n",
    "    'grieve', 'mission', 'adventure', 'mystery', 'romance', 'horror', 'queer', 'thriller', 'fantasy',\n",
    "    'science fiction', 'sci-fi', 'dystopian', 'historical', 'young adult', 'children',\n",
    "    'non-fiction', 'biography', 'memoir', 'self-help', 'psychology', 'philosophy',\n",
    "    'crime', 'detective', 'paranormal', 'supernatural', 'magic', 'mythology', 'murder', 'violence',\n",
    "    'history', 'food', 'drink', 'coffee', 'tea', 'alcohol', 'smoking', 'drugs', 'sex', 'relationships',\n",
    "    'dating', 'marriage', 'family', 'children', 'parenting', 'education', 'school', 'college', 'university',\n",
    "    'job', 'career', 'money', 'finance', 'investing', 'economy', 'politics', 'war','melodrama', 'peace', 'justice', 'crime',\n",
    "    'punishment', 'crime', 'detective', 'paranormal', 'supernatural', 'magic', 'mythology', 'murder', 'violence',\n",
    "    'earth', 'space', 'time', 'universe', 'galaxy', 'planet', 'moon', 'sun', 'stars', 'sky', 'clouds', 'rain', 'snow', 'wind', 'weather', 'nature', 'animals', 'plants', 'trees', 'flowers', 'colors', 'art', 'music', 'dance',\n",
    "   'relationships', 'friendship', 'coming-of-age', 'teen', 'epic', 'western', 'literary', 'tragedy', 'romantic', 'love', 'school', 'victorian','binge', 'dummies','bible', 'pirate', 'monster', 'summer', 'winter'\n",
    "   'autumn','workout','fetish', 'erotica','coach', 'education','drugs','prayer', 'sister', 'sucess', 'media', 'guide']\n",
    "kw_set = set(keywords)\n",
    "keywords = list(kw_set)\n",
    "for kw in keywords:\n",
    "    books_test[f'has_{kw}'] = books_test['description'].str.contains(\n",
    "        kw, case=False).astype(int)\n",
    "\n",
    "keywords_df = books_test[[f'has_{kw}' for kw in keywords]]"
   ]
  },
  {
   "cell_type": "code",
   "execution_count": 65,
   "id": "5d9136f1",
   "metadata": {},
   "outputs": [],
   "source": [
    "total_rows = 15583\n",
    "books_to_include = 500\n",
    "keywords_threshold = total_rows - books_to_include"
   ]
  },
  {
   "cell_type": "code",
   "execution_count": 76,
   "id": "a28ea782",
   "metadata": {},
   "outputs": [
    {
     "name": "stdout",
     "output_type": "stream",
     "text": [
      "(15583, 165) 139\n",
      "has_children\n",
      "has_children\n",
      "0    14665\n",
      "1      918\n",
      "Name: count, dtype: int64\n",
      "\n",
      "\n",
      "has_classic\n",
      "has_classic\n",
      "0    14464\n",
      "1     1119\n",
      "Name: count, dtype: int64\n",
      "\n",
      "\n",
      "has_war\n",
      "has_war\n",
      "0    12186\n",
      "1     3397\n",
      "Name: count, dtype: int64\n",
      "\n",
      "\n",
      "has_spiritual\n",
      "has_spiritual\n",
      "0    15030\n",
      "1      553\n",
      "Name: count, dtype: int64\n",
      "\n",
      "\n",
      "has_family\n",
      "has_family\n",
      "0    14267\n",
      "1     1316\n",
      "Name: count, dtype: int64\n",
      "\n",
      "\n",
      "has_teen\n",
      "has_teen\n",
      "0    14634\n",
      "1      949\n",
      "Name: count, dtype: int64\n",
      "\n",
      "\n",
      "has_love\n",
      "has_love\n",
      "0    13039\n",
      "1     2544\n",
      "Name: count, dtype: int64\n",
      "\n",
      "\n",
      "has_school\n",
      "has_school\n",
      "0    14779\n",
      "1      804\n",
      "Name: count, dtype: int64\n",
      "\n",
      "\n",
      "has_science\n",
      "has_science\n",
      "0    15022\n",
      "1      561\n",
      "Name: count, dtype: int64\n",
      "\n",
      "\n",
      "has_art\n",
      "has_art\n",
      "0    10263\n",
      "1     5320\n",
      "Name: count, dtype: int64\n",
      "\n",
      "\n",
      "has_tea\n",
      "has_tea\n",
      "0    13682\n",
      "1     1901\n",
      "Name: count, dtype: int64\n",
      "\n",
      "\n",
      "has_sex\n",
      "has_sex\n",
      "0    15000\n",
      "1      583\n",
      "Name: count, dtype: int64\n",
      "\n",
      "\n",
      "has_murder\n",
      "has_murder\n",
      "0    14892\n",
      "1      691\n",
      "Name: count, dtype: int64\n",
      "\n",
      "\n",
      "has_history\n",
      "has_history\n",
      "0    14177\n",
      "1     1406\n",
      "Name: count, dtype: int64\n",
      "\n",
      "\n",
      "has_nature\n",
      "has_nature\n",
      "0    15046\n",
      "1      537\n",
      "Name: count, dtype: int64\n",
      "\n",
      "\n",
      "has_loss\n",
      "has_loss\n",
      "0    15002\n",
      "1      581\n",
      "Name: count, dtype: int64\n",
      "\n",
      "\n",
      "has_rain\n",
      "has_rain\n",
      "0    14551\n",
      "1     1032\n",
      "Name: count, dtype: int64\n",
      "\n",
      "\n",
      "has_time\n",
      "has_time\n",
      "0    11877\n",
      "1     3706\n",
      "Name: count, dtype: int64\n",
      "\n",
      "\n",
      "has_guide\n",
      "has_guide\n",
      "0    13666\n",
      "1     1917\n",
      "Name: count, dtype: int64\n",
      "\n",
      "\n",
      "['has_children', 'has_classic', 'has_war', 'has_spiritual', 'has_family', 'has_teen', 'has_love', 'has_school', 'has_science', 'has_art', 'has_tea', 'has_sex', 'has_murder', 'has_history', 'has_nature', 'has_loss', 'has_rain', 'has_time', 'has_guide'] 19\n"
     ]
    }
   ],
   "source": [
    "books_test.head()\n",
    "books_test.columns\n",
    "#list of all the columns that start with has_\n",
    "has_columns = [col for col in books_test.columns if col.startswith('has_')]\n",
    "print(books_test.shape,len(has_columns))\n",
    "# check each column to see if it has 1 values\n",
    "has_columns_w_1_value = []\n",
    "for col in has_columns:\n",
    "    # if the values 1 have more than 20\n",
    "    if books_test[col].value_counts()[0] < keywords_threshold:\n",
    "        print(col)\n",
    "        print(books_test[col].value_counts())\n",
    "        print(\"\\n\")\n",
    "        has_columns_w_1_value.append(col)\n",
    "  \n",
    "\n",
    "print(has_columns_w_1_value, len(has_columns_w_1_value))\n"
   ]
  },
  {
   "cell_type": "code",
   "execution_count": 53,
   "id": "052aed67",
   "metadata": {},
   "outputs": [
    {
     "data": {
      "text/plain": [
       "has_murder\n",
       "0    14892\n",
       "1      691\n",
       "Name: count, dtype: int64"
      ]
     },
     "execution_count": 53,
     "metadata": {},
     "output_type": "execute_result"
    }
   ],
   "source": [
    "books_test['has_murder']\n",
    "books_test['has_murder'].value_counts()\n",
    "\n",
    "\n"
   ]
  },
  {
   "cell_type": "code",
   "execution_count": 77,
   "id": "9d66088c",
   "metadata": {},
   "outputs": [
    {
     "data": {
      "text/plain": [
       "['has_children',\n",
       " 'has_classic',\n",
       " 'has_war',\n",
       " 'has_spiritual',\n",
       " 'has_family',\n",
       " 'has_teen',\n",
       " 'has_love',\n",
       " 'has_school',\n",
       " 'has_science',\n",
       " 'has_art',\n",
       " 'has_tea',\n",
       " 'has_sex',\n",
       " 'has_murder',\n",
       " 'has_history',\n",
       " 'has_nature',\n",
       " 'has_loss',\n",
       " 'has_rain',\n",
       " 'has_time',\n",
       " 'has_guide']"
      ]
     },
     "execution_count": 77,
     "metadata": {},
     "output_type": "execute_result"
    }
   ],
   "source": [
    "has_columns_w_1_value"
   ]
  },
  {
   "cell_type": "code",
   "execution_count": 79,
   "id": "6d1c8a52",
   "metadata": {},
   "outputs": [
    {
     "name": "stdout",
     "output_type": "stream",
     "text": [
      "Index(['title', 'price', 'review/helpfulness', 'review/summary', 'review/text',\n",
      "       'description', 'authors', 'categories', 'popularity', 'total_reviews',\n",
      "       ...\n",
      "       'has_erotica', 'has_workout', 'has_fetish', 'has_coach', 'has_prayer',\n",
      "       'has_sucess', 'has_melodrama', 'has_sister', 'has_media', 'has_guide'],\n",
      "      dtype='object', length=165)\n"
     ]
    }
   ],
   "source": [
    "print(books_test.columns)"
   ]
  },
  {
   "cell_type": "code",
   "execution_count": 101,
   "id": "5122dd2a",
   "metadata": {},
   "outputs": [
    {
     "name": "stdout",
     "output_type": "stream",
     "text": [
      "Total columns: 165\n",
      "Has columns to keep: 19\n",
      "Non-has columns: 26\n",
      "Final columns: 45\n"
     ]
    }
   ],
   "source": [
    "# Get all columns\n",
    "all_columns = books_test.columns.tolist()\n",
    "\n",
    "# Get has_ columns\n",
    "has_columns = [col for col in all_columns if col.startswith('has_')]\n",
    "\n",
    "# Get the has_ columns you want to keep\n",
    "has_columns_to_keep = has_columns_w_1_value\n",
    "\n",
    "# Get columns that are NOT has_ columns (keep all non-has_ columns)\n",
    "non_has_columns = [col for col in all_columns if not col.startswith('has_')]\n",
    "\n",
    "# Combine: keep the useful has_ columns + all non-has_ columns\n",
    "final_columns = non_has_columns + has_columns_to_keep\n",
    "\n",
    "print(f\"Total columns: {len(all_columns)}\")\n",
    "print(f\"Has columns to keep: {len(has_columns_to_keep)}\")\n",
    "print(f\"Non-has columns: {len(non_has_columns)}\")\n",
    "print(f\"Final columns: {len(final_columns)}\")"
   ]
  },
  {
   "cell_type": "code",
   "execution_count": 85,
   "id": "4e57bdee",
   "metadata": {},
   "outputs": [
    {
     "data": {
      "text/plain": [
       "['has_children',\n",
       " 'has_classic',\n",
       " 'has_war',\n",
       " 'has_spiritual',\n",
       " 'has_family',\n",
       " 'has_teen',\n",
       " 'has_love',\n",
       " 'has_school',\n",
       " 'has_science',\n",
       " 'has_art',\n",
       " 'has_tea',\n",
       " 'has_sex',\n",
       " 'has_murder',\n",
       " 'has_history',\n",
       " 'has_nature',\n",
       " 'has_loss',\n",
       " 'has_rain',\n",
       " 'has_time',\n",
       " 'has_guide',\n",
       " 'title',\n",
       " 'price',\n",
       " 'review/helpfulness',\n",
       " 'review/summary',\n",
       " 'review/text',\n",
       " 'description',\n",
       " 'authors',\n",
       " 'categories',\n",
       " 'popularity',\n",
       " 'total_reviews',\n",
       " 'helpful_reviews',\n",
       " 'percentage_helpful',\n",
       " 'author_count',\n",
       " 'author_1',\n",
       " 'author_2',\n",
       " 'author_3',\n",
       " 'sentiment_summary',\n",
       " 'sentiment_text',\n",
       " 'score_text',\n",
       " 'clean_categories',\n",
       " 'sentiment_label',\n",
       " 'sentiment_score',\n",
       " 'sentiment_label_num',\n",
       " 'num_words',\n",
       " 'num_chars',\n",
       " 'avg_word_len']"
      ]
     },
     "execution_count": 85,
     "metadata": {},
     "output_type": "execute_result"
    }
   ],
   "source": [
    "final_columns"
   ]
  },
  {
   "cell_type": "code",
   "execution_count": 102,
   "id": "564361c4",
   "metadata": {},
   "outputs": [
    {
     "name": "stdout",
     "output_type": "stream",
     "text": [
      "<class 'pandas.core.frame.DataFrame'>\n",
      "RangeIndex: 15583 entries, 0 to 15582\n",
      "Data columns (total 45 columns):\n",
      " #   Column               Non-Null Count  Dtype  \n",
      "---  ------               --------------  -----  \n",
      " 0   title                15583 non-null  object \n",
      " 1   price                15583 non-null  float64\n",
      " 2   review/helpfulness   15583 non-null  object \n",
      " 3   review/summary       15582 non-null  object \n",
      " 4   review/text          15583 non-null  object \n",
      " 5   description          15583 non-null  object \n",
      " 6   authors              15583 non-null  object \n",
      " 7   categories           15583 non-null  object \n",
      " 8   popularity           15583 non-null  object \n",
      " 9   total_reviews        15583 non-null  int64  \n",
      " 10  helpful_reviews      15583 non-null  int64  \n",
      " 11  percentage_helpful   15583 non-null  float64\n",
      " 12  author_count         15583 non-null  int64  \n",
      " 13  author_1             15583 non-null  object \n",
      " 14  author_2             15583 non-null  object \n",
      " 15  author_3             15583 non-null  object \n",
      " 16  sentiment_summary    15583 non-null  object \n",
      " 17  sentiment_text       15583 non-null  object \n",
      " 18  score_text           15583 non-null  float64\n",
      " 19  clean_categories     15583 non-null  object \n",
      " 20  sentiment_label      15583 non-null  object \n",
      " 21  sentiment_score      15583 non-null  float64\n",
      " 22  sentiment_label_num  15583 non-null  int64  \n",
      " 23  num_words            15583 non-null  int64  \n",
      " 24  num_chars            15583 non-null  int64  \n",
      " 25  avg_word_len         15583 non-null  float64\n",
      " 26  has_children         15583 non-null  int64  \n",
      " 27  has_classic          15583 non-null  int64  \n",
      " 28  has_war              15583 non-null  int64  \n",
      " 29  has_spiritual        15583 non-null  int64  \n",
      " 30  has_family           15583 non-null  int64  \n",
      " 31  has_teen             15583 non-null  int64  \n",
      " 32  has_love             15583 non-null  int64  \n",
      " 33  has_school           15583 non-null  int64  \n",
      " 34  has_science          15583 non-null  int64  \n",
      " 35  has_art              15583 non-null  int64  \n",
      " 36  has_tea              15583 non-null  int64  \n",
      " 37  has_sex              15583 non-null  int64  \n",
      " 38  has_murder           15583 non-null  int64  \n",
      " 39  has_history          15583 non-null  int64  \n",
      " 40  has_nature           15583 non-null  int64  \n",
      " 41  has_loss             15583 non-null  int64  \n",
      " 42  has_rain             15583 non-null  int64  \n",
      " 43  has_time             15583 non-null  int64  \n",
      " 44  has_guide            15583 non-null  int64  \n",
      "dtypes: float64(5), int64(25), object(15)\n",
      "memory usage: 5.4+ MB\n",
      "<class 'pandas.core.frame.DataFrame'>\n",
      "RangeIndex: 15583 entries, 0 to 15582\n",
      "Data columns (total 45 columns):\n",
      " #   Column               Non-Null Count  Dtype  \n",
      "---  ------               --------------  -----  \n",
      " 0   title                15583 non-null  object \n",
      " 1   price                15583 non-null  float64\n",
      " 2   review/helpfulness   15583 non-null  object \n",
      " 3   review/summary       15583 non-null  object \n",
      " 4   review/text          15583 non-null  object \n",
      " 5   description          15583 non-null  object \n",
      " 6   authors              15583 non-null  object \n",
      " 7   categories           15583 non-null  object \n",
      " 8   popularity           15583 non-null  object \n",
      " 9   total_reviews        15583 non-null  int64  \n",
      " 10  helpful_reviews      15583 non-null  int64  \n",
      " 11  percentage_helpful   15583 non-null  float64\n",
      " 12  author_count         15583 non-null  int64  \n",
      " 13  author_1             15583 non-null  object \n",
      " 14  author_2             15583 non-null  object \n",
      " 15  author_3             15583 non-null  object \n",
      " 16  sentiment_summary    15583 non-null  object \n",
      " 17  sentiment_text       15583 non-null  object \n",
      " 18  score_text           15583 non-null  float64\n",
      " 19  clean_categories     15583 non-null  object \n",
      " 20  sentiment_label      15583 non-null  object \n",
      " 21  sentiment_score      15583 non-null  float64\n",
      " 22  sentiment_label_num  15583 non-null  int64  \n",
      " 23  num_words            15583 non-null  int64  \n",
      " 24  num_chars            15583 non-null  int64  \n",
      " 25  avg_word_len         15583 non-null  float64\n",
      " 26  has_children         15583 non-null  int64  \n",
      " 27  has_classic          15583 non-null  int64  \n",
      " 28  has_war              15583 non-null  int64  \n",
      " 29  has_spiritual        15583 non-null  int64  \n",
      " 30  has_family           15583 non-null  int64  \n",
      " 31  has_teen             15583 non-null  int64  \n",
      " 32  has_love             15583 non-null  int64  \n",
      " 33  has_school           15583 non-null  int64  \n",
      " 34  has_science          15583 non-null  int64  \n",
      " 35  has_art              15583 non-null  int64  \n",
      " 36  has_tea              15583 non-null  int64  \n",
      " 37  has_sex              15583 non-null  int64  \n",
      " 38  has_murder           15583 non-null  int64  \n",
      " 39  has_history          15583 non-null  int64  \n",
      " 40  has_nature           15583 non-null  int64  \n",
      " 41  has_loss             15583 non-null  int64  \n",
      " 42  has_rain             15583 non-null  int64  \n",
      " 43  has_time             15583 non-null  int64  \n",
      " 44  has_guide            15583 non-null  int64  \n",
      "dtypes: float64(5), int64(25), object(15)\n",
      "memory usage: 5.4+ MB\n"
     ]
    },
    {
     "name": "stderr",
     "output_type": "stream",
     "text": [
      "/var/folders/1j/zxqksxbs0bg17c_9cj2hm8bh0000gn/T/ipykernel_86025/1486058473.py:10: SettingWithCopyWarning: \n",
      "A value is trying to be set on a copy of a slice from a DataFrame.\n",
      "Try using .loc[row_indexer,col_indexer] = value instead\n",
      "\n",
      "See the caveats in the documentation: https://pandas.pydata.org/pandas-docs/stable/user_guide/indexing.html#returning-a-view-versus-a-copy\n",
      "  books_model['review/summary'] = books_model['review/summary'].fillna('')\n"
     ]
    }
   ],
   "source": [
    "books_model = books_test[final_columns]\n",
    "books_model.head()\n",
    "books_model.columns\n",
    "books_model.info()\n",
    "books_model.describe()\n",
    "\n",
    "\n",
    "\n",
    "#convert nan to string bu tonly column review/text\n",
    "books_model['review/summary'] = books_model['review/summary'].fillna('')\n",
    "books_model.isnull().sum()\n",
    "books_model.describe()\n",
    "books_model.info()\n",
    "\n"
   ]
  },
  {
   "cell_type": "code",
   "execution_count": 99,
   "id": "4551d2ef",
   "metadata": {},
   "outputs": [
    {
     "data": {
      "text/plain": [
       "has_children           0\n",
       "review/text            0\n",
       "authors                0\n",
       "categories             0\n",
       "popularity             0\n",
       "total_reviews          0\n",
       "helpful_reviews        0\n",
       "percentage_helpful     0\n",
       "author_count           0\n",
       "author_1               0\n",
       "author_2               0\n",
       "author_3               0\n",
       "sentiment_summary      0\n",
       "sentiment_text         0\n",
       "score_text             0\n",
       "clean_categories       0\n",
       "sentiment_label        0\n",
       "sentiment_score        0\n",
       "sentiment_label_num    0\n",
       "num_words              0\n",
       "num_chars              0\n",
       "description            0\n",
       "review/summary         0\n",
       "has_classic            0\n",
       "review/helpfulness     0\n",
       "has_war                0\n",
       "has_spiritual          0\n",
       "has_family             0\n",
       "has_teen               0\n",
       "has_love               0\n",
       "has_school             0\n",
       "has_science            0\n",
       "has_art                0\n",
       "has_tea                0\n",
       "has_sex                0\n",
       "has_murder             0\n",
       "has_history            0\n",
       "has_nature             0\n",
       "has_loss               0\n",
       "has_rain               0\n",
       "has_time               0\n",
       "has_guide              0\n",
       "title                  0\n",
       "price                  0\n",
       "avg_word_len           0\n",
       "dtype: int64"
      ]
     },
     "execution_count": 99,
     "metadata": {},
     "output_type": "execute_result"
    }
   ],
   "source": [
    "#which column has null values order by the number of null values\n",
    "books_model.isnull().sum().sort_values(ascending=False)"
   ]
  },
  {
   "cell_type": "code",
   "execution_count": 100,
   "id": "7aff1b40",
   "metadata": {},
   "outputs": [
    {
     "data": {
      "text/html": [
       "<div>\n",
       "<style scoped>\n",
       "    .dataframe tbody tr th:only-of-type {\n",
       "        vertical-align: middle;\n",
       "    }\n",
       "\n",
       "    .dataframe tbody tr th {\n",
       "        vertical-align: top;\n",
       "    }\n",
       "\n",
       "    .dataframe thead th {\n",
       "        text-align: right;\n",
       "    }\n",
       "</style>\n",
       "<table border=\"1\" class=\"dataframe\">\n",
       "  <thead>\n",
       "    <tr style=\"text-align: right;\">\n",
       "      <th></th>\n",
       "      <th>has_children</th>\n",
       "      <th>has_classic</th>\n",
       "      <th>has_war</th>\n",
       "      <th>has_spiritual</th>\n",
       "      <th>has_family</th>\n",
       "      <th>has_teen</th>\n",
       "      <th>has_love</th>\n",
       "      <th>has_school</th>\n",
       "      <th>has_science</th>\n",
       "      <th>has_art</th>\n",
       "      <th>...</th>\n",
       "      <th>sentiment_summary</th>\n",
       "      <th>sentiment_text</th>\n",
       "      <th>score_text</th>\n",
       "      <th>clean_categories</th>\n",
       "      <th>sentiment_label</th>\n",
       "      <th>sentiment_score</th>\n",
       "      <th>sentiment_label_num</th>\n",
       "      <th>num_words</th>\n",
       "      <th>num_chars</th>\n",
       "      <th>avg_word_len</th>\n",
       "    </tr>\n",
       "  </thead>\n",
       "  <tbody>\n",
       "  </tbody>\n",
       "</table>\n",
       "<p>0 rows × 45 columns</p>\n",
       "</div>"
      ],
      "text/plain": [
       "Empty DataFrame\n",
       "Columns: [has_children, has_classic, has_war, has_spiritual, has_family, has_teen, has_love, has_school, has_science, has_art, has_tea, has_sex, has_murder, has_history, has_nature, has_loss, has_rain, has_time, has_guide, title, price, review/helpfulness, review/summary, review/text, description, authors, categories, popularity, total_reviews, helpful_reviews, percentage_helpful, author_count, author_1, author_2, author_3, sentiment_summary, sentiment_text, score_text, clean_categories, sentiment_label, sentiment_score, sentiment_label_num, num_words, num_chars, avg_word_len]\n",
       "Index: []\n",
       "\n",
       "[0 rows x 45 columns]"
      ]
     },
     "execution_count": 100,
     "metadata": {},
     "output_type": "execute_result"
    }
   ],
   "source": [
    "books_model[books_model['review/summary'].isna()]\n"
   ]
  },
  {
   "cell_type": "code",
   "execution_count": 104,
   "id": "b307e834",
   "metadata": {},
   "outputs": [
    {
     "data": {
      "text/plain": [
       "['title',\n",
       " 'price',\n",
       " 'review/helpfulness',\n",
       " 'review/summary',\n",
       " 'review/text',\n",
       " 'description',\n",
       " 'authors',\n",
       " 'categories',\n",
       " 'popularity',\n",
       " 'total_reviews',\n",
       " 'helpful_reviews',\n",
       " 'percentage_helpful',\n",
       " 'author_count',\n",
       " 'author_1',\n",
       " 'author_2',\n",
       " 'author_3',\n",
       " 'sentiment_summary',\n",
       " 'sentiment_text',\n",
       " 'score_text',\n",
       " 'clean_categories',\n",
       " 'sentiment_label',\n",
       " 'sentiment_score',\n",
       " 'sentiment_label_num',\n",
       " 'num_words',\n",
       " 'num_chars',\n",
       " 'avg_word_len']"
      ]
     },
     "execution_count": 104,
     "metadata": {},
     "output_type": "execute_result"
    }
   ],
   "source": [
    "non_has_columns"
   ]
  },
  {
   "cell_type": "code",
   "execution_count": 108,
   "id": "325f76b0",
   "metadata": {},
   "outputs": [
    {
     "name": "stdout",
     "output_type": "stream",
     "text": [
      "<class 'pandas.core.frame.DataFrame'>\n",
      "RangeIndex: 15583 entries, 0 to 15582\n",
      "Data columns (total 39 columns):\n",
      " #   Column               Non-Null Count  Dtype  \n",
      "---  ------               --------------  -----  \n",
      " 0   title                15583 non-null  object \n",
      " 1   price                15583 non-null  float64\n",
      " 2   popularity           15583 non-null  object \n",
      " 3   total_reviews        15583 non-null  int64  \n",
      " 4   helpful_reviews      15583 non-null  int64  \n",
      " 5   percentage_helpful   15583 non-null  float64\n",
      " 6   author_count         15583 non-null  int64  \n",
      " 7   author_1             15583 non-null  object \n",
      " 8   author_2             15583 non-null  object \n",
      " 9   author_3             15583 non-null  object \n",
      " 10  sentiment_summary    15583 non-null  object \n",
      " 11  sentiment_text       15583 non-null  object \n",
      " 12  score_text           15583 non-null  float64\n",
      " 13  clean_categories     15583 non-null  object \n",
      " 14  sentiment_label      15583 non-null  object \n",
      " 15  sentiment_score      15583 non-null  float64\n",
      " 16  sentiment_label_num  15583 non-null  int64  \n",
      " 17  num_words            15583 non-null  int64  \n",
      " 18  num_chars            15583 non-null  int64  \n",
      " 19  avg_word_len         15583 non-null  float64\n",
      " 20  has_children         15583 non-null  int64  \n",
      " 21  has_classic          15583 non-null  int64  \n",
      " 22  has_war              15583 non-null  int64  \n",
      " 23  has_spiritual        15583 non-null  int64  \n",
      " 24  has_family           15583 non-null  int64  \n",
      " 25  has_teen             15583 non-null  int64  \n",
      " 26  has_love             15583 non-null  int64  \n",
      " 27  has_school           15583 non-null  int64  \n",
      " 28  has_science          15583 non-null  int64  \n",
      " 29  has_art              15583 non-null  int64  \n",
      " 30  has_tea              15583 non-null  int64  \n",
      " 31  has_sex              15583 non-null  int64  \n",
      " 32  has_murder           15583 non-null  int64  \n",
      " 33  has_history          15583 non-null  int64  \n",
      " 34  has_nature           15583 non-null  int64  \n",
      " 35  has_loss             15583 non-null  int64  \n",
      " 36  has_rain             15583 non-null  int64  \n",
      " 37  has_time             15583 non-null  int64  \n",
      " 38  has_guide            15583 non-null  int64  \n",
      "dtypes: float64(5), int64(25), object(9)\n",
      "memory usage: 4.6+ MB\n"
     ]
    },
    {
     "data": {
      "text/plain": [
       "title                  0\n",
       "price                  0\n",
       "popularity             0\n",
       "total_reviews          0\n",
       "helpful_reviews        0\n",
       "percentage_helpful     0\n",
       "author_count           0\n",
       "author_1               0\n",
       "author_2               0\n",
       "author_3               0\n",
       "sentiment_summary      0\n",
       "sentiment_text         0\n",
       "score_text             0\n",
       "clean_categories       0\n",
       "sentiment_label        0\n",
       "sentiment_score        0\n",
       "sentiment_label_num    0\n",
       "num_words              0\n",
       "num_chars              0\n",
       "avg_word_len           0\n",
       "has_children           0\n",
       "has_classic            0\n",
       "has_war                0\n",
       "has_spiritual          0\n",
       "has_family             0\n",
       "has_teen               0\n",
       "has_love               0\n",
       "has_school             0\n",
       "has_science            0\n",
       "has_art                0\n",
       "has_tea                0\n",
       "has_sex                0\n",
       "has_murder             0\n",
       "has_history            0\n",
       "has_nature             0\n",
       "has_loss               0\n",
       "has_rain               0\n",
       "has_time               0\n",
       "has_guide              0\n",
       "dtype: int64"
      ]
     },
     "execution_count": 108,
     "metadata": {},
     "output_type": "execute_result"
    }
   ],
   "source": [
    "columns_to_drop = [\n",
    " 'review/helpfulness',\n",
    " 'review/summary',\n",
    " 'review/text',\n",
    " 'description',\n",
    " 'authors',\n",
    " 'categories']\n",
    "\n",
    "final_books_model = books_model.drop(columns=columns_to_drop)\n",
    "final_books_model.head()\n",
    "final_books_model.columns\n",
    "final_books_model.info()\n",
    "final_books_model.describe()\n",
    "final_books_model.isnull().sum()\n"
   ]
  },
  {
   "cell_type": "code",
   "execution_count": 109,
   "id": "50e19b15",
   "metadata": {},
   "outputs": [],
   "source": [
    "final_books_model.to_csv(\"data/final_books_model.csv\", index=False)"
   ]
  },
  {
   "cell_type": "code",
   "execution_count": 110,
   "id": "dc5b6baa",
   "metadata": {},
   "outputs": [
    {
     "data": {
      "text/plain": [
       "Index(['title', 'price', 'popularity', 'total_reviews', 'helpful_reviews',\n",
       "       'percentage_helpful', 'author_count', 'author_1', 'author_2',\n",
       "       'author_3', 'sentiment_summary', 'sentiment_text', 'score_text',\n",
       "       'clean_categories', 'sentiment_label', 'sentiment_score',\n",
       "       'sentiment_label_num', 'num_words', 'num_chars', 'avg_word_len',\n",
       "       'has_children', 'has_classic', 'has_war', 'has_spiritual', 'has_family',\n",
       "       'has_teen', 'has_love', 'has_school', 'has_science', 'has_art',\n",
       "       'has_tea', 'has_sex', 'has_murder', 'has_history', 'has_nature',\n",
       "       'has_loss', 'has_rain', 'has_time', 'has_guide'],\n",
       "      dtype='object')"
      ]
     },
     "execution_count": 110,
     "metadata": {},
     "output_type": "execute_result"
    }
   ],
   "source": [
    "final_books_model.columns"
   ]
  },
  {
   "cell_type": "markdown",
   "id": "dc708956",
   "metadata": {},
   "source": [
    "#Models"
   ]
  },
  {
   "cell_type": "code",
   "execution_count": 168,
   "id": "3f45b976",
   "metadata": {},
   "outputs": [
    {
     "data": {
      "text/plain": [
       "title                  0\n",
       "has_art                0\n",
       "has_war                0\n",
       "has_spiritual          0\n",
       "has_family             0\n",
       "has_teen               0\n",
       "has_love               0\n",
       "has_school             0\n",
       "has_science            0\n",
       "has_tea                0\n",
       "has_children           0\n",
       "has_sex                0\n",
       "has_murder             0\n",
       "has_history            0\n",
       "has_nature             0\n",
       "has_loss               0\n",
       "has_rain               0\n",
       "has_time               0\n",
       "has_classic            0\n",
       "avg_word_len           0\n",
       "price                  0\n",
       "author_3               0\n",
       "popularity             0\n",
       "total_reviews          0\n",
       "helpful_reviews        0\n",
       "percentage_helpful     0\n",
       "author_count           0\n",
       "author_1               0\n",
       "author_2               0\n",
       "sentiment_summary      0\n",
       "num_chars              0\n",
       "sentiment_text         0\n",
       "score_text             0\n",
       "clean_categories       0\n",
       "sentiment_label        0\n",
       "sentiment_score        0\n",
       "sentiment_label_num    0\n",
       "num_words              0\n",
       "has_guide              0\n",
       "dtype: int64"
      ]
     },
     "execution_count": 168,
     "metadata": {},
     "output_type": "execute_result"
    }
   ],
   "source": [
    "books = pd.read_csv(\"data/final_books_model.csv\")\n",
    "\n",
    "books.isnull().sum().sort_values(ascending=False)"
   ]
  },
  {
   "cell_type": "code",
   "execution_count": 169,
   "id": "7918447f",
   "metadata": {},
   "outputs": [],
   "source": [
    "# target to numeric\n",
    "# Map to numeric\n",
    "books['target'] = books['popularity'].map({\n",
    "    \"Unpopular\": 0,\n",
    "    \"Popular\": 1\n",
    "})"
   ]
  },
  {
   "cell_type": "code",
   "execution_count": 170,
   "id": "5809b720",
   "metadata": {},
   "outputs": [
    {
     "data": {
      "text/html": [
       "<div>\n",
       "<style scoped>\n",
       "    .dataframe tbody tr th:only-of-type {\n",
       "        vertical-align: middle;\n",
       "    }\n",
       "\n",
       "    .dataframe tbody tr th {\n",
       "        vertical-align: top;\n",
       "    }\n",
       "\n",
       "    .dataframe thead th {\n",
       "        text-align: right;\n",
       "    }\n",
       "</style>\n",
       "<table border=\"1\" class=\"dataframe\">\n",
       "  <thead>\n",
       "    <tr style=\"text-align: right;\">\n",
       "      <th></th>\n",
       "      <th>title</th>\n",
       "      <th>price</th>\n",
       "      <th>popularity</th>\n",
       "      <th>total_reviews</th>\n",
       "      <th>helpful_reviews</th>\n",
       "      <th>percentage_helpful</th>\n",
       "      <th>author_count</th>\n",
       "      <th>author_1</th>\n",
       "      <th>author_2</th>\n",
       "      <th>author_3</th>\n",
       "      <th>...</th>\n",
       "      <th>has_tea</th>\n",
       "      <th>has_sex</th>\n",
       "      <th>has_murder</th>\n",
       "      <th>has_history</th>\n",
       "      <th>has_nature</th>\n",
       "      <th>has_loss</th>\n",
       "      <th>has_rain</th>\n",
       "      <th>has_time</th>\n",
       "      <th>has_guide</th>\n",
       "      <th>target</th>\n",
       "    </tr>\n",
       "  </thead>\n",
       "  <tbody>\n",
       "    <tr>\n",
       "      <th>0</th>\n",
       "      <td>We Band of Angels: The Untold Story of America...</td>\n",
       "      <td>10.88</td>\n",
       "      <td>Unpopular</td>\n",
       "      <td>3</td>\n",
       "      <td>2</td>\n",
       "      <td>0.666667</td>\n",
       "      <td>1</td>\n",
       "      <td>Elizabeth Norman</td>\n",
       "      <td>no_author_2</td>\n",
       "      <td>no_author_3</td>\n",
       "      <td>...</td>\n",
       "      <td>0</td>\n",
       "      <td>0</td>\n",
       "      <td>0</td>\n",
       "      <td>1</td>\n",
       "      <td>0</td>\n",
       "      <td>0</td>\n",
       "      <td>1</td>\n",
       "      <td>0</td>\n",
       "      <td>0</td>\n",
       "      <td>0</td>\n",
       "    </tr>\n",
       "    <tr>\n",
       "      <th>1</th>\n",
       "      <td>Prayer That Brings Revival: Interceding for Go...</td>\n",
       "      <td>9.35</td>\n",
       "      <td>Unpopular</td>\n",
       "      <td>0</td>\n",
       "      <td>0</td>\n",
       "      <td>0.000000</td>\n",
       "      <td>1</td>\n",
       "      <td>Yong-gi Cho</td>\n",
       "      <td>no_author_2</td>\n",
       "      <td>no_author_3</td>\n",
       "      <td>...</td>\n",
       "      <td>1</td>\n",
       "      <td>0</td>\n",
       "      <td>0</td>\n",
       "      <td>0</td>\n",
       "      <td>0</td>\n",
       "      <td>0</td>\n",
       "      <td>0</td>\n",
       "      <td>0</td>\n",
       "      <td>0</td>\n",
       "      <td>0</td>\n",
       "    </tr>\n",
       "    <tr>\n",
       "      <th>2</th>\n",
       "      <td>The Mystical Journey from Jesus to Christ</td>\n",
       "      <td>24.95</td>\n",
       "      <td>Unpopular</td>\n",
       "      <td>19</td>\n",
       "      <td>17</td>\n",
       "      <td>0.894737</td>\n",
       "      <td>1</td>\n",
       "      <td>Muata Ashby</td>\n",
       "      <td>no_author_2</td>\n",
       "      <td>no_author_3</td>\n",
       "      <td>...</td>\n",
       "      <td>1</td>\n",
       "      <td>0</td>\n",
       "      <td>0</td>\n",
       "      <td>0</td>\n",
       "      <td>0</td>\n",
       "      <td>0</td>\n",
       "      <td>0</td>\n",
       "      <td>0</td>\n",
       "      <td>0</td>\n",
       "      <td>0</td>\n",
       "    </tr>\n",
       "    <tr>\n",
       "      <th>3</th>\n",
       "      <td>Death Row</td>\n",
       "      <td>7.99</td>\n",
       "      <td>Unpopular</td>\n",
       "      <td>1</td>\n",
       "      <td>0</td>\n",
       "      <td>0.000000</td>\n",
       "      <td>1</td>\n",
       "      <td>Lynden Harris</td>\n",
       "      <td>no_author_2</td>\n",
       "      <td>no_author_3</td>\n",
       "      <td>...</td>\n",
       "      <td>0</td>\n",
       "      <td>0</td>\n",
       "      <td>0</td>\n",
       "      <td>0</td>\n",
       "      <td>0</td>\n",
       "      <td>0</td>\n",
       "      <td>0</td>\n",
       "      <td>0</td>\n",
       "      <td>0</td>\n",
       "      <td>0</td>\n",
       "    </tr>\n",
       "    <tr>\n",
       "      <th>4</th>\n",
       "      <td>Sound and Form in Modern Poetry: Second Editio...</td>\n",
       "      <td>32.50</td>\n",
       "      <td>Unpopular</td>\n",
       "      <td>20</td>\n",
       "      <td>18</td>\n",
       "      <td>0.900000</td>\n",
       "      <td>2</td>\n",
       "      <td>Harvey Seymour Gross</td>\n",
       "      <td>Robert McDowell</td>\n",
       "      <td>no_author_3</td>\n",
       "      <td>...</td>\n",
       "      <td>0</td>\n",
       "      <td>0</td>\n",
       "      <td>0</td>\n",
       "      <td>0</td>\n",
       "      <td>0</td>\n",
       "      <td>0</td>\n",
       "      <td>0</td>\n",
       "      <td>0</td>\n",
       "      <td>0</td>\n",
       "      <td>0</td>\n",
       "    </tr>\n",
       "  </tbody>\n",
       "</table>\n",
       "<p>5 rows × 40 columns</p>\n",
       "</div>"
      ],
      "text/plain": [
       "                                               title  price popularity  \\\n",
       "0  We Band of Angels: The Untold Story of America...  10.88  Unpopular   \n",
       "1  Prayer That Brings Revival: Interceding for Go...   9.35  Unpopular   \n",
       "2          The Mystical Journey from Jesus to Christ  24.95  Unpopular   \n",
       "3                                          Death Row   7.99  Unpopular   \n",
       "4  Sound and Form in Modern Poetry: Second Editio...  32.50  Unpopular   \n",
       "\n",
       "   total_reviews  helpful_reviews  percentage_helpful  author_count  \\\n",
       "0              3                2            0.666667             1   \n",
       "1              0                0            0.000000             1   \n",
       "2             19               17            0.894737             1   \n",
       "3              1                0            0.000000             1   \n",
       "4             20               18            0.900000             2   \n",
       "\n",
       "               author_1         author_2     author_3  ... has_tea has_sex  \\\n",
       "0      Elizabeth Norman      no_author_2  no_author_3  ...       0       0   \n",
       "1           Yong-gi Cho      no_author_2  no_author_3  ...       1       0   \n",
       "2           Muata Ashby      no_author_2  no_author_3  ...       1       0   \n",
       "3         Lynden Harris      no_author_2  no_author_3  ...       0       0   \n",
       "4  Harvey Seymour Gross  Robert McDowell  no_author_3  ...       0       0   \n",
       "\n",
       "   has_murder has_history has_nature  has_loss  has_rain  has_time  has_guide  \\\n",
       "0           0           1          0         0         1         0          0   \n",
       "1           0           0          0         0         0         0          0   \n",
       "2           0           0          0         0         0         0          0   \n",
       "3           0           0          0         0         0         0          0   \n",
       "4           0           0          0         0         0         0          0   \n",
       "\n",
       "   target  \n",
       "0       0  \n",
       "1       0  \n",
       "2       0  \n",
       "3       0  \n",
       "4       0  \n",
       "\n",
       "[5 rows x 40 columns]"
      ]
     },
     "execution_count": 170,
     "metadata": {},
     "output_type": "execute_result"
    }
   ],
   "source": [
    "books.head()"
   ]
  },
  {
   "cell_type": "code",
   "execution_count": 171,
   "id": "120c2be6",
   "metadata": {},
   "outputs": [
    {
     "data": {
      "text/plain": [
       "Index(['title', 'price', 'popularity', 'total_reviews', 'helpful_reviews',\n",
       "       'percentage_helpful', 'author_count', 'author_1', 'author_2',\n",
       "       'author_3', 'sentiment_summary', 'sentiment_text', 'score_text',\n",
       "       'clean_categories', 'sentiment_label', 'sentiment_score',\n",
       "       'sentiment_label_num', 'num_words', 'num_chars', 'avg_word_len',\n",
       "       'has_children', 'has_classic', 'has_war', 'has_spiritual', 'has_family',\n",
       "       'has_teen', 'has_love', 'has_school', 'has_science', 'has_art',\n",
       "       'has_tea', 'has_sex', 'has_murder', 'has_history', 'has_nature',\n",
       "       'has_loss', 'has_rain', 'has_time', 'has_guide', 'target'],\n",
       "      dtype='object')"
      ]
     },
     "execution_count": 171,
     "metadata": {},
     "output_type": "execute_result"
    }
   ],
   "source": [
    "books.columns"
   ]
  },
  {
   "cell_type": "code",
   "execution_count": 125,
   "id": "6311e848",
   "metadata": {},
   "outputs": [
    {
     "name": "stdout",
     "output_type": "stream",
     "text": [
      "<class 'pandas.core.frame.DataFrame'>\n",
      "RangeIndex: 15583 entries, 0 to 15582\n",
      "Data columns (total 40 columns):\n",
      " #   Column               Non-Null Count  Dtype  \n",
      "---  ------               --------------  -----  \n",
      " 0   title                15583 non-null  object \n",
      " 1   price                15583 non-null  float64\n",
      " 2   popularity           15583 non-null  object \n",
      " 3   total_reviews        15583 non-null  int64  \n",
      " 4   helpful_reviews      15583 non-null  int64  \n",
      " 5   percentage_helpful   15583 non-null  float64\n",
      " 6   author_count         15583 non-null  int64  \n",
      " 7   author_1             15583 non-null  object \n",
      " 8   author_2             15583 non-null  object \n",
      " 9   author_3             15583 non-null  object \n",
      " 10  sentiment_summary    15583 non-null  object \n",
      " 11  sentiment_text       15583 non-null  object \n",
      " 12  score_text           15583 non-null  float64\n",
      " 13  clean_categories     15583 non-null  object \n",
      " 14  sentiment_label      15583 non-null  object \n",
      " 15  sentiment_score      15583 non-null  float64\n",
      " 16  sentiment_label_num  15583 non-null  int64  \n",
      " 17  num_words            15583 non-null  int64  \n",
      " 18  num_chars            15583 non-null  int64  \n",
      " 19  avg_word_len         15583 non-null  float64\n",
      " 20  has_children         15583 non-null  int64  \n",
      " 21  has_classic          15583 non-null  int64  \n",
      " 22  has_war              15583 non-null  int64  \n",
      " 23  has_spiritual        15583 non-null  int64  \n",
      " 24  has_family           15583 non-null  int64  \n",
      " 25  has_teen             15583 non-null  int64  \n",
      " 26  has_love             15583 non-null  int64  \n",
      " 27  has_school           15583 non-null  int64  \n",
      " 28  has_science          15583 non-null  int64  \n",
      " 29  has_art              15583 non-null  int64  \n",
      " 30  has_tea              15583 non-null  int64  \n",
      " 31  has_sex              15583 non-null  int64  \n",
      " 32  has_murder           15583 non-null  int64  \n",
      " 33  has_history          15583 non-null  int64  \n",
      " 34  has_nature           15583 non-null  int64  \n",
      " 35  has_loss             15583 non-null  int64  \n",
      " 36  has_rain             15583 non-null  int64  \n",
      " 37  has_time             15583 non-null  int64  \n",
      " 38  has_guide            15583 non-null  int64  \n",
      " 39  target               15583 non-null  int64  \n",
      "dtypes: float64(5), int64(26), object(9)\n",
      "memory usage: 4.8+ MB\n"
     ]
    }
   ],
   "source": [
    "books.info()"
   ]
  },
  {
   "cell_type": "code",
   "execution_count": 172,
   "id": "141c8e29",
   "metadata": {},
   "outputs": [
    {
     "data": {
      "text/plain": [
       "sentiment_label\n",
       "POSITIVE    13482\n",
       "NEGATIVE     2101\n",
       "Name: count, dtype: int64"
      ]
     },
     "execution_count": 172,
     "metadata": {},
     "output_type": "execute_result"
    }
   ],
   "source": [
    "books['sentiment_label'].value_counts()"
   ]
  },
  {
   "cell_type": "code",
   "execution_count": 129,
   "id": "096fa04e",
   "metadata": {},
   "outputs": [
    {
     "data": {
      "text/html": [
       "<div>\n",
       "<style scoped>\n",
       "    .dataframe tbody tr th:only-of-type {\n",
       "        vertical-align: middle;\n",
       "    }\n",
       "\n",
       "    .dataframe tbody tr th {\n",
       "        vertical-align: top;\n",
       "    }\n",
       "\n",
       "    .dataframe thead th {\n",
       "        text-align: right;\n",
       "    }\n",
       "</style>\n",
       "<table border=\"1\" class=\"dataframe\">\n",
       "  <thead>\n",
       "    <tr style=\"text-align: right;\">\n",
       "      <th></th>\n",
       "      <th>sentiment_label</th>\n",
       "      <th>sentiment_score</th>\n",
       "      <th>sentiment_label_num</th>\n",
       "    </tr>\n",
       "  </thead>\n",
       "  <tbody>\n",
       "    <tr>\n",
       "      <th>0</th>\n",
       "      <td>POSITIVE</td>\n",
       "      <td>0.999049</td>\n",
       "      <td>1</td>\n",
       "    </tr>\n",
       "    <tr>\n",
       "      <th>1</th>\n",
       "      <td>POSITIVE</td>\n",
       "      <td>0.999642</td>\n",
       "      <td>1</td>\n",
       "    </tr>\n",
       "    <tr>\n",
       "      <th>2</th>\n",
       "      <td>POSITIVE</td>\n",
       "      <td>0.999086</td>\n",
       "      <td>1</td>\n",
       "    </tr>\n",
       "    <tr>\n",
       "      <th>3</th>\n",
       "      <td>POSITIVE</td>\n",
       "      <td>0.999014</td>\n",
       "      <td>1</td>\n",
       "    </tr>\n",
       "    <tr>\n",
       "      <th>4</th>\n",
       "      <td>POSITIVE</td>\n",
       "      <td>0.999651</td>\n",
       "      <td>1</td>\n",
       "    </tr>\n",
       "    <tr>\n",
       "      <th>...</th>\n",
       "      <td>...</td>\n",
       "      <td>...</td>\n",
       "      <td>...</td>\n",
       "    </tr>\n",
       "    <tr>\n",
       "      <th>15578</th>\n",
       "      <td>POSITIVE</td>\n",
       "      <td>0.998983</td>\n",
       "      <td>1</td>\n",
       "    </tr>\n",
       "    <tr>\n",
       "      <th>15579</th>\n",
       "      <td>NEGATIVE</td>\n",
       "      <td>0.980834</td>\n",
       "      <td>0</td>\n",
       "    </tr>\n",
       "    <tr>\n",
       "      <th>15580</th>\n",
       "      <td>POSITIVE</td>\n",
       "      <td>0.999588</td>\n",
       "      <td>1</td>\n",
       "    </tr>\n",
       "    <tr>\n",
       "      <th>15581</th>\n",
       "      <td>POSITIVE</td>\n",
       "      <td>0.997873</td>\n",
       "      <td>1</td>\n",
       "    </tr>\n",
       "    <tr>\n",
       "      <th>15582</th>\n",
       "      <td>POSITIVE</td>\n",
       "      <td>0.992647</td>\n",
       "      <td>1</td>\n",
       "    </tr>\n",
       "  </tbody>\n",
       "</table>\n",
       "<p>15583 rows × 3 columns</p>\n",
       "</div>"
      ],
      "text/plain": [
       "      sentiment_label  sentiment_score  sentiment_label_num\n",
       "0            POSITIVE         0.999049                    1\n",
       "1            POSITIVE         0.999642                    1\n",
       "2            POSITIVE         0.999086                    1\n",
       "3            POSITIVE         0.999014                    1\n",
       "4            POSITIVE         0.999651                    1\n",
       "...               ...              ...                  ...\n",
       "15578        POSITIVE         0.998983                    1\n",
       "15579        NEGATIVE         0.980834                    0\n",
       "15580        POSITIVE         0.999588                    1\n",
       "15581        POSITIVE         0.997873                    1\n",
       "15582        POSITIVE         0.992647                    1\n",
       "\n",
       "[15583 rows x 3 columns]"
      ]
     },
     "execution_count": 129,
     "metadata": {},
     "output_type": "execute_result"
    }
   ],
   "source": [
    "books[['sentiment_label','sentiment_score','sentiment_label_num']]"
   ]
  },
  {
   "cell_type": "code",
   "execution_count": 173,
   "id": "c427ca2a",
   "metadata": {},
   "outputs": [
    {
     "data": {
      "text/plain": [
       "Index(['title', 'price', 'popularity', 'total_reviews', 'helpful_reviews',\n",
       "       'percentage_helpful', 'author_count', 'author_1', 'author_2',\n",
       "       'author_3', 'sentiment_summary', 'sentiment_text', 'score_text',\n",
       "       'clean_categories', 'sentiment_label', 'score_description',\n",
       "       'sentiment_description_num', 'num_words', 'num_chars', 'avg_word_len',\n",
       "       'has_children', 'has_classic', 'has_war', 'has_spiritual', 'has_family',\n",
       "       'has_teen', 'has_love', 'has_school', 'has_science', 'has_art',\n",
       "       'has_tea', 'has_sex', 'has_murder', 'has_history', 'has_nature',\n",
       "       'has_loss', 'has_rain', 'has_time', 'has_guide', 'target'],\n",
       "      dtype='object')"
      ]
     },
     "execution_count": 173,
     "metadata": {},
     "output_type": "execute_result"
    }
   ],
   "source": [
    "#rename sentiment_label to sentiment_label_description\n",
    "books.rename(columns={'sentiment_score': 'score_description'}, inplace=True)\n",
    "books.rename(columns={'sentiment_label_num': 'sentiment_description_num'}, inplace=True)\n",
    "\n",
    "books.columns\n",
    "\n"
   ]
  },
  {
   "cell_type": "code",
   "execution_count": 174,
   "id": "1611f346",
   "metadata": {},
   "outputs": [
    {
     "data": {
      "text/plain": [
       "Index(['title', 'price', 'popularity', 'total_reviews', 'helpful_reviews',\n",
       "       'percentage_helpful', 'author_count', 'author_1', 'author_2',\n",
       "       'author_3', 'sentiment_summary', 'sentiment_text', 'score_text',\n",
       "       'clean_categories', 'score_description', 'sentiment_description_num',\n",
       "       'num_words', 'num_chars', 'avg_word_len', 'has_children', 'has_classic',\n",
       "       'has_war', 'has_spiritual', 'has_family', 'has_teen', 'has_love',\n",
       "       'has_school', 'has_science', 'has_art', 'has_tea', 'has_sex',\n",
       "       'has_murder', 'has_history', 'has_nature', 'has_loss', 'has_rain',\n",
       "       'has_time', 'has_guide', 'target'],\n",
       "      dtype='object')"
      ]
     },
     "execution_count": 174,
     "metadata": {},
     "output_type": "execute_result"
    }
   ],
   "source": [
    "#drop sentiment_label\n",
    "books.drop(columns=['sentiment_label'], inplace=True)\n",
    "books.columns\n",
    "\n"
   ]
  },
  {
   "cell_type": "code",
   "execution_count": 175,
   "id": "d65923f8",
   "metadata": {},
   "outputs": [
    {
     "data": {
      "text/html": [
       "<div>\n",
       "<style scoped>\n",
       "    .dataframe tbody tr th:only-of-type {\n",
       "        vertical-align: middle;\n",
       "    }\n",
       "\n",
       "    .dataframe tbody tr th {\n",
       "        vertical-align: top;\n",
       "    }\n",
       "\n",
       "    .dataframe thead th {\n",
       "        text-align: right;\n",
       "    }\n",
       "</style>\n",
       "<table border=\"1\" class=\"dataframe\">\n",
       "  <thead>\n",
       "    <tr style=\"text-align: right;\">\n",
       "      <th></th>\n",
       "      <th>sentiment_summary</th>\n",
       "      <th>sentiment_text</th>\n",
       "    </tr>\n",
       "  </thead>\n",
       "  <tbody>\n",
       "    <tr>\n",
       "      <th>0</th>\n",
       "      <td>POSITIVE</td>\n",
       "      <td>POSITIVE</td>\n",
       "    </tr>\n",
       "    <tr>\n",
       "      <th>1</th>\n",
       "      <td>POSITIVE</td>\n",
       "      <td>POSITIVE</td>\n",
       "    </tr>\n",
       "    <tr>\n",
       "      <th>2</th>\n",
       "      <td>NEGATIVE</td>\n",
       "      <td>NEGATIVE</td>\n",
       "    </tr>\n",
       "    <tr>\n",
       "      <th>3</th>\n",
       "      <td>NEGATIVE</td>\n",
       "      <td>POSITIVE</td>\n",
       "    </tr>\n",
       "    <tr>\n",
       "      <th>4</th>\n",
       "      <td>POSITIVE</td>\n",
       "      <td>POSITIVE</td>\n",
       "    </tr>\n",
       "    <tr>\n",
       "      <th>...</th>\n",
       "      <td>...</td>\n",
       "      <td>...</td>\n",
       "    </tr>\n",
       "    <tr>\n",
       "      <th>15578</th>\n",
       "      <td>POSITIVE</td>\n",
       "      <td>POSITIVE</td>\n",
       "    </tr>\n",
       "    <tr>\n",
       "      <th>15579</th>\n",
       "      <td>POSITIVE</td>\n",
       "      <td>POSITIVE</td>\n",
       "    </tr>\n",
       "    <tr>\n",
       "      <th>15580</th>\n",
       "      <td>POSITIVE</td>\n",
       "      <td>POSITIVE</td>\n",
       "    </tr>\n",
       "    <tr>\n",
       "      <th>15581</th>\n",
       "      <td>POSITIVE</td>\n",
       "      <td>POSITIVE</td>\n",
       "    </tr>\n",
       "    <tr>\n",
       "      <th>15582</th>\n",
       "      <td>NEGATIVE</td>\n",
       "      <td>POSITIVE</td>\n",
       "    </tr>\n",
       "  </tbody>\n",
       "</table>\n",
       "<p>15583 rows × 2 columns</p>\n",
       "</div>"
      ],
      "text/plain": [
       "      sentiment_summary sentiment_text\n",
       "0              POSITIVE       POSITIVE\n",
       "1              POSITIVE       POSITIVE\n",
       "2              NEGATIVE       NEGATIVE\n",
       "3              NEGATIVE       POSITIVE\n",
       "4              POSITIVE       POSITIVE\n",
       "...                 ...            ...\n",
       "15578          POSITIVE       POSITIVE\n",
       "15579          POSITIVE       POSITIVE\n",
       "15580          POSITIVE       POSITIVE\n",
       "15581          POSITIVE       POSITIVE\n",
       "15582          NEGATIVE       POSITIVE\n",
       "\n",
       "[15583 rows x 2 columns]"
      ]
     },
     "execution_count": 175,
     "metadata": {},
     "output_type": "execute_result"
    }
   ],
   "source": [
    "books[['sentiment_summary', 'sentiment_text']]"
   ]
  },
  {
   "cell_type": "code",
   "execution_count": 176,
   "id": "f3450433",
   "metadata": {},
   "outputs": [],
   "source": [
    "books['sentiment_summary_num'] = books['sentiment_summary'].map({\"NEGATIVE\": 0, \"POSITIVE\": 1})\n",
    "books['sentiment_text_num'] = books['sentiment_text'].map({\"NEGATIVE\": 0, \"POSITIVE\": 1})"
   ]
  },
  {
   "cell_type": "code",
   "execution_count": 134,
   "id": "e34b29b4",
   "metadata": {},
   "outputs": [
    {
     "data": {
      "text/html": [
       "<div>\n",
       "<style scoped>\n",
       "    .dataframe tbody tr th:only-of-type {\n",
       "        vertical-align: middle;\n",
       "    }\n",
       "\n",
       "    .dataframe tbody tr th {\n",
       "        vertical-align: top;\n",
       "    }\n",
       "\n",
       "    .dataframe thead th {\n",
       "        text-align: right;\n",
       "    }\n",
       "</style>\n",
       "<table border=\"1\" class=\"dataframe\">\n",
       "  <thead>\n",
       "    <tr style=\"text-align: right;\">\n",
       "      <th></th>\n",
       "      <th>title</th>\n",
       "      <th>price</th>\n",
       "      <th>popularity</th>\n",
       "      <th>total_reviews</th>\n",
       "      <th>helpful_reviews</th>\n",
       "      <th>percentage_helpful</th>\n",
       "      <th>author_count</th>\n",
       "      <th>author_1</th>\n",
       "      <th>author_2</th>\n",
       "      <th>author_3</th>\n",
       "      <th>...</th>\n",
       "      <th>has_murder</th>\n",
       "      <th>has_history</th>\n",
       "      <th>has_nature</th>\n",
       "      <th>has_loss</th>\n",
       "      <th>has_rain</th>\n",
       "      <th>has_time</th>\n",
       "      <th>has_guide</th>\n",
       "      <th>target</th>\n",
       "      <th>sentiment_summary_num</th>\n",
       "      <th>sentiment_text_num</th>\n",
       "    </tr>\n",
       "  </thead>\n",
       "  <tbody>\n",
       "    <tr>\n",
       "      <th>0</th>\n",
       "      <td>We Band of Angels: The Untold Story of America...</td>\n",
       "      <td>10.88</td>\n",
       "      <td>Unpopular</td>\n",
       "      <td>3</td>\n",
       "      <td>2</td>\n",
       "      <td>0.666667</td>\n",
       "      <td>1</td>\n",
       "      <td>Elizabeth Norman</td>\n",
       "      <td>no_author_2</td>\n",
       "      <td>no_author_3</td>\n",
       "      <td>...</td>\n",
       "      <td>0</td>\n",
       "      <td>1</td>\n",
       "      <td>0</td>\n",
       "      <td>0</td>\n",
       "      <td>1</td>\n",
       "      <td>0</td>\n",
       "      <td>0</td>\n",
       "      <td>0</td>\n",
       "      <td>1</td>\n",
       "      <td>1</td>\n",
       "    </tr>\n",
       "    <tr>\n",
       "      <th>1</th>\n",
       "      <td>Prayer That Brings Revival: Interceding for Go...</td>\n",
       "      <td>9.35</td>\n",
       "      <td>Unpopular</td>\n",
       "      <td>0</td>\n",
       "      <td>0</td>\n",
       "      <td>0.000000</td>\n",
       "      <td>1</td>\n",
       "      <td>Yong-gi Cho</td>\n",
       "      <td>no_author_2</td>\n",
       "      <td>no_author_3</td>\n",
       "      <td>...</td>\n",
       "      <td>0</td>\n",
       "      <td>0</td>\n",
       "      <td>0</td>\n",
       "      <td>0</td>\n",
       "      <td>0</td>\n",
       "      <td>0</td>\n",
       "      <td>0</td>\n",
       "      <td>0</td>\n",
       "      <td>1</td>\n",
       "      <td>1</td>\n",
       "    </tr>\n",
       "    <tr>\n",
       "      <th>2</th>\n",
       "      <td>The Mystical Journey from Jesus to Christ</td>\n",
       "      <td>24.95</td>\n",
       "      <td>Unpopular</td>\n",
       "      <td>19</td>\n",
       "      <td>17</td>\n",
       "      <td>0.894737</td>\n",
       "      <td>1</td>\n",
       "      <td>Muata Ashby</td>\n",
       "      <td>no_author_2</td>\n",
       "      <td>no_author_3</td>\n",
       "      <td>...</td>\n",
       "      <td>0</td>\n",
       "      <td>0</td>\n",
       "      <td>0</td>\n",
       "      <td>0</td>\n",
       "      <td>0</td>\n",
       "      <td>0</td>\n",
       "      <td>0</td>\n",
       "      <td>0</td>\n",
       "      <td>0</td>\n",
       "      <td>0</td>\n",
       "    </tr>\n",
       "    <tr>\n",
       "      <th>3</th>\n",
       "      <td>Death Row</td>\n",
       "      <td>7.99</td>\n",
       "      <td>Unpopular</td>\n",
       "      <td>1</td>\n",
       "      <td>0</td>\n",
       "      <td>0.000000</td>\n",
       "      <td>1</td>\n",
       "      <td>Lynden Harris</td>\n",
       "      <td>no_author_2</td>\n",
       "      <td>no_author_3</td>\n",
       "      <td>...</td>\n",
       "      <td>0</td>\n",
       "      <td>0</td>\n",
       "      <td>0</td>\n",
       "      <td>0</td>\n",
       "      <td>0</td>\n",
       "      <td>0</td>\n",
       "      <td>0</td>\n",
       "      <td>0</td>\n",
       "      <td>0</td>\n",
       "      <td>1</td>\n",
       "    </tr>\n",
       "    <tr>\n",
       "      <th>4</th>\n",
       "      <td>Sound and Form in Modern Poetry: Second Editio...</td>\n",
       "      <td>32.50</td>\n",
       "      <td>Unpopular</td>\n",
       "      <td>20</td>\n",
       "      <td>18</td>\n",
       "      <td>0.900000</td>\n",
       "      <td>2</td>\n",
       "      <td>Harvey Seymour Gross</td>\n",
       "      <td>Robert McDowell</td>\n",
       "      <td>no_author_3</td>\n",
       "      <td>...</td>\n",
       "      <td>0</td>\n",
       "      <td>0</td>\n",
       "      <td>0</td>\n",
       "      <td>0</td>\n",
       "      <td>0</td>\n",
       "      <td>0</td>\n",
       "      <td>0</td>\n",
       "      <td>0</td>\n",
       "      <td>1</td>\n",
       "      <td>1</td>\n",
       "    </tr>\n",
       "    <tr>\n",
       "      <th>...</th>\n",
       "      <td>...</td>\n",
       "      <td>...</td>\n",
       "      <td>...</td>\n",
       "      <td>...</td>\n",
       "      <td>...</td>\n",
       "      <td>...</td>\n",
       "      <td>...</td>\n",
       "      <td>...</td>\n",
       "      <td>...</td>\n",
       "      <td>...</td>\n",
       "      <td>...</td>\n",
       "      <td>...</td>\n",
       "      <td>...</td>\n",
       "      <td>...</td>\n",
       "      <td>...</td>\n",
       "      <td>...</td>\n",
       "      <td>...</td>\n",
       "      <td>...</td>\n",
       "      <td>...</td>\n",
       "      <td>...</td>\n",
       "      <td>...</td>\n",
       "    </tr>\n",
       "    <tr>\n",
       "      <th>15578</th>\n",
       "      <td>Incidents in the Life of a Slave Girl, by Harr...</td>\n",
       "      <td>31.63</td>\n",
       "      <td>Popular</td>\n",
       "      <td>5</td>\n",
       "      <td>5</td>\n",
       "      <td>1.000000</td>\n",
       "      <td>1</td>\n",
       "      <td>Harriet Jacobs</td>\n",
       "      <td>no_author_2</td>\n",
       "      <td>no_author_3</td>\n",
       "      <td>...</td>\n",
       "      <td>0</td>\n",
       "      <td>0</td>\n",
       "      <td>0</td>\n",
       "      <td>0</td>\n",
       "      <td>0</td>\n",
       "      <td>0</td>\n",
       "      <td>0</td>\n",
       "      <td>1</td>\n",
       "      <td>1</td>\n",
       "      <td>1</td>\n",
       "    </tr>\n",
       "    <tr>\n",
       "      <th>15579</th>\n",
       "      <td>Attack of the Deranged Mutant Killer Monster S...</td>\n",
       "      <td>7.64</td>\n",
       "      <td>Unpopular</td>\n",
       "      <td>0</td>\n",
       "      <td>0</td>\n",
       "      <td>0.000000</td>\n",
       "      <td>1</td>\n",
       "      <td>Bill Watterson</td>\n",
       "      <td>no_author_2</td>\n",
       "      <td>no_author_3</td>\n",
       "      <td>...</td>\n",
       "      <td>0</td>\n",
       "      <td>0</td>\n",
       "      <td>0</td>\n",
       "      <td>0</td>\n",
       "      <td>0</td>\n",
       "      <td>0</td>\n",
       "      <td>0</td>\n",
       "      <td>0</td>\n",
       "      <td>1</td>\n",
       "      <td>1</td>\n",
       "    </tr>\n",
       "    <tr>\n",
       "      <th>15580</th>\n",
       "      <td>Book Savvy</td>\n",
       "      <td>33.99</td>\n",
       "      <td>Popular</td>\n",
       "      <td>2</td>\n",
       "      <td>2</td>\n",
       "      <td>1.000000</td>\n",
       "      <td>1</td>\n",
       "      <td>Ingrid Law</td>\n",
       "      <td>no_author_2</td>\n",
       "      <td>no_author_3</td>\n",
       "      <td>...</td>\n",
       "      <td>0</td>\n",
       "      <td>0</td>\n",
       "      <td>0</td>\n",
       "      <td>0</td>\n",
       "      <td>0</td>\n",
       "      <td>0</td>\n",
       "      <td>0</td>\n",
       "      <td>1</td>\n",
       "      <td>1</td>\n",
       "      <td>1</td>\n",
       "    </tr>\n",
       "    <tr>\n",
       "      <th>15581</th>\n",
       "      <td>The Dharma Bums</td>\n",
       "      <td>39.95</td>\n",
       "      <td>Popular</td>\n",
       "      <td>3</td>\n",
       "      <td>3</td>\n",
       "      <td>1.000000</td>\n",
       "      <td>1</td>\n",
       "      <td>Jack Kerouac</td>\n",
       "      <td>no_author_2</td>\n",
       "      <td>no_author_3</td>\n",
       "      <td>...</td>\n",
       "      <td>0</td>\n",
       "      <td>0</td>\n",
       "      <td>0</td>\n",
       "      <td>0</td>\n",
       "      <td>0</td>\n",
       "      <td>0</td>\n",
       "      <td>0</td>\n",
       "      <td>1</td>\n",
       "      <td>1</td>\n",
       "      <td>1</td>\n",
       "    </tr>\n",
       "    <tr>\n",
       "      <th>15582</th>\n",
       "      <td>Palomino</td>\n",
       "      <td>7.99</td>\n",
       "      <td>Popular</td>\n",
       "      <td>0</td>\n",
       "      <td>0</td>\n",
       "      <td>0.000000</td>\n",
       "      <td>1</td>\n",
       "      <td>Danielle Steel</td>\n",
       "      <td>no_author_2</td>\n",
       "      <td>no_author_3</td>\n",
       "      <td>...</td>\n",
       "      <td>0</td>\n",
       "      <td>0</td>\n",
       "      <td>0</td>\n",
       "      <td>0</td>\n",
       "      <td>0</td>\n",
       "      <td>0</td>\n",
       "      <td>0</td>\n",
       "      <td>1</td>\n",
       "      <td>0</td>\n",
       "      <td>1</td>\n",
       "    </tr>\n",
       "  </tbody>\n",
       "</table>\n",
       "<p>15583 rows × 41 columns</p>\n",
       "</div>"
      ],
      "text/plain": [
       "                                                   title  price popularity  \\\n",
       "0      We Band of Angels: The Untold Story of America...  10.88  Unpopular   \n",
       "1      Prayer That Brings Revival: Interceding for Go...   9.35  Unpopular   \n",
       "2              The Mystical Journey from Jesus to Christ  24.95  Unpopular   \n",
       "3                                              Death Row   7.99  Unpopular   \n",
       "4      Sound and Form in Modern Poetry: Second Editio...  32.50  Unpopular   \n",
       "...                                                  ...    ...        ...   \n",
       "15578  Incidents in the Life of a Slave Girl, by Harr...  31.63    Popular   \n",
       "15579  Attack of the Deranged Mutant Killer Monster S...   7.64  Unpopular   \n",
       "15580                                         Book Savvy  33.99    Popular   \n",
       "15581                                    The Dharma Bums  39.95    Popular   \n",
       "15582                                           Palomino   7.99    Popular   \n",
       "\n",
       "       total_reviews  helpful_reviews  percentage_helpful  author_count  \\\n",
       "0                  3                2            0.666667             1   \n",
       "1                  0                0            0.000000             1   \n",
       "2                 19               17            0.894737             1   \n",
       "3                  1                0            0.000000             1   \n",
       "4                 20               18            0.900000             2   \n",
       "...              ...              ...                 ...           ...   \n",
       "15578              5                5            1.000000             1   \n",
       "15579              0                0            0.000000             1   \n",
       "15580              2                2            1.000000             1   \n",
       "15581              3                3            1.000000             1   \n",
       "15582              0                0            0.000000             1   \n",
       "\n",
       "                   author_1         author_2     author_3  ... has_murder  \\\n",
       "0          Elizabeth Norman      no_author_2  no_author_3  ...          0   \n",
       "1               Yong-gi Cho      no_author_2  no_author_3  ...          0   \n",
       "2               Muata Ashby      no_author_2  no_author_3  ...          0   \n",
       "3             Lynden Harris      no_author_2  no_author_3  ...          0   \n",
       "4      Harvey Seymour Gross  Robert McDowell  no_author_3  ...          0   \n",
       "...                     ...              ...          ...  ...        ...   \n",
       "15578        Harriet Jacobs      no_author_2  no_author_3  ...          0   \n",
       "15579        Bill Watterson      no_author_2  no_author_3  ...          0   \n",
       "15580            Ingrid Law      no_author_2  no_author_3  ...          0   \n",
       "15581          Jack Kerouac      no_author_2  no_author_3  ...          0   \n",
       "15582        Danielle Steel      no_author_2  no_author_3  ...          0   \n",
       "\n",
       "      has_history  has_nature has_loss  has_rain  has_time  has_guide  target  \\\n",
       "0               1           0        0         1         0          0       0   \n",
       "1               0           0        0         0         0          0       0   \n",
       "2               0           0        0         0         0          0       0   \n",
       "3               0           0        0         0         0          0       0   \n",
       "4               0           0        0         0         0          0       0   \n",
       "...           ...         ...      ...       ...       ...        ...     ...   \n",
       "15578           0           0        0         0         0          0       1   \n",
       "15579           0           0        0         0         0          0       0   \n",
       "15580           0           0        0         0         0          0       1   \n",
       "15581           0           0        0         0         0          0       1   \n",
       "15582           0           0        0         0         0          0       1   \n",
       "\n",
       "       sentiment_summary_num  sentiment_text_num  \n",
       "0                          1                   1  \n",
       "1                          1                   1  \n",
       "2                          0                   0  \n",
       "3                          0                   1  \n",
       "4                          1                   1  \n",
       "...                      ...                 ...  \n",
       "15578                      1                   1  \n",
       "15579                      1                   1  \n",
       "15580                      1                   1  \n",
       "15581                      1                   1  \n",
       "15582                      0                   1  \n",
       "\n",
       "[15583 rows x 41 columns]"
      ]
     },
     "execution_count": 134,
     "metadata": {},
     "output_type": "execute_result"
    }
   ],
   "source": [
    "books"
   ]
  },
  {
   "cell_type": "code",
   "execution_count": 177,
   "id": "899abd2a",
   "metadata": {},
   "outputs": [
    {
     "data": {
      "text/html": [
       "<div>\n",
       "<style scoped>\n",
       "    .dataframe tbody tr th:only-of-type {\n",
       "        vertical-align: middle;\n",
       "    }\n",
       "\n",
       "    .dataframe tbody tr th {\n",
       "        vertical-align: top;\n",
       "    }\n",
       "\n",
       "    .dataframe thead th {\n",
       "        text-align: right;\n",
       "    }\n",
       "</style>\n",
       "<table border=\"1\" class=\"dataframe\">\n",
       "  <thead>\n",
       "    <tr style=\"text-align: right;\">\n",
       "      <th></th>\n",
       "      <th>sentiment_summary</th>\n",
       "      <th>sentiment_summary_num</th>\n",
       "      <th>sentiment_text</th>\n",
       "      <th>sentiment_text_num</th>\n",
       "      <th>sentiment_text_num</th>\n",
       "    </tr>\n",
       "  </thead>\n",
       "  <tbody>\n",
       "    <tr>\n",
       "      <th>0</th>\n",
       "      <td>POSITIVE</td>\n",
       "      <td>1</td>\n",
       "      <td>POSITIVE</td>\n",
       "      <td>1</td>\n",
       "      <td>1</td>\n",
       "    </tr>\n",
       "    <tr>\n",
       "      <th>1</th>\n",
       "      <td>POSITIVE</td>\n",
       "      <td>1</td>\n",
       "      <td>POSITIVE</td>\n",
       "      <td>1</td>\n",
       "      <td>1</td>\n",
       "    </tr>\n",
       "    <tr>\n",
       "      <th>2</th>\n",
       "      <td>NEGATIVE</td>\n",
       "      <td>0</td>\n",
       "      <td>NEGATIVE</td>\n",
       "      <td>0</td>\n",
       "      <td>0</td>\n",
       "    </tr>\n",
       "    <tr>\n",
       "      <th>3</th>\n",
       "      <td>NEGATIVE</td>\n",
       "      <td>0</td>\n",
       "      <td>POSITIVE</td>\n",
       "      <td>1</td>\n",
       "      <td>1</td>\n",
       "    </tr>\n",
       "    <tr>\n",
       "      <th>4</th>\n",
       "      <td>POSITIVE</td>\n",
       "      <td>1</td>\n",
       "      <td>POSITIVE</td>\n",
       "      <td>1</td>\n",
       "      <td>1</td>\n",
       "    </tr>\n",
       "    <tr>\n",
       "      <th>...</th>\n",
       "      <td>...</td>\n",
       "      <td>...</td>\n",
       "      <td>...</td>\n",
       "      <td>...</td>\n",
       "      <td>...</td>\n",
       "    </tr>\n",
       "    <tr>\n",
       "      <th>15578</th>\n",
       "      <td>POSITIVE</td>\n",
       "      <td>1</td>\n",
       "      <td>POSITIVE</td>\n",
       "      <td>1</td>\n",
       "      <td>1</td>\n",
       "    </tr>\n",
       "    <tr>\n",
       "      <th>15579</th>\n",
       "      <td>POSITIVE</td>\n",
       "      <td>1</td>\n",
       "      <td>POSITIVE</td>\n",
       "      <td>1</td>\n",
       "      <td>1</td>\n",
       "    </tr>\n",
       "    <tr>\n",
       "      <th>15580</th>\n",
       "      <td>POSITIVE</td>\n",
       "      <td>1</td>\n",
       "      <td>POSITIVE</td>\n",
       "      <td>1</td>\n",
       "      <td>1</td>\n",
       "    </tr>\n",
       "    <tr>\n",
       "      <th>15581</th>\n",
       "      <td>POSITIVE</td>\n",
       "      <td>1</td>\n",
       "      <td>POSITIVE</td>\n",
       "      <td>1</td>\n",
       "      <td>1</td>\n",
       "    </tr>\n",
       "    <tr>\n",
       "      <th>15582</th>\n",
       "      <td>NEGATIVE</td>\n",
       "      <td>0</td>\n",
       "      <td>POSITIVE</td>\n",
       "      <td>1</td>\n",
       "      <td>1</td>\n",
       "    </tr>\n",
       "  </tbody>\n",
       "</table>\n",
       "<p>15583 rows × 5 columns</p>\n",
       "</div>"
      ],
      "text/plain": [
       "      sentiment_summary  sentiment_summary_num sentiment_text  \\\n",
       "0              POSITIVE                      1       POSITIVE   \n",
       "1              POSITIVE                      1       POSITIVE   \n",
       "2              NEGATIVE                      0       NEGATIVE   \n",
       "3              NEGATIVE                      0       POSITIVE   \n",
       "4              POSITIVE                      1       POSITIVE   \n",
       "...                 ...                    ...            ...   \n",
       "15578          POSITIVE                      1       POSITIVE   \n",
       "15579          POSITIVE                      1       POSITIVE   \n",
       "15580          POSITIVE                      1       POSITIVE   \n",
       "15581          POSITIVE                      1       POSITIVE   \n",
       "15582          NEGATIVE                      0       POSITIVE   \n",
       "\n",
       "       sentiment_text_num  sentiment_text_num  \n",
       "0                       1                   1  \n",
       "1                       1                   1  \n",
       "2                       0                   0  \n",
       "3                       1                   1  \n",
       "4                       1                   1  \n",
       "...                   ...                 ...  \n",
       "15578                   1                   1  \n",
       "15579                   1                   1  \n",
       "15580                   1                   1  \n",
       "15581                   1                   1  \n",
       "15582                   1                   1  \n",
       "\n",
       "[15583 rows x 5 columns]"
      ]
     },
     "execution_count": 177,
     "metadata": {},
     "output_type": "execute_result"
    }
   ],
   "source": [
    "books[['sentiment_summary', 'sentiment_summary_num','sentiment_text', 'sentiment_text_num','sentiment_text_num']]\n",
    "\n",
    "\n",
    "\n",
    "\n",
    "\n"
   ]
  },
  {
   "cell_type": "code",
   "execution_count": 178,
   "id": "f31b43c1",
   "metadata": {},
   "outputs": [],
   "source": [
    "#drop colums['sentiment_summary', 'sentiment_text']\n",
    "books.drop(columns=['sentiment_summary', 'sentiment_text'], inplace=True)\n",
    "books.columns\n",
    "books.to_csv(\"data/books_model.csv\", index=False)\n",
    "\n",
    "\n",
    "\n",
    "\n"
   ]
  },
  {
   "cell_type": "code",
   "execution_count": 179,
   "id": "1529bdba",
   "metadata": {},
   "outputs": [
    {
     "name": "stdout",
     "output_type": "stream",
     "text": [
      "<class 'pandas.core.frame.DataFrame'>\n",
      "RangeIndex: 15583 entries, 0 to 15582\n",
      "Data columns (total 39 columns):\n",
      " #   Column                     Non-Null Count  Dtype  \n",
      "---  ------                     --------------  -----  \n",
      " 0   title                      15583 non-null  object \n",
      " 1   price                      15583 non-null  float64\n",
      " 2   popularity                 15583 non-null  object \n",
      " 3   total_reviews              15583 non-null  int64  \n",
      " 4   helpful_reviews            15583 non-null  int64  \n",
      " 5   percentage_helpful         15583 non-null  float64\n",
      " 6   author_count               15583 non-null  int64  \n",
      " 7   author_1                   15583 non-null  object \n",
      " 8   author_2                   15583 non-null  object \n",
      " 9   author_3                   15583 non-null  object \n",
      " 10  score_text                 15583 non-null  float64\n",
      " 11  clean_categories           15583 non-null  object \n",
      " 12  score_description          15583 non-null  float64\n",
      " 13  sentiment_description_num  15583 non-null  int64  \n",
      " 14  num_words                  15583 non-null  int64  \n",
      " 15  num_chars                  15583 non-null  int64  \n",
      " 16  avg_word_len               15583 non-null  float64\n",
      " 17  has_children               15583 non-null  int64  \n",
      " 18  has_classic                15583 non-null  int64  \n",
      " 19  has_war                    15583 non-null  int64  \n",
      " 20  has_spiritual              15583 non-null  int64  \n",
      " 21  has_family                 15583 non-null  int64  \n",
      " 22  has_teen                   15583 non-null  int64  \n",
      " 23  has_love                   15583 non-null  int64  \n",
      " 24  has_school                 15583 non-null  int64  \n",
      " 25  has_science                15583 non-null  int64  \n",
      " 26  has_art                    15583 non-null  int64  \n",
      " 27  has_tea                    15583 non-null  int64  \n",
      " 28  has_sex                    15583 non-null  int64  \n",
      " 29  has_murder                 15583 non-null  int64  \n",
      " 30  has_history                15583 non-null  int64  \n",
      " 31  has_nature                 15583 non-null  int64  \n",
      " 32  has_loss                   15583 non-null  int64  \n",
      " 33  has_rain                   15583 non-null  int64  \n",
      " 34  has_time                   15583 non-null  int64  \n",
      " 35  has_guide                  15583 non-null  int64  \n",
      " 36  target                     15583 non-null  int64  \n",
      " 37  sentiment_summary_num      15583 non-null  int64  \n",
      " 38  sentiment_text_num         15583 non-null  int64  \n",
      "dtypes: float64(5), int64(28), object(6)\n",
      "memory usage: 4.6+ MB\n"
     ]
    }
   ],
   "source": [
    "books = pd.read_csv(\"data/books_model.csv\")\n",
    "books.info()\n"
   ]
  },
  {
   "cell_type": "code",
   "execution_count": 180,
   "id": "9234448a",
   "metadata": {},
   "outputs": [],
   "source": [
    "target = books['target']"
   ]
  },
  {
   "cell_type": "code",
   "execution_count": 181,
   "id": "d579e79b",
   "metadata": {},
   "outputs": [
    {
     "data": {
      "text/plain": [
       "Index(['title', 'price', 'total_reviews', 'helpful_reviews',\n",
       "       'percentage_helpful', 'author_count', 'author_1', 'author_2',\n",
       "       'author_3', 'score_text', 'clean_categories', 'score_description',\n",
       "       'sentiment_description_num', 'num_words', 'num_chars', 'avg_word_len',\n",
       "       'has_children', 'has_classic', 'has_war', 'has_spiritual', 'has_family',\n",
       "       'has_teen', 'has_love', 'has_school', 'has_science', 'has_art',\n",
       "       'has_tea', 'has_sex', 'has_murder', 'has_history', 'has_nature',\n",
       "       'has_loss', 'has_rain', 'has_time', 'has_guide',\n",
       "       'sentiment_summary_num', 'sentiment_text_num'],\n",
       "      dtype='object')"
      ]
     },
     "execution_count": 181,
     "metadata": {},
     "output_type": "execute_result"
    }
   ],
   "source": [
    "#drop target and popularity\n",
    "books.drop(columns=['target', 'popularity'], inplace=True)\n",
    "books.columns\n"
   ]
  },
  {
   "cell_type": "code",
   "execution_count": 182,
   "id": "dc2e0781",
   "metadata": {},
   "outputs": [
    {
     "name": "stdout",
     "output_type": "stream",
     "text": [
      "<class 'pandas.core.frame.DataFrame'>\n",
      "RangeIndex: 15583 entries, 0 to 15582\n",
      "Data columns (total 37 columns):\n",
      " #   Column                     Non-Null Count  Dtype  \n",
      "---  ------                     --------------  -----  \n",
      " 0   title                      15583 non-null  object \n",
      " 1   price                      15583 non-null  float64\n",
      " 2   total_reviews              15583 non-null  int64  \n",
      " 3   helpful_reviews            15583 non-null  int64  \n",
      " 4   percentage_helpful         15583 non-null  float64\n",
      " 5   author_count               15583 non-null  int64  \n",
      " 6   author_1                   15583 non-null  object \n",
      " 7   author_2                   15583 non-null  object \n",
      " 8   author_3                   15583 non-null  object \n",
      " 9   score_text                 15583 non-null  float64\n",
      " 10  clean_categories           15583 non-null  object \n",
      " 11  score_description          15583 non-null  float64\n",
      " 12  sentiment_description_num  15583 non-null  int64  \n",
      " 13  num_words                  15583 non-null  int64  \n",
      " 14  num_chars                  15583 non-null  int64  \n",
      " 15  avg_word_len               15583 non-null  float64\n",
      " 16  has_children               15583 non-null  int64  \n",
      " 17  has_classic                15583 non-null  int64  \n",
      " 18  has_war                    15583 non-null  int64  \n",
      " 19  has_spiritual              15583 non-null  int64  \n",
      " 20  has_family                 15583 non-null  int64  \n",
      " 21  has_teen                   15583 non-null  int64  \n",
      " 22  has_love                   15583 non-null  int64  \n",
      " 23  has_school                 15583 non-null  int64  \n",
      " 24  has_science                15583 non-null  int64  \n",
      " 25  has_art                    15583 non-null  int64  \n",
      " 26  has_tea                    15583 non-null  int64  \n",
      " 27  has_sex                    15583 non-null  int64  \n",
      " 28  has_murder                 15583 non-null  int64  \n",
      " 29  has_history                15583 non-null  int64  \n",
      " 30  has_nature                 15583 non-null  int64  \n",
      " 31  has_loss                   15583 non-null  int64  \n",
      " 32  has_rain                   15583 non-null  int64  \n",
      " 33  has_time                   15583 non-null  int64  \n",
      " 34  has_guide                  15583 non-null  int64  \n",
      " 35  sentiment_summary_num      15583 non-null  int64  \n",
      " 36  sentiment_text_num         15583 non-null  int64  \n",
      "dtypes: float64(5), int64(27), object(5)\n",
      "memory usage: 4.4+ MB\n"
     ]
    }
   ],
   "source": [
    "books.info()"
   ]
  },
  {
   "cell_type": "code",
   "execution_count": 148,
   "id": "93319755",
   "metadata": {},
   "outputs": [
    {
     "name": "stdout",
     "output_type": "stream",
     "text": [
      "Categories with less than 200 books: 293\n",
      "Categories with more than 200 books: 19\n",
      "\n",
      "Total categories: 312\n",
      "Categories with < 200 books: 293\n",
      "Categories with >= 200 books: 19\n"
     ]
    }
   ],
   "source": [
    "# Count categories with less than 500 books\n",
    "\n",
    "book_threshold = 200\n",
    "categories_less_than_x = (books['clean_categories'].value_counts() < book_threshold).sum()\n",
    "print(f\"Categories with less than {book_threshold} books: {categories_less_than_x}\")\n",
    "\n",
    "# Count categories with more than 500 books  \n",
    "categories_more_than_x= (books['clean_categories'].value_counts() > book_threshold).sum()\n",
    "print(f\"Categories with more than {book_threshold} books: {categories_more_than_x}\")\n",
    "\n",
    "# Show the actual breakdown\n",
    "category_counts = books['clean_categories'].value_counts()\n",
    "print(f\"\\nTotal categories: {len(category_counts)}\")\n",
    "print(f\"Categories with < {book_threshold} books: {(category_counts < book_threshold).sum()}\")\n",
    "print(f\"Categories with >= {book_threshold} books: {(category_counts >= book_threshold).sum()}\")"
   ]
  },
  {
   "cell_type": "code",
   "execution_count": 154,
   "id": "d80f6e70",
   "metadata": {},
   "outputs": [
    {
     "name": "stdout",
     "output_type": "stream",
     "text": [
      "Top 20 categories by number of books:\n",
      "==================================================\n",
      " 1. Fiction                        - 3511 books\n",
      " 2. Religion                       - 1049 books\n",
      " 3. Biography & Autobiography      -  850 books\n",
      " 4. Juvenile Fiction               -  814 books\n",
      " 5. History                        -  753 books\n",
      " 6. Business & Economics           -  690 books\n",
      " 7. Family & Relationships         -  484 books\n",
      " 8. Computers                      -  484 books\n",
      " 9. Health & Fitness               -  407 books\n",
      "10. Cooking                        -  397 books\n",
      "11. Body, Mind & Spirit            -  358 books\n",
      "12. Music                          -  303 books\n",
      "13. Juvenile Nonfiction            -  279 books\n",
      "14. Self-Help                      -  263 books\n",
      "15. Political Science              -  246 books\n",
      "16. Sports & Recreation            -  241 books\n",
      "17. Social Science                 -  239 books\n",
      "18. Education                      -  210 books\n",
      "19. Psychology                     -  206 books\n",
      "20. Science                        -  190 books\n",
      "\n",
      "Total categories: 312\n",
      "Total books: 15583\n",
      "\n",
      "Categories with more than 200 books:\n",
      "========================================\n",
      "Fiction                        - 3511 books\n",
      "Religion                       - 1049 books\n",
      "Biography & Autobiography      -  850 books\n",
      "Juvenile Fiction               -  814 books\n",
      "History                        -  753 books\n",
      "Business & Economics           -  690 books\n",
      "Family & Relationships         -  484 books\n",
      "Computers                      -  484 books\n",
      "Health & Fitness               -  407 books\n",
      "Cooking                        -  397 books\n",
      "Body, Mind & Spirit            -  358 books\n",
      "Music                          -  303 books\n",
      "Juvenile Nonfiction            -  279 books\n",
      "Self-Help                      -  263 books\n",
      "Political Science              -  246 books\n",
      "Sports & Recreation            -  241 books\n",
      "Social Science                 -  239 books\n",
      "Education                      -  210 books\n",
      "Psychology                     -  206 books\n",
      "\n",
      "Summary:\n",
      "Categories with > 200 books: 19\n",
      "Books in top categories: 11784\n",
      "Books in smaller categories: 3799\n"
     ]
    }
   ],
   "source": [
    "# Analyze top categories and their book counts\n",
    "category_counts = books['clean_categories'].value_counts()\n",
    "\n",
    "print(\"Top 20 categories by number of books:\")\n",
    "print(\"=\" * 50)\n",
    "for i, (category, count) in enumerate(category_counts.head(20).items(), 1):\n",
    "    print(f\"{i:2d}. {category:30s} - {count:4d} books\")\n",
    "\n",
    "print(f\"\\nTotal categories: {len(category_counts)}\")\n",
    "print(f\"Total books: {len(books)}\")\n",
    "\n",
    "# Show categories with more than book_threshold books\n",
    "print(f\"\\nCategories with more than {book_threshold} books:\")\n",
    "print(\"=\" * 40)\n",
    "top_categories = category_counts[category_counts > book_threshold]\n",
    "for category, count in top_categories.items():\n",
    "    print(f\"{category:30s} - {count:4d} books\")\n",
    "\n",
    "print(f\"\\nSummary:\")\n",
    "print(f\"Categories with > {book_threshold} books: {len(top_categories)}\")\n",
    "print(f\"Books in top categories: {top_categories.sum()}\")\n",
    "print(f\"Books in smaller categories: {len(books) - top_categories.sum()}\")"
   ]
  },
  {
   "cell_type": "code",
   "execution_count": 189,
   "id": "bf9207e5",
   "metadata": {},
   "outputs": [
    {
     "name": "stdout",
     "output_type": "stream",
     "text": [
      "<class 'pandas.core.frame.DataFrame'>\n",
      "RangeIndex: 15583 entries, 0 to 15582\n",
      "Data columns (total 37 columns):\n",
      " #   Column                     Non-Null Count  Dtype  \n",
      "---  ------                     --------------  -----  \n",
      " 0   title                      15583 non-null  object \n",
      " 1   price                      15583 non-null  float64\n",
      " 2   total_reviews              15583 non-null  int64  \n",
      " 3   helpful_reviews            15583 non-null  int64  \n",
      " 4   percentage_helpful         15583 non-null  float64\n",
      " 5   author_count               15583 non-null  int64  \n",
      " 6   author_1                   15583 non-null  object \n",
      " 7   author_2                   15583 non-null  object \n",
      " 8   author_3                   15583 non-null  object \n",
      " 9   score_text                 15583 non-null  float64\n",
      " 10  clean_categories           15583 non-null  object \n",
      " 11  score_description          15583 non-null  float64\n",
      " 12  sentiment_description_num  15583 non-null  int64  \n",
      " 13  num_words                  15583 non-null  int64  \n",
      " 14  num_chars                  15583 non-null  int64  \n",
      " 15  avg_word_len               15583 non-null  float64\n",
      " 16  has_children               15583 non-null  int64  \n",
      " 17  has_classic                15583 non-null  int64  \n",
      " 18  has_war                    15583 non-null  int64  \n",
      " 19  has_spiritual              15583 non-null  int64  \n",
      " 20  has_family                 15583 non-null  int64  \n",
      " 21  has_teen                   15583 non-null  int64  \n",
      " 22  has_love                   15583 non-null  int64  \n",
      " 23  has_school                 15583 non-null  int64  \n",
      " 24  has_science                15583 non-null  int64  \n",
      " 25  has_art                    15583 non-null  int64  \n",
      " 26  has_tea                    15583 non-null  int64  \n",
      " 27  has_sex                    15583 non-null  int64  \n",
      " 28  has_murder                 15583 non-null  int64  \n",
      " 29  has_history                15583 non-null  int64  \n",
      " 30  has_nature                 15583 non-null  int64  \n",
      " 31  has_loss                   15583 non-null  int64  \n",
      " 32  has_rain                   15583 non-null  int64  \n",
      " 33  has_time                   15583 non-null  int64  \n",
      " 34  has_guide                  15583 non-null  int64  \n",
      " 35  sentiment_summary_num      15583 non-null  int64  \n",
      " 36  sentiment_text_num         15583 non-null  int64  \n",
      "dtypes: float64(5), int64(27), object(5)\n",
      "memory usage: 4.4+ MB\n"
     ]
    }
   ],
   "source": [
    "books.info()"
   ]
  },
  {
   "cell_type": "code",
   "execution_count": 183,
   "id": "00f9065a",
   "metadata": {},
   "outputs": [],
   "source": [
    "#create asimplify categories with only the top 20 categories and teh rest as other\n",
    "books['clean_categories'] = books['clean_categories'].apply(lambda x: 'other' if x not in top_categories.index else x)\n",
    "\n",
    "\n",
    "\n"
   ]
  },
  {
   "cell_type": "code",
   "execution_count": 185,
   "id": "fe9535b4",
   "metadata": {},
   "outputs": [
    {
     "data": {
      "text/plain": [
       "clean_categories\n",
       "other                        3799\n",
       "Fiction                      3511\n",
       "Religion                     1049\n",
       "Biography & Autobiography     850\n",
       "Juvenile Fiction              814\n",
       "History                       753\n",
       "Business & Economics          690\n",
       "Family & Relationships        484\n",
       "Computers                     484\n",
       "Health & Fitness              407\n",
       "Cooking                       397\n",
       "Body, Mind & Spirit           358\n",
       "Music                         303\n",
       "Juvenile Nonfiction           279\n",
       "Self-Help                     263\n",
       "Political Science             246\n",
       "Sports & Recreation           241\n",
       "Social Science                239\n",
       "Education                     210\n",
       "Psychology                    206\n",
       "Name: count, dtype: int64"
      ]
     },
     "execution_count": 185,
     "metadata": {},
     "output_type": "execute_result"
    }
   ],
   "source": [
    "books['clean_categories'].value_counts()"
   ]
  },
  {
   "cell_type": "code",
   "execution_count": 186,
   "id": "dd2557d9",
   "metadata": {},
   "outputs": [],
   "source": [
    "# Another way to do the same thing\n",
    "books['clean_categories'] = books['clean_categories'].replace('other', 'Other')"
   ]
  },
  {
   "cell_type": "code",
   "execution_count": 187,
   "id": "6f02d500",
   "metadata": {},
   "outputs": [],
   "source": [
    "books.to_csv(\"data/books_model.csv\", index=False)"
   ]
  },
  {
   "cell_type": "code",
   "execution_count": 190,
   "id": "8b1e3cae",
   "metadata": {},
   "outputs": [
    {
     "name": "stdout",
     "output_type": "stream",
     "text": [
      "<class 'pandas.core.frame.DataFrame'>\n",
      "RangeIndex: 15583 entries, 0 to 15582\n",
      "Data columns (total 37 columns):\n",
      " #   Column                     Non-Null Count  Dtype  \n",
      "---  ------                     --------------  -----  \n",
      " 0   title                      15583 non-null  object \n",
      " 1   price                      15583 non-null  float64\n",
      " 2   total_reviews              15583 non-null  int64  \n",
      " 3   helpful_reviews            15583 non-null  int64  \n",
      " 4   percentage_helpful         15583 non-null  float64\n",
      " 5   author_count               15583 non-null  int64  \n",
      " 6   author_1                   15583 non-null  object \n",
      " 7   author_2                   15583 non-null  object \n",
      " 8   author_3                   15583 non-null  object \n",
      " 9   score_text                 15583 non-null  float64\n",
      " 10  clean_categories           15583 non-null  object \n",
      " 11  score_description          15583 non-null  float64\n",
      " 12  sentiment_description_num  15583 non-null  int64  \n",
      " 13  num_words                  15583 non-null  int64  \n",
      " 14  num_chars                  15583 non-null  int64  \n",
      " 15  avg_word_len               15583 non-null  float64\n",
      " 16  has_children               15583 non-null  int64  \n",
      " 17  has_classic                15583 non-null  int64  \n",
      " 18  has_war                    15583 non-null  int64  \n",
      " 19  has_spiritual              15583 non-null  int64  \n",
      " 20  has_family                 15583 non-null  int64  \n",
      " 21  has_teen                   15583 non-null  int64  \n",
      " 22  has_love                   15583 non-null  int64  \n",
      " 23  has_school                 15583 non-null  int64  \n",
      " 24  has_science                15583 non-null  int64  \n",
      " 25  has_art                    15583 non-null  int64  \n",
      " 26  has_tea                    15583 non-null  int64  \n",
      " 27  has_sex                    15583 non-null  int64  \n",
      " 28  has_murder                 15583 non-null  int64  \n",
      " 29  has_history                15583 non-null  int64  \n",
      " 30  has_nature                 15583 non-null  int64  \n",
      " 31  has_loss                   15583 non-null  int64  \n",
      " 32  has_rain                   15583 non-null  int64  \n",
      " 33  has_time                   15583 non-null  int64  \n",
      " 34  has_guide                  15583 non-null  int64  \n",
      " 35  sentiment_summary_num      15583 non-null  int64  \n",
      " 36  sentiment_text_num         15583 non-null  int64  \n",
      "dtypes: float64(5), int64(27), object(5)\n",
      "memory usage: 4.4+ MB\n"
     ]
    }
   ],
   "source": [
    "books.info()\n",
    "\n",
    "\n",
    "\n"
   ]
  },
  {
   "cell_type": "code",
   "execution_count": 191,
   "id": "305f4e5d",
   "metadata": {},
   "outputs": [
    {
     "name": "stdout",
     "output_type": "stream",
     "text": [
      "title                         object\n",
      "price                        float64\n",
      "total_reviews                  int64\n",
      "helpful_reviews                int64\n",
      "percentage_helpful           float64\n",
      "author_count                   int64\n",
      "author_1                      object\n",
      "author_2                      object\n",
      "author_3                      object\n",
      "score_text                   float64\n",
      "clean_categories              object\n",
      "score_description            float64\n",
      "sentiment_description_num      int64\n",
      "num_words                      int64\n",
      "num_chars                      int64\n",
      "avg_word_len                 float64\n",
      "has_children                   int64\n",
      "has_classic                    int64\n",
      "has_war                        int64\n",
      "has_spiritual                  int64\n",
      "has_family                     int64\n",
      "has_teen                       int64\n",
      "has_love                       int64\n",
      "has_school                     int64\n",
      "has_science                    int64\n",
      "has_art                        int64\n",
      "has_tea                        int64\n",
      "has_sex                        int64\n",
      "has_murder                     int64\n",
      "has_history                    int64\n",
      "has_nature                     int64\n",
      "has_loss                       int64\n",
      "has_rain                       int64\n",
      "has_time                       int64\n",
      "has_guide                      int64\n",
      "sentiment_summary_num          int64\n",
      "sentiment_text_num             int64\n",
      "dtype: object\n"
     ]
    }
   ],
   "source": [
    "# Check column types\n",
    "print(books.dtypes)\n"
   ]
  },
  {
   "cell_type": "code",
   "execution_count": 260,
   "id": "2eb15063",
   "metadata": {},
   "outputs": [
    {
     "name": "stdout",
     "output_type": "stream",
     "text": [
      "<class 'pandas.core.frame.DataFrame'>\n",
      "RangeIndex: 15583 entries, 0 to 15582\n",
      "Data columns (total 37 columns):\n",
      " #   Column                     Non-Null Count  Dtype  \n",
      "---  ------                     --------------  -----  \n",
      " 0   title                      15583 non-null  object \n",
      " 1   price                      15583 non-null  float64\n",
      " 2   total_reviews              15583 non-null  int64  \n",
      " 3   helpful_reviews            15583 non-null  int64  \n",
      " 4   percentage_helpful         15583 non-null  float64\n",
      " 5   author_count               15583 non-null  int64  \n",
      " 6   author_1                   15583 non-null  object \n",
      " 7   author_2                   15583 non-null  object \n",
      " 8   author_3                   15583 non-null  object \n",
      " 9   score_text                 15583 non-null  float64\n",
      " 10  clean_categories           15583 non-null  object \n",
      " 11  score_description          15583 non-null  float64\n",
      " 12  sentiment_description_num  15583 non-null  int64  \n",
      " 13  num_words                  15583 non-null  int64  \n",
      " 14  num_chars                  15583 non-null  int64  \n",
      " 15  avg_word_len               15583 non-null  float64\n",
      " 16  has_children               15583 non-null  int64  \n",
      " 17  has_classic                15583 non-null  int64  \n",
      " 18  has_war                    15583 non-null  int64  \n",
      " 19  has_spiritual              15583 non-null  int64  \n",
      " 20  has_family                 15583 non-null  int64  \n",
      " 21  has_teen                   15583 non-null  int64  \n",
      " 22  has_love                   15583 non-null  int64  \n",
      " 23  has_school                 15583 non-null  int64  \n",
      " 24  has_science                15583 non-null  int64  \n",
      " 25  has_art                    15583 non-null  int64  \n",
      " 26  has_tea                    15583 non-null  int64  \n",
      " 27  has_sex                    15583 non-null  int64  \n",
      " 28  has_murder                 15583 non-null  int64  \n",
      " 29  has_history                15583 non-null  int64  \n",
      " 30  has_nature                 15583 non-null  int64  \n",
      " 31  has_loss                   15583 non-null  int64  \n",
      " 32  has_rain                   15583 non-null  int64  \n",
      " 33  has_time                   15583 non-null  int64  \n",
      " 34  has_guide                  15583 non-null  int64  \n",
      " 35  sentiment_summary_num      15583 non-null  int64  \n",
      " 36  sentiment_text_num         15583 non-null  int64  \n",
      "dtypes: float64(5), int64(27), object(5)\n",
      "memory usage: 4.4+ MB\n"
     ]
    }
   ],
   "source": [
    "books = pd.read_csv(\"data/books_model.csv\")\n",
    "books.info()\n"
   ]
  },
  {
   "cell_type": "code",
   "execution_count": 261,
   "id": "572c2b7a",
   "metadata": {},
   "outputs": [
    {
     "data": {
      "text/plain": [
       "Index(['title', 'author_1', 'author_2', 'author_3', 'clean_categories'], dtype='object')"
      ]
     },
     "execution_count": 261,
     "metadata": {},
     "output_type": "execute_result"
    }
   ],
   "source": [
    "# get non numeric columns\n",
    "books.select_dtypes(include=['object']).columns\n",
    "\n",
    "\n",
    "\n",
    "\n"
   ]
  },
  {
   "cell_type": "markdown",
   "id": "b9fdab8b",
   "metadata": {},
   "source": [
    "## Author\n",
    "Frequency encoding"
   ]
  },
  {
   "cell_type": "code",
   "execution_count": 197,
   "id": "0445a318",
   "metadata": {},
   "outputs": [
    {
     "data": {
      "text/plain": [
       "author_1\n",
       "Charlotte Brontë       126\n",
       "Charles Dickens        109\n",
       "Christopher Paolini     90\n",
       "Thomas Harris           85\n",
       "Gary Chapman            49\n",
       "                      ... \n",
       "R&A                      1\n",
       "Lisa Carver              1\n",
       "Robert S. Chambers       1\n",
       "Michael Yates            1\n",
       "Wayne Barber             1\n",
       "Name: count, Length: 6277, dtype: int64"
      ]
     },
     "execution_count": 197,
     "metadata": {},
     "output_type": "execute_result"
    }
   ],
   "source": [
    "# count the number of authors\n",
    "books['author_1'].value_counts()\n",
    "\n",
    "\n",
    "\n",
    "\n"
   ]
  },
  {
   "cell_type": "code",
   "execution_count": 262,
   "id": "d0ae8e73",
   "metadata": {},
   "outputs": [],
   "source": [
    "# Count frequency of each author\n",
    "top_authors = books['author_1'].value_counts().nlargest(20).index.tolist()\n",
    "\n",
    "# Replace all authors not in top 20 with 'Other'\n",
    "books['author_1_clean'] = books['author_1'].apply(lambda x: x if x in top_authors else 'Other')\n",
    "\n",
    "\n"
   ]
  },
  {
   "cell_type": "code",
   "execution_count": 263,
   "id": "4ced72d0",
   "metadata": {},
   "outputs": [
    {
     "data": {
      "text/plain": [
       "author_1_clean\n",
       "Other                        14536\n",
       "Charlotte Brontë               126\n",
       "Charles Dickens                109\n",
       "Christopher Paolini             90\n",
       "Thomas Harris                   85\n",
       "Gary Chapman                    49\n",
       "Julia Quinn                     47\n",
       "Donald Miller                   45\n",
       "Oscar Wilde                     45\n",
       "Nicholas Sparks                 45\n",
       "Catherine Coulter               43\n",
       "Nora Roberts                    42\n",
       "Kate Chopin                     42\n",
       "Ashley Audrain                  38\n",
       "Thomas Hardy                    38\n",
       "Patricia Daniels Cornwell       36\n",
       "Sherry Argov                    36\n",
       "Jonah Goldberg                  35\n",
       "Leo Bormans                     32\n",
       "Lewis Carroll                   32\n",
       "Jim Collins                     32\n",
       "Name: count, dtype: int64"
      ]
     },
     "execution_count": 263,
     "metadata": {},
     "output_type": "execute_result"
    }
   ],
   "source": [
    "# count the number of authors\n",
    "books['author_1_clean'].value_counts()"
   ]
  },
  {
   "cell_type": "code",
   "execution_count": 200,
   "id": "a8401ce8",
   "metadata": {},
   "outputs": [
    {
     "data": {
      "text/plain": [
       "author_2\n",
       "no_author_2                  13087\n",
       "Marc Cactus                     70\n",
       "William E. Butterworth IV       18\n",
       "Larry Sloman                    18\n",
       "Jeannie Hayden                  16\n",
       "                             ...  \n",
       "Steven D. Farmer, Ph.D.          1\n",
       "Jean Kerr Stenmark               1\n",
       "Paul Sarknas                     1\n",
       "Rebecca Wagner Sytsema           1\n",
       "Eddie Rasnake                    1\n",
       "Name: count, Length: 1239, dtype: int64"
      ]
     },
     "execution_count": 200,
     "metadata": {},
     "output_type": "execute_result"
    }
   ],
   "source": [
    "# count the number of authors\n",
    "books['author_2'].value_counts()"
   ]
  },
  {
   "cell_type": "code",
   "execution_count": 264,
   "id": "26f17fa9",
   "metadata": {},
   "outputs": [
    {
     "name": "stdout",
     "output_type": "stream",
     "text": [
      "<class 'pandas.core.frame.DataFrame'>\n",
      "RangeIndex: 15583 entries, 0 to 15582\n",
      "Data columns (total 35 columns):\n",
      " #   Column                     Non-Null Count  Dtype  \n",
      "---  ------                     --------------  -----  \n",
      " 0   title                      15583 non-null  object \n",
      " 1   price                      15583 non-null  float64\n",
      " 2   total_reviews              15583 non-null  int64  \n",
      " 3   helpful_reviews            15583 non-null  int64  \n",
      " 4   percentage_helpful         15583 non-null  float64\n",
      " 5   author_count               15583 non-null  int64  \n",
      " 6   score_text                 15583 non-null  float64\n",
      " 7   clean_categories           15583 non-null  object \n",
      " 8   score_description          15583 non-null  float64\n",
      " 9   sentiment_description_num  15583 non-null  int64  \n",
      " 10  num_words                  15583 non-null  int64  \n",
      " 11  num_chars                  15583 non-null  int64  \n",
      " 12  avg_word_len               15583 non-null  float64\n",
      " 13  has_children               15583 non-null  int64  \n",
      " 14  has_classic                15583 non-null  int64  \n",
      " 15  has_war                    15583 non-null  int64  \n",
      " 16  has_spiritual              15583 non-null  int64  \n",
      " 17  has_family                 15583 non-null  int64  \n",
      " 18  has_teen                   15583 non-null  int64  \n",
      " 19  has_love                   15583 non-null  int64  \n",
      " 20  has_school                 15583 non-null  int64  \n",
      " 21  has_science                15583 non-null  int64  \n",
      " 22  has_art                    15583 non-null  int64  \n",
      " 23  has_tea                    15583 non-null  int64  \n",
      " 24  has_sex                    15583 non-null  int64  \n",
      " 25  has_murder                 15583 non-null  int64  \n",
      " 26  has_history                15583 non-null  int64  \n",
      " 27  has_nature                 15583 non-null  int64  \n",
      " 28  has_loss                   15583 non-null  int64  \n",
      " 29  has_rain                   15583 non-null  int64  \n",
      " 30  has_time                   15583 non-null  int64  \n",
      " 31  has_guide                  15583 non-null  int64  \n",
      " 32  sentiment_summary_num      15583 non-null  int64  \n",
      " 33  sentiment_text_num         15583 non-null  int64  \n",
      " 34  author_1_clean             15583 non-null  object \n",
      "dtypes: float64(5), int64(27), object(3)\n",
      "memory usage: 4.2+ MB\n"
     ]
    }
   ],
   "source": [
    "#dropo author_1 and author_2\n",
    "books.drop(columns=['author_1', 'author_2', 'author_3'], inplace=True)\n",
    "books.info()\n",
    "\n"
   ]
  },
  {
   "cell_type": "markdown",
   "id": "00718aa2",
   "metadata": {},
   "source": [
    "### one hot encoding for author"
   ]
  },
  {
   "cell_type": "code",
   "execution_count": 265,
   "id": "b08caa0c",
   "metadata": {},
   "outputs": [],
   "source": [
    "# Optional: one-hot encode\n",
    "books = pd.get_dummies(books, columns=['author_1_clean'], prefix='author', dtype=int)"
   ]
  },
  {
   "cell_type": "code",
   "execution_count": null,
   "id": "81f3c627",
   "metadata": {},
   "outputs": [
    {
     "data": {
      "text/plain": [
       "Index(['title', 'price', 'total_reviews', 'helpful_reviews',\n",
       "       'percentage_helpful', 'author_count', 'score_text', 'clean_categories',\n",
       "       'score_description', 'sentiment_description_num', 'num_words',\n",
       "       'num_chars', 'avg_word_len', 'has_children', 'has_classic', 'has_war',\n",
       "       'has_spiritual', 'has_family', 'has_teen', 'has_love', 'has_school',\n",
       "       'has_science', 'has_art', 'has_tea', 'has_sex', 'has_murder',\n",
       "       'has_history', 'has_nature', 'has_loss', 'has_rain', 'has_time',\n",
       "       'has_guide', 'sentiment_summary_num', 'sentiment_text_num',\n",
       "       'author_Ashley Audrain', 'author_Catherine Coulter',\n",
       "       'author_Charles Dickens', 'author_Charlotte Brontë',\n",
       "       'author_Christopher Paolini', 'author_Donald Miller',\n",
       "       'author_Gary Chapman', 'author_Jim Collins', 'author_Jonah Goldberg',\n",
       "       'author_Julia Quinn', 'author_Kate Chopin', 'author_Leo Bormans',\n",
       "       'author_Lewis Carroll', 'author_Nicholas Sparks', 'author_Nora Roberts',\n",
       "       'author_Oscar Wilde', 'author_Other',\n",
       "       'author_Patricia Daniels Cornwell', 'author_Sherry Argov',\n",
       "       'author_Thomas Hardy', 'author_Thomas Harris'],\n",
       "      dtype='object')"
      ]
     },
     "execution_count": 266,
     "metadata": {},
     "output_type": "execute_result"
    }
   ],
   "source": [
    "books.columns\n"
   ]
  },
  {
   "cell_type": "code",
   "execution_count": 267,
   "id": "02fc6c0d",
   "metadata": {},
   "outputs": [
    {
     "data": {
      "text/html": [
       "<div>\n",
       "<style scoped>\n",
       "    .dataframe tbody tr th:only-of-type {\n",
       "        vertical-align: middle;\n",
       "    }\n",
       "\n",
       "    .dataframe tbody tr th {\n",
       "        vertical-align: top;\n",
       "    }\n",
       "\n",
       "    .dataframe thead th {\n",
       "        text-align: right;\n",
       "    }\n",
       "</style>\n",
       "<table border=\"1\" class=\"dataframe\">\n",
       "  <thead>\n",
       "    <tr style=\"text-align: right;\">\n",
       "      <th></th>\n",
       "      <th>title</th>\n",
       "      <th>price</th>\n",
       "      <th>total_reviews</th>\n",
       "      <th>helpful_reviews</th>\n",
       "      <th>percentage_helpful</th>\n",
       "      <th>author_count</th>\n",
       "      <th>score_text</th>\n",
       "      <th>clean_categories</th>\n",
       "      <th>score_description</th>\n",
       "      <th>sentiment_description_num</th>\n",
       "      <th>...</th>\n",
       "      <th>author_Leo Bormans</th>\n",
       "      <th>author_Lewis Carroll</th>\n",
       "      <th>author_Nicholas Sparks</th>\n",
       "      <th>author_Nora Roberts</th>\n",
       "      <th>author_Oscar Wilde</th>\n",
       "      <th>author_Other</th>\n",
       "      <th>author_Patricia Daniels Cornwell</th>\n",
       "      <th>author_Sherry Argov</th>\n",
       "      <th>author_Thomas Hardy</th>\n",
       "      <th>author_Thomas Harris</th>\n",
       "    </tr>\n",
       "  </thead>\n",
       "  <tbody>\n",
       "    <tr>\n",
       "      <th>0</th>\n",
       "      <td>We Band of Angels: The Untold Story of America...</td>\n",
       "      <td>10.88</td>\n",
       "      <td>3</td>\n",
       "      <td>2</td>\n",
       "      <td>0.666667</td>\n",
       "      <td>1</td>\n",
       "      <td>0.999283</td>\n",
       "      <td>History</td>\n",
       "      <td>0.999049</td>\n",
       "      <td>1</td>\n",
       "      <td>...</td>\n",
       "      <td>0</td>\n",
       "      <td>0</td>\n",
       "      <td>0</td>\n",
       "      <td>0</td>\n",
       "      <td>0</td>\n",
       "      <td>1</td>\n",
       "      <td>0</td>\n",
       "      <td>0</td>\n",
       "      <td>0</td>\n",
       "      <td>0</td>\n",
       "    </tr>\n",
       "    <tr>\n",
       "      <th>1</th>\n",
       "      <td>Prayer That Brings Revival: Interceding for Go...</td>\n",
       "      <td>9.35</td>\n",
       "      <td>0</td>\n",
       "      <td>0</td>\n",
       "      <td>0.000000</td>\n",
       "      <td>1</td>\n",
       "      <td>0.999845</td>\n",
       "      <td>Religion</td>\n",
       "      <td>0.999642</td>\n",
       "      <td>1</td>\n",
       "      <td>...</td>\n",
       "      <td>0</td>\n",
       "      <td>0</td>\n",
       "      <td>0</td>\n",
       "      <td>0</td>\n",
       "      <td>0</td>\n",
       "      <td>1</td>\n",
       "      <td>0</td>\n",
       "      <td>0</td>\n",
       "      <td>0</td>\n",
       "      <td>0</td>\n",
       "    </tr>\n",
       "    <tr>\n",
       "      <th>2</th>\n",
       "      <td>The Mystical Journey from Jesus to Christ</td>\n",
       "      <td>24.95</td>\n",
       "      <td>19</td>\n",
       "      <td>17</td>\n",
       "      <td>0.894737</td>\n",
       "      <td>1</td>\n",
       "      <td>0.828281</td>\n",
       "      <td>Body, Mind &amp; Spirit</td>\n",
       "      <td>0.999086</td>\n",
       "      <td>1</td>\n",
       "      <td>...</td>\n",
       "      <td>0</td>\n",
       "      <td>0</td>\n",
       "      <td>0</td>\n",
       "      <td>0</td>\n",
       "      <td>0</td>\n",
       "      <td>1</td>\n",
       "      <td>0</td>\n",
       "      <td>0</td>\n",
       "      <td>0</td>\n",
       "      <td>0</td>\n",
       "    </tr>\n",
       "    <tr>\n",
       "      <th>3</th>\n",
       "      <td>Death Row</td>\n",
       "      <td>7.99</td>\n",
       "      <td>1</td>\n",
       "      <td>0</td>\n",
       "      <td>0.000000</td>\n",
       "      <td>1</td>\n",
       "      <td>0.995394</td>\n",
       "      <td>Social Science</td>\n",
       "      <td>0.999014</td>\n",
       "      <td>1</td>\n",
       "      <td>...</td>\n",
       "      <td>0</td>\n",
       "      <td>0</td>\n",
       "      <td>0</td>\n",
       "      <td>0</td>\n",
       "      <td>0</td>\n",
       "      <td>1</td>\n",
       "      <td>0</td>\n",
       "      <td>0</td>\n",
       "      <td>0</td>\n",
       "      <td>0</td>\n",
       "    </tr>\n",
       "    <tr>\n",
       "      <th>4</th>\n",
       "      <td>Sound and Form in Modern Poetry: Second Editio...</td>\n",
       "      <td>32.50</td>\n",
       "      <td>20</td>\n",
       "      <td>18</td>\n",
       "      <td>0.900000</td>\n",
       "      <td>2</td>\n",
       "      <td>0.995729</td>\n",
       "      <td>Other</td>\n",
       "      <td>0.999651</td>\n",
       "      <td>1</td>\n",
       "      <td>...</td>\n",
       "      <td>0</td>\n",
       "      <td>0</td>\n",
       "      <td>0</td>\n",
       "      <td>0</td>\n",
       "      <td>0</td>\n",
       "      <td>1</td>\n",
       "      <td>0</td>\n",
       "      <td>0</td>\n",
       "      <td>0</td>\n",
       "      <td>0</td>\n",
       "    </tr>\n",
       "  </tbody>\n",
       "</table>\n",
       "<p>5 rows × 55 columns</p>\n",
       "</div>"
      ],
      "text/plain": [
       "                                               title  price  total_reviews  \\\n",
       "0  We Band of Angels: The Untold Story of America...  10.88              3   \n",
       "1  Prayer That Brings Revival: Interceding for Go...   9.35              0   \n",
       "2          The Mystical Journey from Jesus to Christ  24.95             19   \n",
       "3                                          Death Row   7.99              1   \n",
       "4  Sound and Form in Modern Poetry: Second Editio...  32.50             20   \n",
       "\n",
       "   helpful_reviews  percentage_helpful  author_count  score_text  \\\n",
       "0                2            0.666667             1    0.999283   \n",
       "1                0            0.000000             1    0.999845   \n",
       "2               17            0.894737             1    0.828281   \n",
       "3                0            0.000000             1    0.995394   \n",
       "4               18            0.900000             2    0.995729   \n",
       "\n",
       "      clean_categories  score_description  sentiment_description_num  ...  \\\n",
       "0              History           0.999049                          1  ...   \n",
       "1             Religion           0.999642                          1  ...   \n",
       "2  Body, Mind & Spirit           0.999086                          1  ...   \n",
       "3       Social Science           0.999014                          1  ...   \n",
       "4                Other           0.999651                          1  ...   \n",
       "\n",
       "   author_Leo Bormans  author_Lewis Carroll  author_Nicholas Sparks  \\\n",
       "0                   0                     0                       0   \n",
       "1                   0                     0                       0   \n",
       "2                   0                     0                       0   \n",
       "3                   0                     0                       0   \n",
       "4                   0                     0                       0   \n",
       "\n",
       "   author_Nora Roberts  author_Oscar Wilde  author_Other  \\\n",
       "0                    0                   0             1   \n",
       "1                    0                   0             1   \n",
       "2                    0                   0             1   \n",
       "3                    0                   0             1   \n",
       "4                    0                   0             1   \n",
       "\n",
       "   author_Patricia Daniels Cornwell  author_Sherry Argov  author_Thomas Hardy  \\\n",
       "0                                 0                    0                    0   \n",
       "1                                 0                    0                    0   \n",
       "2                                 0                    0                    0   \n",
       "3                                 0                    0                    0   \n",
       "4                                 0                    0                    0   \n",
       "\n",
       "   author_Thomas Harris  \n",
       "0                     0  \n",
       "1                     0  \n",
       "2                     0  \n",
       "3                     0  \n",
       "4                     0  \n",
       "\n",
       "[5 rows x 55 columns]"
      ]
     },
     "execution_count": 267,
     "metadata": {},
     "output_type": "execute_result"
    }
   ],
   "source": [
    "books.head()"
   ]
  },
  {
   "cell_type": "markdown",
   "id": "3f8c7404",
   "metadata": {},
   "source": [
    "## CAtergories"
   ]
  },
  {
   "cell_type": "code",
   "execution_count": 268,
   "id": "a71e191c",
   "metadata": {},
   "outputs": [
    {
     "data": {
      "text/plain": [
       "Index(['title', 'price', 'total_reviews', 'helpful_reviews',\n",
       "       'percentage_helpful', 'author_count', 'score_text', 'score_description',\n",
       "       'sentiment_description_num', 'num_words', 'num_chars', 'avg_word_len',\n",
       "       'has_children', 'has_classic', 'has_war', 'has_spiritual', 'has_family',\n",
       "       'has_teen', 'has_love', 'has_school', 'has_science', 'has_art',\n",
       "       'has_tea', 'has_sex', 'has_murder', 'has_history', 'has_nature',\n",
       "       'has_loss', 'has_rain', 'has_time', 'has_guide',\n",
       "       'sentiment_summary_num', 'sentiment_text_num', 'author_Ashley Audrain',\n",
       "       'author_Catherine Coulter', 'author_Charles Dickens',\n",
       "       'author_Charlotte Brontë', 'author_Christopher Paolini',\n",
       "       'author_Donald Miller', 'author_Gary Chapman', 'author_Jim Collins',\n",
       "       'author_Jonah Goldberg', 'author_Julia Quinn', 'author_Kate Chopin',\n",
       "       'author_Leo Bormans', 'author_Lewis Carroll', 'author_Nicholas Sparks',\n",
       "       'author_Nora Roberts', 'author_Oscar Wilde', 'author_Other',\n",
       "       'author_Patricia Daniels Cornwell', 'author_Sherry Argov',\n",
       "       'author_Thomas Hardy', 'author_Thomas Harris',\n",
       "       'category_Biography & Autobiography', 'category_Body, Mind & Spirit',\n",
       "       'category_Business & Economics', 'category_Computers',\n",
       "       'category_Cooking', 'category_Education',\n",
       "       'category_Family & Relationships', 'category_Fiction',\n",
       "       'category_Health & Fitness', 'category_History',\n",
       "       'category_Juvenile Fiction', 'category_Juvenile Nonfiction',\n",
       "       'category_Music', 'category_Other', 'category_Political Science',\n",
       "       'category_Psychology', 'category_Religion', 'category_Self-Help',\n",
       "       'category_Social Science', 'category_Sports & Recreation'],\n",
       "      dtype='object')"
      ]
     },
     "execution_count": 268,
     "metadata": {},
     "output_type": "execute_result"
    }
   ],
   "source": [
    "books = pd.get_dummies(books, columns=['clean_categories'], prefix='category', dtype=int)\n",
    "books.columns\n",
    "\n"
   ]
  },
  {
   "cell_type": "code",
   "execution_count": 269,
   "id": "cee43609",
   "metadata": {},
   "outputs": [
    {
     "data": {
      "text/html": [
       "<div>\n",
       "<style scoped>\n",
       "    .dataframe tbody tr th:only-of-type {\n",
       "        vertical-align: middle;\n",
       "    }\n",
       "\n",
       "    .dataframe tbody tr th {\n",
       "        vertical-align: top;\n",
       "    }\n",
       "\n",
       "    .dataframe thead th {\n",
       "        text-align: right;\n",
       "    }\n",
       "</style>\n",
       "<table border=\"1\" class=\"dataframe\">\n",
       "  <thead>\n",
       "    <tr style=\"text-align: right;\">\n",
       "      <th></th>\n",
       "      <th>title</th>\n",
       "      <th>price</th>\n",
       "      <th>total_reviews</th>\n",
       "      <th>helpful_reviews</th>\n",
       "      <th>percentage_helpful</th>\n",
       "      <th>author_count</th>\n",
       "      <th>score_text</th>\n",
       "      <th>score_description</th>\n",
       "      <th>sentiment_description_num</th>\n",
       "      <th>num_words</th>\n",
       "      <th>...</th>\n",
       "      <th>category_Juvenile Fiction</th>\n",
       "      <th>category_Juvenile Nonfiction</th>\n",
       "      <th>category_Music</th>\n",
       "      <th>category_Other</th>\n",
       "      <th>category_Political Science</th>\n",
       "      <th>category_Psychology</th>\n",
       "      <th>category_Religion</th>\n",
       "      <th>category_Self-Help</th>\n",
       "      <th>category_Social Science</th>\n",
       "      <th>category_Sports &amp; Recreation</th>\n",
       "    </tr>\n",
       "  </thead>\n",
       "  <tbody>\n",
       "    <tr>\n",
       "      <th>0</th>\n",
       "      <td>We Band of Angels: The Untold Story of America...</td>\n",
       "      <td>10.88</td>\n",
       "      <td>3</td>\n",
       "      <td>2</td>\n",
       "      <td>0.666667</td>\n",
       "      <td>1</td>\n",
       "      <td>0.999283</td>\n",
       "      <td>0.999049</td>\n",
       "      <td>1</td>\n",
       "      <td>318</td>\n",
       "      <td>...</td>\n",
       "      <td>0</td>\n",
       "      <td>0</td>\n",
       "      <td>0</td>\n",
       "      <td>0</td>\n",
       "      <td>0</td>\n",
       "      <td>0</td>\n",
       "      <td>0</td>\n",
       "      <td>0</td>\n",
       "      <td>0</td>\n",
       "      <td>0</td>\n",
       "    </tr>\n",
       "    <tr>\n",
       "      <th>1</th>\n",
       "      <td>Prayer That Brings Revival: Interceding for Go...</td>\n",
       "      <td>9.35</td>\n",
       "      <td>0</td>\n",
       "      <td>0</td>\n",
       "      <td>0.000000</td>\n",
       "      <td>1</td>\n",
       "      <td>0.999845</td>\n",
       "      <td>0.999642</td>\n",
       "      <td>1</td>\n",
       "      <td>74</td>\n",
       "      <td>...</td>\n",
       "      <td>0</td>\n",
       "      <td>0</td>\n",
       "      <td>0</td>\n",
       "      <td>0</td>\n",
       "      <td>0</td>\n",
       "      <td>0</td>\n",
       "      <td>1</td>\n",
       "      <td>0</td>\n",
       "      <td>0</td>\n",
       "      <td>0</td>\n",
       "    </tr>\n",
       "    <tr>\n",
       "      <th>2</th>\n",
       "      <td>The Mystical Journey from Jesus to Christ</td>\n",
       "      <td>24.95</td>\n",
       "      <td>19</td>\n",
       "      <td>17</td>\n",
       "      <td>0.894737</td>\n",
       "      <td>1</td>\n",
       "      <td>0.828281</td>\n",
       "      <td>0.999086</td>\n",
       "      <td>1</td>\n",
       "      <td>94</td>\n",
       "      <td>...</td>\n",
       "      <td>0</td>\n",
       "      <td>0</td>\n",
       "      <td>0</td>\n",
       "      <td>0</td>\n",
       "      <td>0</td>\n",
       "      <td>0</td>\n",
       "      <td>0</td>\n",
       "      <td>0</td>\n",
       "      <td>0</td>\n",
       "      <td>0</td>\n",
       "    </tr>\n",
       "    <tr>\n",
       "      <th>3</th>\n",
       "      <td>Death Row</td>\n",
       "      <td>7.99</td>\n",
       "      <td>1</td>\n",
       "      <td>0</td>\n",
       "      <td>0.000000</td>\n",
       "      <td>1</td>\n",
       "      <td>0.995394</td>\n",
       "      <td>0.999014</td>\n",
       "      <td>1</td>\n",
       "      <td>142</td>\n",
       "      <td>...</td>\n",
       "      <td>0</td>\n",
       "      <td>0</td>\n",
       "      <td>0</td>\n",
       "      <td>0</td>\n",
       "      <td>0</td>\n",
       "      <td>0</td>\n",
       "      <td>0</td>\n",
       "      <td>0</td>\n",
       "      <td>1</td>\n",
       "      <td>0</td>\n",
       "    </tr>\n",
       "    <tr>\n",
       "      <th>4</th>\n",
       "      <td>Sound and Form in Modern Poetry: Second Editio...</td>\n",
       "      <td>32.50</td>\n",
       "      <td>20</td>\n",
       "      <td>18</td>\n",
       "      <td>0.900000</td>\n",
       "      <td>2</td>\n",
       "      <td>0.995729</td>\n",
       "      <td>0.999651</td>\n",
       "      <td>1</td>\n",
       "      <td>13</td>\n",
       "      <td>...</td>\n",
       "      <td>0</td>\n",
       "      <td>0</td>\n",
       "      <td>0</td>\n",
       "      <td>1</td>\n",
       "      <td>0</td>\n",
       "      <td>0</td>\n",
       "      <td>0</td>\n",
       "      <td>0</td>\n",
       "      <td>0</td>\n",
       "      <td>0</td>\n",
       "    </tr>\n",
       "  </tbody>\n",
       "</table>\n",
       "<p>5 rows × 74 columns</p>\n",
       "</div>"
      ],
      "text/plain": [
       "                                               title  price  total_reviews  \\\n",
       "0  We Band of Angels: The Untold Story of America...  10.88              3   \n",
       "1  Prayer That Brings Revival: Interceding for Go...   9.35              0   \n",
       "2          The Mystical Journey from Jesus to Christ  24.95             19   \n",
       "3                                          Death Row   7.99              1   \n",
       "4  Sound and Form in Modern Poetry: Second Editio...  32.50             20   \n",
       "\n",
       "   helpful_reviews  percentage_helpful  author_count  score_text  \\\n",
       "0                2            0.666667             1    0.999283   \n",
       "1                0            0.000000             1    0.999845   \n",
       "2               17            0.894737             1    0.828281   \n",
       "3                0            0.000000             1    0.995394   \n",
       "4               18            0.900000             2    0.995729   \n",
       "\n",
       "   score_description  sentiment_description_num  num_words  ...  \\\n",
       "0           0.999049                          1        318  ...   \n",
       "1           0.999642                          1         74  ...   \n",
       "2           0.999086                          1         94  ...   \n",
       "3           0.999014                          1        142  ...   \n",
       "4           0.999651                          1         13  ...   \n",
       "\n",
       "   category_Juvenile Fiction  category_Juvenile Nonfiction  category_Music  \\\n",
       "0                          0                             0               0   \n",
       "1                          0                             0               0   \n",
       "2                          0                             0               0   \n",
       "3                          0                             0               0   \n",
       "4                          0                             0               0   \n",
       "\n",
       "   category_Other  category_Political Science  category_Psychology  \\\n",
       "0               0                           0                    0   \n",
       "1               0                           0                    0   \n",
       "2               0                           0                    0   \n",
       "3               0                           0                    0   \n",
       "4               1                           0                    0   \n",
       "\n",
       "   category_Religion  category_Self-Help  category_Social Science  \\\n",
       "0                  0                   0                        0   \n",
       "1                  1                   0                        0   \n",
       "2                  0                   0                        0   \n",
       "3                  0                   0                        1   \n",
       "4                  0                   0                        0   \n",
       "\n",
       "   category_Sports & Recreation  \n",
       "0                             0  \n",
       "1                             0  \n",
       "2                             0  \n",
       "3                             0  \n",
       "4                             0  \n",
       "\n",
       "[5 rows x 74 columns]"
      ]
     },
     "execution_count": 269,
     "metadata": {},
     "output_type": "execute_result"
    }
   ],
   "source": [
    "books.head()"
   ]
  },
  {
   "cell_type": "code",
   "execution_count": 270,
   "id": "e34e8b43",
   "metadata": {},
   "outputs": [
    {
     "data": {
      "text/plain": [
       "Index(['title', 'price', 'total_reviews', 'helpful_reviews',\n",
       "       'percentage_helpful', 'author_count', 'score_text', 'score_description',\n",
       "       'sentiment_description_num', 'num_words', 'num_chars', 'avg_word_len',\n",
       "       'description_has_children', 'description_has_classic',\n",
       "       'description_has_war', 'description_has_spiritual',\n",
       "       'description_has_family', 'description_has_teen',\n",
       "       'description_has_love', 'description_has_school',\n",
       "       'description_has_science', 'description_has_art', 'description_has_tea',\n",
       "       'description_has_sex', 'description_has_murder',\n",
       "       'description_has_history', 'description_has_nature',\n",
       "       'description_has_loss', 'description_has_rain', 'description_has_time',\n",
       "       'description_has_guide', 'sentiment_summary_num', 'sentiment_text_num',\n",
       "       'author_Ashley Audrain', 'author_Catherine Coulter',\n",
       "       'author_Charles Dickens', 'author_Charlotte Brontë',\n",
       "       'author_Christopher Paolini', 'author_Donald Miller',\n",
       "       'author_Gary Chapman', 'author_Jim Collins', 'author_Jonah Goldberg',\n",
       "       'author_Julia Quinn', 'author_Kate Chopin', 'author_Leo Bormans',\n",
       "       'author_Lewis Carroll', 'author_Nicholas Sparks', 'author_Nora Roberts',\n",
       "       'author_Oscar Wilde', 'author_Other',\n",
       "       'author_Patricia Daniels Cornwell', 'author_Sherry Argov',\n",
       "       'author_Thomas Hardy', 'author_Thomas Harris',\n",
       "       'category_Biography & Autobiography', 'category_Body, Mind & Spirit',\n",
       "       'category_Business & Economics', 'category_Computers',\n",
       "       'category_Cooking', 'category_Education',\n",
       "       'category_Family & Relationships', 'category_Fiction',\n",
       "       'category_Health & Fitness', 'category_History',\n",
       "       'category_Juvenile Fiction', 'category_Juvenile Nonfiction',\n",
       "       'category_Music', 'category_Other', 'category_Political Science',\n",
       "       'category_Psychology', 'category_Religion', 'category_Self-Help',\n",
       "       'category_Social Science', 'category_Sports & Recreation'],\n",
       "      dtype='object')"
      ]
     },
     "execution_count": 270,
     "metadata": {},
     "output_type": "execute_result"
    }
   ],
   "source": [
    "# all category_has_category_has_ columns should be renamed to category_has_\n",
    "has_columns = [col for col in books.columns if col.startswith('has_')]\n",
    "books.rename(columns={col: f'description_has_{col.split(\"has_\")[1]}' for col in has_columns}, inplace=True)\n",
    "books.columns\n",
    "\n"
   ]
  },
  {
   "cell_type": "markdown",
   "id": "b37def57",
   "metadata": {},
   "source": [
    "## Title"
   ]
  },
  {
   "cell_type": "code",
   "execution_count": null,
   "id": "afb6d491",
   "metadata": {},
   "outputs": [],
   "source": []
  },
  {
   "cell_type": "code",
   "execution_count": 271,
   "id": "a7cbde63",
   "metadata": {},
   "outputs": [
    {
     "name": "stderr",
     "output_type": "stream",
     "text": [
      "/var/folders/1j/zxqksxbs0bg17c_9cj2hm8bh0000gn/T/ipykernel_86025/1424000707.py:48: PerformanceWarning: DataFrame is highly fragmented.  This is usually the result of calling `frame.insert` many times, which has poor performance.  Consider joining all columns at once using pd.concat(axis=1) instead. To get a de-fragmented frame, use `newframe = frame.copy()`\n",
      "  books[f\"title_has_{kw}\"] = books['title'].str.contains(kw, case=False, na=False).astype(int)\n",
      "/var/folders/1j/zxqksxbs0bg17c_9cj2hm8bh0000gn/T/ipykernel_86025/1424000707.py:48: PerformanceWarning: DataFrame is highly fragmented.  This is usually the result of calling `frame.insert` many times, which has poor performance.  Consider joining all columns at once using pd.concat(axis=1) instead. To get a de-fragmented frame, use `newframe = frame.copy()`\n",
      "  books[f\"title_has_{kw}\"] = books['title'].str.contains(kw, case=False, na=False).astype(int)\n",
      "/var/folders/1j/zxqksxbs0bg17c_9cj2hm8bh0000gn/T/ipykernel_86025/1424000707.py:48: PerformanceWarning: DataFrame is highly fragmented.  This is usually the result of calling `frame.insert` many times, which has poor performance.  Consider joining all columns at once using pd.concat(axis=1) instead. To get a de-fragmented frame, use `newframe = frame.copy()`\n",
      "  books[f\"title_has_{kw}\"] = books['title'].str.contains(kw, case=False, na=False).astype(int)\n",
      "/var/folders/1j/zxqksxbs0bg17c_9cj2hm8bh0000gn/T/ipykernel_86025/1424000707.py:48: PerformanceWarning: DataFrame is highly fragmented.  This is usually the result of calling `frame.insert` many times, which has poor performance.  Consider joining all columns at once using pd.concat(axis=1) instead. To get a de-fragmented frame, use `newframe = frame.copy()`\n",
      "  books[f\"title_has_{kw}\"] = books['title'].str.contains(kw, case=False, na=False).astype(int)\n",
      "/var/folders/1j/zxqksxbs0bg17c_9cj2hm8bh0000gn/T/ipykernel_86025/1424000707.py:48: PerformanceWarning: DataFrame is highly fragmented.  This is usually the result of calling `frame.insert` many times, which has poor performance.  Consider joining all columns at once using pd.concat(axis=1) instead. To get a de-fragmented frame, use `newframe = frame.copy()`\n",
      "  books[f\"title_has_{kw}\"] = books['title'].str.contains(kw, case=False, na=False).astype(int)\n",
      "/var/folders/1j/zxqksxbs0bg17c_9cj2hm8bh0000gn/T/ipykernel_86025/1424000707.py:48: PerformanceWarning: DataFrame is highly fragmented.  This is usually the result of calling `frame.insert` many times, which has poor performance.  Consider joining all columns at once using pd.concat(axis=1) instead. To get a de-fragmented frame, use `newframe = frame.copy()`\n",
      "  books[f\"title_has_{kw}\"] = books['title'].str.contains(kw, case=False, na=False).astype(int)\n",
      "/var/folders/1j/zxqksxbs0bg17c_9cj2hm8bh0000gn/T/ipykernel_86025/1424000707.py:48: PerformanceWarning: DataFrame is highly fragmented.  This is usually the result of calling `frame.insert` many times, which has poor performance.  Consider joining all columns at once using pd.concat(axis=1) instead. To get a de-fragmented frame, use `newframe = frame.copy()`\n",
      "  books[f\"title_has_{kw}\"] = books['title'].str.contains(kw, case=False, na=False).astype(int)\n",
      "/var/folders/1j/zxqksxbs0bg17c_9cj2hm8bh0000gn/T/ipykernel_86025/1424000707.py:48: PerformanceWarning: DataFrame is highly fragmented.  This is usually the result of calling `frame.insert` many times, which has poor performance.  Consider joining all columns at once using pd.concat(axis=1) instead. To get a de-fragmented frame, use `newframe = frame.copy()`\n",
      "  books[f\"title_has_{kw}\"] = books['title'].str.contains(kw, case=False, na=False).astype(int)\n",
      "/var/folders/1j/zxqksxbs0bg17c_9cj2hm8bh0000gn/T/ipykernel_86025/1424000707.py:48: PerformanceWarning: DataFrame is highly fragmented.  This is usually the result of calling `frame.insert` many times, which has poor performance.  Consider joining all columns at once using pd.concat(axis=1) instead. To get a de-fragmented frame, use `newframe = frame.copy()`\n",
      "  books[f\"title_has_{kw}\"] = books['title'].str.contains(kw, case=False, na=False).astype(int)\n",
      "/var/folders/1j/zxqksxbs0bg17c_9cj2hm8bh0000gn/T/ipykernel_86025/1424000707.py:48: PerformanceWarning: DataFrame is highly fragmented.  This is usually the result of calling `frame.insert` many times, which has poor performance.  Consider joining all columns at once using pd.concat(axis=1) instead. To get a de-fragmented frame, use `newframe = frame.copy()`\n",
      "  books[f\"title_has_{kw}\"] = books['title'].str.contains(kw, case=False, na=False).astype(int)\n",
      "/var/folders/1j/zxqksxbs0bg17c_9cj2hm8bh0000gn/T/ipykernel_86025/1424000707.py:48: PerformanceWarning: DataFrame is highly fragmented.  This is usually the result of calling `frame.insert` many times, which has poor performance.  Consider joining all columns at once using pd.concat(axis=1) instead. To get a de-fragmented frame, use `newframe = frame.copy()`\n",
      "  books[f\"title_has_{kw}\"] = books['title'].str.contains(kw, case=False, na=False).astype(int)\n",
      "/var/folders/1j/zxqksxbs0bg17c_9cj2hm8bh0000gn/T/ipykernel_86025/1424000707.py:48: PerformanceWarning: DataFrame is highly fragmented.  This is usually the result of calling `frame.insert` many times, which has poor performance.  Consider joining all columns at once using pd.concat(axis=1) instead. To get a de-fragmented frame, use `newframe = frame.copy()`\n",
      "  books[f\"title_has_{kw}\"] = books['title'].str.contains(kw, case=False, na=False).astype(int)\n",
      "/var/folders/1j/zxqksxbs0bg17c_9cj2hm8bh0000gn/T/ipykernel_86025/1424000707.py:48: PerformanceWarning: DataFrame is highly fragmented.  This is usually the result of calling `frame.insert` many times, which has poor performance.  Consider joining all columns at once using pd.concat(axis=1) instead. To get a de-fragmented frame, use `newframe = frame.copy()`\n",
      "  books[f\"title_has_{kw}\"] = books['title'].str.contains(kw, case=False, na=False).astype(int)\n",
      "/var/folders/1j/zxqksxbs0bg17c_9cj2hm8bh0000gn/T/ipykernel_86025/1424000707.py:48: PerformanceWarning: DataFrame is highly fragmented.  This is usually the result of calling `frame.insert` many times, which has poor performance.  Consider joining all columns at once using pd.concat(axis=1) instead. To get a de-fragmented frame, use `newframe = frame.copy()`\n",
      "  books[f\"title_has_{kw}\"] = books['title'].str.contains(kw, case=False, na=False).astype(int)\n",
      "/var/folders/1j/zxqksxbs0bg17c_9cj2hm8bh0000gn/T/ipykernel_86025/1424000707.py:48: PerformanceWarning: DataFrame is highly fragmented.  This is usually the result of calling `frame.insert` many times, which has poor performance.  Consider joining all columns at once using pd.concat(axis=1) instead. To get a de-fragmented frame, use `newframe = frame.copy()`\n",
      "  books[f\"title_has_{kw}\"] = books['title'].str.contains(kw, case=False, na=False).astype(int)\n",
      "/var/folders/1j/zxqksxbs0bg17c_9cj2hm8bh0000gn/T/ipykernel_86025/1424000707.py:48: PerformanceWarning: DataFrame is highly fragmented.  This is usually the result of calling `frame.insert` many times, which has poor performance.  Consider joining all columns at once using pd.concat(axis=1) instead. To get a de-fragmented frame, use `newframe = frame.copy()`\n",
      "  books[f\"title_has_{kw}\"] = books['title'].str.contains(kw, case=False, na=False).astype(int)\n",
      "/var/folders/1j/zxqksxbs0bg17c_9cj2hm8bh0000gn/T/ipykernel_86025/1424000707.py:48: PerformanceWarning: DataFrame is highly fragmented.  This is usually the result of calling `frame.insert` many times, which has poor performance.  Consider joining all columns at once using pd.concat(axis=1) instead. To get a de-fragmented frame, use `newframe = frame.copy()`\n",
      "  books[f\"title_has_{kw}\"] = books['title'].str.contains(kw, case=False, na=False).astype(int)\n",
      "/var/folders/1j/zxqksxbs0bg17c_9cj2hm8bh0000gn/T/ipykernel_86025/1424000707.py:48: PerformanceWarning: DataFrame is highly fragmented.  This is usually the result of calling `frame.insert` many times, which has poor performance.  Consider joining all columns at once using pd.concat(axis=1) instead. To get a de-fragmented frame, use `newframe = frame.copy()`\n",
      "  books[f\"title_has_{kw}\"] = books['title'].str.contains(kw, case=False, na=False).astype(int)\n",
      "/var/folders/1j/zxqksxbs0bg17c_9cj2hm8bh0000gn/T/ipykernel_86025/1424000707.py:48: PerformanceWarning: DataFrame is highly fragmented.  This is usually the result of calling `frame.insert` many times, which has poor performance.  Consider joining all columns at once using pd.concat(axis=1) instead. To get a de-fragmented frame, use `newframe = frame.copy()`\n",
      "  books[f\"title_has_{kw}\"] = books['title'].str.contains(kw, case=False, na=False).astype(int)\n",
      "/var/folders/1j/zxqksxbs0bg17c_9cj2hm8bh0000gn/T/ipykernel_86025/1424000707.py:48: PerformanceWarning: DataFrame is highly fragmented.  This is usually the result of calling `frame.insert` many times, which has poor performance.  Consider joining all columns at once using pd.concat(axis=1) instead. To get a de-fragmented frame, use `newframe = frame.copy()`\n",
      "  books[f\"title_has_{kw}\"] = books['title'].str.contains(kw, case=False, na=False).astype(int)\n",
      "/var/folders/1j/zxqksxbs0bg17c_9cj2hm8bh0000gn/T/ipykernel_86025/1424000707.py:48: PerformanceWarning: DataFrame is highly fragmented.  This is usually the result of calling `frame.insert` many times, which has poor performance.  Consider joining all columns at once using pd.concat(axis=1) instead. To get a de-fragmented frame, use `newframe = frame.copy()`\n",
      "  books[f\"title_has_{kw}\"] = books['title'].str.contains(kw, case=False, na=False).astype(int)\n",
      "/var/folders/1j/zxqksxbs0bg17c_9cj2hm8bh0000gn/T/ipykernel_86025/1424000707.py:48: PerformanceWarning: DataFrame is highly fragmented.  This is usually the result of calling `frame.insert` many times, which has poor performance.  Consider joining all columns at once using pd.concat(axis=1) instead. To get a de-fragmented frame, use `newframe = frame.copy()`\n",
      "  books[f\"title_has_{kw}\"] = books['title'].str.contains(kw, case=False, na=False).astype(int)\n",
      "/var/folders/1j/zxqksxbs0bg17c_9cj2hm8bh0000gn/T/ipykernel_86025/1424000707.py:48: PerformanceWarning: DataFrame is highly fragmented.  This is usually the result of calling `frame.insert` many times, which has poor performance.  Consider joining all columns at once using pd.concat(axis=1) instead. To get a de-fragmented frame, use `newframe = frame.copy()`\n",
      "  books[f\"title_has_{kw}\"] = books['title'].str.contains(kw, case=False, na=False).astype(int)\n",
      "/var/folders/1j/zxqksxbs0bg17c_9cj2hm8bh0000gn/T/ipykernel_86025/1424000707.py:48: PerformanceWarning: DataFrame is highly fragmented.  This is usually the result of calling `frame.insert` many times, which has poor performance.  Consider joining all columns at once using pd.concat(axis=1) instead. To get a de-fragmented frame, use `newframe = frame.copy()`\n",
      "  books[f\"title_has_{kw}\"] = books['title'].str.contains(kw, case=False, na=False).astype(int)\n",
      "/var/folders/1j/zxqksxbs0bg17c_9cj2hm8bh0000gn/T/ipykernel_86025/1424000707.py:48: PerformanceWarning: DataFrame is highly fragmented.  This is usually the result of calling `frame.insert` many times, which has poor performance.  Consider joining all columns at once using pd.concat(axis=1) instead. To get a de-fragmented frame, use `newframe = frame.copy()`\n",
      "  books[f\"title_has_{kw}\"] = books['title'].str.contains(kw, case=False, na=False).astype(int)\n",
      "/var/folders/1j/zxqksxbs0bg17c_9cj2hm8bh0000gn/T/ipykernel_86025/1424000707.py:48: PerformanceWarning: DataFrame is highly fragmented.  This is usually the result of calling `frame.insert` many times, which has poor performance.  Consider joining all columns at once using pd.concat(axis=1) instead. To get a de-fragmented frame, use `newframe = frame.copy()`\n",
      "  books[f\"title_has_{kw}\"] = books['title'].str.contains(kw, case=False, na=False).astype(int)\n",
      "/var/folders/1j/zxqksxbs0bg17c_9cj2hm8bh0000gn/T/ipykernel_86025/1424000707.py:48: PerformanceWarning: DataFrame is highly fragmented.  This is usually the result of calling `frame.insert` many times, which has poor performance.  Consider joining all columns at once using pd.concat(axis=1) instead. To get a de-fragmented frame, use `newframe = frame.copy()`\n",
      "  books[f\"title_has_{kw}\"] = books['title'].str.contains(kw, case=False, na=False).astype(int)\n",
      "/var/folders/1j/zxqksxbs0bg17c_9cj2hm8bh0000gn/T/ipykernel_86025/1424000707.py:48: PerformanceWarning: DataFrame is highly fragmented.  This is usually the result of calling `frame.insert` many times, which has poor performance.  Consider joining all columns at once using pd.concat(axis=1) instead. To get a de-fragmented frame, use `newframe = frame.copy()`\n",
      "  books[f\"title_has_{kw}\"] = books['title'].str.contains(kw, case=False, na=False).astype(int)\n",
      "/var/folders/1j/zxqksxbs0bg17c_9cj2hm8bh0000gn/T/ipykernel_86025/1424000707.py:48: PerformanceWarning: DataFrame is highly fragmented.  This is usually the result of calling `frame.insert` many times, which has poor performance.  Consider joining all columns at once using pd.concat(axis=1) instead. To get a de-fragmented frame, use `newframe = frame.copy()`\n",
      "  books[f\"title_has_{kw}\"] = books['title'].str.contains(kw, case=False, na=False).astype(int)\n",
      "/var/folders/1j/zxqksxbs0bg17c_9cj2hm8bh0000gn/T/ipykernel_86025/1424000707.py:48: PerformanceWarning: DataFrame is highly fragmented.  This is usually the result of calling `frame.insert` many times, which has poor performance.  Consider joining all columns at once using pd.concat(axis=1) instead. To get a de-fragmented frame, use `newframe = frame.copy()`\n",
      "  books[f\"title_has_{kw}\"] = books['title'].str.contains(kw, case=False, na=False).astype(int)\n",
      "/var/folders/1j/zxqksxbs0bg17c_9cj2hm8bh0000gn/T/ipykernel_86025/1424000707.py:48: PerformanceWarning: DataFrame is highly fragmented.  This is usually the result of calling `frame.insert` many times, which has poor performance.  Consider joining all columns at once using pd.concat(axis=1) instead. To get a de-fragmented frame, use `newframe = frame.copy()`\n",
      "  books[f\"title_has_{kw}\"] = books['title'].str.contains(kw, case=False, na=False).astype(int)\n",
      "/var/folders/1j/zxqksxbs0bg17c_9cj2hm8bh0000gn/T/ipykernel_86025/1424000707.py:48: PerformanceWarning: DataFrame is highly fragmented.  This is usually the result of calling `frame.insert` many times, which has poor performance.  Consider joining all columns at once using pd.concat(axis=1) instead. To get a de-fragmented frame, use `newframe = frame.copy()`\n",
      "  books[f\"title_has_{kw}\"] = books['title'].str.contains(kw, case=False, na=False).astype(int)\n",
      "/var/folders/1j/zxqksxbs0bg17c_9cj2hm8bh0000gn/T/ipykernel_86025/1424000707.py:48: PerformanceWarning: DataFrame is highly fragmented.  This is usually the result of calling `frame.insert` many times, which has poor performance.  Consider joining all columns at once using pd.concat(axis=1) instead. To get a de-fragmented frame, use `newframe = frame.copy()`\n",
      "  books[f\"title_has_{kw}\"] = books['title'].str.contains(kw, case=False, na=False).astype(int)\n",
      "/var/folders/1j/zxqksxbs0bg17c_9cj2hm8bh0000gn/T/ipykernel_86025/1424000707.py:48: PerformanceWarning: DataFrame is highly fragmented.  This is usually the result of calling `frame.insert` many times, which has poor performance.  Consider joining all columns at once using pd.concat(axis=1) instead. To get a de-fragmented frame, use `newframe = frame.copy()`\n",
      "  books[f\"title_has_{kw}\"] = books['title'].str.contains(kw, case=False, na=False).astype(int)\n",
      "/var/folders/1j/zxqksxbs0bg17c_9cj2hm8bh0000gn/T/ipykernel_86025/1424000707.py:48: PerformanceWarning: DataFrame is highly fragmented.  This is usually the result of calling `frame.insert` many times, which has poor performance.  Consider joining all columns at once using pd.concat(axis=1) instead. To get a de-fragmented frame, use `newframe = frame.copy()`\n",
      "  books[f\"title_has_{kw}\"] = books['title'].str.contains(kw, case=False, na=False).astype(int)\n",
      "/var/folders/1j/zxqksxbs0bg17c_9cj2hm8bh0000gn/T/ipykernel_86025/1424000707.py:48: PerformanceWarning: DataFrame is highly fragmented.  This is usually the result of calling `frame.insert` many times, which has poor performance.  Consider joining all columns at once using pd.concat(axis=1) instead. To get a de-fragmented frame, use `newframe = frame.copy()`\n",
      "  books[f\"title_has_{kw}\"] = books['title'].str.contains(kw, case=False, na=False).astype(int)\n",
      "/var/folders/1j/zxqksxbs0bg17c_9cj2hm8bh0000gn/T/ipykernel_86025/1424000707.py:48: PerformanceWarning: DataFrame is highly fragmented.  This is usually the result of calling `frame.insert` many times, which has poor performance.  Consider joining all columns at once using pd.concat(axis=1) instead. To get a de-fragmented frame, use `newframe = frame.copy()`\n",
      "  books[f\"title_has_{kw}\"] = books['title'].str.contains(kw, case=False, na=False).astype(int)\n",
      "/var/folders/1j/zxqksxbs0bg17c_9cj2hm8bh0000gn/T/ipykernel_86025/1424000707.py:48: PerformanceWarning: DataFrame is highly fragmented.  This is usually the result of calling `frame.insert` many times, which has poor performance.  Consider joining all columns at once using pd.concat(axis=1) instead. To get a de-fragmented frame, use `newframe = frame.copy()`\n",
      "  books[f\"title_has_{kw}\"] = books['title'].str.contains(kw, case=False, na=False).astype(int)\n",
      "/var/folders/1j/zxqksxbs0bg17c_9cj2hm8bh0000gn/T/ipykernel_86025/1424000707.py:48: PerformanceWarning: DataFrame is highly fragmented.  This is usually the result of calling `frame.insert` many times, which has poor performance.  Consider joining all columns at once using pd.concat(axis=1) instead. To get a de-fragmented frame, use `newframe = frame.copy()`\n",
      "  books[f\"title_has_{kw}\"] = books['title'].str.contains(kw, case=False, na=False).astype(int)\n"
     ]
    },
    {
     "name": "stdout",
     "output_type": "stream",
     "text": [
      "(15583, 641)\n",
      "   title_tfidf_0  title_tfidf_1  title_tfidf_2  title_tfidf_3  title_tfidf_4  \\\n",
      "0            0.0            0.0            0.0            0.0            0.0   \n",
      "1            0.0            0.0            0.0            0.0            0.0   \n",
      "2            0.0            0.0            0.0            0.0            0.0   \n",
      "3            0.0            0.0            0.0            0.0            0.0   \n",
      "4            0.0            0.0            0.0            0.0            0.0   \n",
      "\n",
      "   title_tfidf_5  title_tfidf_6  title_tfidf_7  title_tfidf_8  title_tfidf_9  \\\n",
      "0            0.0            0.0            0.0            0.0            0.0   \n",
      "1            0.0            0.0            0.0            0.0            0.0   \n",
      "2            0.0            0.0            0.0            0.0            0.0   \n",
      "3            0.0            0.0            0.0            0.0            0.0   \n",
      "4            0.0            0.0            0.0            0.0            0.0   \n",
      "\n",
      "   ...  title_has_comics  title_has_children  title_has_universe  \\\n",
      "0  ...                 0                   0                   0   \n",
      "1  ...                 0                   0                   0   \n",
      "2  ...                 0                   0                   0   \n",
      "3  ...                 0                   0                   0   \n",
      "4  ...                 0                   0                   0   \n",
      "\n",
      "   title_has_animals  title_has_flowers  title_has_politics  title_has_teen  \\\n",
      "0                  0                  0                   0               0   \n",
      "1                  0                  0                   0               0   \n",
      "2                  0                  0                   0               0   \n",
      "3                  0                  0                   0               0   \n",
      "4                  0                  0                   0               0   \n",
      "\n",
      "   title_has_school  title_has_dummies  title_has_film  \n",
      "0                 0                  0               0  \n",
      "1                 0                  0               0  \n",
      "2                 0                  0               0  \n",
      "3                 0                  0               0  \n",
      "4                 0                  0               0  \n",
      "\n",
      "[5 rows x 641 columns]\n"
     ]
    },
    {
     "name": "stderr",
     "output_type": "stream",
     "text": [
      "/var/folders/1j/zxqksxbs0bg17c_9cj2hm8bh0000gn/T/ipykernel_86025/1424000707.py:48: PerformanceWarning: DataFrame is highly fragmented.  This is usually the result of calling `frame.insert` many times, which has poor performance.  Consider joining all columns at once using pd.concat(axis=1) instead. To get a de-fragmented frame, use `newframe = frame.copy()`\n",
      "  books[f\"title_has_{kw}\"] = books['title'].str.contains(kw, case=False, na=False).astype(int)\n",
      "/var/folders/1j/zxqksxbs0bg17c_9cj2hm8bh0000gn/T/ipykernel_86025/1424000707.py:48: PerformanceWarning: DataFrame is highly fragmented.  This is usually the result of calling `frame.insert` many times, which has poor performance.  Consider joining all columns at once using pd.concat(axis=1) instead. To get a de-fragmented frame, use `newframe = frame.copy()`\n",
      "  books[f\"title_has_{kw}\"] = books['title'].str.contains(kw, case=False, na=False).astype(int)\n",
      "/var/folders/1j/zxqksxbs0bg17c_9cj2hm8bh0000gn/T/ipykernel_86025/1424000707.py:48: PerformanceWarning: DataFrame is highly fragmented.  This is usually the result of calling `frame.insert` many times, which has poor performance.  Consider joining all columns at once using pd.concat(axis=1) instead. To get a de-fragmented frame, use `newframe = frame.copy()`\n",
      "  books[f\"title_has_{kw}\"] = books['title'].str.contains(kw, case=False, na=False).astype(int)\n",
      "/var/folders/1j/zxqksxbs0bg17c_9cj2hm8bh0000gn/T/ipykernel_86025/1424000707.py:48: PerformanceWarning: DataFrame is highly fragmented.  This is usually the result of calling `frame.insert` many times, which has poor performance.  Consider joining all columns at once using pd.concat(axis=1) instead. To get a de-fragmented frame, use `newframe = frame.copy()`\n",
      "  books[f\"title_has_{kw}\"] = books['title'].str.contains(kw, case=False, na=False).astype(int)\n",
      "/var/folders/1j/zxqksxbs0bg17c_9cj2hm8bh0000gn/T/ipykernel_86025/1424000707.py:48: PerformanceWarning: DataFrame is highly fragmented.  This is usually the result of calling `frame.insert` many times, which has poor performance.  Consider joining all columns at once using pd.concat(axis=1) instead. To get a de-fragmented frame, use `newframe = frame.copy()`\n",
      "  books[f\"title_has_{kw}\"] = books['title'].str.contains(kw, case=False, na=False).astype(int)\n",
      "/var/folders/1j/zxqksxbs0bg17c_9cj2hm8bh0000gn/T/ipykernel_86025/1424000707.py:48: PerformanceWarning: DataFrame is highly fragmented.  This is usually the result of calling `frame.insert` many times, which has poor performance.  Consider joining all columns at once using pd.concat(axis=1) instead. To get a de-fragmented frame, use `newframe = frame.copy()`\n",
      "  books[f\"title_has_{kw}\"] = books['title'].str.contains(kw, case=False, na=False).astype(int)\n"
     ]
    }
   ],
   "source": [
    "from sklearn.feature_extraction.text import TfidfVectorizer\n",
    "\n",
    "# 1️⃣ TF-IDF for titles\n",
    "tfidf_title = TfidfVectorizer(max_features=500, ngram_range=(1,2), stop_words='english')\n",
    "X_title_tfidf = tfidf_title.fit_transform(books['title'].fillna(''))\n",
    "\n",
    "# Convert to DataFrame\n",
    "title_tfidf_df = pd.DataFrame(\n",
    "    X_title_tfidf.toarray(), \n",
    "    columns=[f\"title_tfidf_{i}\" for i in range(X_title_tfidf.shape[1])]\n",
    ")\n",
    "\n",
    "# 2️⃣ Title length features\n",
    "books['title_num_words'] = books['title'].apply(lambda x: len(str(x).split()))\n",
    "books['title_num_chars'] = books['title'].apply(lambda x: len(str(x)))\n",
    "\n",
    "title_length_df = books[['title_num_words', 'title_num_chars']]\n",
    "\n",
    "# 3️⃣ Optional: keyword flags (example)\n",
    "keywords = [\n",
    "    'mystery', 'romance', 'adventure', 'horror', 'queer', 'thriller', 'fantasy',\n",
    "    'science fiction', 'sci-fi', 'dystopian', 'historical', 'young adult', 'children',\n",
    "    'non-fiction', 'biography', 'memoir', 'self-help', 'psychology', 'philosophy',\n",
    "    'crime', 'detective', 'paranormal', 'supernatural', 'magic', 'mythology',\n",
    "    'fairy tale', 'classic', 'drama', 'suspense', 'war', 'political', 'travel',\n",
    "    'spiritual', 'religion', 'comedy', 'humor', 'family', 'friendship', 'coming-of-age',\n",
    "    'teen', 'epic', 'western', 'literary', 'tragedy', 'romantic', 'love', 'school',\n",
    "    'science', 'technology', 'mystical', 'dark', 'poetry', 'art', 'music', 'dance','sisters','brothers',\n",
    "    'theater', 'film', 'tv', 'comics', 'anime', 'manga', 'gaming', 'hobbies', 'crafts', 'diy',\n",
    "    'cooking', 'food', 'drink', 'coffee', 'tea', 'alcohol', 'smoking', 'drugs', 'sex', 'relationships',\n",
    "    'dating', 'marriage', 'family', 'children', 'parenting', 'education', 'school', 'college', 'university',\n",
    "    'job', 'career', 'money', 'finance', 'investing', 'economy', 'politics', 'war', 'peace', 'justice', 'crime',\n",
    "    'punishment', 'crime', 'detective', 'paranormal', 'supernatural', 'magic', 'mythology', 'murder', 'violence','heartbreak', 'loss',\n",
    "    'grieve', 'mission', 'adventure', 'mystery', 'romance', 'horror', 'queer', 'thriller', 'fantasy',\n",
    "    'science fiction', 'sci-fi', 'dystopian', 'historical', 'young adult', 'children',\n",
    "    'non-fiction', 'biography', 'memoir', 'self-help', 'psychology', 'philosophy',\n",
    "    'crime', 'detective', 'paranormal', 'supernatural', 'magic', 'mythology', 'murder', 'violence',\n",
    "    'history', 'food', 'drink', 'coffee', 'tea', 'alcohol', 'smoking', 'drugs', 'sex', 'relationships',\n",
    "    'dating', 'marriage', 'family', 'children', 'parenting', 'education', 'school', 'college', 'university',\n",
    "    'job', 'career', 'money', 'finance', 'investing', 'economy', 'politics', 'war','melodrama', 'peace', 'justice', 'crime',\n",
    "    'punishment', 'crime', 'detective', 'paranormal', 'supernatural', 'magic', 'mythology', 'murder', 'violence',\n",
    "    'earth', 'space', 'time', 'universe', 'galaxy', 'planet', 'moon', 'sun', 'stars', 'sky', 'clouds', 'rain', 'snow', 'wind', 'weather', 'nature', 'animals', 'plants', 'trees', 'flowers', 'colors', 'art', 'music', 'dance',\n",
    "   'relationships', 'friendship', 'coming-of-age', 'teen', 'epic', 'western', 'literary', 'tragedy', 'romantic', 'love', 'school', 'victorian','binge', 'dummies','bible', 'pirate', 'monster', 'summer', 'winter'\n",
    "   'autumn','workout','fetish', 'erotica','coach', 'education','drugs','prayer', 'sister', 'sucess', 'media', 'guide']\n",
    "kw_set = set(keywords)\n",
    "keywords = list(kw_set)\n",
    "for kw in keywords:\n",
    "    books[f\"title_has_{kw}\"] = books['title'].str.contains(kw, case=False, na=False).astype(int)\n",
    "\n",
    "title_keywords_df = books[[f\"title_has_{kw}\" for kw in keywords]]\n",
    "\n",
    "# 4️⃣ Combine all title features\n",
    "title_features = pd.concat([title_tfidf_df, title_length_df, title_keywords_df], axis=1)\n",
    "\n",
    "print(title_features.shape)\n",
    "print(title_features.head())\n"
   ]
  },
  {
   "cell_type": "code",
   "execution_count": 210,
   "id": "c352f3b7",
   "metadata": {},
   "outputs": [
    {
     "data": {
      "text/plain": [
       "Index(['title_tfidf_0', 'title_tfidf_1', 'title_tfidf_2', 'title_tfidf_3',\n",
       "       'title_tfidf_4', 'title_tfidf_5', 'title_tfidf_6', 'title_tfidf_7',\n",
       "       'title_tfidf_8', 'title_tfidf_9',\n",
       "       ...\n",
       "       'title_has_comics', 'title_has_children', 'title_has_universe',\n",
       "       'title_has_animals', 'title_has_flowers', 'title_has_politics',\n",
       "       'title_has_teen', 'title_has_school', 'title_has_dummies',\n",
       "       'title_has_film'],\n",
       "      dtype='object', length=641)"
      ]
     },
     "execution_count": 210,
     "metadata": {},
     "output_type": "execute_result"
    }
   ],
   "source": [
    "title_features.columns"
   ]
  },
  {
   "cell_type": "code",
   "execution_count": 211,
   "id": "c5af12a2",
   "metadata": {},
   "outputs": [
    {
     "data": {
      "text/html": [
       "<div>\n",
       "<style scoped>\n",
       "    .dataframe tbody tr th:only-of-type {\n",
       "        vertical-align: middle;\n",
       "    }\n",
       "\n",
       "    .dataframe tbody tr th {\n",
       "        vertical-align: top;\n",
       "    }\n",
       "\n",
       "    .dataframe thead th {\n",
       "        text-align: right;\n",
       "    }\n",
       "</style>\n",
       "<table border=\"1\" class=\"dataframe\">\n",
       "  <thead>\n",
       "    <tr style=\"text-align: right;\">\n",
       "      <th></th>\n",
       "      <th>title_tfidf_0</th>\n",
       "      <th>title_tfidf_1</th>\n",
       "      <th>title_tfidf_2</th>\n",
       "      <th>title_tfidf_3</th>\n",
       "      <th>title_tfidf_4</th>\n",
       "      <th>title_tfidf_5</th>\n",
       "      <th>title_tfidf_6</th>\n",
       "      <th>title_tfidf_7</th>\n",
       "      <th>title_tfidf_8</th>\n",
       "      <th>title_tfidf_9</th>\n",
       "      <th>...</th>\n",
       "      <th>title_has_comics</th>\n",
       "      <th>title_has_children</th>\n",
       "      <th>title_has_universe</th>\n",
       "      <th>title_has_animals</th>\n",
       "      <th>title_has_flowers</th>\n",
       "      <th>title_has_politics</th>\n",
       "      <th>title_has_teen</th>\n",
       "      <th>title_has_school</th>\n",
       "      <th>title_has_dummies</th>\n",
       "      <th>title_has_film</th>\n",
       "    </tr>\n",
       "  </thead>\n",
       "  <tbody>\n",
       "    <tr>\n",
       "      <th>0</th>\n",
       "      <td>0.0</td>\n",
       "      <td>0.0</td>\n",
       "      <td>0.0</td>\n",
       "      <td>0.0</td>\n",
       "      <td>0.0</td>\n",
       "      <td>0.0</td>\n",
       "      <td>0.0</td>\n",
       "      <td>0.0</td>\n",
       "      <td>0.0</td>\n",
       "      <td>0.0</td>\n",
       "      <td>...</td>\n",
       "      <td>0</td>\n",
       "      <td>0</td>\n",
       "      <td>0</td>\n",
       "      <td>0</td>\n",
       "      <td>0</td>\n",
       "      <td>0</td>\n",
       "      <td>0</td>\n",
       "      <td>0</td>\n",
       "      <td>0</td>\n",
       "      <td>0</td>\n",
       "    </tr>\n",
       "    <tr>\n",
       "      <th>1</th>\n",
       "      <td>0.0</td>\n",
       "      <td>0.0</td>\n",
       "      <td>0.0</td>\n",
       "      <td>0.0</td>\n",
       "      <td>0.0</td>\n",
       "      <td>0.0</td>\n",
       "      <td>0.0</td>\n",
       "      <td>0.0</td>\n",
       "      <td>0.0</td>\n",
       "      <td>0.0</td>\n",
       "      <td>...</td>\n",
       "      <td>0</td>\n",
       "      <td>0</td>\n",
       "      <td>0</td>\n",
       "      <td>0</td>\n",
       "      <td>0</td>\n",
       "      <td>0</td>\n",
       "      <td>0</td>\n",
       "      <td>0</td>\n",
       "      <td>0</td>\n",
       "      <td>0</td>\n",
       "    </tr>\n",
       "    <tr>\n",
       "      <th>2</th>\n",
       "      <td>0.0</td>\n",
       "      <td>0.0</td>\n",
       "      <td>0.0</td>\n",
       "      <td>0.0</td>\n",
       "      <td>0.0</td>\n",
       "      <td>0.0</td>\n",
       "      <td>0.0</td>\n",
       "      <td>0.0</td>\n",
       "      <td>0.0</td>\n",
       "      <td>0.0</td>\n",
       "      <td>...</td>\n",
       "      <td>0</td>\n",
       "      <td>0</td>\n",
       "      <td>0</td>\n",
       "      <td>0</td>\n",
       "      <td>0</td>\n",
       "      <td>0</td>\n",
       "      <td>0</td>\n",
       "      <td>0</td>\n",
       "      <td>0</td>\n",
       "      <td>0</td>\n",
       "    </tr>\n",
       "    <tr>\n",
       "      <th>3</th>\n",
       "      <td>0.0</td>\n",
       "      <td>0.0</td>\n",
       "      <td>0.0</td>\n",
       "      <td>0.0</td>\n",
       "      <td>0.0</td>\n",
       "      <td>0.0</td>\n",
       "      <td>0.0</td>\n",
       "      <td>0.0</td>\n",
       "      <td>0.0</td>\n",
       "      <td>0.0</td>\n",
       "      <td>...</td>\n",
       "      <td>0</td>\n",
       "      <td>0</td>\n",
       "      <td>0</td>\n",
       "      <td>0</td>\n",
       "      <td>0</td>\n",
       "      <td>0</td>\n",
       "      <td>0</td>\n",
       "      <td>0</td>\n",
       "      <td>0</td>\n",
       "      <td>0</td>\n",
       "    </tr>\n",
       "    <tr>\n",
       "      <th>4</th>\n",
       "      <td>0.0</td>\n",
       "      <td>0.0</td>\n",
       "      <td>0.0</td>\n",
       "      <td>0.0</td>\n",
       "      <td>0.0</td>\n",
       "      <td>0.0</td>\n",
       "      <td>0.0</td>\n",
       "      <td>0.0</td>\n",
       "      <td>0.0</td>\n",
       "      <td>0.0</td>\n",
       "      <td>...</td>\n",
       "      <td>0</td>\n",
       "      <td>0</td>\n",
       "      <td>0</td>\n",
       "      <td>0</td>\n",
       "      <td>0</td>\n",
       "      <td>0</td>\n",
       "      <td>0</td>\n",
       "      <td>0</td>\n",
       "      <td>0</td>\n",
       "      <td>0</td>\n",
       "    </tr>\n",
       "  </tbody>\n",
       "</table>\n",
       "<p>5 rows × 641 columns</p>\n",
       "</div>"
      ],
      "text/plain": [
       "   title_tfidf_0  title_tfidf_1  title_tfidf_2  title_tfidf_3  title_tfidf_4  \\\n",
       "0            0.0            0.0            0.0            0.0            0.0   \n",
       "1            0.0            0.0            0.0            0.0            0.0   \n",
       "2            0.0            0.0            0.0            0.0            0.0   \n",
       "3            0.0            0.0            0.0            0.0            0.0   \n",
       "4            0.0            0.0            0.0            0.0            0.0   \n",
       "\n",
       "   title_tfidf_5  title_tfidf_6  title_tfidf_7  title_tfidf_8  title_tfidf_9  \\\n",
       "0            0.0            0.0            0.0            0.0            0.0   \n",
       "1            0.0            0.0            0.0            0.0            0.0   \n",
       "2            0.0            0.0            0.0            0.0            0.0   \n",
       "3            0.0            0.0            0.0            0.0            0.0   \n",
       "4            0.0            0.0            0.0            0.0            0.0   \n",
       "\n",
       "   ...  title_has_comics  title_has_children  title_has_universe  \\\n",
       "0  ...                 0                   0                   0   \n",
       "1  ...                 0                   0                   0   \n",
       "2  ...                 0                   0                   0   \n",
       "3  ...                 0                   0                   0   \n",
       "4  ...                 0                   0                   0   \n",
       "\n",
       "   title_has_animals  title_has_flowers  title_has_politics  title_has_teen  \\\n",
       "0                  0                  0                   0               0   \n",
       "1                  0                  0                   0               0   \n",
       "2                  0                  0                   0               0   \n",
       "3                  0                  0                   0               0   \n",
       "4                  0                  0                   0               0   \n",
       "\n",
       "   title_has_school  title_has_dummies  title_has_film  \n",
       "0                 0                  0               0  \n",
       "1                 0                  0               0  \n",
       "2                 0                  0               0  \n",
       "3                 0                  0               0  \n",
       "4                 0                  0               0  \n",
       "\n",
       "[5 rows x 641 columns]"
      ]
     },
     "execution_count": 211,
     "metadata": {},
     "output_type": "execute_result"
    }
   ],
   "source": [
    "title_features.head()"
   ]
  },
  {
   "cell_type": "code",
   "execution_count": 272,
   "id": "bc48942b",
   "metadata": {},
   "outputs": [
    {
     "name": "stdout",
     "output_type": "stream",
     "text": [
      "(15583, 641) 139\n",
      "title_has_classic\n",
      "title_has_classic\n",
      "0    15283\n",
      "1      300\n",
      "Name: count, dtype: int64\n",
      "\n",
      "\n",
      "title_has_guide\n",
      "title_has_guide\n",
      "0    14660\n",
      "1      923\n",
      "Name: count, dtype: int64\n",
      "\n",
      "\n",
      "title_has_mystery\n",
      "title_has_mystery\n",
      "0    15451\n",
      "1      132\n",
      "Name: count, dtype: int64\n",
      "\n",
      "\n",
      "title_has_murder\n",
      "title_has_murder\n",
      "0    15484\n",
      "1       99\n",
      "Name: count, dtype: int64\n",
      "\n",
      "\n",
      "title_has_science\n",
      "title_has_science\n",
      "0    15427\n",
      "1      156\n",
      "Name: count, dtype: int64\n",
      "\n",
      "\n",
      "title_has_dark\n",
      "title_has_dark\n",
      "0    15466\n",
      "1      117\n",
      "Name: count, dtype: int64\n",
      "\n",
      "\n",
      "title_has_music\n",
      "title_has_music\n",
      "0    15483\n",
      "1      100\n",
      "Name: count, dtype: int64\n",
      "\n",
      "\n",
      "title_has_food\n",
      "title_has_food\n",
      "0    15487\n",
      "1       96\n",
      "Name: count, dtype: int64\n",
      "\n",
      "\n",
      "title_has_war\n",
      "title_has_war\n",
      "0    15148\n",
      "1      435\n",
      "Name: count, dtype: int64\n",
      "\n",
      "\n",
      "title_has_sex\n",
      "title_has_sex\n",
      "0    15482\n",
      "1      101\n",
      "Name: count, dtype: int64\n",
      "\n",
      "\n",
      "title_has_history\n",
      "title_has_history\n",
      "0    15289\n",
      "1      294\n",
      "Name: count, dtype: int64\n",
      "\n",
      "\n",
      "title_has_bible\n",
      "title_has_bible\n",
      "0    15414\n",
      "1      169\n",
      "Name: count, dtype: int64\n",
      "\n",
      "\n",
      "title_has_rain\n",
      "title_has_rain\n",
      "0    15430\n",
      "1      153\n",
      "Name: count, dtype: int64\n",
      "\n",
      "\n",
      "title_has_time\n",
      "title_has_time\n",
      "0    15350\n",
      "1      233\n",
      "Name: count, dtype: int64\n",
      "\n",
      "\n",
      "title_has_tea\n",
      "title_has_tea\n",
      "0    15374\n",
      "1      209\n",
      "Name: count, dtype: int64\n",
      "\n",
      "\n",
      "title_has_art\n",
      "title_has_art\n",
      "0    14860\n",
      "1      723\n",
      "Name: count, dtype: int64\n",
      "\n",
      "\n",
      "title_has_adventure\n",
      "title_has_adventure\n",
      "0    15491\n",
      "1       92\n",
      "Name: count, dtype: int64\n",
      "\n",
      "\n",
      "title_has_love\n",
      "title_has_love\n",
      "0    15155\n",
      "1      428\n",
      "Name: count, dtype: int64\n",
      "\n",
      "\n",
      "title_has_family\n",
      "title_has_family\n",
      "0    15465\n",
      "1      118\n",
      "Name: count, dtype: int64\n",
      "\n",
      "\n",
      "title_has_spiritual\n",
      "title_has_spiritual\n",
      "0    15464\n",
      "1      119\n",
      "Name: count, dtype: int64\n",
      "\n",
      "\n",
      "title_has_wind\n",
      "title_has_wind\n",
      "0    15471\n",
      "1      112\n",
      "Name: count, dtype: int64\n",
      "\n",
      "\n",
      "title_has_children\n",
      "title_has_children\n",
      "0    15447\n",
      "1      136\n",
      "Name: count, dtype: int64\n",
      "\n",
      "\n",
      "title_has_school\n",
      "title_has_school\n",
      "0    15332\n",
      "1      251\n",
      "Name: count, dtype: int64\n",
      "\n",
      "\n",
      "title_has_dummies\n",
      "title_has_dummies\n",
      "0    15403\n",
      "1      180\n",
      "Name: count, dtype: int64\n",
      "\n",
      "\n",
      "['title_has_classic', 'title_has_guide', 'title_has_mystery', 'title_has_murder', 'title_has_science', 'title_has_dark', 'title_has_music', 'title_has_food', 'title_has_war', 'title_has_sex', 'title_has_history', 'title_has_bible', 'title_has_rain', 'title_has_time', 'title_has_tea', 'title_has_art', 'title_has_adventure', 'title_has_love', 'title_has_family', 'title_has_spiritual', 'title_has_wind', 'title_has_children', 'title_has_school', 'title_has_dummies'] 24\n"
     ]
    }
   ],
   "source": [
    "keywords_threshold = 15500\n",
    "#list of all the columns that start with has_\n",
    "has_columns = [col for col in title_features.columns if col.startswith('title_has_')]\n",
    "print(title_features.shape,len(has_columns))\n",
    "# check each column to see if it has 1 values\n",
    "has_columns_w_1_value = []\n",
    "for col in has_columns:\n",
    "    # if the values 1 have more than 20\n",
    "    if title_features[col].value_counts()[0] < keywords_threshold:\n",
    "        print(col)\n",
    "        print(title_features[col].value_counts())\n",
    "        print(\"\\n\")\n",
    "        has_columns_w_1_value.append(col)\n",
    "  \n",
    "\n",
    "print(has_columns_w_1_value, len(has_columns_w_1_value))\n"
   ]
  },
  {
   "cell_type": "code",
   "execution_count": 214,
   "id": "fc18557f",
   "metadata": {},
   "outputs": [
    {
     "data": {
      "text/plain": [
       "['title_has_classic',\n",
       " 'title_has_guide',\n",
       " 'title_has_mystery',\n",
       " 'title_has_murder',\n",
       " 'title_has_science',\n",
       " 'title_has_dark',\n",
       " 'title_has_music',\n",
       " 'title_has_food',\n",
       " 'title_has_war',\n",
       " 'title_has_sex',\n",
       " 'title_has_history',\n",
       " 'title_has_bible',\n",
       " 'title_has_rain',\n",
       " 'title_has_time',\n",
       " 'title_has_tea',\n",
       " 'title_has_art',\n",
       " 'title_has_adventure',\n",
       " 'title_has_love',\n",
       " 'title_has_family',\n",
       " 'title_has_spiritual',\n",
       " 'title_has_wind',\n",
       " 'title_has_children',\n",
       " 'title_has_school',\n",
       " 'title_has_dummies']"
      ]
     },
     "execution_count": 214,
     "metadata": {},
     "output_type": "execute_result"
    }
   ],
   "source": [
    "has_columns_w_1_value\n",
    "\n"
   ]
  },
  {
   "cell_type": "code",
   "execution_count": 273,
   "id": "35c8fe9d",
   "metadata": {},
   "outputs": [
    {
     "data": {
      "text/plain": [
       "['title_has_education',\n",
       " 'title_has_young adult',\n",
       " 'title_has_classic',\n",
       " 'title_has_dance',\n",
       " 'title_has_violence',\n",
       " 'title_has_guide',\n",
       " 'title_has_crafts',\n",
       " 'title_has_alcohol',\n",
       " 'title_has_gaming',\n",
       " 'title_has_moon',\n",
       " 'title_has_horror',\n",
       " 'title_has_college',\n",
       " 'title_has_mystery',\n",
       " 'title_has_snow',\n",
       " 'title_has_murder',\n",
       " 'title_has_erotica',\n",
       " 'title_has_science',\n",
       " 'title_has_humor',\n",
       " 'title_has_finance',\n",
       " 'title_has_dark',\n",
       " 'title_has_coach',\n",
       " 'title_has_university',\n",
       " 'title_has_music',\n",
       " 'title_has_victorian',\n",
       " 'title_has_food',\n",
       " 'title_has_summer',\n",
       " 'title_has_queer',\n",
       " 'title_has_prayer',\n",
       " 'title_has_sisters',\n",
       " 'title_has_war',\n",
       " 'title_has_dystopian',\n",
       " 'title_has_sex',\n",
       " 'title_has_binge',\n",
       " 'title_has_marriage',\n",
       " 'title_has_technology',\n",
       " 'title_has_travel',\n",
       " 'title_has_thriller',\n",
       " 'title_has_money',\n",
       " 'title_has_historical',\n",
       " 'title_has_coming-of-age',\n",
       " 'title_has_epic',\n",
       " 'title_has_comedy',\n",
       " 'title_has_cooking',\n",
       " 'title_has_history',\n",
       " 'title_has_sun',\n",
       " 'title_has_sucess',\n",
       " 'title_has_parenting',\n",
       " 'title_has_nature',\n",
       " 'title_has_mystical',\n",
       " 'title_has_magic',\n",
       " 'title_has_biography',\n",
       " 'title_has_drugs',\n",
       " 'title_has_paranormal',\n",
       " 'title_has_supernatural',\n",
       " 'title_has_friendship',\n",
       " 'title_has_romantic',\n",
       " 'title_has_drink',\n",
       " 'title_has_romance',\n",
       " 'title_has_mission',\n",
       " 'title_has_smoking',\n",
       " 'title_has_justice',\n",
       " 'title_has_manga',\n",
       " 'title_has_non-fiction',\n",
       " 'title_has_loss',\n",
       " 'title_has_memoir',\n",
       " 'title_has_plants',\n",
       " 'title_has_fantasy',\n",
       " 'title_has_drama',\n",
       " 'title_has_space',\n",
       " 'title_has_weather',\n",
       " 'title_has_pirate',\n",
       " 'title_has_grieve',\n",
       " 'title_has_fairy tale',\n",
       " 'title_has_brothers',\n",
       " 'title_has_earth',\n",
       " 'title_has_planet',\n",
       " 'title_has_bible',\n",
       " 'title_has_philosophy',\n",
       " 'title_has_sci-fi',\n",
       " 'title_has_tragedy',\n",
       " 'title_has_rain',\n",
       " 'title_has_psychology',\n",
       " 'title_has_western',\n",
       " 'title_has_stars',\n",
       " 'title_has_poetry',\n",
       " 'title_has_heartbreak',\n",
       " 'title_has_self-help',\n",
       " 'title_has_mythology',\n",
       " 'title_has_melodrama',\n",
       " 'title_has_crime',\n",
       " 'title_has_sky',\n",
       " 'title_has_investing',\n",
       " 'title_has_science fiction',\n",
       " 'title_has_theater',\n",
       " 'title_has_anime',\n",
       " 'title_has_political',\n",
       " 'title_has_workout',\n",
       " 'title_has_monster',\n",
       " 'title_has_galaxy',\n",
       " 'title_has_suspense',\n",
       " 'title_has_hobbies',\n",
       " 'title_has_religion',\n",
       " 'title_has_career',\n",
       " 'title_has_tv',\n",
       " 'title_has_dating',\n",
       " 'title_has_sister',\n",
       " 'title_has_winterautumn',\n",
       " 'title_has_time',\n",
       " 'title_has_tea',\n",
       " 'title_has_economy',\n",
       " 'title_has_clouds',\n",
       " 'title_has_art',\n",
       " 'title_has_punishment',\n",
       " 'title_has_colors',\n",
       " 'title_has_adventure',\n",
       " 'title_has_love',\n",
       " 'title_has_family',\n",
       " 'title_has_fetish',\n",
       " 'title_has_spiritual',\n",
       " 'title_has_coffee',\n",
       " 'title_has_media',\n",
       " 'title_has_wind',\n",
       " 'title_has_peace',\n",
       " 'title_has_trees',\n",
       " 'title_has_diy',\n",
       " 'title_has_literary',\n",
       " 'title_has_job',\n",
       " 'title_has_detective',\n",
       " 'title_has_relationships',\n",
       " 'title_has_comics',\n",
       " 'title_has_children',\n",
       " 'title_has_universe',\n",
       " 'title_has_animals',\n",
       " 'title_has_flowers',\n",
       " 'title_has_politics',\n",
       " 'title_has_teen',\n",
       " 'title_has_school',\n",
       " 'title_has_dummies',\n",
       " 'title_has_film']"
      ]
     },
     "execution_count": 273,
     "metadata": {},
     "output_type": "execute_result"
    }
   ],
   "source": [
    "title_has_columns = [col for col in title_features.columns if col.startswith('title_has_')]\n",
    "title_has_columns\n",
    "\n",
    "\n",
    "\n",
    "\n"
   ]
  },
  {
   "cell_type": "code",
   "execution_count": 274,
   "id": "a1c13770",
   "metadata": {},
   "outputs": [],
   "source": [
    "all_columns = books.columns"
   ]
  },
  {
   "cell_type": "code",
   "execution_count": 276,
   "id": "0368e196",
   "metadata": {},
   "outputs": [
    {
     "name": "stdout",
     "output_type": "stream",
     "text": [
      "New DataFrame shape: (15583, 26)\n",
      "Columns in new DataFrame: 26\n"
     ]
    }
   ],
   "source": [
    "# Method 1: Using the columns that actually exist in your DataFrame\n",
    "existing_columns = [col for col in keep_columns if col in title_features.columns]\n",
    "existing_has_columns = [col for col in has_columns_w_1_value if col in title_features.columns]\n",
    "\n",
    "# Create new DataFrame with selected columns\n",
    "new_df = title_features[existing_columns + existing_has_columns].copy()\n",
    "\n",
    "print(f\"New DataFrame shape: {new_df.shape}\")\n",
    "print(f\"Columns in new DataFrame: {len(new_df.columns)}\")"
   ]
  },
  {
   "cell_type": "code",
   "execution_count": 277,
   "id": "85465cfa",
   "metadata": {},
   "outputs": [
    {
     "data": {
      "text/plain": [
       "Index(['title_num_words', 'title_num_chars', 'title_has_classic',\n",
       "       'title_has_guide', 'title_has_mystery', 'title_has_murder',\n",
       "       'title_has_science', 'title_has_dark', 'title_has_music',\n",
       "       'title_has_food', 'title_has_war', 'title_has_sex', 'title_has_history',\n",
       "       'title_has_bible', 'title_has_rain', 'title_has_time', 'title_has_tea',\n",
       "       'title_has_art', 'title_has_adventure', 'title_has_love',\n",
       "       'title_has_family', 'title_has_spiritual', 'title_has_wind',\n",
       "       'title_has_children', 'title_has_school', 'title_has_dummies'],\n",
       "      dtype='object')"
      ]
     },
     "execution_count": 277,
     "metadata": {},
     "output_type": "execute_result"
    }
   ],
   "source": [
    "new_df.columns\n"
   ]
  },
  {
   "cell_type": "code",
   "execution_count": 278,
   "id": "a88c13f9",
   "metadata": {},
   "outputs": [
    {
     "data": {
      "text/plain": [
       "Index(['title_num_words', 'title_num_chars', 'title_has_classic',\n",
       "       'title_has_guide', 'title_has_mystery', 'title_has_murder',\n",
       "       'title_has_science', 'title_has_dark', 'title_has_music',\n",
       "       'title_has_food', 'title_has_war', 'title_has_sex', 'title_has_history',\n",
       "       'title_has_bible', 'title_has_rain', 'title_has_time', 'title_has_tea',\n",
       "       'title_has_art', 'title_has_adventure', 'title_has_love',\n",
       "       'title_has_family', 'title_has_spiritual', 'title_has_wind',\n",
       "       'title_has_children', 'title_has_school', 'title_has_dummies'],\n",
       "      dtype='object')"
      ]
     },
     "execution_count": 278,
     "metadata": {},
     "output_type": "execute_result"
    }
   ],
   "source": [
    "title_features.columns"
   ]
  },
  {
   "cell_type": "code",
   "execution_count": 279,
   "id": "4bc85601",
   "metadata": {},
   "outputs": [
    {
     "data": {
      "text/plain": [
       "Index(['title', 'price', 'total_reviews', 'helpful_reviews',\n",
       "       'percentage_helpful', 'author_count', 'score_text', 'score_description',\n",
       "       'sentiment_description_num', 'num_words',\n",
       "       ...\n",
       "       'title_has_tea', 'title_has_art', 'title_has_adventure',\n",
       "       'title_has_love', 'title_has_family', 'title_has_spiritual',\n",
       "       'title_has_wind', 'title_has_children', 'title_has_school',\n",
       "       'title_has_dummies'],\n",
       "      dtype='object', length=241)"
      ]
     },
     "execution_count": 279,
     "metadata": {},
     "output_type": "execute_result"
    }
   ],
   "source": [
    "#i want to add title_features to books\n",
    "books = pd.concat([books, title_features], axis=1)\n",
    "books.columns\n",
    "\n",
    "\n",
    "\n"
   ]
  },
  {
   "cell_type": "code",
   "execution_count": 280,
   "id": "ed1d8c7a",
   "metadata": {},
   "outputs": [
    {
     "data": {
      "text/html": [
       "<div>\n",
       "<style scoped>\n",
       "    .dataframe tbody tr th:only-of-type {\n",
       "        vertical-align: middle;\n",
       "    }\n",
       "\n",
       "    .dataframe tbody tr th {\n",
       "        vertical-align: top;\n",
       "    }\n",
       "\n",
       "    .dataframe thead th {\n",
       "        text-align: right;\n",
       "    }\n",
       "</style>\n",
       "<table border=\"1\" class=\"dataframe\">\n",
       "  <thead>\n",
       "    <tr style=\"text-align: right;\">\n",
       "      <th></th>\n",
       "      <th>title</th>\n",
       "      <th>price</th>\n",
       "      <th>total_reviews</th>\n",
       "      <th>helpful_reviews</th>\n",
       "      <th>percentage_helpful</th>\n",
       "      <th>author_count</th>\n",
       "      <th>score_text</th>\n",
       "      <th>score_description</th>\n",
       "      <th>sentiment_description_num</th>\n",
       "      <th>num_words</th>\n",
       "      <th>...</th>\n",
       "      <th>title_has_tea</th>\n",
       "      <th>title_has_art</th>\n",
       "      <th>title_has_adventure</th>\n",
       "      <th>title_has_love</th>\n",
       "      <th>title_has_family</th>\n",
       "      <th>title_has_spiritual</th>\n",
       "      <th>title_has_wind</th>\n",
       "      <th>title_has_children</th>\n",
       "      <th>title_has_school</th>\n",
       "      <th>title_has_dummies</th>\n",
       "    </tr>\n",
       "  </thead>\n",
       "  <tbody>\n",
       "    <tr>\n",
       "      <th>0</th>\n",
       "      <td>We Band of Angels: The Untold Story of America...</td>\n",
       "      <td>10.88</td>\n",
       "      <td>3</td>\n",
       "      <td>2</td>\n",
       "      <td>0.666667</td>\n",
       "      <td>1</td>\n",
       "      <td>0.999283</td>\n",
       "      <td>0.999049</td>\n",
       "      <td>1</td>\n",
       "      <td>318</td>\n",
       "      <td>...</td>\n",
       "      <td>0</td>\n",
       "      <td>0</td>\n",
       "      <td>0</td>\n",
       "      <td>0</td>\n",
       "      <td>0</td>\n",
       "      <td>0</td>\n",
       "      <td>0</td>\n",
       "      <td>0</td>\n",
       "      <td>0</td>\n",
       "      <td>0</td>\n",
       "    </tr>\n",
       "    <tr>\n",
       "      <th>1</th>\n",
       "      <td>Prayer That Brings Revival: Interceding for Go...</td>\n",
       "      <td>9.35</td>\n",
       "      <td>0</td>\n",
       "      <td>0</td>\n",
       "      <td>0.000000</td>\n",
       "      <td>1</td>\n",
       "      <td>0.999845</td>\n",
       "      <td>0.999642</td>\n",
       "      <td>1</td>\n",
       "      <td>74</td>\n",
       "      <td>...</td>\n",
       "      <td>0</td>\n",
       "      <td>0</td>\n",
       "      <td>0</td>\n",
       "      <td>0</td>\n",
       "      <td>1</td>\n",
       "      <td>0</td>\n",
       "      <td>0</td>\n",
       "      <td>0</td>\n",
       "      <td>0</td>\n",
       "      <td>0</td>\n",
       "    </tr>\n",
       "    <tr>\n",
       "      <th>2</th>\n",
       "      <td>The Mystical Journey from Jesus to Christ</td>\n",
       "      <td>24.95</td>\n",
       "      <td>19</td>\n",
       "      <td>17</td>\n",
       "      <td>0.894737</td>\n",
       "      <td>1</td>\n",
       "      <td>0.828281</td>\n",
       "      <td>0.999086</td>\n",
       "      <td>1</td>\n",
       "      <td>94</td>\n",
       "      <td>...</td>\n",
       "      <td>0</td>\n",
       "      <td>0</td>\n",
       "      <td>0</td>\n",
       "      <td>0</td>\n",
       "      <td>0</td>\n",
       "      <td>0</td>\n",
       "      <td>0</td>\n",
       "      <td>0</td>\n",
       "      <td>0</td>\n",
       "      <td>0</td>\n",
       "    </tr>\n",
       "    <tr>\n",
       "      <th>3</th>\n",
       "      <td>Death Row</td>\n",
       "      <td>7.99</td>\n",
       "      <td>1</td>\n",
       "      <td>0</td>\n",
       "      <td>0.000000</td>\n",
       "      <td>1</td>\n",
       "      <td>0.995394</td>\n",
       "      <td>0.999014</td>\n",
       "      <td>1</td>\n",
       "      <td>142</td>\n",
       "      <td>...</td>\n",
       "      <td>0</td>\n",
       "      <td>0</td>\n",
       "      <td>0</td>\n",
       "      <td>0</td>\n",
       "      <td>0</td>\n",
       "      <td>0</td>\n",
       "      <td>0</td>\n",
       "      <td>0</td>\n",
       "      <td>0</td>\n",
       "      <td>0</td>\n",
       "    </tr>\n",
       "    <tr>\n",
       "      <th>4</th>\n",
       "      <td>Sound and Form in Modern Poetry: Second Editio...</td>\n",
       "      <td>32.50</td>\n",
       "      <td>20</td>\n",
       "      <td>18</td>\n",
       "      <td>0.900000</td>\n",
       "      <td>2</td>\n",
       "      <td>0.995729</td>\n",
       "      <td>0.999651</td>\n",
       "      <td>1</td>\n",
       "      <td>13</td>\n",
       "      <td>...</td>\n",
       "      <td>0</td>\n",
       "      <td>0</td>\n",
       "      <td>0</td>\n",
       "      <td>0</td>\n",
       "      <td>0</td>\n",
       "      <td>0</td>\n",
       "      <td>0</td>\n",
       "      <td>0</td>\n",
       "      <td>0</td>\n",
       "      <td>0</td>\n",
       "    </tr>\n",
       "  </tbody>\n",
       "</table>\n",
       "<p>5 rows × 241 columns</p>\n",
       "</div>"
      ],
      "text/plain": [
       "                                               title  price  total_reviews  \\\n",
       "0  We Band of Angels: The Untold Story of America...  10.88              3   \n",
       "1  Prayer That Brings Revival: Interceding for Go...   9.35              0   \n",
       "2          The Mystical Journey from Jesus to Christ  24.95             19   \n",
       "3                                          Death Row   7.99              1   \n",
       "4  Sound and Form in Modern Poetry: Second Editio...  32.50             20   \n",
       "\n",
       "   helpful_reviews  percentage_helpful  author_count  score_text  \\\n",
       "0                2            0.666667             1    0.999283   \n",
       "1                0            0.000000             1    0.999845   \n",
       "2               17            0.894737             1    0.828281   \n",
       "3                0            0.000000             1    0.995394   \n",
       "4               18            0.900000             2    0.995729   \n",
       "\n",
       "   score_description  sentiment_description_num  num_words  ...  \\\n",
       "0           0.999049                          1        318  ...   \n",
       "1           0.999642                          1         74  ...   \n",
       "2           0.999086                          1         94  ...   \n",
       "3           0.999014                          1        142  ...   \n",
       "4           0.999651                          1         13  ...   \n",
       "\n",
       "   title_has_tea  title_has_art  title_has_adventure  title_has_love  \\\n",
       "0              0              0                    0               0   \n",
       "1              0              0                    0               0   \n",
       "2              0              0                    0               0   \n",
       "3              0              0                    0               0   \n",
       "4              0              0                    0               0   \n",
       "\n",
       "   title_has_family  title_has_spiritual  title_has_wind  title_has_children  \\\n",
       "0                 0                    0               0                   0   \n",
       "1                 1                    0               0                   0   \n",
       "2                 0                    0               0                   0   \n",
       "3                 0                    0               0                   0   \n",
       "4                 0                    0               0                   0   \n",
       "\n",
       "   title_has_school  title_has_dummies  \n",
       "0                 0                  0  \n",
       "1                 0                  0  \n",
       "2                 0                  0  \n",
       "3                 0                  0  \n",
       "4                 0                  0  \n",
       "\n",
       "[5 rows x 241 columns]"
      ]
     },
     "execution_count": 280,
     "metadata": {},
     "output_type": "execute_result"
    }
   ],
   "source": [
    "books.head()\n",
    "\n",
    "\n",
    "\n",
    "\n",
    "\n"
   ]
  },
  {
   "cell_type": "code",
   "execution_count": 281,
   "id": "d81ebac6",
   "metadata": {},
   "outputs": [],
   "source": [
    "books.drop('title', axis=1, inplace=True)"
   ]
  },
  {
   "cell_type": "code",
   "execution_count": 282,
   "id": "ccb5972b",
   "metadata": {},
   "outputs": [],
   "source": [
    "books.to_csv(\"data/books_model_num.csv\", index=False)"
   ]
  },
  {
   "cell_type": "code",
   "execution_count": 283,
   "id": "8197789e",
   "metadata": {},
   "outputs": [
    {
     "name": "stdout",
     "output_type": "stream",
     "text": [
      "Object columns:\n",
      "[]\n",
      "\n",
      "Number of object columns: 0\n"
     ]
    }
   ],
   "source": [
    "# Get columns that are object type\n",
    "object_columns = books.select_dtypes(include=['object'])\n",
    "print(\"Object columns:\")\n",
    "print(object_columns.columns.tolist())\n",
    "print(f\"\\nNumber of object columns: {len(object_columns.columns)}\")"
   ]
  },
  {
   "cell_type": "code",
   "execution_count": 284,
   "id": "52325a52",
   "metadata": {},
   "outputs": [
    {
     "data": {
      "text/html": [
       "<div>\n",
       "<style scoped>\n",
       "    .dataframe tbody tr th:only-of-type {\n",
       "        vertical-align: middle;\n",
       "    }\n",
       "\n",
       "    .dataframe tbody tr th {\n",
       "        vertical-align: top;\n",
       "    }\n",
       "\n",
       "    .dataframe thead th {\n",
       "        text-align: right;\n",
       "    }\n",
       "</style>\n",
       "<table border=\"1\" class=\"dataframe\">\n",
       "  <thead>\n",
       "    <tr style=\"text-align: right;\">\n",
       "      <th></th>\n",
       "      <th>price</th>\n",
       "      <th>total_reviews</th>\n",
       "      <th>helpful_reviews</th>\n",
       "      <th>percentage_helpful</th>\n",
       "      <th>author_count</th>\n",
       "      <th>score_text</th>\n",
       "      <th>score_description</th>\n",
       "      <th>sentiment_description_num</th>\n",
       "      <th>num_words</th>\n",
       "      <th>num_chars</th>\n",
       "      <th>...</th>\n",
       "      <th>title_has_art</th>\n",
       "      <th>title_has_adventure</th>\n",
       "      <th>title_has_love</th>\n",
       "      <th>title_has_family</th>\n",
       "      <th>title_has_spiritual</th>\n",
       "      <th>title_has_wind</th>\n",
       "      <th>title_has_children</th>\n",
       "      <th>title_has_school</th>\n",
       "      <th>title_has_dummies</th>\n",
       "      <th>target</th>\n",
       "    </tr>\n",
       "  </thead>\n",
       "  <tbody>\n",
       "    <tr>\n",
       "      <th>0</th>\n",
       "      <td>10.88</td>\n",
       "      <td>3</td>\n",
       "      <td>2</td>\n",
       "      <td>0.666667</td>\n",
       "      <td>1</td>\n",
       "      <td>0.999283</td>\n",
       "      <td>0.999049</td>\n",
       "      <td>1</td>\n",
       "      <td>318</td>\n",
       "      <td>1867</td>\n",
       "      <td>...</td>\n",
       "      <td>0</td>\n",
       "      <td>0</td>\n",
       "      <td>0</td>\n",
       "      <td>0</td>\n",
       "      <td>0</td>\n",
       "      <td>0</td>\n",
       "      <td>0</td>\n",
       "      <td>0</td>\n",
       "      <td>0</td>\n",
       "      <td>0</td>\n",
       "    </tr>\n",
       "    <tr>\n",
       "      <th>1</th>\n",
       "      <td>9.35</td>\n",
       "      <td>0</td>\n",
       "      <td>0</td>\n",
       "      <td>0.000000</td>\n",
       "      <td>1</td>\n",
       "      <td>0.999845</td>\n",
       "      <td>0.999642</td>\n",
       "      <td>1</td>\n",
       "      <td>74</td>\n",
       "      <td>427</td>\n",
       "      <td>...</td>\n",
       "      <td>0</td>\n",
       "      <td>0</td>\n",
       "      <td>0</td>\n",
       "      <td>1</td>\n",
       "      <td>0</td>\n",
       "      <td>0</td>\n",
       "      <td>0</td>\n",
       "      <td>0</td>\n",
       "      <td>0</td>\n",
       "      <td>0</td>\n",
       "    </tr>\n",
       "    <tr>\n",
       "      <th>2</th>\n",
       "      <td>24.95</td>\n",
       "      <td>19</td>\n",
       "      <td>17</td>\n",
       "      <td>0.894737</td>\n",
       "      <td>1</td>\n",
       "      <td>0.828281</td>\n",
       "      <td>0.999086</td>\n",
       "      <td>1</td>\n",
       "      <td>94</td>\n",
       "      <td>594</td>\n",
       "      <td>...</td>\n",
       "      <td>0</td>\n",
       "      <td>0</td>\n",
       "      <td>0</td>\n",
       "      <td>0</td>\n",
       "      <td>0</td>\n",
       "      <td>0</td>\n",
       "      <td>0</td>\n",
       "      <td>0</td>\n",
       "      <td>0</td>\n",
       "      <td>0</td>\n",
       "    </tr>\n",
       "    <tr>\n",
       "      <th>3</th>\n",
       "      <td>7.99</td>\n",
       "      <td>1</td>\n",
       "      <td>0</td>\n",
       "      <td>0.000000</td>\n",
       "      <td>1</td>\n",
       "      <td>0.995394</td>\n",
       "      <td>0.999014</td>\n",
       "      <td>1</td>\n",
       "      <td>142</td>\n",
       "      <td>901</td>\n",
       "      <td>...</td>\n",
       "      <td>0</td>\n",
       "      <td>0</td>\n",
       "      <td>0</td>\n",
       "      <td>0</td>\n",
       "      <td>0</td>\n",
       "      <td>0</td>\n",
       "      <td>0</td>\n",
       "      <td>0</td>\n",
       "      <td>0</td>\n",
       "      <td>0</td>\n",
       "    </tr>\n",
       "    <tr>\n",
       "      <th>4</th>\n",
       "      <td>32.50</td>\n",
       "      <td>20</td>\n",
       "      <td>18</td>\n",
       "      <td>0.900000</td>\n",
       "      <td>2</td>\n",
       "      <td>0.995729</td>\n",
       "      <td>0.999651</td>\n",
       "      <td>1</td>\n",
       "      <td>13</td>\n",
       "      <td>75</td>\n",
       "      <td>...</td>\n",
       "      <td>0</td>\n",
       "      <td>0</td>\n",
       "      <td>0</td>\n",
       "      <td>0</td>\n",
       "      <td>0</td>\n",
       "      <td>0</td>\n",
       "      <td>0</td>\n",
       "      <td>0</td>\n",
       "      <td>0</td>\n",
       "      <td>0</td>\n",
       "    </tr>\n",
       "  </tbody>\n",
       "</table>\n",
       "<p>5 rows × 241 columns</p>\n",
       "</div>"
      ],
      "text/plain": [
       "   price  total_reviews  helpful_reviews  percentage_helpful  author_count  \\\n",
       "0  10.88              3                2            0.666667             1   \n",
       "1   9.35              0                0            0.000000             1   \n",
       "2  24.95             19               17            0.894737             1   \n",
       "3   7.99              1                0            0.000000             1   \n",
       "4  32.50             20               18            0.900000             2   \n",
       "\n",
       "   score_text  score_description  sentiment_description_num  num_words  \\\n",
       "0    0.999283           0.999049                          1        318   \n",
       "1    0.999845           0.999642                          1         74   \n",
       "2    0.828281           0.999086                          1         94   \n",
       "3    0.995394           0.999014                          1        142   \n",
       "4    0.995729           0.999651                          1         13   \n",
       "\n",
       "   num_chars  ...  title_has_art  title_has_adventure  title_has_love  \\\n",
       "0       1867  ...              0                    0               0   \n",
       "1        427  ...              0                    0               0   \n",
       "2        594  ...              0                    0               0   \n",
       "3        901  ...              0                    0               0   \n",
       "4         75  ...              0                    0               0   \n",
       "\n",
       "   title_has_family  title_has_spiritual  title_has_wind  title_has_children  \\\n",
       "0                 0                    0               0                   0   \n",
       "1                 1                    0               0                   0   \n",
       "2                 0                    0               0                   0   \n",
       "3                 0                    0               0                   0   \n",
       "4                 0                    0               0                   0   \n",
       "\n",
       "   title_has_school  title_has_dummies  target  \n",
       "0                 0                  0       0  \n",
       "1                 0                  0       0  \n",
       "2                 0                  0       0  \n",
       "3                 0                  0       0  \n",
       "4                 0                  0       0  \n",
       "\n",
       "[5 rows x 241 columns]"
      ]
     },
     "execution_count": 284,
     "metadata": {},
     "output_type": "execute_result"
    }
   ],
   "source": [
    "books = pd.concat([books, target], axis=1)\n",
    "books.columns\n",
    "\n",
    "\n",
    "books.head()\n",
    "\n",
    "\n",
    "\n",
    "\n",
    "\n",
    "\n",
    "\n"
   ]
  },
  {
   "cell_type": "code",
   "execution_count": 285,
   "id": "b292206a",
   "metadata": {},
   "outputs": [
    {
     "data": {
      "text/html": [
       "<div>\n",
       "<style scoped>\n",
       "    .dataframe tbody tr th:only-of-type {\n",
       "        vertical-align: middle;\n",
       "    }\n",
       "\n",
       "    .dataframe tbody tr th {\n",
       "        vertical-align: top;\n",
       "    }\n",
       "\n",
       "    .dataframe thead th {\n",
       "        text-align: right;\n",
       "    }\n",
       "</style>\n",
       "<table border=\"1\" class=\"dataframe\">\n",
       "  <thead>\n",
       "    <tr style=\"text-align: right;\">\n",
       "      <th></th>\n",
       "      <th>price</th>\n",
       "      <th>total_reviews</th>\n",
       "      <th>helpful_reviews</th>\n",
       "      <th>percentage_helpful</th>\n",
       "      <th>author_count</th>\n",
       "      <th>score_text</th>\n",
       "      <th>score_description</th>\n",
       "      <th>sentiment_description_num</th>\n",
       "      <th>num_words</th>\n",
       "      <th>num_chars</th>\n",
       "      <th>...</th>\n",
       "      <th>title_has_art</th>\n",
       "      <th>title_has_adventure</th>\n",
       "      <th>title_has_love</th>\n",
       "      <th>title_has_family</th>\n",
       "      <th>title_has_spiritual</th>\n",
       "      <th>title_has_wind</th>\n",
       "      <th>title_has_children</th>\n",
       "      <th>title_has_school</th>\n",
       "      <th>title_has_dummies</th>\n",
       "      <th>target</th>\n",
       "    </tr>\n",
       "  </thead>\n",
       "  <tbody>\n",
       "    <tr>\n",
       "      <th>1826</th>\n",
       "      <td>12.13</td>\n",
       "      <td>8</td>\n",
       "      <td>8</td>\n",
       "      <td>1.0</td>\n",
       "      <td>2</td>\n",
       "      <td>0.996545</td>\n",
       "      <td>0.998905</td>\n",
       "      <td>1</td>\n",
       "      <td>31</td>\n",
       "      <td>203</td>\n",
       "      <td>...</td>\n",
       "      <td>0</td>\n",
       "      <td>0</td>\n",
       "      <td>0</td>\n",
       "      <td>0</td>\n",
       "      <td>0</td>\n",
       "      <td>0</td>\n",
       "      <td>0</td>\n",
       "      <td>0</td>\n",
       "      <td>0</td>\n",
       "      <td>0</td>\n",
       "    </tr>\n",
       "    <tr>\n",
       "      <th>7138</th>\n",
       "      <td>12.13</td>\n",
       "      <td>1</td>\n",
       "      <td>1</td>\n",
       "      <td>1.0</td>\n",
       "      <td>1</td>\n",
       "      <td>0.996281</td>\n",
       "      <td>0.999602</td>\n",
       "      <td>1</td>\n",
       "      <td>179</td>\n",
       "      <td>1120</td>\n",
       "      <td>...</td>\n",
       "      <td>0</td>\n",
       "      <td>0</td>\n",
       "      <td>0</td>\n",
       "      <td>0</td>\n",
       "      <td>0</td>\n",
       "      <td>0</td>\n",
       "      <td>0</td>\n",
       "      <td>0</td>\n",
       "      <td>0</td>\n",
       "      <td>1</td>\n",
       "    </tr>\n",
       "    <tr>\n",
       "      <th>13604</th>\n",
       "      <td>12.13</td>\n",
       "      <td>0</td>\n",
       "      <td>0</td>\n",
       "      <td>0.0</td>\n",
       "      <td>3</td>\n",
       "      <td>0.999865</td>\n",
       "      <td>0.999108</td>\n",
       "      <td>1</td>\n",
       "      <td>32</td>\n",
       "      <td>232</td>\n",
       "      <td>...</td>\n",
       "      <td>0</td>\n",
       "      <td>0</td>\n",
       "      <td>0</td>\n",
       "      <td>0</td>\n",
       "      <td>0</td>\n",
       "      <td>0</td>\n",
       "      <td>0</td>\n",
       "      <td>0</td>\n",
       "      <td>0</td>\n",
       "      <td>1</td>\n",
       "    </tr>\n",
       "    <tr>\n",
       "      <th>15423</th>\n",
       "      <td>12.13</td>\n",
       "      <td>8</td>\n",
       "      <td>8</td>\n",
       "      <td>1.0</td>\n",
       "      <td>2</td>\n",
       "      <td>0.996545</td>\n",
       "      <td>0.998905</td>\n",
       "      <td>1</td>\n",
       "      <td>31</td>\n",
       "      <td>203</td>\n",
       "      <td>...</td>\n",
       "      <td>0</td>\n",
       "      <td>0</td>\n",
       "      <td>0</td>\n",
       "      <td>0</td>\n",
       "      <td>0</td>\n",
       "      <td>0</td>\n",
       "      <td>0</td>\n",
       "      <td>0</td>\n",
       "      <td>0</td>\n",
       "      <td>0</td>\n",
       "    </tr>\n",
       "  </tbody>\n",
       "</table>\n",
       "<p>4 rows × 241 columns</p>\n",
       "</div>"
      ],
      "text/plain": [
       "       price  total_reviews  helpful_reviews  percentage_helpful  \\\n",
       "1826   12.13              8                8                 1.0   \n",
       "7138   12.13              1                1                 1.0   \n",
       "13604  12.13              0                0                 0.0   \n",
       "15423  12.13              8                8                 1.0   \n",
       "\n",
       "       author_count  score_text  score_description  sentiment_description_num  \\\n",
       "1826              2    0.996545           0.998905                          1   \n",
       "7138              1    0.996281           0.999602                          1   \n",
       "13604             3    0.999865           0.999108                          1   \n",
       "15423             2    0.996545           0.998905                          1   \n",
       "\n",
       "       num_words  num_chars  ...  title_has_art  title_has_adventure  \\\n",
       "1826          31        203  ...              0                    0   \n",
       "7138         179       1120  ...              0                    0   \n",
       "13604         32        232  ...              0                    0   \n",
       "15423         31        203  ...              0                    0   \n",
       "\n",
       "       title_has_love  title_has_family  title_has_spiritual  title_has_wind  \\\n",
       "1826                0                 0                    0               0   \n",
       "7138                0                 0                    0               0   \n",
       "13604               0                 0                    0               0   \n",
       "15423               0                 0                    0               0   \n",
       "\n",
       "       title_has_children  title_has_school  title_has_dummies  target  \n",
       "1826                    0                 0                  0       0  \n",
       "7138                    0                 0                  0       1  \n",
       "13604                   0                 0                  0       1  \n",
       "15423                   0                 0                  0       0  \n",
       "\n",
       "[4 rows x 241 columns]"
      ]
     },
     "execution_count": 285,
     "metadata": {},
     "output_type": "execute_result"
    }
   ],
   "source": [
    "books[books['price'] == 12.13]"
   ]
  },
  {
   "cell_type": "code",
   "execution_count": 243,
   "id": "d796d01f",
   "metadata": {},
   "outputs": [
    {
     "data": {
      "text/html": [
       "<div>\n",
       "<style scoped>\n",
       "    .dataframe tbody tr th:only-of-type {\n",
       "        vertical-align: middle;\n",
       "    }\n",
       "\n",
       "    .dataframe tbody tr th {\n",
       "        vertical-align: top;\n",
       "    }\n",
       "\n",
       "    .dataframe thead th {\n",
       "        text-align: right;\n",
       "    }\n",
       "</style>\n",
       "<table border=\"1\" class=\"dataframe\">\n",
       "  <thead>\n",
       "    <tr style=\"text-align: right;\">\n",
       "      <th></th>\n",
       "      <th>price</th>\n",
       "      <th>total_reviews</th>\n",
       "      <th>helpful_reviews</th>\n",
       "      <th>percentage_helpful</th>\n",
       "      <th>author_count</th>\n",
       "      <th>score_text</th>\n",
       "      <th>score_description</th>\n",
       "      <th>sentiment_description_num</th>\n",
       "      <th>num_words</th>\n",
       "      <th>num_chars</th>\n",
       "      <th>...</th>\n",
       "      <th>title_has_tea</th>\n",
       "      <th>title_has_art</th>\n",
       "      <th>title_has_adventure</th>\n",
       "      <th>title_has_love</th>\n",
       "      <th>title_has_family</th>\n",
       "      <th>title_has_spiritual</th>\n",
       "      <th>title_has_wind</th>\n",
       "      <th>title_has_children</th>\n",
       "      <th>title_has_school</th>\n",
       "      <th>title_has_dummies</th>\n",
       "    </tr>\n",
       "  </thead>\n",
       "  <tbody>\n",
       "    <tr>\n",
       "      <th>0</th>\n",
       "      <td>10.88</td>\n",
       "      <td>3</td>\n",
       "      <td>2</td>\n",
       "      <td>0.666667</td>\n",
       "      <td>1</td>\n",
       "      <td>0.999283</td>\n",
       "      <td>0.999049</td>\n",
       "      <td>1</td>\n",
       "      <td>318</td>\n",
       "      <td>1867</td>\n",
       "      <td>...</td>\n",
       "      <td>0</td>\n",
       "      <td>0</td>\n",
       "      <td>0</td>\n",
       "      <td>0</td>\n",
       "      <td>0</td>\n",
       "      <td>0</td>\n",
       "      <td>0</td>\n",
       "      <td>0</td>\n",
       "      <td>0</td>\n",
       "      <td>0</td>\n",
       "    </tr>\n",
       "    <tr>\n",
       "      <th>1</th>\n",
       "      <td>9.35</td>\n",
       "      <td>0</td>\n",
       "      <td>0</td>\n",
       "      <td>0.000000</td>\n",
       "      <td>1</td>\n",
       "      <td>0.999845</td>\n",
       "      <td>0.999642</td>\n",
       "      <td>1</td>\n",
       "      <td>74</td>\n",
       "      <td>427</td>\n",
       "      <td>...</td>\n",
       "      <td>0</td>\n",
       "      <td>0</td>\n",
       "      <td>0</td>\n",
       "      <td>0</td>\n",
       "      <td>1</td>\n",
       "      <td>0</td>\n",
       "      <td>0</td>\n",
       "      <td>0</td>\n",
       "      <td>0</td>\n",
       "      <td>0</td>\n",
       "    </tr>\n",
       "    <tr>\n",
       "      <th>2</th>\n",
       "      <td>24.95</td>\n",
       "      <td>19</td>\n",
       "      <td>17</td>\n",
       "      <td>0.894737</td>\n",
       "      <td>1</td>\n",
       "      <td>0.828281</td>\n",
       "      <td>0.999086</td>\n",
       "      <td>1</td>\n",
       "      <td>94</td>\n",
       "      <td>594</td>\n",
       "      <td>...</td>\n",
       "      <td>0</td>\n",
       "      <td>0</td>\n",
       "      <td>0</td>\n",
       "      <td>0</td>\n",
       "      <td>0</td>\n",
       "      <td>0</td>\n",
       "      <td>0</td>\n",
       "      <td>0</td>\n",
       "      <td>0</td>\n",
       "      <td>0</td>\n",
       "    </tr>\n",
       "    <tr>\n",
       "      <th>3</th>\n",
       "      <td>7.99</td>\n",
       "      <td>1</td>\n",
       "      <td>0</td>\n",
       "      <td>0.000000</td>\n",
       "      <td>1</td>\n",
       "      <td>0.995394</td>\n",
       "      <td>0.999014</td>\n",
       "      <td>1</td>\n",
       "      <td>142</td>\n",
       "      <td>901</td>\n",
       "      <td>...</td>\n",
       "      <td>0</td>\n",
       "      <td>0</td>\n",
       "      <td>0</td>\n",
       "      <td>0</td>\n",
       "      <td>0</td>\n",
       "      <td>0</td>\n",
       "      <td>0</td>\n",
       "      <td>0</td>\n",
       "      <td>0</td>\n",
       "      <td>0</td>\n",
       "    </tr>\n",
       "    <tr>\n",
       "      <th>4</th>\n",
       "      <td>32.50</td>\n",
       "      <td>20</td>\n",
       "      <td>18</td>\n",
       "      <td>0.900000</td>\n",
       "      <td>2</td>\n",
       "      <td>0.995729</td>\n",
       "      <td>0.999651</td>\n",
       "      <td>1</td>\n",
       "      <td>13</td>\n",
       "      <td>75</td>\n",
       "      <td>...</td>\n",
       "      <td>0</td>\n",
       "      <td>0</td>\n",
       "      <td>0</td>\n",
       "      <td>0</td>\n",
       "      <td>0</td>\n",
       "      <td>0</td>\n",
       "      <td>0</td>\n",
       "      <td>0</td>\n",
       "      <td>0</td>\n",
       "      <td>0</td>\n",
       "    </tr>\n",
       "  </tbody>\n",
       "</table>\n",
       "<p>5 rows × 241 columns</p>\n",
       "</div>"
      ],
      "text/plain": [
       "   price  total_reviews  helpful_reviews  percentage_helpful  author_count  \\\n",
       "0  10.88              3                2            0.666667             1   \n",
       "1   9.35              0                0            0.000000             1   \n",
       "2  24.95             19               17            0.894737             1   \n",
       "3   7.99              1                0            0.000000             1   \n",
       "4  32.50             20               18            0.900000             2   \n",
       "\n",
       "   score_text  score_description  sentiment_description_num  num_words  \\\n",
       "0    0.999283           0.999049                          1        318   \n",
       "1    0.999845           0.999642                          1         74   \n",
       "2    0.828281           0.999086                          1         94   \n",
       "3    0.995394           0.999014                          1        142   \n",
       "4    0.995729           0.999651                          1         13   \n",
       "\n",
       "   num_chars  ...  title_has_tea  title_has_art  title_has_adventure  \\\n",
       "0       1867  ...              0              0                    0   \n",
       "1        427  ...              0              0                    0   \n",
       "2        594  ...              0              0                    0   \n",
       "3        901  ...              0              0                    0   \n",
       "4         75  ...              0              0                    0   \n",
       "\n",
       "   title_has_love  title_has_family  title_has_spiritual  title_has_wind  \\\n",
       "0               0                 0                    0               0   \n",
       "1               0                 1                    0               0   \n",
       "2               0                 0                    0               0   \n",
       "3               0                 0                    0               0   \n",
       "4               0                 0                    0               0   \n",
       "\n",
       "   title_has_children  title_has_school  title_has_dummies  \n",
       "0                   0                 0                  0  \n",
       "1                   0                 0                  0  \n",
       "2                   0                 0                  0  \n",
       "3                   0                 0                  0  \n",
       "4                   0                 0                  0  \n",
       "\n",
       "[5 rows x 241 columns]"
      ]
     },
     "execution_count": 243,
     "metadata": {},
     "output_type": "execute_result"
    }
   ],
   "source": [
    "books.head()"
   ]
  },
  {
   "cell_type": "code",
   "execution_count": 286,
   "id": "34d3c741",
   "metadata": {},
   "outputs": [
    {
     "name": "stdout",
     "output_type": "stream",
     "text": [
      "<class 'pandas.core.frame.DataFrame'>\n",
      "RangeIndex: 15583 entries, 0 to 15582\n",
      "Columns: 241 entries, price to target\n",
      "dtypes: float64(5), int64(236)\n",
      "memory usage: 28.7 MB\n"
     ]
    }
   ],
   "source": [
    "books.to_csv(\"data/books_model_num.csv\", index=False)\n",
    "books.info()\n",
    "\n",
    "\n",
    "\n"
   ]
  },
  {
   "cell_type": "markdown",
   "id": "2c166b3c",
   "metadata": {},
   "source": [
    "# model"
   ]
  },
  {
   "cell_type": "code",
   "execution_count": 2,
   "id": "94b6e106",
   "metadata": {},
   "outputs": [
    {
     "name": "stdout",
     "output_type": "stream",
     "text": [
      "Accuracy: 0.7443054218800128\n",
      "ROC-AUC: 0.8156702301944974\n"
     ]
    }
   ],
   "source": [
    "from sklearn.model_selection import train_test_split\n",
    "from sklearn.metrics import accuracy_score, roc_auc_score\n",
    "import xgboost as xgb\n",
    "import pandas as pd\n",
    "\n",
    "# Features and target\n",
    "books = pd.read_csv(\"data/books_model_num.csv\")\n",
    "X = books.drop(columns='target')\n",
    "y = books['target']\n",
    "\n",
    "# Train/test split\n",
    "X_train, X_test, y_train, y_test = train_test_split(\n",
    "    X, y, test_size=0.2, random_state=42, stratify=y\n",
    ")\n",
    "\n",
    "# Ensure everything is numeric\n",
    "X_train = X_train.apply(pd.to_numeric, errors='raise')\n",
    "X_test  = X_test.apply(pd.to_numeric, errors='raise')\n",
    "\n",
    "# Ensure int/float\n",
    "X_train = X_train.astype(float)\n",
    "X_test  = X_test.astype(float)\n",
    "\n",
    "# XGBoost classifier\n",
    "xgb_model = xgb.XGBClassifier(\n",
    "    n_estimators=300,\n",
    "    max_depth=6,\n",
    "    learning_rate=0.05,\n",
    "    subsample=0.8,\n",
    "    colsample_bytree=0.8,\n",
    "    random_state=42,\n",
    "    eval_metric='logloss'\n",
    ")\n",
    "\n",
    "# Train\n",
    "xgb_model.fit(X_train, y_train)\n",
    "\n",
    "# Predict\n",
    "y_pred = xgb_model.predict(X_test)\n",
    "y_prob = xgb_model.predict_proba(X_test)[:,1]\n",
    "\n",
    "# Metrics\n",
    "print(\"Accuracy:\", accuracy_score(y_test, y_pred))\n",
    "print(\"ROC-AUC:\", roc_auc_score(y_test, y_prob))\n"
   ]
  },
  {
   "cell_type": "code",
   "execution_count": 5,
   "id": "60e702dd",
   "metadata": {},
   "outputs": [
    {
     "name": "stdout",
     "output_type": "stream",
     "text": [
      "['price', 'total_reviews', 'helpful_reviews', 'percentage_helpful', 'author_count', 'score_text', 'score_description', 'sentiment_description_num', 'num_words', 'num_chars', 'avg_word_len', 'description_has_children', 'description_has_classic', 'description_has_war', 'description_has_spiritual', 'description_has_family', 'description_has_teen', 'description_has_love', 'description_has_school', 'description_has_science', 'description_has_art', 'description_has_tea', 'description_has_sex', 'description_has_murder', 'description_has_history', 'description_has_nature', 'description_has_loss', 'description_has_rain', 'description_has_time', 'description_has_guide', 'sentiment_summary_num', 'sentiment_text_num', 'author_Ashley_Audrain', 'author_Catherine_Coulter', 'author_Charles_Dickens', 'author_Charlotte_Brontë', 'author_Christopher_Paolini', 'author_Donald_Miller', 'author_Gary_Chapman', 'author_Jim_Collins', 'author_Jonah_Goldberg', 'author_Julia_Quinn', 'author_Kate_Chopin', 'author_Leo_Bormans', 'author_Lewis_Carroll', 'author_Nicholas_Sparks', 'author_Nora_Roberts', 'author_Oscar_Wilde', 'author_Other', 'author_Patricia_Daniels_Cornwell', 'author_Sherry_Argov', 'author_Thomas_Hardy', 'author_Thomas_Harris', 'category_Biography_Autobiography', 'category_Body__Mind_Spirit', 'category_Business_Economics', 'category_Computers', 'category_Cooking', 'category_Education', 'category_Family_Relationships', 'category_Fiction', 'category_Health_Fitness', 'category_History', 'category_Juvenile_Fiction', 'category_Juvenile_Nonfiction', 'category_Music', 'category_Other', 'category_Political_Science', 'category_Psychology', 'category_Religion', 'category_Self-Help', 'category_Social_Science', 'category_Sports_Recreation', 'title_num_words', 'title_num_chars', 'title_has_education', 'title_has_young_adult', 'title_has_classic', 'title_has_dance', 'title_has_violence', 'title_has_guide', 'title_has_crafts', 'title_has_alcohol', 'title_has_gaming', 'title_has_moon', 'title_has_horror', 'title_has_college', 'title_has_mystery', 'title_has_snow', 'title_has_murder', 'title_has_erotica', 'title_has_science', 'title_has_humor', 'title_has_finance', 'title_has_dark', 'title_has_coach', 'title_has_university', 'title_has_music', 'title_has_victorian', 'title_has_food', 'title_has_summer', 'title_has_queer', 'title_has_prayer', 'title_has_sisters', 'title_has_war', 'title_has_dystopian', 'title_has_sex', 'title_has_binge', 'title_has_marriage', 'title_has_technology', 'title_has_travel', 'title_has_thriller', 'title_has_money', 'title_has_historical', 'title_has_coming-of-age', 'title_has_epic', 'title_has_comedy', 'title_has_cooking', 'title_has_history', 'title_has_sun', 'title_has_sucess', 'title_has_parenting', 'title_has_nature', 'title_has_mystical', 'title_has_magic', 'title_has_biography', 'title_has_drugs', 'title_has_paranormal', 'title_has_supernatural', 'title_has_friendship', 'title_has_romantic', 'title_has_drink', 'title_has_romance', 'title_has_mission', 'title_has_smoking', 'title_has_justice', 'title_has_manga', 'title_has_non-fiction', 'title_has_loss', 'title_has_memoir', 'title_has_plants', 'title_has_fantasy', 'title_has_drama', 'title_has_space', 'title_has_weather', 'title_has_pirate', 'title_has_grieve', 'title_has_fairy_tale', 'title_has_brothers', 'title_has_earth', 'title_has_planet', 'title_has_bible', 'title_has_philosophy', 'title_has_sci-fi', 'title_has_tragedy', 'title_has_rain', 'title_has_psychology', 'title_has_western', 'title_has_stars', 'title_has_poetry', 'title_has_heartbreak', 'title_has_self-help', 'title_has_mythology', 'title_has_melodrama', 'title_has_crime', 'title_has_sky', 'title_has_investing', 'title_has_science_fiction', 'title_has_theater', 'title_has_anime', 'title_has_political', 'title_has_workout', 'title_has_monster', 'title_has_galaxy', 'title_has_suspense', 'title_has_hobbies', 'title_has_religion', 'title_has_career', 'title_has_tv', 'title_has_dating', 'title_has_sister', 'title_has_winterautumn', 'title_has_time', 'title_has_tea', 'title_has_economy', 'title_has_clouds', 'title_has_art', 'title_has_punishment', 'title_has_colors', 'title_has_adventure', 'title_has_love', 'title_has_family', 'title_has_fetish', 'title_has_spiritual', 'title_has_coffee', 'title_has_media', 'title_has_wind', 'title_has_peace', 'title_has_trees', 'title_has_diy', 'title_has_literary', 'title_has_job', 'title_has_detective', 'title_has_relationships', 'title_has_comics', 'title_has_children', 'title_has_universe', 'title_has_animals', 'title_has_flowers', 'title_has_politics', 'title_has_teen', 'title_has_school', 'title_has_dummies', 'title_has_film', 'target']\n"
     ]
    }
   ],
   "source": [
    "print(list(books.columns))"
   ]
  },
  {
   "cell_type": "markdown",
   "id": "bc685790",
   "metadata": {},
   "source": [
    "## FEature importance"
   ]
  },
  {
   "cell_type": "code",
   "execution_count": 43,
   "id": "845c314f",
   "metadata": {},
   "outputs": [
    {
     "name": "stdout",
     "output_type": "stream",
     "text": [
      "Requirement already satisfied: matplotlib in /Users/sol/Code/datascience/good-books/.venv/lib/python3.9/site-packages (3.9.4)\n",
      "Requirement already satisfied: contourpy>=1.0.1 in /Users/sol/Code/datascience/good-books/.venv/lib/python3.9/site-packages (from matplotlib) (1.3.0)\n",
      "Requirement already satisfied: cycler>=0.10 in /Users/sol/Code/datascience/good-books/.venv/lib/python3.9/site-packages (from matplotlib) (0.12.1)\n",
      "Requirement already satisfied: fonttools>=4.22.0 in /Users/sol/Code/datascience/good-books/.venv/lib/python3.9/site-packages (from matplotlib) (4.59.2)\n",
      "Requirement already satisfied: kiwisolver>=1.3.1 in /Users/sol/Code/datascience/good-books/.venv/lib/python3.9/site-packages (from matplotlib) (1.4.7)\n",
      "Requirement already satisfied: numpy>=1.23 in /Users/sol/Code/datascience/good-books/.venv/lib/python3.9/site-packages (from matplotlib) (2.0.2)\n",
      "Requirement already satisfied: packaging>=20.0 in /Users/sol/Code/datascience/good-books/.venv/lib/python3.9/site-packages (from matplotlib) (25.0)\n",
      "Requirement already satisfied: pillow>=8 in /Users/sol/Code/datascience/good-books/.venv/lib/python3.9/site-packages (from matplotlib) (11.3.0)\n",
      "Requirement already satisfied: pyparsing>=2.3.1 in /Users/sol/Code/datascience/good-books/.venv/lib/python3.9/site-packages (from matplotlib) (3.2.3)\n",
      "Requirement already satisfied: python-dateutil>=2.7 in /Users/sol/Code/datascience/good-books/.venv/lib/python3.9/site-packages (from matplotlib) (2.9.0.post0)\n",
      "Requirement already satisfied: importlib-resources>=3.2.0 in /Users/sol/Code/datascience/good-books/.venv/lib/python3.9/site-packages (from matplotlib) (6.5.2)\n",
      "Requirement already satisfied: zipp>=3.1.0 in /Users/sol/Code/datascience/good-books/.venv/lib/python3.9/site-packages (from importlib-resources>=3.2.0->matplotlib) (3.23.0)\n",
      "Requirement already satisfied: six>=1.5 in /Users/sol/Code/datascience/good-books/.venv/lib/python3.9/site-packages (from python-dateutil>=2.7->matplotlib) (1.17.0)\n"
     ]
    }
   ],
   "source": [
    "!pip install matplotlib"
   ]
  },
  {
   "cell_type": "code",
   "execution_count": 44,
   "id": "14ee9003",
   "metadata": {},
   "outputs": [
    {
     "ename": "ValueError",
     "evalue": "Length of values (15) does not match length of index (214)",
     "output_type": "error",
     "traceback": [
      "\u001b[0;31m---------------------------------------------------------------------------\u001b[0m",
      "\u001b[0;31mValueError\u001b[0m                                Traceback (most recent call last)",
      "Cell \u001b[0;32mIn[44], line 5\u001b[0m\n\u001b[1;32m      2\u001b[0m \u001b[38;5;28;01mimport\u001b[39;00m\u001b[38;5;250m \u001b[39m\u001b[38;5;21;01mmatplotlib\u001b[39;00m\u001b[38;5;21;01m.\u001b[39;00m\u001b[38;5;21;01mpyplot\u001b[39;00m\u001b[38;5;250m \u001b[39m\u001b[38;5;28;01mas\u001b[39;00m\u001b[38;5;250m \u001b[39m\u001b[38;5;21;01mplt\u001b[39;00m\n\u001b[1;32m      4\u001b[0m \u001b[38;5;66;03m# Get feature importances\u001b[39;00m\n\u001b[0;32m----> 5\u001b[0m importances \u001b[38;5;241m=\u001b[39m \u001b[43mpd\u001b[49m\u001b[38;5;241;43m.\u001b[39;49m\u001b[43mSeries\u001b[49m\u001b[43m(\u001b[49m\u001b[43mxgb_model\u001b[49m\u001b[38;5;241;43m.\u001b[39;49m\u001b[43mfeature_importances_\u001b[49m\u001b[43m,\u001b[49m\u001b[43m \u001b[49m\u001b[43mindex\u001b[49m\u001b[38;5;241;43m=\u001b[39;49m\u001b[43mX_train\u001b[49m\u001b[38;5;241;43m.\u001b[39;49m\u001b[43mcolumns\u001b[49m\u001b[43m)\u001b[49m\n\u001b[1;32m      7\u001b[0m \u001b[38;5;66;03m# Sort descending\u001b[39;00m\n\u001b[1;32m      8\u001b[0m importances \u001b[38;5;241m=\u001b[39m importances\u001b[38;5;241m.\u001b[39msort_values(ascending\u001b[38;5;241m=\u001b[39m\u001b[38;5;28;01mFalse\u001b[39;00m)\n",
      "File \u001b[0;32m~/Code/datascience/good-books/.venv/lib/python3.9/site-packages/pandas/core/series.py:575\u001b[0m, in \u001b[0;36mSeries.__init__\u001b[0;34m(self, data, index, dtype, name, copy, fastpath)\u001b[0m\n\u001b[1;32m    573\u001b[0m     index \u001b[38;5;241m=\u001b[39m default_index(\u001b[38;5;28mlen\u001b[39m(data))\n\u001b[1;32m    574\u001b[0m \u001b[38;5;28;01melif\u001b[39;00m is_list_like(data):\n\u001b[0;32m--> 575\u001b[0m     \u001b[43mcom\u001b[49m\u001b[38;5;241;43m.\u001b[39;49m\u001b[43mrequire_length_match\u001b[49m\u001b[43m(\u001b[49m\u001b[43mdata\u001b[49m\u001b[43m,\u001b[49m\u001b[43m \u001b[49m\u001b[43mindex\u001b[49m\u001b[43m)\u001b[49m\n\u001b[1;32m    577\u001b[0m \u001b[38;5;66;03m# create/copy the manager\u001b[39;00m\n\u001b[1;32m    578\u001b[0m \u001b[38;5;28;01mif\u001b[39;00m \u001b[38;5;28misinstance\u001b[39m(data, (SingleBlockManager, SingleArrayManager)):\n",
      "File \u001b[0;32m~/Code/datascience/good-books/.venv/lib/python3.9/site-packages/pandas/core/common.py:573\u001b[0m, in \u001b[0;36mrequire_length_match\u001b[0;34m(data, index)\u001b[0m\n\u001b[1;32m    569\u001b[0m \u001b[38;5;250m\u001b[39m\u001b[38;5;124;03m\"\"\"\u001b[39;00m\n\u001b[1;32m    570\u001b[0m \u001b[38;5;124;03mCheck the length of data matches the length of the index.\u001b[39;00m\n\u001b[1;32m    571\u001b[0m \u001b[38;5;124;03m\"\"\"\u001b[39;00m\n\u001b[1;32m    572\u001b[0m \u001b[38;5;28;01mif\u001b[39;00m \u001b[38;5;28mlen\u001b[39m(data) \u001b[38;5;241m!=\u001b[39m \u001b[38;5;28mlen\u001b[39m(index):\n\u001b[0;32m--> 573\u001b[0m     \u001b[38;5;28;01mraise\u001b[39;00m \u001b[38;5;167;01mValueError\u001b[39;00m(\n\u001b[1;32m    574\u001b[0m         \u001b[38;5;124m\"\u001b[39m\u001b[38;5;124mLength of values \u001b[39m\u001b[38;5;124m\"\u001b[39m\n\u001b[1;32m    575\u001b[0m         \u001b[38;5;124mf\u001b[39m\u001b[38;5;124m\"\u001b[39m\u001b[38;5;124m(\u001b[39m\u001b[38;5;132;01m{\u001b[39;00m\u001b[38;5;28mlen\u001b[39m(data)\u001b[38;5;132;01m}\u001b[39;00m\u001b[38;5;124m) \u001b[39m\u001b[38;5;124m\"\u001b[39m\n\u001b[1;32m    576\u001b[0m         \u001b[38;5;124m\"\u001b[39m\u001b[38;5;124mdoes not match length of index \u001b[39m\u001b[38;5;124m\"\u001b[39m\n\u001b[1;32m    577\u001b[0m         \u001b[38;5;124mf\u001b[39m\u001b[38;5;124m\"\u001b[39m\u001b[38;5;124m(\u001b[39m\u001b[38;5;132;01m{\u001b[39;00m\u001b[38;5;28mlen\u001b[39m(index)\u001b[38;5;132;01m}\u001b[39;00m\u001b[38;5;124m)\u001b[39m\u001b[38;5;124m\"\u001b[39m\n\u001b[1;32m    578\u001b[0m     )\n",
      "\u001b[0;31mValueError\u001b[0m: Length of values (15) does not match length of index (214)"
     ]
    }
   ],
   "source": [
    "import pandas as pd\n",
    "import matplotlib.pyplot as plt\n",
    "\n",
    "# Get feature importances\n",
    "importances = pd.Series(xgb_model.feature_importances_, index=X_train.columns)\n",
    "\n",
    "# Sort descending\n",
    "importances = importances.sort_values(ascending=False)\n",
    "\n",
    "# Show top 20\n",
    "print(importances.head(20))\n",
    "\n",
    "# Optional: plot\n",
    "plt.figure(figsize=(10,6))\n",
    "importances.head(20).plot(kind='barh')\n",
    "plt.gca().invert_yaxis()\n",
    "plt.title(\"Top 20 Feature Importances\")\n",
    "plt.show()\n"
   ]
  },
  {
   "cell_type": "code",
   "execution_count": null,
   "id": "a1c5bfd8",
   "metadata": {},
   "outputs": [
    {
     "name": "stdout",
     "output_type": "stream",
     "text": [
      "                   feature  importance\n",
      "5               score_text      1419.0\n",
      "0                    price      1020.0\n",
      "6        score_description      1000.0\n",
      "10            avg_word_len       896.0\n",
      "68         title_num_chars       848.0\n",
      "8                num_words       659.0\n",
      "9                num_chars       647.0\n",
      "1            total_reviews       620.0\n",
      "3       percentage_helpful       594.0\n",
      "67         title_num_words       417.0\n",
      "2          helpful_reviews       381.0\n",
      "30   sentiment_summary_num       151.0\n",
      "31      sentiment_text_num       112.0\n",
      "54        category_Fiction        98.0\n",
      "20     description_has_art        91.0\n",
      "28    description_has_time        75.0\n",
      "13     description_has_war        74.0\n",
      "29   description_has_guide        66.0\n",
      "15  description_has_family        64.0\n",
      "60          category_Other        61.0\n"
     ]
    }
   ],
   "source": [
    "import pandas as pd\n",
    "import matplotlib.pyplot as plt\n",
    "\n",
    "# Get importance\n",
    "importance = xgb_model.get_booster().get_score(importance_type='weight')\n",
    "\n",
    "# Convert to DataFrame\n",
    "importance_df = pd.DataFrame({\n",
    "    'feature': list(importance.keys()),\n",
    "    'importance': list(importance.values())\n",
    "}).sort_values(by='importance', ascending=False)\n",
    "\n",
    "# Quick look at top features\n",
    "print(importance_df.head(20))\n"
   ]
  },
  {
   "cell_type": "code",
   "execution_count": null,
   "id": "73f23519",
   "metadata": {},
   "outputs": [
    {
     "data": {
      "application/vnd.plotly.v1+json": {
       "config": {
        "plotlyServerURL": "https://plot.ly"
       },
       "data": [
        {
         "hovertemplate": "importance=%{text}<br>feature=%{y}<extra></extra>",
         "legendgroup": "",
         "marker": {
          "color": "#636efa",
          "pattern": {
           "shape": ""
          }
         },
         "name": "",
         "orientation": "h",
         "showlegend": false,
         "text": {
          "bdata": "AAAAAAAslkAAAAAAAOCPQAAAAAAAQI9AAAAAAAAAjEAAAAAAAICKQAAAAAAAmIRAAAAAAAA4hEAAAAAAAGCDQAAAAAAAkIJAAAAAAAAQekAAAAAAANB3QAAAAAAA4GJAAAAAAAAAXEAAAAAAAIBYQAAAAAAAwFZAAAAAAADAUkAAAAAAAIBSQAAAAAAAgFBAAAAAAAAAUEAAAAAAAIBOQAAAAAAAAE1AAAAAAACAS0AAAAAAAIBKQAAAAAAAgEdAAAAAAAAARkAAAAAAAIBEQAAAAAAAgERAAAAAAACAREAAAAAAAABEQAAAAAAAAERA",
          "dtype": "f8"
         },
         "textposition": "auto",
         "type": "bar",
         "x": {
          "bdata": "AAAAAAAslkAAAAAAAOCPQAAAAAAAQI9AAAAAAAAAjEAAAAAAAICKQAAAAAAAmIRAAAAAAAA4hEAAAAAAAGCDQAAAAAAAkIJAAAAAAAAQekAAAAAAANB3QAAAAAAA4GJAAAAAAAAAXEAAAAAAAIBYQAAAAAAAwFZAAAAAAADAUkAAAAAAAIBSQAAAAAAAgFBAAAAAAAAAUEAAAAAAAIBOQAAAAAAAAE1AAAAAAACAS0AAAAAAAIBKQAAAAAAAgEdAAAAAAAAARkAAAAAAAIBEQAAAAAAAgERAAAAAAACAREAAAAAAAABEQAAAAAAAAERA",
          "dtype": "f8"
         },
         "xaxis": "x",
         "y": [
          "score_text",
          "price",
          "score_description",
          "avg_word_len",
          "title_num_chars",
          "num_words",
          "num_chars",
          "total_reviews",
          "percentage_helpful",
          "title_num_words",
          "helpful_reviews",
          "sentiment_summary_num",
          "sentiment_text_num",
          "category_Fiction",
          "description_has_art",
          "description_has_time",
          "description_has_war",
          "description_has_guide",
          "description_has_family",
          "category_Other",
          "author_count",
          "description_has_love",
          "description_has_tea",
          "description_has_history",
          "sentiment_description_num",
          "description_has_children",
          "category_Religion",
          "description_has_loss",
          "description_has_rain",
          "category_Juvenile_Nonfiction"
         ],
         "yaxis": "y"
        }
       ],
       "layout": {
        "barmode": "relative",
        "legend": {
         "tracegroupgap": 0
        },
        "margin": {
         "t": 60
        },
        "template": {
         "data": {
          "bar": [
           {
            "error_x": {
             "color": "#2a3f5f"
            },
            "error_y": {
             "color": "#2a3f5f"
            },
            "marker": {
             "line": {
              "color": "#E5ECF6",
              "width": 0.5
             },
             "pattern": {
              "fillmode": "overlay",
              "size": 10,
              "solidity": 0.2
             }
            },
            "type": "bar"
           }
          ],
          "barpolar": [
           {
            "marker": {
             "line": {
              "color": "#E5ECF6",
              "width": 0.5
             },
             "pattern": {
              "fillmode": "overlay",
              "size": 10,
              "solidity": 0.2
             }
            },
            "type": "barpolar"
           }
          ],
          "carpet": [
           {
            "aaxis": {
             "endlinecolor": "#2a3f5f",
             "gridcolor": "white",
             "linecolor": "white",
             "minorgridcolor": "white",
             "startlinecolor": "#2a3f5f"
            },
            "baxis": {
             "endlinecolor": "#2a3f5f",
             "gridcolor": "white",
             "linecolor": "white",
             "minorgridcolor": "white",
             "startlinecolor": "#2a3f5f"
            },
            "type": "carpet"
           }
          ],
          "choropleth": [
           {
            "colorbar": {
             "outlinewidth": 0,
             "ticks": ""
            },
            "type": "choropleth"
           }
          ],
          "contour": [
           {
            "colorbar": {
             "outlinewidth": 0,
             "ticks": ""
            },
            "colorscale": [
             [
              0,
              "#0d0887"
             ],
             [
              0.1111111111111111,
              "#46039f"
             ],
             [
              0.2222222222222222,
              "#7201a8"
             ],
             [
              0.3333333333333333,
              "#9c179e"
             ],
             [
              0.4444444444444444,
              "#bd3786"
             ],
             [
              0.5555555555555556,
              "#d8576b"
             ],
             [
              0.6666666666666666,
              "#ed7953"
             ],
             [
              0.7777777777777778,
              "#fb9f3a"
             ],
             [
              0.8888888888888888,
              "#fdca26"
             ],
             [
              1,
              "#f0f921"
             ]
            ],
            "type": "contour"
           }
          ],
          "contourcarpet": [
           {
            "colorbar": {
             "outlinewidth": 0,
             "ticks": ""
            },
            "type": "contourcarpet"
           }
          ],
          "heatmap": [
           {
            "colorbar": {
             "outlinewidth": 0,
             "ticks": ""
            },
            "colorscale": [
             [
              0,
              "#0d0887"
             ],
             [
              0.1111111111111111,
              "#46039f"
             ],
             [
              0.2222222222222222,
              "#7201a8"
             ],
             [
              0.3333333333333333,
              "#9c179e"
             ],
             [
              0.4444444444444444,
              "#bd3786"
             ],
             [
              0.5555555555555556,
              "#d8576b"
             ],
             [
              0.6666666666666666,
              "#ed7953"
             ],
             [
              0.7777777777777778,
              "#fb9f3a"
             ],
             [
              0.8888888888888888,
              "#fdca26"
             ],
             [
              1,
              "#f0f921"
             ]
            ],
            "type": "heatmap"
           }
          ],
          "histogram": [
           {
            "marker": {
             "pattern": {
              "fillmode": "overlay",
              "size": 10,
              "solidity": 0.2
             }
            },
            "type": "histogram"
           }
          ],
          "histogram2d": [
           {
            "colorbar": {
             "outlinewidth": 0,
             "ticks": ""
            },
            "colorscale": [
             [
              0,
              "#0d0887"
             ],
             [
              0.1111111111111111,
              "#46039f"
             ],
             [
              0.2222222222222222,
              "#7201a8"
             ],
             [
              0.3333333333333333,
              "#9c179e"
             ],
             [
              0.4444444444444444,
              "#bd3786"
             ],
             [
              0.5555555555555556,
              "#d8576b"
             ],
             [
              0.6666666666666666,
              "#ed7953"
             ],
             [
              0.7777777777777778,
              "#fb9f3a"
             ],
             [
              0.8888888888888888,
              "#fdca26"
             ],
             [
              1,
              "#f0f921"
             ]
            ],
            "type": "histogram2d"
           }
          ],
          "histogram2dcontour": [
           {
            "colorbar": {
             "outlinewidth": 0,
             "ticks": ""
            },
            "colorscale": [
             [
              0,
              "#0d0887"
             ],
             [
              0.1111111111111111,
              "#46039f"
             ],
             [
              0.2222222222222222,
              "#7201a8"
             ],
             [
              0.3333333333333333,
              "#9c179e"
             ],
             [
              0.4444444444444444,
              "#bd3786"
             ],
             [
              0.5555555555555556,
              "#d8576b"
             ],
             [
              0.6666666666666666,
              "#ed7953"
             ],
             [
              0.7777777777777778,
              "#fb9f3a"
             ],
             [
              0.8888888888888888,
              "#fdca26"
             ],
             [
              1,
              "#f0f921"
             ]
            ],
            "type": "histogram2dcontour"
           }
          ],
          "mesh3d": [
           {
            "colorbar": {
             "outlinewidth": 0,
             "ticks": ""
            },
            "type": "mesh3d"
           }
          ],
          "parcoords": [
           {
            "line": {
             "colorbar": {
              "outlinewidth": 0,
              "ticks": ""
             }
            },
            "type": "parcoords"
           }
          ],
          "pie": [
           {
            "automargin": true,
            "type": "pie"
           }
          ],
          "scatter": [
           {
            "fillpattern": {
             "fillmode": "overlay",
             "size": 10,
             "solidity": 0.2
            },
            "type": "scatter"
           }
          ],
          "scatter3d": [
           {
            "line": {
             "colorbar": {
              "outlinewidth": 0,
              "ticks": ""
             }
            },
            "marker": {
             "colorbar": {
              "outlinewidth": 0,
              "ticks": ""
             }
            },
            "type": "scatter3d"
           }
          ],
          "scattercarpet": [
           {
            "marker": {
             "colorbar": {
              "outlinewidth": 0,
              "ticks": ""
             }
            },
            "type": "scattercarpet"
           }
          ],
          "scattergeo": [
           {
            "marker": {
             "colorbar": {
              "outlinewidth": 0,
              "ticks": ""
             }
            },
            "type": "scattergeo"
           }
          ],
          "scattergl": [
           {
            "marker": {
             "colorbar": {
              "outlinewidth": 0,
              "ticks": ""
             }
            },
            "type": "scattergl"
           }
          ],
          "scattermap": [
           {
            "marker": {
             "colorbar": {
              "outlinewidth": 0,
              "ticks": ""
             }
            },
            "type": "scattermap"
           }
          ],
          "scattermapbox": [
           {
            "marker": {
             "colorbar": {
              "outlinewidth": 0,
              "ticks": ""
             }
            },
            "type": "scattermapbox"
           }
          ],
          "scatterpolar": [
           {
            "marker": {
             "colorbar": {
              "outlinewidth": 0,
              "ticks": ""
             }
            },
            "type": "scatterpolar"
           }
          ],
          "scatterpolargl": [
           {
            "marker": {
             "colorbar": {
              "outlinewidth": 0,
              "ticks": ""
             }
            },
            "type": "scatterpolargl"
           }
          ],
          "scatterternary": [
           {
            "marker": {
             "colorbar": {
              "outlinewidth": 0,
              "ticks": ""
             }
            },
            "type": "scatterternary"
           }
          ],
          "surface": [
           {
            "colorbar": {
             "outlinewidth": 0,
             "ticks": ""
            },
            "colorscale": [
             [
              0,
              "#0d0887"
             ],
             [
              0.1111111111111111,
              "#46039f"
             ],
             [
              0.2222222222222222,
              "#7201a8"
             ],
             [
              0.3333333333333333,
              "#9c179e"
             ],
             [
              0.4444444444444444,
              "#bd3786"
             ],
             [
              0.5555555555555556,
              "#d8576b"
             ],
             [
              0.6666666666666666,
              "#ed7953"
             ],
             [
              0.7777777777777778,
              "#fb9f3a"
             ],
             [
              0.8888888888888888,
              "#fdca26"
             ],
             [
              1,
              "#f0f921"
             ]
            ],
            "type": "surface"
           }
          ],
          "table": [
           {
            "cells": {
             "fill": {
              "color": "#EBF0F8"
             },
             "line": {
              "color": "white"
             }
            },
            "header": {
             "fill": {
              "color": "#C8D4E3"
             },
             "line": {
              "color": "white"
             }
            },
            "type": "table"
           }
          ]
         },
         "layout": {
          "annotationdefaults": {
           "arrowcolor": "#2a3f5f",
           "arrowhead": 0,
           "arrowwidth": 1
          },
          "autotypenumbers": "strict",
          "coloraxis": {
           "colorbar": {
            "outlinewidth": 0,
            "ticks": ""
           }
          },
          "colorscale": {
           "diverging": [
            [
             0,
             "#8e0152"
            ],
            [
             0.1,
             "#c51b7d"
            ],
            [
             0.2,
             "#de77ae"
            ],
            [
             0.3,
             "#f1b6da"
            ],
            [
             0.4,
             "#fde0ef"
            ],
            [
             0.5,
             "#f7f7f7"
            ],
            [
             0.6,
             "#e6f5d0"
            ],
            [
             0.7,
             "#b8e186"
            ],
            [
             0.8,
             "#7fbc41"
            ],
            [
             0.9,
             "#4d9221"
            ],
            [
             1,
             "#276419"
            ]
           ],
           "sequential": [
            [
             0,
             "#0d0887"
            ],
            [
             0.1111111111111111,
             "#46039f"
            ],
            [
             0.2222222222222222,
             "#7201a8"
            ],
            [
             0.3333333333333333,
             "#9c179e"
            ],
            [
             0.4444444444444444,
             "#bd3786"
            ],
            [
             0.5555555555555556,
             "#d8576b"
            ],
            [
             0.6666666666666666,
             "#ed7953"
            ],
            [
             0.7777777777777778,
             "#fb9f3a"
            ],
            [
             0.8888888888888888,
             "#fdca26"
            ],
            [
             1,
             "#f0f921"
            ]
           ],
           "sequentialminus": [
            [
             0,
             "#0d0887"
            ],
            [
             0.1111111111111111,
             "#46039f"
            ],
            [
             0.2222222222222222,
             "#7201a8"
            ],
            [
             0.3333333333333333,
             "#9c179e"
            ],
            [
             0.4444444444444444,
             "#bd3786"
            ],
            [
             0.5555555555555556,
             "#d8576b"
            ],
            [
             0.6666666666666666,
             "#ed7953"
            ],
            [
             0.7777777777777778,
             "#fb9f3a"
            ],
            [
             0.8888888888888888,
             "#fdca26"
            ],
            [
             1,
             "#f0f921"
            ]
           ]
          },
          "colorway": [
           "#636efa",
           "#EF553B",
           "#00cc96",
           "#ab63fa",
           "#FFA15A",
           "#19d3f3",
           "#FF6692",
           "#B6E880",
           "#FF97FF",
           "#FECB52"
          ],
          "font": {
           "color": "#2a3f5f"
          },
          "geo": {
           "bgcolor": "white",
           "lakecolor": "white",
           "landcolor": "#E5ECF6",
           "showlakes": true,
           "showland": true,
           "subunitcolor": "white"
          },
          "hoverlabel": {
           "align": "left"
          },
          "hovermode": "closest",
          "mapbox": {
           "style": "light"
          },
          "paper_bgcolor": "white",
          "plot_bgcolor": "#E5ECF6",
          "polar": {
           "angularaxis": {
            "gridcolor": "white",
            "linecolor": "white",
            "ticks": ""
           },
           "bgcolor": "#E5ECF6",
           "radialaxis": {
            "gridcolor": "white",
            "linecolor": "white",
            "ticks": ""
           }
          },
          "scene": {
           "xaxis": {
            "backgroundcolor": "#E5ECF6",
            "gridcolor": "white",
            "gridwidth": 2,
            "linecolor": "white",
            "showbackground": true,
            "ticks": "",
            "zerolinecolor": "white"
           },
           "yaxis": {
            "backgroundcolor": "#E5ECF6",
            "gridcolor": "white",
            "gridwidth": 2,
            "linecolor": "white",
            "showbackground": true,
            "ticks": "",
            "zerolinecolor": "white"
           },
           "zaxis": {
            "backgroundcolor": "#E5ECF6",
            "gridcolor": "white",
            "gridwidth": 2,
            "linecolor": "white",
            "showbackground": true,
            "ticks": "",
            "zerolinecolor": "white"
           }
          },
          "shapedefaults": {
           "line": {
            "color": "#2a3f5f"
           }
          },
          "ternary": {
           "aaxis": {
            "gridcolor": "white",
            "linecolor": "white",
            "ticks": ""
           },
           "baxis": {
            "gridcolor": "white",
            "linecolor": "white",
            "ticks": ""
           },
           "bgcolor": "#E5ECF6",
           "caxis": {
            "gridcolor": "white",
            "linecolor": "white",
            "ticks": ""
           }
          },
          "title": {
           "x": 0.05
          },
          "xaxis": {
           "automargin": true,
           "gridcolor": "white",
           "linecolor": "white",
           "ticks": "",
           "title": {
            "standoff": 15
           },
           "zerolinecolor": "white",
           "zerolinewidth": 2
          },
          "yaxis": {
           "automargin": true,
           "gridcolor": "white",
           "linecolor": "white",
           "ticks": "",
           "title": {
            "standoff": 15
           },
           "zerolinecolor": "white",
           "zerolinewidth": 2
          }
         }
        },
        "xaxis": {
         "anchor": "y",
         "domain": [
          0,
          1
         ],
         "title": {
          "text": "importance"
         }
        },
        "yaxis": {
         "anchor": "x",
         "autorange": "reversed",
         "domain": [
          0,
          1
         ],
         "title": {
          "text": "feature"
         }
        }
       }
      }
     },
     "metadata": {},
     "output_type": "display_data"
    }
   ],
   "source": [
    "import plotly.express as px\n",
    "\n",
    "top_features = importance_df.head(30)  # show top 30\n",
    "fig = px.bar(\n",
    "    top_features,\n",
    "    x='importance',\n",
    "    y='feature',\n",
    "    orientation='h',\n",
    "    text='importance'\n",
    ")\n",
    "fig.update_layout(yaxis=dict(autorange=\"reversed\"))\n",
    "fig.show()\n"
   ]
  },
  {
   "cell_type": "code",
   "execution_count": null,
   "id": "7b0c1a5d",
   "metadata": {},
   "outputs": [],
   "source": [
    "top_features = [\n",
    "    'score_text', 'price', 'score_description', 'avg_word_len',\n",
    "    'title_num_chars', 'num_words', 'num_chars', 'total_reviews',\n",
    "    'percentage_helpful', 'title_num_words', 'helpful_reviews'\n",
    "]\n"
   ]
  },
  {
   "cell_type": "code",
   "execution_count": null,
   "id": "13f8da25",
   "metadata": {},
   "outputs": [
    {
     "name": "stdout",
     "output_type": "stream",
     "text": [
      "Accuracy: 0.7244145011228745\n",
      "ROC-AUC: 0.7380577443648083\n"
     ]
    }
   ],
   "source": [
    "X_reduced = X_train[top_features]\n",
    "X_test_reduced = X_test[top_features]\n",
    "\n",
    "xgb_model.fit(X_reduced, y_train)\n",
    "y_pred = xgb_model.predict(X_test_reduced)\n",
    "y_prob = xgb_model.predict_proba(X_test_reduced)[:,1]\n",
    "\n",
    "from sklearn.metrics import accuracy_score, roc_auc_score\n",
    "print(\"Accuracy:\", accuracy_score(y_test, y_pred))\n",
    "print(\"ROC-AUC:\", roc_auc_score(y_test, y_prob))\n"
   ]
  },
  {
   "cell_type": "code",
   "execution_count": null,
   "id": "49953bfa",
   "metadata": {},
   "outputs": [
    {
     "name": "stdout",
     "output_type": "stream",
     "text": [
      "Accuracy: 0.7443054218800128\n",
      "ROC-AUC: 0.8156702301944974\n",
      "Top features:\n",
      "                      feature  importance\n",
      "5                 score_text      1419.0\n",
      "0                      price      1020.0\n",
      "6          score_description      1000.0\n",
      "10  description_avg_word_len       896.0\n",
      "68           title_num_chars       848.0\n",
      "8      description_num_words       659.0\n",
      "9      description_num_chars       647.0\n",
      "1              total_reviews       620.0\n",
      "3         percentage_helpful       594.0\n",
      "67           title_num_words       417.0\n",
      "2            helpful_reviews       381.0\n",
      "30     sentiment_summary_num       151.0\n",
      "31        sentiment_text_num       112.0\n",
      "54          category_Fiction        98.0\n",
      "20       description_has_art        91.0\n",
      "28      description_has_time        75.0\n",
      "13       description_has_war        74.0\n",
      "29     description_has_guide        66.0\n",
      "15    description_has_family        64.0\n",
      "60            category_Other        61.0\n",
      "\n",
      "Selected features: ['score_text', 'price', 'score_description', 'description_avg_word_len', 'title_num_chars', 'description_num_words', 'description_num_chars', 'total_reviews', 'percentage_helpful', 'title_num_words', 'helpful_reviews', 'sentiment_summary_num', 'sentiment_text_num', 'category_Fiction', 'description_has_art', 'description_has_time', 'description_has_war', 'description_has_guide', 'description_has_family', 'category_Other', 'author_count', 'description_has_love', 'description_has_tea']\n"
     ]
    }
   ],
   "source": [
    "from sklearn.model_selection import train_test_split\n",
    "from sklearn.metrics import accuracy_score, roc_auc_score\n",
    "import xgboost as xgb\n",
    "import pandas as pd\n",
    "\n",
    "# Load data\n",
    "books = pd.read_csv(\"data/books_model_num.csv\")\n",
    "\n",
    "# Features and target\n",
    "X = books.drop(columns='target')\n",
    "y = books['target']\n",
    "\n",
    "# Train/test split\n",
    "X_train, X_test, y_train, y_test = train_test_split(\n",
    "    X, y, test_size=0.2, random_state=42, stratify=y\n",
    ")\n",
    "\n",
    "# Ensure all numeric\n",
    "X_train = X_train.apply(pd.to_numeric, errors='raise').astype(float)\n",
    "X_test  = X_test.apply(pd.to_numeric, errors='raise').astype(float)\n",
    "\n",
    "# XGBoost classifier\n",
    "xgb_model = xgb.XGBClassifier(\n",
    "    n_estimators=300,\n",
    "    max_depth=6,\n",
    "    learning_rate=0.05,\n",
    "    subsample=0.8,\n",
    "    colsample_bytree=0.8,\n",
    "    random_state=42,\n",
    "    eval_metric='logloss'\n",
    ")\n",
    "\n",
    "# Train model\n",
    "xgb_model.fit(X_train, y_train)\n",
    "\n",
    "# Predictions\n",
    "y_pred = xgb_model.predict(X_test)\n",
    "y_prob = xgb_model.predict_proba(X_test)[:,1]\n",
    "\n",
    "# Metrics\n",
    "print(\"Accuracy:\", accuracy_score(y_test, y_pred))\n",
    "print(\"ROC-AUC:\", roc_auc_score(y_test, y_prob))\n",
    "\n",
    "# Get feature importance safely\n",
    "booster = xgb_model.get_booster()\n",
    "importance_dict = booster.get_score(importance_type='weight')  # or 'gain', 'cover'\n",
    "\n",
    "# Convert to DataFrame and match with X_train columns\n",
    "importance_df = pd.DataFrame({\n",
    "    'feature': list(importance_dict.keys()),\n",
    "    'importance': list(importance_dict.values())\n",
    "}).sort_values(by='importance', ascending=False)\n",
    "\n",
    "print(\"Top features:\\n\", importance_df.head(20))\n",
    "\n",
    "# Optional: keep only features above a threshold\n",
    "threshold = 50  # adjust as needed\n",
    "important_features = importance_df[importance_df['importance'] > threshold]['feature'].tolist()\n",
    "\n",
    "print(\"\\nSelected features:\", important_features)\n"
   ]
  },
  {
   "cell_type": "code",
   "execution_count": null,
   "id": "e44ed90e",
   "metadata": {},
   "outputs": [
    {
     "name": "stdout",
     "output_type": "stream",
     "text": [
      "Accuracy: 0.7561758100737889\n",
      "ROC-AUC: 0.8191564513645244\n"
     ]
    }
   ],
   "source": [
    "X_train_sel = X_train[important_features]\n",
    "X_test_sel  = X_test[important_features]\n",
    "\n",
    "xgb_model.fit(X_train_sel, y_train)\n",
    "y_pred_sel = xgb_model.predict(X_test_sel)\n",
    "y_prob_sel = xgb_model.predict_proba(X_test_sel)[:,1]\n",
    "\n",
    "print(\"Accuracy:\", accuracy_score(y_test, y_pred_sel))\n",
    "print(\"ROC-AUC:\", roc_auc_score(y_test, y_prob_sel))\n"
   ]
  },
  {
   "cell_type": "code",
   "execution_count": null,
   "id": "ae8f68c2",
   "metadata": {},
   "outputs": [
    {
     "data": {
      "application/vnd.plotly.v1+json": {
       "config": {
        "plotlyServerURL": "https://plot.ly"
       },
       "data": [
        {
         "hovertemplate": "importance=%{text}<br>feature=%{y}<extra></extra>",
         "legendgroup": "",
         "marker": {
          "color": "#636efa",
          "pattern": {
           "shape": ""
          }
         },
         "name": "",
         "orientation": "h",
         "showlegend": false,
         "text": {
          "bdata": "AAAAAAAA8D8AAAAAAADwPwAAAAAAAPA/AAAAAAAA8D8AAAAAAADwPwAAAAAAAPA/AAAAAAAA8D8AAAAAAADwPwAAAAAAAPA/AAAAAAAA8D8AAAAAAADwPwAAAAAAAPA/AAAAAAAA8D8AAAAAAADwPwAAAAAAAPA/AAAAAAAA8D8AAAAAAADwPwAAAAAAAABAAAAAAAAAAEAAAAAAAAAAQAAAAAAAAABAAAAAAAAAAEAAAAAAAAAAQAAAAAAAAABAAAAAAAAAAEAAAAAAAAAAQAAAAAAAAABAAAAAAAAAAEAAAAAAAAAAQAAAAAAAAAhAAAAAAAAACEAAAAAAAAAIQAAAAAAAAAhAAAAAAAAACEAAAAAAAAAIQAAAAAAAAAhAAAAAAAAACEAAAAAAAAAQQAAAAAAAABBAAAAAAAAAEEAAAAAAAAAQQAAAAAAAABRAAAAAAAAAFEAAAAAAAAAUQAAAAAAAABRAAAAAAAAAFEAAAAAAAAAUQAAAAAAAABRAAAAAAAAAFEAAAAAAAAAUQAAAAAAAABhAAAAAAAAAGEAAAAAAAAAYQAAAAAAAABhAAAAAAAAAGEAAAAAAAAAYQAAAAAAAABxAAAAAAAAAHEAAAAAAAAAcQAAAAAAAABxAAAAAAAAAHEAAAAAAAAAgQAAAAAAAACBAAAAAAAAAIkAAAAAAAAAiQAAAAAAAACRAAAAAAAAAJEAAAAAAAAAkQAAAAAAAACZAAAAAAAAAJkAAAAAAAAAoQAAAAAAAAChAAAAAAAAAKEAAAAAAAAAqQAAAAAAAACpAAAAAAAAALEAAAAAAAAAuQAAAAAAAAC5AAAAAAAAAMUAAAAAAAAAxQAAAAAAAADJAAAAAAAAAM0AAAAAAAAAzQAAAAAAAADRAAAAAAAAANUAAAAAAAAA2QAAAAAAAADZAAAAAAAAANkAAAAAAAAA2QAAAAAAAADZAAAAAAAAANkAAAAAAAAA5QAAAAAAAADlAAAAAAAAAOkAAAAAAAAA6QAAAAAAAADpAAAAAAAAAO0AAAAAAAAA8QAAAAAAAADxAAAAAAAAAPkAAAAAAAAA+QAAAAAAAAD9AAAAAAAAAP0AAAAAAAABAQAAAAAAAAEBAAAAAAACAQEAAAAAAAIBAQAAAAAAAgEJAAAAAAACAQ0AAAAAAAIBDQAAAAAAAAERAAAAAAAAAREAAAAAAAABEQAAAAAAAgERAAAAAAACAREAAAAAAAIBEQAAAAAAAAEZAAAAAAACAR0AAAAAAAIBKQAAAAAAAgEtAAAAAAAAATUAAAAAAAIBOQAAAAAAAAFBAAAAAAACAUEAAAAAAAIBSQAAAAAAAwFJAAAAAAADAVkAAAAAAAIBYQAAAAAAAAFxAAAAAAADgYkAAAAAAANB3QAAAAAAAEHpAAAAAAACQgkAAAAAAAGCDQAAAAAAAOIRAAAAAAACYhEAAAAAAAICKQAAAAAAAAIxAAAAAAABAj0AAAAAAAOCPQAAAAAAALJZA",
          "dtype": "f8"
         },
         "textposition": "auto",
         "type": "bar",
         "x": {
          "bdata": "AAAAAAAA8D8AAAAAAADwPwAAAAAAAPA/AAAAAAAA8D8AAAAAAADwPwAAAAAAAPA/AAAAAAAA8D8AAAAAAADwPwAAAAAAAPA/AAAAAAAA8D8AAAAAAADwPwAAAAAAAPA/AAAAAAAA8D8AAAAAAADwPwAAAAAAAPA/AAAAAAAA8D8AAAAAAADwPwAAAAAAAABAAAAAAAAAAEAAAAAAAAAAQAAAAAAAAABAAAAAAAAAAEAAAAAAAAAAQAAAAAAAAABAAAAAAAAAAEAAAAAAAAAAQAAAAAAAAABAAAAAAAAAAEAAAAAAAAAAQAAAAAAAAAhAAAAAAAAACEAAAAAAAAAIQAAAAAAAAAhAAAAAAAAACEAAAAAAAAAIQAAAAAAAAAhAAAAAAAAACEAAAAAAAAAQQAAAAAAAABBAAAAAAAAAEEAAAAAAAAAQQAAAAAAAABRAAAAAAAAAFEAAAAAAAAAUQAAAAAAAABRAAAAAAAAAFEAAAAAAAAAUQAAAAAAAABRAAAAAAAAAFEAAAAAAAAAUQAAAAAAAABhAAAAAAAAAGEAAAAAAAAAYQAAAAAAAABhAAAAAAAAAGEAAAAAAAAAYQAAAAAAAABxAAAAAAAAAHEAAAAAAAAAcQAAAAAAAABxAAAAAAAAAHEAAAAAAAAAgQAAAAAAAACBAAAAAAAAAIkAAAAAAAAAiQAAAAAAAACRAAAAAAAAAJEAAAAAAAAAkQAAAAAAAACZAAAAAAAAAJkAAAAAAAAAoQAAAAAAAAChAAAAAAAAAKEAAAAAAAAAqQAAAAAAAACpAAAAAAAAALEAAAAAAAAAuQAAAAAAAAC5AAAAAAAAAMUAAAAAAAAAxQAAAAAAAADJAAAAAAAAAM0AAAAAAAAAzQAAAAAAAADRAAAAAAAAANUAAAAAAAAA2QAAAAAAAADZAAAAAAAAANkAAAAAAAAA2QAAAAAAAADZAAAAAAAAANkAAAAAAAAA5QAAAAAAAADlAAAAAAAAAOkAAAAAAAAA6QAAAAAAAADpAAAAAAAAAO0AAAAAAAAA8QAAAAAAAADxAAAAAAAAAPkAAAAAAAAA+QAAAAAAAAD9AAAAAAAAAP0AAAAAAAABAQAAAAAAAAEBAAAAAAACAQEAAAAAAAIBAQAAAAAAAgEJAAAAAAACAQ0AAAAAAAIBDQAAAAAAAAERAAAAAAAAAREAAAAAAAABEQAAAAAAAgERAAAAAAACAREAAAAAAAIBEQAAAAAAAAEZAAAAAAACAR0AAAAAAAIBKQAAAAAAAgEtAAAAAAAAATUAAAAAAAIBOQAAAAAAAAFBAAAAAAACAUEAAAAAAAIBSQAAAAAAAwFJAAAAAAADAVkAAAAAAAIBYQAAAAAAAAFxAAAAAAADgYkAAAAAAANB3QAAAAAAAEHpAAAAAAACQgkAAAAAAAGCDQAAAAAAAOIRAAAAAAACYhEAAAAAAAICKQAAAAAAAAIxAAAAAAABAj0AAAAAAAOCPQAAAAAAALJZA",
          "dtype": "f8"
         },
         "xaxis": "x",
         "y": [
          "author_Nicholas_Sparks",
          "title_has_poetry",
          "author_Julia_Quinn",
          "title_has_dance",
          "title_has_college",
          "title_has_murder",
          "title_has_literary",
          "title_has_sister",
          "title_has_career",
          "title_has_political",
          "title_has_media",
          "title_has_cooking",
          "title_has_workout",
          "title_has_nature",
          "title_has_space",
          "title_has_plants",
          "title_has_memoir",
          "author_Nora_Roberts",
          "author_Gary_Chapman",
          "title_has_music",
          "title_has_marriage",
          "title_has_technology",
          "author_Lewis_Carroll",
          "title_has_earth",
          "title_has_crime",
          "title_has_brothers",
          "title_has_education",
          "author_Sherry_Argov",
          "author_Donald_Miller",
          "title_has_tragedy",
          "author_Thomas_Hardy",
          "author_Christopher_Paolini",
          "title_has_adventure",
          "author_Jonah_Goldberg",
          "title_has_friendship",
          "title_has_parenting",
          "title_has_biography",
          "title_has_drugs",
          "title_has_sex",
          "title_has_science",
          "title_has_drink",
          "title_has_peace",
          "title_has_finance",
          "author_Charlotte_Brontë",
          "title_has_snow",
          "title_has_sun",
          "title_has_mystery",
          "category_Sports_Recreation",
          "title_has_romance",
          "category_Psychology",
          "category_Education",
          "title_has_religion",
          "title_has_politics",
          "title_has_monster",
          "title_has_teen",
          "author_Charles_Dickens",
          "title_has_children",
          "title_has_flowers",
          "title_has_weather",
          "title_has_spiritual",
          "title_has_family",
          "author_Ashley_Audrain",
          "title_has_money",
          "title_has_tea",
          "title_has_war",
          "title_has_trees",
          "title_has_universe",
          "title_has_history",
          "title_has_dummies",
          "title_has_school",
          "title_has_food",
          "title_has_bible",
          "description_has_spiritual",
          "title_has_psychology",
          "title_has_film",
          "author_Other",
          "author_Catherine_Coulter",
          "title_has_magic",
          "title_has_loss",
          "title_has_philosophy",
          "title_has_western",
          "category_Social_Science",
          "category_Cooking",
          "category_Juvenile_Fiction",
          "title_has_classic",
          "title_has_dark",
          "title_has_time",
          "category_Self-Help",
          "category_Computers",
          "title_has_mission",
          "title_has_love",
          "description_has_science",
          "category_Biography_Autobiography",
          "description_has_murder",
          "title_has_wind",
          "title_has_art",
          "category_Political_Science",
          "category_Body__Mind_Spirit",
          "category_Music",
          "category_History",
          "title_has_guide",
          "description_has_teen",
          "category_Business_Economics",
          "title_has_travel",
          "description_has_nature",
          "title_has_rain",
          "category_Health_Fitness",
          "description_has_school",
          "category_Family_Relationships",
          "description_has_sex",
          "description_has_classic",
          "category_Juvenile_Nonfiction",
          "description_has_rain",
          "description_has_loss",
          "category_Religion",
          "description_has_children",
          "sentiment_description_num",
          "description_has_history",
          "description_has_tea",
          "description_has_love",
          "author_count",
          "category_Other",
          "description_has_family",
          "description_has_guide",
          "description_has_war",
          "description_has_time",
          "description_has_art",
          "category_Fiction",
          "sentiment_text_num",
          "sentiment_summary_num",
          "helpful_reviews",
          "title_num_words",
          "percentage_helpful",
          "total_reviews",
          "num_chars",
          "num_words",
          "title_num_chars",
          "avg_word_len",
          "score_description",
          "price",
          "score_text"
         ],
         "yaxis": "y"
        }
       ],
       "layout": {
        "barmode": "relative",
        "legend": {
         "tracegroupgap": 0
        },
        "margin": {
         "t": 60
        },
        "template": {
         "data": {
          "bar": [
           {
            "error_x": {
             "color": "#2a3f5f"
            },
            "error_y": {
             "color": "#2a3f5f"
            },
            "marker": {
             "line": {
              "color": "#E5ECF6",
              "width": 0.5
             },
             "pattern": {
              "fillmode": "overlay",
              "size": 10,
              "solidity": 0.2
             }
            },
            "type": "bar"
           }
          ],
          "barpolar": [
           {
            "marker": {
             "line": {
              "color": "#E5ECF6",
              "width": 0.5
             },
             "pattern": {
              "fillmode": "overlay",
              "size": 10,
              "solidity": 0.2
             }
            },
            "type": "barpolar"
           }
          ],
          "carpet": [
           {
            "aaxis": {
             "endlinecolor": "#2a3f5f",
             "gridcolor": "white",
             "linecolor": "white",
             "minorgridcolor": "white",
             "startlinecolor": "#2a3f5f"
            },
            "baxis": {
             "endlinecolor": "#2a3f5f",
             "gridcolor": "white",
             "linecolor": "white",
             "minorgridcolor": "white",
             "startlinecolor": "#2a3f5f"
            },
            "type": "carpet"
           }
          ],
          "choropleth": [
           {
            "colorbar": {
             "outlinewidth": 0,
             "ticks": ""
            },
            "type": "choropleth"
           }
          ],
          "contour": [
           {
            "colorbar": {
             "outlinewidth": 0,
             "ticks": ""
            },
            "colorscale": [
             [
              0,
              "#0d0887"
             ],
             [
              0.1111111111111111,
              "#46039f"
             ],
             [
              0.2222222222222222,
              "#7201a8"
             ],
             [
              0.3333333333333333,
              "#9c179e"
             ],
             [
              0.4444444444444444,
              "#bd3786"
             ],
             [
              0.5555555555555556,
              "#d8576b"
             ],
             [
              0.6666666666666666,
              "#ed7953"
             ],
             [
              0.7777777777777778,
              "#fb9f3a"
             ],
             [
              0.8888888888888888,
              "#fdca26"
             ],
             [
              1,
              "#f0f921"
             ]
            ],
            "type": "contour"
           }
          ],
          "contourcarpet": [
           {
            "colorbar": {
             "outlinewidth": 0,
             "ticks": ""
            },
            "type": "contourcarpet"
           }
          ],
          "heatmap": [
           {
            "colorbar": {
             "outlinewidth": 0,
             "ticks": ""
            },
            "colorscale": [
             [
              0,
              "#0d0887"
             ],
             [
              0.1111111111111111,
              "#46039f"
             ],
             [
              0.2222222222222222,
              "#7201a8"
             ],
             [
              0.3333333333333333,
              "#9c179e"
             ],
             [
              0.4444444444444444,
              "#bd3786"
             ],
             [
              0.5555555555555556,
              "#d8576b"
             ],
             [
              0.6666666666666666,
              "#ed7953"
             ],
             [
              0.7777777777777778,
              "#fb9f3a"
             ],
             [
              0.8888888888888888,
              "#fdca26"
             ],
             [
              1,
              "#f0f921"
             ]
            ],
            "type": "heatmap"
           }
          ],
          "histogram": [
           {
            "marker": {
             "pattern": {
              "fillmode": "overlay",
              "size": 10,
              "solidity": 0.2
             }
            },
            "type": "histogram"
           }
          ],
          "histogram2d": [
           {
            "colorbar": {
             "outlinewidth": 0,
             "ticks": ""
            },
            "colorscale": [
             [
              0,
              "#0d0887"
             ],
             [
              0.1111111111111111,
              "#46039f"
             ],
             [
              0.2222222222222222,
              "#7201a8"
             ],
             [
              0.3333333333333333,
              "#9c179e"
             ],
             [
              0.4444444444444444,
              "#bd3786"
             ],
             [
              0.5555555555555556,
              "#d8576b"
             ],
             [
              0.6666666666666666,
              "#ed7953"
             ],
             [
              0.7777777777777778,
              "#fb9f3a"
             ],
             [
              0.8888888888888888,
              "#fdca26"
             ],
             [
              1,
              "#f0f921"
             ]
            ],
            "type": "histogram2d"
           }
          ],
          "histogram2dcontour": [
           {
            "colorbar": {
             "outlinewidth": 0,
             "ticks": ""
            },
            "colorscale": [
             [
              0,
              "#0d0887"
             ],
             [
              0.1111111111111111,
              "#46039f"
             ],
             [
              0.2222222222222222,
              "#7201a8"
             ],
             [
              0.3333333333333333,
              "#9c179e"
             ],
             [
              0.4444444444444444,
              "#bd3786"
             ],
             [
              0.5555555555555556,
              "#d8576b"
             ],
             [
              0.6666666666666666,
              "#ed7953"
             ],
             [
              0.7777777777777778,
              "#fb9f3a"
             ],
             [
              0.8888888888888888,
              "#fdca26"
             ],
             [
              1,
              "#f0f921"
             ]
            ],
            "type": "histogram2dcontour"
           }
          ],
          "mesh3d": [
           {
            "colorbar": {
             "outlinewidth": 0,
             "ticks": ""
            },
            "type": "mesh3d"
           }
          ],
          "parcoords": [
           {
            "line": {
             "colorbar": {
              "outlinewidth": 0,
              "ticks": ""
             }
            },
            "type": "parcoords"
           }
          ],
          "pie": [
           {
            "automargin": true,
            "type": "pie"
           }
          ],
          "scatter": [
           {
            "fillpattern": {
             "fillmode": "overlay",
             "size": 10,
             "solidity": 0.2
            },
            "type": "scatter"
           }
          ],
          "scatter3d": [
           {
            "line": {
             "colorbar": {
              "outlinewidth": 0,
              "ticks": ""
             }
            },
            "marker": {
             "colorbar": {
              "outlinewidth": 0,
              "ticks": ""
             }
            },
            "type": "scatter3d"
           }
          ],
          "scattercarpet": [
           {
            "marker": {
             "colorbar": {
              "outlinewidth": 0,
              "ticks": ""
             }
            },
            "type": "scattercarpet"
           }
          ],
          "scattergeo": [
           {
            "marker": {
             "colorbar": {
              "outlinewidth": 0,
              "ticks": ""
             }
            },
            "type": "scattergeo"
           }
          ],
          "scattergl": [
           {
            "marker": {
             "colorbar": {
              "outlinewidth": 0,
              "ticks": ""
             }
            },
            "type": "scattergl"
           }
          ],
          "scattermap": [
           {
            "marker": {
             "colorbar": {
              "outlinewidth": 0,
              "ticks": ""
             }
            },
            "type": "scattermap"
           }
          ],
          "scattermapbox": [
           {
            "marker": {
             "colorbar": {
              "outlinewidth": 0,
              "ticks": ""
             }
            },
            "type": "scattermapbox"
           }
          ],
          "scatterpolar": [
           {
            "marker": {
             "colorbar": {
              "outlinewidth": 0,
              "ticks": ""
             }
            },
            "type": "scatterpolar"
           }
          ],
          "scatterpolargl": [
           {
            "marker": {
             "colorbar": {
              "outlinewidth": 0,
              "ticks": ""
             }
            },
            "type": "scatterpolargl"
           }
          ],
          "scatterternary": [
           {
            "marker": {
             "colorbar": {
              "outlinewidth": 0,
              "ticks": ""
             }
            },
            "type": "scatterternary"
           }
          ],
          "surface": [
           {
            "colorbar": {
             "outlinewidth": 0,
             "ticks": ""
            },
            "colorscale": [
             [
              0,
              "#0d0887"
             ],
             [
              0.1111111111111111,
              "#46039f"
             ],
             [
              0.2222222222222222,
              "#7201a8"
             ],
             [
              0.3333333333333333,
              "#9c179e"
             ],
             [
              0.4444444444444444,
              "#bd3786"
             ],
             [
              0.5555555555555556,
              "#d8576b"
             ],
             [
              0.6666666666666666,
              "#ed7953"
             ],
             [
              0.7777777777777778,
              "#fb9f3a"
             ],
             [
              0.8888888888888888,
              "#fdca26"
             ],
             [
              1,
              "#f0f921"
             ]
            ],
            "type": "surface"
           }
          ],
          "table": [
           {
            "cells": {
             "fill": {
              "color": "#EBF0F8"
             },
             "line": {
              "color": "white"
             }
            },
            "header": {
             "fill": {
              "color": "#C8D4E3"
             },
             "line": {
              "color": "white"
             }
            },
            "type": "table"
           }
          ]
         },
         "layout": {
          "annotationdefaults": {
           "arrowcolor": "#2a3f5f",
           "arrowhead": 0,
           "arrowwidth": 1
          },
          "autotypenumbers": "strict",
          "coloraxis": {
           "colorbar": {
            "outlinewidth": 0,
            "ticks": ""
           }
          },
          "colorscale": {
           "diverging": [
            [
             0,
             "#8e0152"
            ],
            [
             0.1,
             "#c51b7d"
            ],
            [
             0.2,
             "#de77ae"
            ],
            [
             0.3,
             "#f1b6da"
            ],
            [
             0.4,
             "#fde0ef"
            ],
            [
             0.5,
             "#f7f7f7"
            ],
            [
             0.6,
             "#e6f5d0"
            ],
            [
             0.7,
             "#b8e186"
            ],
            [
             0.8,
             "#7fbc41"
            ],
            [
             0.9,
             "#4d9221"
            ],
            [
             1,
             "#276419"
            ]
           ],
           "sequential": [
            [
             0,
             "#0d0887"
            ],
            [
             0.1111111111111111,
             "#46039f"
            ],
            [
             0.2222222222222222,
             "#7201a8"
            ],
            [
             0.3333333333333333,
             "#9c179e"
            ],
            [
             0.4444444444444444,
             "#bd3786"
            ],
            [
             0.5555555555555556,
             "#d8576b"
            ],
            [
             0.6666666666666666,
             "#ed7953"
            ],
            [
             0.7777777777777778,
             "#fb9f3a"
            ],
            [
             0.8888888888888888,
             "#fdca26"
            ],
            [
             1,
             "#f0f921"
            ]
           ],
           "sequentialminus": [
            [
             0,
             "#0d0887"
            ],
            [
             0.1111111111111111,
             "#46039f"
            ],
            [
             0.2222222222222222,
             "#7201a8"
            ],
            [
             0.3333333333333333,
             "#9c179e"
            ],
            [
             0.4444444444444444,
             "#bd3786"
            ],
            [
             0.5555555555555556,
             "#d8576b"
            ],
            [
             0.6666666666666666,
             "#ed7953"
            ],
            [
             0.7777777777777778,
             "#fb9f3a"
            ],
            [
             0.8888888888888888,
             "#fdca26"
            ],
            [
             1,
             "#f0f921"
            ]
           ]
          },
          "colorway": [
           "#636efa",
           "#EF553B",
           "#00cc96",
           "#ab63fa",
           "#FFA15A",
           "#19d3f3",
           "#FF6692",
           "#B6E880",
           "#FF97FF",
           "#FECB52"
          ],
          "font": {
           "color": "#2a3f5f"
          },
          "geo": {
           "bgcolor": "white",
           "lakecolor": "white",
           "landcolor": "#E5ECF6",
           "showlakes": true,
           "showland": true,
           "subunitcolor": "white"
          },
          "hoverlabel": {
           "align": "left"
          },
          "hovermode": "closest",
          "mapbox": {
           "style": "light"
          },
          "paper_bgcolor": "white",
          "plot_bgcolor": "#E5ECF6",
          "polar": {
           "angularaxis": {
            "gridcolor": "white",
            "linecolor": "white",
            "ticks": ""
           },
           "bgcolor": "#E5ECF6",
           "radialaxis": {
            "gridcolor": "white",
            "linecolor": "white",
            "ticks": ""
           }
          },
          "scene": {
           "xaxis": {
            "backgroundcolor": "#E5ECF6",
            "gridcolor": "white",
            "gridwidth": 2,
            "linecolor": "white",
            "showbackground": true,
            "ticks": "",
            "zerolinecolor": "white"
           },
           "yaxis": {
            "backgroundcolor": "#E5ECF6",
            "gridcolor": "white",
            "gridwidth": 2,
            "linecolor": "white",
            "showbackground": true,
            "ticks": "",
            "zerolinecolor": "white"
           },
           "zaxis": {
            "backgroundcolor": "#E5ECF6",
            "gridcolor": "white",
            "gridwidth": 2,
            "linecolor": "white",
            "showbackground": true,
            "ticks": "",
            "zerolinecolor": "white"
           }
          },
          "shapedefaults": {
           "line": {
            "color": "#2a3f5f"
           }
          },
          "ternary": {
           "aaxis": {
            "gridcolor": "white",
            "linecolor": "white",
            "ticks": ""
           },
           "baxis": {
            "gridcolor": "white",
            "linecolor": "white",
            "ticks": ""
           },
           "bgcolor": "#E5ECF6",
           "caxis": {
            "gridcolor": "white",
            "linecolor": "white",
            "ticks": ""
           }
          },
          "title": {
           "x": 0.05
          },
          "xaxis": {
           "automargin": true,
           "gridcolor": "white",
           "linecolor": "white",
           "ticks": "",
           "title": {
            "standoff": 15
           },
           "zerolinecolor": "white",
           "zerolinewidth": 2
          },
          "yaxis": {
           "automargin": true,
           "gridcolor": "white",
           "linecolor": "white",
           "ticks": "",
           "title": {
            "standoff": 15
           },
           "zerolinecolor": "white",
           "zerolinewidth": 2
          }
         }
        },
        "xaxis": {
         "anchor": "y",
         "domain": [
          0,
          1
         ],
         "title": {
          "text": "importance"
         }
        },
        "yaxis": {
         "anchor": "x",
         "domain": [
          0,
          1
         ],
         "title": {
          "text": "feature"
         }
        }
       }
      }
     },
     "metadata": {},
     "output_type": "display_data"
    }
   ],
   "source": [
    "import plotly.express as px\n",
    "\n",
    "fig = px.bar(importance_df.sort_values(by='importance', ascending=True),\n",
    "             x='importance', y='feature', orientation='h', text='importance')\n",
    "fig.show()\n"
   ]
  },
  {
   "cell_type": "markdown",
   "id": "8a2efa81",
   "metadata": {},
   "source": []
  },
  {
   "cell_type": "code",
   "execution_count": null,
   "id": "2c47f09c",
   "metadata": {},
   "outputs": [
    {
     "data": {
      "text/plain": [
       "Index(['score_text', 'price', 'score_description', 'avg_word_len',\n",
       "       'title_num_chars', 'num_words', 'num_chars', 'total_reviews',\n",
       "       'percentage_helpful', 'title_num_words', 'helpful_reviews',\n",
       "       'sentiment_summary_num', 'sentiment_text_num', 'category_Fiction',\n",
       "       'description_has_art', 'description_has_time', 'description_has_war',\n",
       "       'description_has_guide', 'description_has_family', 'category_Other',\n",
       "       'author_count', 'description_has_love', 'description_has_tea'],\n",
       "      dtype='object')"
      ]
     },
     "execution_count": 16,
     "metadata": {},
     "output_type": "execute_result"
    }
   ],
   "source": [
    "X_train_sel.columns\n"
   ]
  },
  {
   "cell_type": "code",
   "execution_count": null,
   "id": "159872e6",
   "metadata": {},
   "outputs": [
    {
     "data": {
      "text/plain": [
       "Index(['score_text', 'price', 'score_description', 'avg_word_len',\n",
       "       'title_num_chars', 'description_num_words', 'description_num_chars',\n",
       "       'total_reviews', 'percentage_helpful', 'title_num_words',\n",
       "       'helpful_reviews', 'sentiment_summary_num', 'sentiment_text_num',\n",
       "       'category_Fiction', 'category_Other', 'author_count'],\n",
       "      dtype='object')"
      ]
     },
     "execution_count": 30,
     "metadata": {},
     "output_type": "execute_result"
    }
   ],
   "source": [
    "#remove if column name contains  has_ in X_train_sel\n",
    "\n",
    "X_train_sel_simpler = X_train_sel.loc[:, ~X_train_sel.columns.str.contains('has_')]\n",
    "X_train_sel_simpler.columns\n"
   ]
  },
  {
   "cell_type": "code",
   "execution_count": null,
   "id": "1c275919",
   "metadata": {},
   "outputs": [
    {
     "data": {
      "text/plain": [
       "Index(['price', 'total_reviews', 'helpful_reviews', 'percentage_helpful',\n",
       "       'author_count', 'score_text', 'score_description',\n",
       "       'sentiment_description_num', 'description_num_words',\n",
       "       'description_num_chars',\n",
       "       ...\n",
       "       'title_has_children', 'title_has_universe', 'title_has_animals',\n",
       "       'title_has_flowers', 'title_has_politics', 'title_has_teen',\n",
       "       'title_has_school', 'title_has_dummies', 'title_has_film', 'target'],\n",
       "      dtype='object', length=215)"
      ]
     },
     "execution_count": 27,
     "metadata": {},
     "output_type": "execute_result"
    }
   ],
   "source": [
    "books = pd.read_csv(\"data/books_model_num.csv\")\n",
    "books.columns\n"
   ]
  },
  {
   "cell_type": "code",
   "execution_count": null,
   "id": "e03abfc0",
   "metadata": {},
   "outputs": [
    {
     "data": {
      "text/html": [
       "<div>\n",
       "<style scoped>\n",
       "    .dataframe tbody tr th:only-of-type {\n",
       "        vertical-align: middle;\n",
       "    }\n",
       "\n",
       "    .dataframe tbody tr th {\n",
       "        vertical-align: top;\n",
       "    }\n",
       "\n",
       "    .dataframe thead th {\n",
       "        text-align: right;\n",
       "    }\n",
       "</style>\n",
       "<table border=\"1\" class=\"dataframe\">\n",
       "  <thead>\n",
       "    <tr style=\"text-align: right;\">\n",
       "      <th></th>\n",
       "      <th>description_num_words</th>\n",
       "      <th>description_num_chars</th>\n",
       "      <th>avg_word_len</th>\n",
       "    </tr>\n",
       "  </thead>\n",
       "  <tbody>\n",
       "    <tr>\n",
       "      <th>0</th>\n",
       "      <td>318</td>\n",
       "      <td>1867</td>\n",
       "      <td>4.874214</td>\n",
       "    </tr>\n",
       "    <tr>\n",
       "      <th>1</th>\n",
       "      <td>74</td>\n",
       "      <td>427</td>\n",
       "      <td>4.783784</td>\n",
       "    </tr>\n",
       "    <tr>\n",
       "      <th>2</th>\n",
       "      <td>94</td>\n",
       "      <td>594</td>\n",
       "      <td>5.329787</td>\n",
       "    </tr>\n",
       "    <tr>\n",
       "      <th>3</th>\n",
       "      <td>142</td>\n",
       "      <td>901</td>\n",
       "      <td>5.352113</td>\n",
       "    </tr>\n",
       "    <tr>\n",
       "      <th>4</th>\n",
       "      <td>13</td>\n",
       "      <td>75</td>\n",
       "      <td>4.846154</td>\n",
       "    </tr>\n",
       "    <tr>\n",
       "      <th>...</th>\n",
       "      <td>...</td>\n",
       "      <td>...</td>\n",
       "      <td>...</td>\n",
       "    </tr>\n",
       "    <tr>\n",
       "      <th>15578</th>\n",
       "      <td>241</td>\n",
       "      <td>1521</td>\n",
       "      <td>5.315353</td>\n",
       "    </tr>\n",
       "    <tr>\n",
       "      <th>15579</th>\n",
       "      <td>2</td>\n",
       "      <td>37</td>\n",
       "      <td>18.000000</td>\n",
       "    </tr>\n",
       "    <tr>\n",
       "      <th>15580</th>\n",
       "      <td>31</td>\n",
       "      <td>200</td>\n",
       "      <td>5.483871</td>\n",
       "    </tr>\n",
       "    <tr>\n",
       "      <th>15581</th>\n",
       "      <td>100</td>\n",
       "      <td>581</td>\n",
       "      <td>4.820000</td>\n",
       "    </tr>\n",
       "    <tr>\n",
       "      <th>15582</th>\n",
       "      <td>119</td>\n",
       "      <td>710</td>\n",
       "      <td>4.974790</td>\n",
       "    </tr>\n",
       "  </tbody>\n",
       "</table>\n",
       "<p>15583 rows × 3 columns</p>\n",
       "</div>"
      ],
      "text/plain": [
       "       description_num_words  description_num_chars  avg_word_len\n",
       "0                        318                   1867      4.874214\n",
       "1                         74                    427      4.783784\n",
       "2                         94                    594      5.329787\n",
       "3                        142                    901      5.352113\n",
       "4                         13                     75      4.846154\n",
       "...                      ...                    ...           ...\n",
       "15578                    241                   1521      5.315353\n",
       "15579                      2                     37     18.000000\n",
       "15580                     31                    200      5.483871\n",
       "15581                    100                    581      4.820000\n",
       "15582                    119                    710      4.974790\n",
       "\n",
       "[15583 rows x 3 columns]"
      ]
     },
     "execution_count": 28,
     "metadata": {},
     "output_type": "execute_result"
    }
   ],
   "source": [
    "books[['description_num_words',\n",
    "       'description_num_chars','avg_word_len']]"
   ]
  },
  {
   "cell_type": "code",
   "execution_count": null,
   "id": "97b1913a",
   "metadata": {},
   "outputs": [
    {
     "name": "stdout",
     "output_type": "stream",
     "text": [
      "Accuracy: 0.7500802053256336\n",
      "ROC-AUC: 0.8153093627024429\n"
     ]
    }
   ],
   "source": [
    "from sklearn.model_selection import train_test_split\n",
    "from sklearn.metrics import accuracy_score, roc_auc_score\n",
    "import xgboost as xgb\n",
    "import pandas as pd\n",
    "\n",
    "# Load dataset\n",
    "books = pd.read_csv(\"data/books_model_num.csv\")\n",
    "X = books.drop(columns='target')\n",
    "y = books['target']\n",
    "\n",
    "# Train/test split\n",
    "X_train, X_test, y_train, y_test = train_test_split(\n",
    "    X, y, test_size=0.2, random_state=42, stratify=y\n",
    ")\n",
    "\n",
    "# Keep only selected features (from your previous step)\n",
    "selected_features = ['score_text', 'price', 'score_description', 'description_avg_word_len',\n",
    "                      'title_num_chars', 'description_num_words', 'description_num_chars', 'total_reviews', \n",
    "                      'percentage_helpful', 'title_num_words', 'helpful_reviews', 'sentiment_summary_num',\n",
    "                     'sentiment_text_num', 'category_Fiction', 'description_has_art', 'description_has_time',\n",
    "                       'description_has_war', 'description_has_guide', 'description_has_family',\n",
    "                       'author_count', 'description_has_love', 'description_has_tea']\n",
    "\n",
    "X_train_sel = X_train[selected_features]\n",
    "X_test_sel = X_test[selected_features]\n",
    "\n",
    "# Remove columns that contain 'has_'\n",
    "X_train_simple = X_train_sel.loc[:, ~X_train_sel.columns.str.contains('has_')]\n",
    "X_test_simple = X_test_sel.loc[:, ~X_test_sel.columns.str.contains('has_')]\n",
    "\n",
    "# Ensure all numeric\n",
    "X_train_simple = X_train_simple.astype(float)\n",
    "X_test_simple = X_test_simple.astype(float)\n",
    "\n",
    "# XGBoost classifier\n",
    "xgb_model = xgb.XGBClassifier(\n",
    "    n_estimators=300,\n",
    "    max_depth=6,\n",
    "    learning_rate=0.05,\n",
    "    subsample=0.8,\n",
    "    colsample_bytree=0.8,\n",
    "    random_state=42,\n",
    "    eval_metric='logloss'\n",
    ")\n",
    "\n",
    "# Train\n",
    "xgb_model.fit(X_train_simple, y_train)\n",
    "\n",
    "# Predict\n",
    "y_pred = xgb_model.predict(X_test_simple)\n",
    "y_prob = xgb_model.predict_proba(X_test_simple)[:, 1]\n",
    "\n",
    "# Metrics\n",
    "print(\"Accuracy:\", accuracy_score(y_test, y_pred))\n",
    "print(\"ROC-AUC:\", roc_auc_score(y_test, y_prob))\n",
    "\n",
    "\n",
    "#Last \n",
    "# Accuracy: 0.7500802053256336\n",
    "# ROC-AUC: 0.8153093627024429"
   ]
  },
  {
   "cell_type": "code",
   "execution_count": null,
   "id": "25bee3a4",
   "metadata": {},
   "outputs": [
    {
     "name": "stdout",
     "output_type": "stream",
     "text": [
      "Top features:\n",
      "                     feature  importance\n",
      "12        sentiment_text_num    0.641213\n",
      "11     sentiment_summary_num    0.066231\n",
      "0                 score_text    0.043574\n",
      "13          category_Fiction    0.032236\n",
      "8         percentage_helpful    0.025073\n",
      "7              total_reviews    0.020892\n",
      "6      description_num_chars    0.020630\n",
      "2          score_description    0.019290\n",
      "3   description_avg_word_len    0.019170\n",
      "9            title_num_words    0.019157\n",
      "1                      price    0.019095\n",
      "10           helpful_reviews    0.018893\n",
      "4            title_num_chars    0.018405\n",
      "14              author_count    0.018196\n",
      "5      description_num_words    0.017946\n"
     ]
    }
   ],
   "source": [
    "import pandas as pd\n",
    "\n",
    "# Feature importance\n",
    "importance_df = pd.DataFrame({\n",
    "    'feature': X_train_simple.columns,\n",
    "    'importance': xgb_model.feature_importances_\n",
    "}).sort_values(by='importance', ascending=False)\n",
    "\n",
    "print(\"Top features:\")\n",
    "print(importance_df)\n"
   ]
  },
  {
   "cell_type": "code",
   "execution_count": null,
   "id": "42a073ca",
   "metadata": {},
   "outputs": [
    {
     "data": {
      "application/vnd.plotly.v1+json": {
       "config": {
        "plotlyServerURL": "https://plot.ly"
       },
       "data": [
        {
         "hovertemplate": "importance=%{text}<br>feature=%{y}<extra></extra>",
         "legendgroup": "",
         "marker": {
          "color": "#636efa",
          "pattern": {
           "shape": ""
          }
         },
         "name": "",
         "orientation": "h",
         "showlegend": false,
         "text": {
          "bdata": "AAAAoNGE5D8AAACAffSwPwAAAKBgT6Y/AAAAAC+BoD8AAADAxKyZPwAAAGCaZJU/AAAAgOsflT8AAACgsMCTPwAAAOA7oZM/AAAAAPSdkz8AAACgw42TPwAAAEC4WJM/AAAAwKvYkj8AAADABqKSPwAAAGBZYJI/",
          "dtype": "f8"
         },
         "textposition": "auto",
         "type": "bar",
         "x": {
          "bdata": "jSYkP+yjhz0FezI9eAkEPSZmzTzTJKs8XP+oPIUFnjzfCZ08oO+cPB1unDzCxZo8XsWWPDYQlTzLApM8",
          "dtype": "f4"
         },
         "xaxis": "x",
         "y": [
          "sentiment_text_num",
          "sentiment_summary_num",
          "score_text",
          "category_Fiction",
          "percentage_helpful",
          "total_reviews",
          "description_num_chars",
          "score_description",
          "description_avg_word_len",
          "title_num_words",
          "price",
          "helpful_reviews",
          "title_num_chars",
          "author_count",
          "description_num_words"
         ],
         "yaxis": "y"
        }
       ],
       "layout": {
        "barmode": "relative",
        "legend": {
         "tracegroupgap": 0
        },
        "template": {
         "data": {
          "bar": [
           {
            "error_x": {
             "color": "#2a3f5f"
            },
            "error_y": {
             "color": "#2a3f5f"
            },
            "marker": {
             "line": {
              "color": "#E5ECF6",
              "width": 0.5
             },
             "pattern": {
              "fillmode": "overlay",
              "size": 10,
              "solidity": 0.2
             }
            },
            "type": "bar"
           }
          ],
          "barpolar": [
           {
            "marker": {
             "line": {
              "color": "#E5ECF6",
              "width": 0.5
             },
             "pattern": {
              "fillmode": "overlay",
              "size": 10,
              "solidity": 0.2
             }
            },
            "type": "barpolar"
           }
          ],
          "carpet": [
           {
            "aaxis": {
             "endlinecolor": "#2a3f5f",
             "gridcolor": "white",
             "linecolor": "white",
             "minorgridcolor": "white",
             "startlinecolor": "#2a3f5f"
            },
            "baxis": {
             "endlinecolor": "#2a3f5f",
             "gridcolor": "white",
             "linecolor": "white",
             "minorgridcolor": "white",
             "startlinecolor": "#2a3f5f"
            },
            "type": "carpet"
           }
          ],
          "choropleth": [
           {
            "colorbar": {
             "outlinewidth": 0,
             "ticks": ""
            },
            "type": "choropleth"
           }
          ],
          "contour": [
           {
            "colorbar": {
             "outlinewidth": 0,
             "ticks": ""
            },
            "colorscale": [
             [
              0,
              "#0d0887"
             ],
             [
              0.1111111111111111,
              "#46039f"
             ],
             [
              0.2222222222222222,
              "#7201a8"
             ],
             [
              0.3333333333333333,
              "#9c179e"
             ],
             [
              0.4444444444444444,
              "#bd3786"
             ],
             [
              0.5555555555555556,
              "#d8576b"
             ],
             [
              0.6666666666666666,
              "#ed7953"
             ],
             [
              0.7777777777777778,
              "#fb9f3a"
             ],
             [
              0.8888888888888888,
              "#fdca26"
             ],
             [
              1,
              "#f0f921"
             ]
            ],
            "type": "contour"
           }
          ],
          "contourcarpet": [
           {
            "colorbar": {
             "outlinewidth": 0,
             "ticks": ""
            },
            "type": "contourcarpet"
           }
          ],
          "heatmap": [
           {
            "colorbar": {
             "outlinewidth": 0,
             "ticks": ""
            },
            "colorscale": [
             [
              0,
              "#0d0887"
             ],
             [
              0.1111111111111111,
              "#46039f"
             ],
             [
              0.2222222222222222,
              "#7201a8"
             ],
             [
              0.3333333333333333,
              "#9c179e"
             ],
             [
              0.4444444444444444,
              "#bd3786"
             ],
             [
              0.5555555555555556,
              "#d8576b"
             ],
             [
              0.6666666666666666,
              "#ed7953"
             ],
             [
              0.7777777777777778,
              "#fb9f3a"
             ],
             [
              0.8888888888888888,
              "#fdca26"
             ],
             [
              1,
              "#f0f921"
             ]
            ],
            "type": "heatmap"
           }
          ],
          "histogram": [
           {
            "marker": {
             "pattern": {
              "fillmode": "overlay",
              "size": 10,
              "solidity": 0.2
             }
            },
            "type": "histogram"
           }
          ],
          "histogram2d": [
           {
            "colorbar": {
             "outlinewidth": 0,
             "ticks": ""
            },
            "colorscale": [
             [
              0,
              "#0d0887"
             ],
             [
              0.1111111111111111,
              "#46039f"
             ],
             [
              0.2222222222222222,
              "#7201a8"
             ],
             [
              0.3333333333333333,
              "#9c179e"
             ],
             [
              0.4444444444444444,
              "#bd3786"
             ],
             [
              0.5555555555555556,
              "#d8576b"
             ],
             [
              0.6666666666666666,
              "#ed7953"
             ],
             [
              0.7777777777777778,
              "#fb9f3a"
             ],
             [
              0.8888888888888888,
              "#fdca26"
             ],
             [
              1,
              "#f0f921"
             ]
            ],
            "type": "histogram2d"
           }
          ],
          "histogram2dcontour": [
           {
            "colorbar": {
             "outlinewidth": 0,
             "ticks": ""
            },
            "colorscale": [
             [
              0,
              "#0d0887"
             ],
             [
              0.1111111111111111,
              "#46039f"
             ],
             [
              0.2222222222222222,
              "#7201a8"
             ],
             [
              0.3333333333333333,
              "#9c179e"
             ],
             [
              0.4444444444444444,
              "#bd3786"
             ],
             [
              0.5555555555555556,
              "#d8576b"
             ],
             [
              0.6666666666666666,
              "#ed7953"
             ],
             [
              0.7777777777777778,
              "#fb9f3a"
             ],
             [
              0.8888888888888888,
              "#fdca26"
             ],
             [
              1,
              "#f0f921"
             ]
            ],
            "type": "histogram2dcontour"
           }
          ],
          "mesh3d": [
           {
            "colorbar": {
             "outlinewidth": 0,
             "ticks": ""
            },
            "type": "mesh3d"
           }
          ],
          "parcoords": [
           {
            "line": {
             "colorbar": {
              "outlinewidth": 0,
              "ticks": ""
             }
            },
            "type": "parcoords"
           }
          ],
          "pie": [
           {
            "automargin": true,
            "type": "pie"
           }
          ],
          "scatter": [
           {
            "fillpattern": {
             "fillmode": "overlay",
             "size": 10,
             "solidity": 0.2
            },
            "type": "scatter"
           }
          ],
          "scatter3d": [
           {
            "line": {
             "colorbar": {
              "outlinewidth": 0,
              "ticks": ""
             }
            },
            "marker": {
             "colorbar": {
              "outlinewidth": 0,
              "ticks": ""
             }
            },
            "type": "scatter3d"
           }
          ],
          "scattercarpet": [
           {
            "marker": {
             "colorbar": {
              "outlinewidth": 0,
              "ticks": ""
             }
            },
            "type": "scattercarpet"
           }
          ],
          "scattergeo": [
           {
            "marker": {
             "colorbar": {
              "outlinewidth": 0,
              "ticks": ""
             }
            },
            "type": "scattergeo"
           }
          ],
          "scattergl": [
           {
            "marker": {
             "colorbar": {
              "outlinewidth": 0,
              "ticks": ""
             }
            },
            "type": "scattergl"
           }
          ],
          "scattermap": [
           {
            "marker": {
             "colorbar": {
              "outlinewidth": 0,
              "ticks": ""
             }
            },
            "type": "scattermap"
           }
          ],
          "scattermapbox": [
           {
            "marker": {
             "colorbar": {
              "outlinewidth": 0,
              "ticks": ""
             }
            },
            "type": "scattermapbox"
           }
          ],
          "scatterpolar": [
           {
            "marker": {
             "colorbar": {
              "outlinewidth": 0,
              "ticks": ""
             }
            },
            "type": "scatterpolar"
           }
          ],
          "scatterpolargl": [
           {
            "marker": {
             "colorbar": {
              "outlinewidth": 0,
              "ticks": ""
             }
            },
            "type": "scatterpolargl"
           }
          ],
          "scatterternary": [
           {
            "marker": {
             "colorbar": {
              "outlinewidth": 0,
              "ticks": ""
             }
            },
            "type": "scatterternary"
           }
          ],
          "surface": [
           {
            "colorbar": {
             "outlinewidth": 0,
             "ticks": ""
            },
            "colorscale": [
             [
              0,
              "#0d0887"
             ],
             [
              0.1111111111111111,
              "#46039f"
             ],
             [
              0.2222222222222222,
              "#7201a8"
             ],
             [
              0.3333333333333333,
              "#9c179e"
             ],
             [
              0.4444444444444444,
              "#bd3786"
             ],
             [
              0.5555555555555556,
              "#d8576b"
             ],
             [
              0.6666666666666666,
              "#ed7953"
             ],
             [
              0.7777777777777778,
              "#fb9f3a"
             ],
             [
              0.8888888888888888,
              "#fdca26"
             ],
             [
              1,
              "#f0f921"
             ]
            ],
            "type": "surface"
           }
          ],
          "table": [
           {
            "cells": {
             "fill": {
              "color": "#EBF0F8"
             },
             "line": {
              "color": "white"
             }
            },
            "header": {
             "fill": {
              "color": "#C8D4E3"
             },
             "line": {
              "color": "white"
             }
            },
            "type": "table"
           }
          ]
         },
         "layout": {
          "annotationdefaults": {
           "arrowcolor": "#2a3f5f",
           "arrowhead": 0,
           "arrowwidth": 1
          },
          "autotypenumbers": "strict",
          "coloraxis": {
           "colorbar": {
            "outlinewidth": 0,
            "ticks": ""
           }
          },
          "colorscale": {
           "diverging": [
            [
             0,
             "#8e0152"
            ],
            [
             0.1,
             "#c51b7d"
            ],
            [
             0.2,
             "#de77ae"
            ],
            [
             0.3,
             "#f1b6da"
            ],
            [
             0.4,
             "#fde0ef"
            ],
            [
             0.5,
             "#f7f7f7"
            ],
            [
             0.6,
             "#e6f5d0"
            ],
            [
             0.7,
             "#b8e186"
            ],
            [
             0.8,
             "#7fbc41"
            ],
            [
             0.9,
             "#4d9221"
            ],
            [
             1,
             "#276419"
            ]
           ],
           "sequential": [
            [
             0,
             "#0d0887"
            ],
            [
             0.1111111111111111,
             "#46039f"
            ],
            [
             0.2222222222222222,
             "#7201a8"
            ],
            [
             0.3333333333333333,
             "#9c179e"
            ],
            [
             0.4444444444444444,
             "#bd3786"
            ],
            [
             0.5555555555555556,
             "#d8576b"
            ],
            [
             0.6666666666666666,
             "#ed7953"
            ],
            [
             0.7777777777777778,
             "#fb9f3a"
            ],
            [
             0.8888888888888888,
             "#fdca26"
            ],
            [
             1,
             "#f0f921"
            ]
           ],
           "sequentialminus": [
            [
             0,
             "#0d0887"
            ],
            [
             0.1111111111111111,
             "#46039f"
            ],
            [
             0.2222222222222222,
             "#7201a8"
            ],
            [
             0.3333333333333333,
             "#9c179e"
            ],
            [
             0.4444444444444444,
             "#bd3786"
            ],
            [
             0.5555555555555556,
             "#d8576b"
            ],
            [
             0.6666666666666666,
             "#ed7953"
            ],
            [
             0.7777777777777778,
             "#fb9f3a"
            ],
            [
             0.8888888888888888,
             "#fdca26"
            ],
            [
             1,
             "#f0f921"
            ]
           ]
          },
          "colorway": [
           "#636efa",
           "#EF553B",
           "#00cc96",
           "#ab63fa",
           "#FFA15A",
           "#19d3f3",
           "#FF6692",
           "#B6E880",
           "#FF97FF",
           "#FECB52"
          ],
          "font": {
           "color": "#2a3f5f"
          },
          "geo": {
           "bgcolor": "white",
           "lakecolor": "white",
           "landcolor": "#E5ECF6",
           "showlakes": true,
           "showland": true,
           "subunitcolor": "white"
          },
          "hoverlabel": {
           "align": "left"
          },
          "hovermode": "closest",
          "mapbox": {
           "style": "light"
          },
          "paper_bgcolor": "white",
          "plot_bgcolor": "#E5ECF6",
          "polar": {
           "angularaxis": {
            "gridcolor": "white",
            "linecolor": "white",
            "ticks": ""
           },
           "bgcolor": "#E5ECF6",
           "radialaxis": {
            "gridcolor": "white",
            "linecolor": "white",
            "ticks": ""
           }
          },
          "scene": {
           "xaxis": {
            "backgroundcolor": "#E5ECF6",
            "gridcolor": "white",
            "gridwidth": 2,
            "linecolor": "white",
            "showbackground": true,
            "ticks": "",
            "zerolinecolor": "white"
           },
           "yaxis": {
            "backgroundcolor": "#E5ECF6",
            "gridcolor": "white",
            "gridwidth": 2,
            "linecolor": "white",
            "showbackground": true,
            "ticks": "",
            "zerolinecolor": "white"
           },
           "zaxis": {
            "backgroundcolor": "#E5ECF6",
            "gridcolor": "white",
            "gridwidth": 2,
            "linecolor": "white",
            "showbackground": true,
            "ticks": "",
            "zerolinecolor": "white"
           }
          },
          "shapedefaults": {
           "line": {
            "color": "#2a3f5f"
           }
          },
          "ternary": {
           "aaxis": {
            "gridcolor": "white",
            "linecolor": "white",
            "ticks": ""
           },
           "baxis": {
            "gridcolor": "white",
            "linecolor": "white",
            "ticks": ""
           },
           "bgcolor": "#E5ECF6",
           "caxis": {
            "gridcolor": "white",
            "linecolor": "white",
            "ticks": ""
           }
          },
          "title": {
           "x": 0.05
          },
          "xaxis": {
           "automargin": true,
           "gridcolor": "white",
           "linecolor": "white",
           "ticks": "",
           "title": {
            "standoff": 15
           },
           "zerolinecolor": "white",
           "zerolinewidth": 2
          },
          "yaxis": {
           "automargin": true,
           "gridcolor": "white",
           "linecolor": "white",
           "ticks": "",
           "title": {
            "standoff": 15
           },
           "zerolinecolor": "white",
           "zerolinewidth": 2
          }
         }
        },
        "title": {
         "text": "Feature Importance (XGBoost)"
        },
        "xaxis": {
         "anchor": "y",
         "domain": [
          0,
          1
         ],
         "title": {
          "text": "importance"
         }
        },
        "yaxis": {
         "anchor": "x",
         "autorange": "reversed",
         "domain": [
          0,
          1
         ],
         "title": {
          "text": "feature"
         }
        }
       }
      }
     },
     "metadata": {},
     "output_type": "display_data"
    }
   ],
   "source": [
    "import plotly.express as px\n",
    "\n",
    "fig = px.bar(\n",
    "    importance_df,\n",
    "    x='importance',\n",
    "    y='feature',\n",
    "    orientation='h',\n",
    "    title='Feature Importance (XGBoost)',\n",
    "    text='importance'\n",
    ")\n",
    "fig.update_layout(yaxis=dict(autorange=\"reversed\"))  # Highest importance on top\n",
    "fig.show()\n"
   ]
  },
  {
   "cell_type": "code",
   "execution_count": null,
   "id": "714705e7",
   "metadata": {},
   "outputs": [
    {
     "data": {
      "text/plain": [
       "Index(['score_text', 'price', 'score_description', 'description_avg_word_len',\n",
       "       'title_num_chars', 'description_num_words', 'description_num_chars',\n",
       "       'total_reviews', 'percentage_helpful', 'title_num_words',\n",
       "       'helpful_reviews', 'sentiment_summary_num', 'sentiment_text_num',\n",
       "       'category_Fiction', 'author_count'],\n",
       "      dtype='object')"
      ]
     },
     "execution_count": 42,
     "metadata": {},
     "output_type": "execute_result"
    }
   ],
   "source": [
    "X_train_simple.head()\n",
    "X_train_simple.columns"
   ]
  },
  {
   "cell_type": "code",
   "execution_count": null,
   "id": "13577f0d",
   "metadata": {},
   "outputs": [],
   "source": [
    "import pandas as pd\n",
    "\n",
    "books_raw = pd.read_csv('data/books.csv')"
   ]
  },
  {
   "cell_type": "code",
   "execution_count": null,
   "id": "1aa7d697",
   "metadata": {},
   "outputs": [],
   "source": [
    "# want to split the df into to one to save it for later and one to use for the model\n",
    "books_raw_train = books_raw.sample(frac=0.8, random_state=42)\n",
    "books_raw_test = books_raw[~books_raw.index.isin(books_raw_train.index)]\n",
    "\n",
    "books_raw_train.to_csv('data/books_raw_train.csv', index=False)\n",
    "books_raw_test.to_csv('data/books_raw_test.csv', index=False)\n"
   ]
  },
  {
   "cell_type": "code",
   "execution_count": 45,
   "id": "40d5a74b",
   "metadata": {},
   "outputs": [
    {
     "data": {
      "text/plain": [
       "Index(['title', 'price', 'review/helpfulness', 'review/summary', 'review/text',\n",
       "       'description', 'authors', 'categories', 'popularity'],\n",
       "      dtype='object')"
      ]
     },
     "execution_count": 45,
     "metadata": {},
     "output_type": "execute_result"
    }
   ],
   "source": [
    "books_raw_train.columns\n"
   ]
  },
  {
   "cell_type": "markdown",
   "id": "21b5895a",
   "metadata": {},
   "source": [
    "### rRaw colums\n",
    "\n",
    "Index(['title', 'price', 'review/helpfulness', 'review/summary', 'review/text',\n",
    "       'description', 'authors', 'categories', 'popularity'],\n",
    "      dtype='object')\n",
    "\n",
    "### Model columns\n",
    "\n",
    "Index(['score_text', 'price', 'score_description', 'description_avg_word_len',\n",
    "       'title_num_chars', 'description_num_words', 'description_num_chars',\n",
    "       'total_reviews', 'percentage_helpful', 'title_num_words',\n",
    "       'helpful_reviews', 'sentiment_summary_num', 'sentiment_text_num',\n",
    "       'category_Fiction', 'author_count'],\n",
    "      dtype='object')"
   ]
  },
  {
   "cell_type": "code",
   "execution_count": null,
   "id": "a01acfe8",
   "metadata": {},
   "outputs": [],
   "source": [
    "\n",
    "def preprocess_books(raw_df: pd.DataFrame) -> pd.DataFrame:\n",
    "      df = raw_df.copy()"
   ]
  }
 ],
 "metadata": {
  "colab": {
   "name": "Welcome to DataCamp Workspaces.ipynb",
   "provenance": []
  },
  "editor": "DataLab",
  "kernelspec": {
   "display_name": ".venv",
   "language": "python",
   "name": "python3"
  },
  "language_info": {
   "codemirror_mode": {
    "name": "ipython",
    "version": 3
   },
   "file_extension": ".py",
   "mimetype": "text/x-python",
   "name": "python",
   "nbconvert_exporter": "python",
   "pygments_lexer": "ipython3",
   "version": "3.9.6"
  }
 },
 "nbformat": 4,
 "nbformat_minor": 5
}
